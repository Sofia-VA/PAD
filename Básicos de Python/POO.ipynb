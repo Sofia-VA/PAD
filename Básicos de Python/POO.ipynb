{
 "cells": [
  {
   "cell_type": "markdown",
   "metadata": {},
   "source": [
    "# Repaso de Programación Orientada a Objetos"
   ]
  },
  {
   "cell_type": "markdown",
   "metadata": {},
   "source": [
    "## Componentes de una clase"
   ]
  },
  {
   "cell_type": "code",
   "execution_count": 2,
   "metadata": {},
   "outputs": [],
   "source": [
    "class ClassExample:\n",
    "    '''Descripción de la clase'''\n",
    "\n",
    "    # ------- Atributos de Clase --------- # \n",
    "    atributoClase = True\n",
    "    \n",
    "    # ------------- Dunder --------------- # \n",
    "    # Constructor (usualmente no se incluye)\n",
    "    def __new__():\n",
    "        pass\n",
    "\n",
    "    # Inicializador \n",
    "    def __init__(self, prop1:int) -> None:\n",
    "        self.prop1 = prop1      # Propiedad pública\n",
    "\n",
    "    # ----------- Decoradores -------------#\n",
    "\n",
    "    # ------- Métodos de Instancia --------#\n",
    "    def instanceMethod(self) -> str:\n",
    "        '''Descripción de un método de instancia'''\n",
    "        return f'Instance Method {self.prop1}'\n"
   ]
  },
  {
   "cell_type": "code",
   "execution_count": null,
   "metadata": {},
   "outputs": [],
   "source": [
    "class Barco:\n",
    "    '''Clase barco'''\n",
    "\n",
    "    # ------- Atributos de Clase --------- # \n",
    "    velas = []\n",
    "\n",
    "    # Inicializador \n",
    "    def __init__(self, prop1:int) -> None:\n",
    "        self.prop1 = prop1      # Propiedad pública\n",
    "\n",
    "    # ----------- Decoradores -------------#\n",
    "\n",
    "    # ------- Métodos de Instancia --------#\n",
    "    def instanceMethod(self) -> str:\n",
    "        '''Descripción de un método de instancia'''\n",
    "        return f'Instance Method {self.prop1}'\n",
    "\n",
    "class Velas:\n",
    "    pass\n",
    "\n",
    "class Casco:\n",
    "    pass\n",
    "\n",
    "class Motor:\n",
    "    pass\n",
    "\n"
   ]
  },
  {
   "cell_type": "markdown",
   "metadata": {},
   "source": [
    "### Atributo de Clase"
   ]
  },
  {
   "cell_type": "markdown",
   "metadata": {},
   "source": [
    "Atributo que se comparte para todos las instancias de esa clase"
   ]
  },
  {
   "cell_type": "markdown",
   "metadata": {},
   "source": [
    "### Dunder Methods"
   ]
  },
  {
   "cell_type": "markdown",
   "metadata": {},
   "source": [
    "Una clase nueva, hereda los dunder methods de un object.\n",
    "\n",
    "> `__new__`: Heredado de objecto, es llamado por init y se suele usar el new de object \n",
    "\n",
    "\n",
    "> `__init__`: Heredado de object, se suele hacer overwrite del inicializador para cada clase  \n",
    "> + `self`: Primer param, se refiere a la instancia de la clase\n",
    "\n"
   ]
  },
  {
   "cell_type": "markdown",
   "metadata": {},
   "source": [
    "Con un dir (clase) puedes ver los métodos que se heredaron"
   ]
  },
  {
   "cell_type": "code",
   "execution_count": 6,
   "metadata": {},
   "outputs": [
    {
     "data": {
      "text/plain": [
       "['__class__',\n",
       " '__delattr__',\n",
       " '__dict__',\n",
       " '__dir__',\n",
       " '__doc__',\n",
       " '__eq__',\n",
       " '__format__',\n",
       " '__ge__',\n",
       " '__getattribute__',\n",
       " '__gt__',\n",
       " '__hash__',\n",
       " '__init__',\n",
       " '__init_subclass__',\n",
       " '__le__',\n",
       " '__lt__',\n",
       " '__module__',\n",
       " '__ne__',\n",
       " '__new__',\n",
       " '__reduce__',\n",
       " '__reduce_ex__',\n",
       " '__repr__',\n",
       " '__setattr__',\n",
       " '__sizeof__',\n",
       " '__str__',\n",
       " '__subclasshook__',\n",
       " '__weakref__']"
      ]
     },
     "execution_count": 6,
     "metadata": {},
     "output_type": "execute_result"
    }
   ],
   "source": [
    "dir(ClassExample)"
   ]
  },
  {
   "cell_type": "markdown",
   "metadata": {},
   "source": [
    "## Métodos"
   ]
  },
  {
   "cell_type": "markdown",
   "metadata": {},
   "source": [
    "### Métodos de instancia\n",
    "+ Empiezan con self"
   ]
  },
  {
   "cell_type": "markdown",
   "metadata": {},
   "source": [
    "### Métodos de clase\n",
    "+ Empiezan con cls\n",
    "+ Puedes llamar al `super` para que la clase haga el mismo método que el padre\n"
   ]
  },
  {
   "cell_type": "markdown",
   "metadata": {},
   "source": [
    "\n",
    "### Métodos estáticos\n",
    "+ No estan asociados a ninguna instancia/objeto\n",
    "+ Hacen tareas auxiliares"
   ]
  },
  {
   "cell_type": "markdown",
   "metadata": {},
   "source": [
    "## Decoradores"
   ]
  },
  {
   "cell_type": "markdown",
   "metadata": {},
   "source": [
    "**Wrapper**: Extiende el comportamiento sin modificar función original  \n",
    "**Decorator**: Se le pasa la función que va a manejar el envoltorio"
   ]
  },
  {
   "cell_type": "code",
   "execution_count": 1,
   "metadata": {},
   "outputs": [],
   "source": [
    "def my_decorator(func):\n",
    "    def wrapper():\n",
    "        print(\"Something is happening before the function is called.\")\n",
    "        func()\n",
    "        print(\"Something is happening after the function is called.\")\n",
    "    return wrapper\n",
    "\n",
    "@my_decorator #  Es lo mismo que say_whee = my_decorator(say_whee)\n",
    "def say_whee():    \n",
    "    print(\"Whee!\")"
   ]
  },
  {
   "cell_type": "markdown",
   "metadata": {},
   "source": [
    "### @classmethod"
   ]
  },
  {
   "cell_type": "markdown",
   "metadata": {},
   "source": [
    "### @staticmethod"
   ]
  },
  {
   "cell_type": "markdown",
   "metadata": {},
   "source": [
    "### @property"
   ]
  },
  {
   "cell_type": "markdown",
   "metadata": {},
   "source": [
    "## Pilares de POO"
   ]
  },
  {
   "cell_type": "markdown",
   "metadata": {},
   "source": [
    "### Encapsulamiento"
   ]
  },
  {
   "cell_type": "markdown",
   "metadata": {},
   "source": [
    "\n",
    "#### Public\n",
    "+ No empieza con guiones bajos (`x`)\n",
    "#### Protected\n",
    "+ Empieza con (`_x_`)\n",
    "#### Private\n",
    "+ Empieza con dunder (`__x__`)"
   ]
  },
  {
   "cell_type": "markdown",
   "metadata": {},
   "source": [
    "### Polimorfismo"
   ]
  },
  {
   "cell_type": "markdown",
   "metadata": {},
   "source": [
    "Permite rastrear/detectar la <ins>subclase asociada</ins> a un objeto y <ins>ejecutar método apropiado</ins>.  \n",
    "+ A través de objeto generalizado, se puede manipular objeto especializado. "
   ]
  },
  {
   "cell_type": "markdown",
   "metadata": {},
   "source": []
  }
 ],
 "metadata": {
  "kernelspec": {
   "display_name": "DeepEnv",
   "language": "python",
   "name": "python3"
  },
  "language_info": {
   "codemirror_mode": {
    "name": "ipython",
    "version": 3
   },
   "file_extension": ".py",
   "mimetype": "text/x-python",
   "name": "python",
   "nbconvert_exporter": "python",
   "pygments_lexer": "ipython3",
   "version": "3.8.12"
  }
 },
 "nbformat": 4,
 "nbformat_minor": 2
}
