{
 "cells": [
  {
   "cell_type": "markdown",
   "metadata": {},
   "source": [
    "> # Práctica 7\n",
    "> ##### &nbsp;&nbsp;&nbsp;&nbsp; Decoradores\n",
    "> - **Fecha**: 22/11/2023  |  ITESO  \n",
    "> - **Materia**: Programación para el Análisis de Datos\n",
    "> - **Alumno**: Sofía Vargas Aceves is77375  \n",
    ">  <br>"
   ]
  },
  {
   "cell_type": "markdown",
   "metadata": {},
   "source": [
    "### Ejercicio\n",
    "> Modifique el código anterior usando el módulo datetime y su función now() para que sólo se ejecute la función say_whee() si estamos entre las 7 am y las 8 pm.\n",
    "> + Use la función time() de datetime para acceder solo a la parte del tiempo de un objeto datetime."
   ]
  },
  {
   "cell_type": "code",
   "execution_count": null,
   "metadata": {},
   "outputs": [],
   "source": [
    "# Espacio para la solución del ejercicio\n",
    "\n",
    "# time(8,21)\n",
    "# time(23,00)\n",
    "# datetime.now()\n",
    "\n",
    "from datetime import datetime, time\n",
    "\n",
    "def my_decorator2(func):  # el parámetro func es una referencia a la función que se pase\n",
    "    def wrapper():\n",
    "        if time(7,0) < datetime.now().time() < time(20,0): \n",
    "        \n",
    "            func()   # Se ejecuta la función que se pase como argumento al llamar a my_decorator()\n",
    "        else:\n",
    "            print('No estamos entre las 7 am y 8 pm')\n",
    "        \n",
    "        \n",
    "    return wrapper  # Se retorna la referencia a una función\n",
    "\n",
    "\n",
    "def say_whee2():\n",
    "    print(\"Whee! Estamos en horario permitido\")\n",
    "\n",
    "say_whee2 = my_decorator2(say_whee2)  # La decoración ocurre en esta línea\n",
    "# Ahora la variable say_whee apunta a la función interna wrapper()"
   ]
  },
  {
   "cell_type": "markdown",
   "metadata": {},
   "source": [
    "### Ejercicio\n",
    "Cree un archivo (módulo de Python) llamado decorador.py con el siguiente contenido (en el mismo directorio actual de trabajo):NOTA: La triple comilla es para que al ejecutar el markdown se interprete como código\n",
    "\n",
    "```\n",
    "def do_twice(func):\n",
    "    \n",
    "    def wrapper_do_twice(): # Una posibilidad es usar el mismo nombre que el decorador y prefijo wrapper; no hay regla\n",
    "        func()\n",
    "        func()\n",
    "    return wrapper_do_twice\n",
    "```"
   ]
  },
  {
   "cell_type": "code",
   "execution_count": 6,
   "metadata": {},
   "outputs": [
    {
     "name": "stdout",
     "output_type": "stream",
     "text": [
      "Whee!\n",
      "Whee!\n"
     ]
    }
   ],
   "source": [
    "from decorador import do_twice\n",
    "\n",
    "@do_twice\n",
    "def say_whee():\n",
    "    print(\"Whee!\")"
   ]
  },
  {
   "cell_type": "markdown",
   "metadata": {},
   "source": [
    "### Ejercicio\n",
    "Cree otro archivo para el decorador llamado decorators.py con el siguiente código:\n",
    "``` \n",
    "def do_twice(func):  \n",
    "    '''prueba del docstring  \n",
    "    Esta tiene return en func  \n",
    "    '''  \n",
    "    def wrapper_do_twice(*args, **kwargs):  \n",
    "        func(*args, **kwargs)  \n",
    "        return func(*args, **kwargs)  # devuelve valor de la función modificada  \n",
    "\n",
    "    return wrapper_do_twice   \n",
    "\n",
    "```\n",
    "\n",
    "\n",
    "__Nota:__ Si lo que desea es modificar el decorador existente, en lugar de crear un nuevo decorador en otro archivo, lea la siguiente celda que explica pasos para la recarga de un módulo modificado."
   ]
  },
  {
   "cell_type": "code",
   "execution_count": 8,
   "metadata": {},
   "outputs": [],
   "source": [
    "from decorador_py import do_twice\n",
    "\n",
    "@do_twice\n",
    "def greet(name):\n",
    "    print(f\"Hello {name}\")"
   ]
  },
  {
   "cell_type": "code",
   "execution_count": 9,
   "metadata": {},
   "outputs": [
    {
     "name": "stdout",
     "output_type": "stream",
     "text": [
      "Hello Paty\n",
      "Hello Paty\n"
     ]
    }
   ],
   "source": [
    "greet('Paty')"
   ]
  },
  {
   "cell_type": "code",
   "execution_count": null,
   "metadata": {},
   "outputs": [],
   "source": []
  }
 ],
 "metadata": {
  "kernelspec": {
   "display_name": "DeepEnv",
   "language": "python",
   "name": "python3"
  },
  "language_info": {
   "codemirror_mode": {
    "name": "ipython",
    "version": 3
   },
   "file_extension": ".py",
   "mimetype": "text/x-python",
   "name": "python",
   "nbconvert_exporter": "python",
   "pygments_lexer": "ipython3",
   "version": "3.8.12"
  }
 },
 "nbformat": 4,
 "nbformat_minor": 2
}
