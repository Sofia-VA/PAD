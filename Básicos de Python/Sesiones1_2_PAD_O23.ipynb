{
 "cells": [
  {
   "cell_type": "markdown",
   "id": "8d9be764",
   "metadata": {},
   "source": [
    "## Programación para Análisis de Datos\n",
    "\n",
    "### Colecciones en Python\n",
    "\n",
    "Recapitulación de Algoritmos y Programación:\n",
    "\n",
    "+ Creación de una lista. Eliminación y adición de elementos: la lista es un arreglo dinámico\n",
    "+ Nombre (de la variable que hace referencia), tipo  con type(), identidad con id(), y tamaño de un objeto en Python con getsizeof()\n",
    "+ Cómo listar propiedades de un objeto con dir()\n",
    "+ Iterables e iteradores\n",
    "+ Tipos mutables e inmutables\n",
    "+ Secuencias y mapping\n",
    "+ Cortes (slices) con el operador : en secuencias como cadenas, listas y tuplas.\n",
    "+ Manejo de índices en estructuras compuestas como listas de listas\n",
    "+ Cómo obtener ayuda sobre funciones. Creación de un docstring para módulos y funciones\n",
    "\n",
    "### Mtra. Gisel Hernández Chávez"
   ]
  },
  {
   "cell_type": "code",
   "execution_count": 12,
   "id": "b477c9d2",
   "metadata": {},
   "outputs": [],
   "source": [
    "# Para visualizar más de una salida de una celda\n",
    "from IPython.core.interactiveshell import InteractiveShell\n",
    "InteractiveShell.ast_node_interactivity = \"all\""
   ]
  },
  {
   "cell_type": "code",
   "execution_count": 13,
   "id": "c183da60",
   "metadata": {},
   "outputs": [
    {
     "data": {
      "text/plain": [
       "[]"
      ]
     },
     "execution_count": 13,
     "metadata": {},
     "output_type": "execute_result"
    }
   ],
   "source": [
    "# Creación de una lista\n",
    "Lista = list()\n",
    "Lista"
   ]
  },
  {
   "cell_type": "code",
   "execution_count": 14,
   "id": "81a9e262",
   "metadata": {},
   "outputs": [
    {
     "data": {
      "text/plain": [
       "56"
      ]
     },
     "execution_count": 14,
     "metadata": {},
     "output_type": "execute_result"
    }
   ],
   "source": [
    "from sys import getsizeof\n",
    "# El tamaño y el diseño de un objeto son puramente específicos de la implementación.\n",
    "getsizeof(Lista)"
   ]
  },
  {
   "cell_type": "code",
   "execution_count": 15,
   "id": "f7911b98",
   "metadata": {},
   "outputs": [
    {
     "data": {
      "text/plain": [
       "list"
      ]
     },
     "execution_count": 15,
     "metadata": {},
     "output_type": "execute_result"
    }
   ],
   "source": [
    "# Tipo de una variable\n",
    "type(Lista)"
   ]
  },
  {
   "cell_type": "code",
   "execution_count": 16,
   "id": "c4a1f7f2",
   "metadata": {},
   "outputs": [
    {
     "data": {
      "text/plain": [
       "72"
      ]
     },
     "execution_count": 16,
     "metadata": {},
     "output_type": "execute_result"
    }
   ],
   "source": [
    "# Creación de una lista de dos elementos\n",
    "L = [1,2]\n",
    "getsizeof(L)"
   ]
  },
  {
   "cell_type": "code",
   "execution_count": 17,
   "id": "5a108ddc",
   "metadata": {},
   "outputs": [],
   "source": [
    "# Eliminar segundo elemento de la lista\n",
    "del L[1]"
   ]
  },
  {
   "cell_type": "code",
   "execution_count": 18,
   "id": "8ca9248b",
   "metadata": {},
   "outputs": [
    {
     "data": {
      "text/plain": [
       "[1]"
      ]
     },
     "execution_count": 18,
     "metadata": {},
     "output_type": "execute_result"
    }
   ],
   "source": [
    "# Visualizar contenido de la lista\n",
    "L"
   ]
  },
  {
   "cell_type": "code",
   "execution_count": 19,
   "id": "8447a2ac",
   "metadata": {},
   "outputs": [],
   "source": [
    "# Adicionar al final\n",
    "L.append(33)"
   ]
  },
  {
   "cell_type": "code",
   "execution_count": 20,
   "id": "7ac6ce8a",
   "metadata": {},
   "outputs": [
    {
     "data": {
      "text/plain": [
       "1"
      ]
     },
     "execution_count": 20,
     "metadata": {},
     "output_type": "execute_result"
    }
   ],
   "source": [
    "# Conocer el elemento de una posición dada\n",
    "L[0]"
   ]
  },
  {
   "cell_type": "code",
   "execution_count": 21,
   "id": "dcaaf7f6",
   "metadata": {},
   "outputs": [],
   "source": [
    "# Modificar valor en una posición\n",
    "L[0] = 44"
   ]
  },
  {
   "cell_type": "code",
   "execution_count": 22,
   "id": "f690f2ef",
   "metadata": {},
   "outputs": [
    {
     "data": {
      "text/plain": [
       "[44, 33]"
      ]
     },
     "execution_count": 22,
     "metadata": {},
     "output_type": "execute_result"
    }
   ],
   "source": [
    "# Visualizar contenido de la lista\n",
    "L"
   ]
  },
  {
   "cell_type": "code",
   "execution_count": 23,
   "id": "26fcc4e3",
   "metadata": {},
   "outputs": [],
   "source": [
    "L.insert(1,77)"
   ]
  },
  {
   "cell_type": "code",
   "execution_count": 24,
   "id": "6cdab3d1",
   "metadata": {},
   "outputs": [
    {
     "data": {
      "text/plain": [
       "[44, 77, 33]"
      ]
     },
     "execution_count": 24,
     "metadata": {},
     "output_type": "execute_result"
    }
   ],
   "source": [
    "# Visualizar contenido de la lista\n",
    "L"
   ]
  },
  {
   "cell_type": "code",
   "execution_count": 25,
   "id": "5909999a",
   "metadata": {},
   "outputs": [
    {
     "data": {
      "text/plain": [
       "[33]"
      ]
     },
     "execution_count": 25,
     "metadata": {},
     "output_type": "execute_result"
    }
   ],
   "source": [
    "# Operador de corte : (slice)\n",
    "L[2:4]"
   ]
  },
  {
   "cell_type": "code",
   "execution_count": 26,
   "id": "966b7cb0",
   "metadata": {},
   "outputs": [
    {
     "data": {
      "text/plain": [
       "[77, 33]"
      ]
     },
     "execution_count": 26,
     "metadata": {},
     "output_type": "execute_result"
    }
   ],
   "source": [
    "L[1:4]"
   ]
  },
  {
   "cell_type": "code",
   "execution_count": 27,
   "id": "ab0e5298",
   "metadata": {},
   "outputs": [
    {
     "data": {
      "text/plain": [
       "[44, 77, 33]"
      ]
     },
     "execution_count": 27,
     "metadata": {},
     "output_type": "execute_result"
    }
   ],
   "source": [
    "L[:]"
   ]
  },
  {
   "cell_type": "code",
   "execution_count": 28,
   "id": "6261c54d",
   "metadata": {},
   "outputs": [
    {
     "data": {
      "text/plain": [
       "[44, 77, 33]"
      ]
     },
     "execution_count": 28,
     "metadata": {},
     "output_type": "execute_result"
    }
   ],
   "source": [
    "L[:4]"
   ]
  },
  {
   "cell_type": "code",
   "execution_count": 29,
   "id": "831a388c",
   "metadata": {},
   "outputs": [
    {
     "data": {
      "text/plain": [
       "[77, 33]"
      ]
     },
     "execution_count": 29,
     "metadata": {},
     "output_type": "execute_result"
    }
   ],
   "source": [
    "L[1:]"
   ]
  },
  {
   "cell_type": "code",
   "execution_count": null,
   "id": "6c36b462",
   "metadata": {},
   "outputs": [],
   "source": [
    "# Copia superficial de una lista\n",
    "# Las dos variables hacen referencia al mismo objeto\n",
    "L2 = L"
   ]
  },
  {
   "cell_type": "code",
   "execution_count": null,
   "id": "5040896f",
   "metadata": {},
   "outputs": [],
   "source": [
    "# Operación relacional de igualdad de objetos\n",
    "L2 == L"
   ]
  },
  {
   "cell_type": "code",
   "execution_count": null,
   "id": "e6127308",
   "metadata": {},
   "outputs": [],
   "source": [
    "# Comprobar la identidad de ambas listas\n",
    "id(L2), id(L)"
   ]
  },
  {
   "cell_type": "code",
   "execution_count": null,
   "id": "8366aa07",
   "metadata": {},
   "outputs": [],
   "source": [
    "# Conocer todos los atributos y métodos de un objeto\n",
    "dir(L)"
   ]
  },
  {
   "cell_type": "code",
   "execution_count": null,
   "id": "c9cd77d4",
   "metadata": {},
   "outputs": [],
   "source": [
    "# Concatenar dos listas\n",
    "L3 =[1,2]\n",
    "L4 = [3,4]\n",
    "L3 + L4"
   ]
  },
  {
   "cell_type": "code",
   "execution_count": null,
   "id": "3cf3b4dd",
   "metadata": {},
   "outputs": [],
   "source": [
    "# Operación no válida capturada y manipulada en bloque de excepción\n",
    "try:\n",
    "    L4 = L3 + 4\n",
    "except Exception as e:\n",
    "    print(e)\n"
   ]
  },
  {
   "cell_type": "code",
   "execution_count": null,
   "id": "fd5cab32",
   "metadata": {},
   "outputs": [],
   "source": [
    "# Creación de lista vacía\n",
    "L5 = []"
   ]
  },
  {
   "cell_type": "code",
   "execution_count": null,
   "id": "0e1f4f09",
   "metadata": {},
   "outputs": [],
   "source": [
    "# Modo 1 de ayuda para visualizar docstring de una función\n",
    "help(print)"
   ]
  },
  {
   "cell_type": "code",
   "execution_count": null,
   "id": "38e719a8",
   "metadata": {},
   "outputs": [],
   "source": [
    "# Modo 2 de ayuda para visualizar docstring de una función\n",
    "print?"
   ]
  },
  {
   "cell_type": "code",
   "execution_count": null,
   "id": "cf3cf252",
   "metadata": {},
   "outputs": [],
   "source": [
    "# No encuentra la ayuda de este método porque requiere que se le indique de qué clase u objeto es\n",
    "writelines?"
   ]
  },
  {
   "cell_type": "code",
   "execution_count": null,
   "id": "d60166cd",
   "metadata": {},
   "outputs": [],
   "source": [
    "# Modo 1 de abrir archivo usando doble back slash en Windows\n",
    "with open(\"C:\\\\Users\\\\ghernand\\\\OneDrive - ITESO\\\\Documentos\\\\ProgramacionAnaliticaDatos\\\\alum_prepa_muestra.csv\") as f:\n",
    "    pass"
   ]
  },
  {
   "cell_type": "code",
   "execution_count": null,
   "id": "7a256aa6",
   "metadata": {},
   "outputs": [],
   "source": [
    "# Modo 2 de abrir archivo usando r antes de la cadena de caracteres y back slash\n",
    "with open(r\"C:\\Users\\ghernand\\OneDrive - ITESO\\Documentos\\ProgramacionAnaliticaDatos\\alum_prepa_muestra.csv\") as f:\n",
    "    pass"
   ]
  },
  {
   "cell_type": "code",
   "execution_count": null,
   "id": "a37e181b",
   "metadata": {},
   "outputs": [],
   "source": [
    "# Modo 3 de abrir archivo usando slash\n",
    "with open(\"C:/Users/ghernand/OneDrive - ITESO/Documentos/ProgramacionAnaliticaDatos/alum_prepa_muestra.csv\") as f:\n",
    "    print(type(f))"
   ]
  },
  {
   "cell_type": "code",
   "execution_count": null,
   "id": "b288fc61",
   "metadata": {},
   "outputs": [],
   "source": [
    "# Observe que writelines es un método del objeto f\n",
    "dir(f)"
   ]
  },
  {
   "cell_type": "code",
   "execution_count": null,
   "id": "5e01d9dd",
   "metadata": {},
   "outputs": [],
   "source": [
    "help(f.writelines)"
   ]
  },
  {
   "cell_type": "code",
   "execution_count": null,
   "id": "09d68fe8",
   "metadata": {},
   "outputs": [],
   "source": [
    "import os\n",
    "os.getcwd() # Se obtiene ruta de directorio de trabajo actual"
   ]
  },
  {
   "cell_type": "code",
   "execution_count": null,
   "id": "e22d3d1c",
   "metadata": {},
   "outputs": [],
   "source": [
    "# Abre archivo para escritura. Si existe lo sobreescribe\n",
    "# Se pierde contenido existente\n",
    "# Al salir del bloque with el archivo se cierra automáticamente\n",
    "with open(\"elementos_lista.txt\",'w') as f1:  # Escribe en directorio actual\n",
    "    for i in 'ITESO':\n",
    "        f1.writelines(i +'\\n')\n",
    "        #f1.writelines(i)"
   ]
  },
  {
   "cell_type": "code",
   "execution_count": null,
   "id": "1b7cfcaa",
   "metadata": {},
   "outputs": [],
   "source": [
    "# Abre el archivo para solo lectura\n",
    "with open(\"elementos_lista\") as f1:\n",
    "    elemento = f1.readlines()\n",
    "    print(elemento)"
   ]
  },
  {
   "cell_type": "markdown",
   "id": "a2868197",
   "metadata": {},
   "source": [
    "### Cadenas de caracteres y listas"
   ]
  },
  {
   "cell_type": "code",
   "execution_count": null,
   "id": "4b9ae2b9",
   "metadata": {},
   "outputs": [],
   "source": [
    "# repetir n veces la cadena con el operador *\n",
    "list1 = ['text']*2\n",
    "list1"
   ]
  },
  {
   "cell_type": "code",
   "execution_count": null,
   "id": "0d903928",
   "metadata": {},
   "outputs": [],
   "source": [
    "try:\n",
    "    list1 = list1 + 'end'\n",
    "except Exception as e:\n",
    "    print(e)"
   ]
  },
  {
   "cell_type": "code",
   "execution_count": null,
   "id": "31dfdc2f",
   "metadata": {},
   "outputs": [],
   "source": [
    "list1 = list1 + ['end']\n",
    "list1"
   ]
  },
  {
   "cell_type": "code",
   "execution_count": null,
   "id": "4cf2c667",
   "metadata": {},
   "outputs": [],
   "source": [
    "values = [2] * 5 # Repite el número 5 veces en la lista\n",
    "values"
   ]
  },
  {
   "cell_type": "markdown",
   "id": "2d6c9865",
   "metadata": {},
   "source": [
    "### Tupla\n",
    "\n",
    "La tupla también es una secuencia, pero a diferencia de la lista es inmutable: no permite modificar un elemento, eliminar uno existente ni adicionar."
   ]
  },
  {
   "cell_type": "code",
   "execution_count": null,
   "id": "575701f5",
   "metadata": {},
   "outputs": [],
   "source": [
    "# tupla1 es una estructura de datos anidada: es una tupla de cadenas\n",
    "# doble corche para acceder a un elemento de alguna de las cadenas de list1\n",
    "tupla1 = list1[0][3], list1[1][1],list1[2][1]\n",
    "tupla1"
   ]
  },
  {
   "cell_type": "markdown",
   "id": "36ad5d67",
   "metadata": {},
   "source": [
    "## list.append()\n",
    "\n",
    "+ La función append() de Python inserta __un solo elemento__ en una lista existente. \n",
    "+ El elemento se agregará al final de la lista anterior en lugar de devolverse a una lista nueva. \n",
    "+ Agrega su argumento como un solo elemento al final de una lista. \n",
    "+ La longitud de la lista aumenta en uno."
   ]
  },
  {
   "cell_type": "code",
   "execution_count": null,
   "id": "d9c3b12b",
   "metadata": {},
   "outputs": [],
   "source": [
    "list1 =[1,2,3]\n",
    "list1 = list1.append(list1)  # El método devuelve None\n",
    "print(list1)"
   ]
  },
  {
   "cell_type": "code",
   "execution_count": null,
   "id": "b4a77274",
   "metadata": {},
   "outputs": [],
   "source": [
    "#list.append?"
   ]
  },
  {
   "cell_type": "code",
   "execution_count": null,
   "id": "73dd7b38",
   "metadata": {},
   "outputs": [],
   "source": [
    "list1 =[1,2,3]\n",
    "print(list1)\n",
    "list1.append(list1)\n",
    "print(list1) # note que el nuevo elemento lo muestra con el objeto Ellipsis ..."
   ]
  },
  {
   "cell_type": "code",
   "execution_count": null,
   "id": "fe2c8887",
   "metadata": {},
   "outputs": [],
   "source": [
    "list1 =[1,2,3]\n",
    "print(list1)\n",
    "list1.append(list1)\n",
    "list1[3][0]"
   ]
  },
  {
   "cell_type": "code",
   "execution_count": null,
   "id": "287a6c6c",
   "metadata": {},
   "outputs": [],
   "source": [
    "list1[0],list1[1],list1[2],list1[3]"
   ]
  },
  {
   "cell_type": "code",
   "execution_count": null,
   "id": "beed79b8",
   "metadata": {},
   "outputs": [],
   "source": [
    "t = 8\n",
    "getsizeof(t) # en bytes"
   ]
  },
  {
   "cell_type": "code",
   "execution_count": null,
   "id": "0b3523b4",
   "metadata": {},
   "outputs": [],
   "source": [
    "fa = 3.3\n",
    "getsizeof(fa)"
   ]
  },
  {
   "cell_type": "code",
   "execution_count": null,
   "id": "222ac739",
   "metadata": {},
   "outputs": [],
   "source": [
    "x=2**1000\n",
    "len(repr(x))"
   ]
  },
  {
   "cell_type": "code",
   "execution_count": null,
   "id": "dbe14f44",
   "metadata": {},
   "outputs": [],
   "source": [
    "len(list1)"
   ]
  },
  {
   "cell_type": "code",
   "execution_count": null,
   "id": "e97d6c5f",
   "metadata": {},
   "outputs": [],
   "source": [
    "list1[3][1]"
   ]
  },
  {
   "cell_type": "code",
   "execution_count": null,
   "id": "d4f4e3e5",
   "metadata": {},
   "outputs": [],
   "source": [
    "for i in list1:\n",
    "    print(i)"
   ]
  },
  {
   "cell_type": "markdown",
   "id": "ad7cf02f",
   "metadata": {},
   "source": [
    "## list.extend()\n",
    "\n",
    "Itera sobre su argumento y agrega cada elemento a la lista y extiende la lista. La longitud de la lista aumenta en un número de elementos en su argumento."
   ]
  },
  {
   "cell_type": "code",
   "execution_count": 1,
   "id": "f6b9be2c",
   "metadata": {},
   "outputs": [
    {
     "name": "stdout",
     "output_type": "stream",
     "text": [
      "[1, 2, 3, 1, 2, 3]\n"
     ]
    }
   ],
   "source": [
    "list1 =[1,2,3]\n",
    "\n",
    "list1.extend(list1)\n",
    "print(list1)"
   ]
  },
  {
   "cell_type": "code",
   "execution_count": 12,
   "id": "5176a63e",
   "metadata": {},
   "outputs": [
    {
     "data": {
      "text/plain": [
       "[1, 2, 3, 4, 5, 6, 7, 8]"
      ]
     },
     "execution_count": 12,
     "metadata": {},
     "output_type": "execute_result"
    }
   ],
   "source": [
    "a = [1, 2, 7, 8]\n",
    "a[2:2]=[3,4,5,6]\n",
    "a"
   ]
  },
  {
   "cell_type": "code",
   "execution_count": 8,
   "id": "d9ebe180",
   "metadata": {},
   "outputs": [
    {
     "ename": "SyntaxError",
     "evalue": "cannot assign to function call (Temp/ipykernel_12940/3078352728.py, line 2)",
     "output_type": "error",
     "traceback": [
      "\u001b[1;36m  File \u001b[1;32m\"C:\\Users\\SVA\\AppData\\Local\\Temp/ipykernel_12940/3078352728.py\"\u001b[1;36m, line \u001b[1;32m2\u001b[0m\n\u001b[1;33m    t(1)='qux'\u001b[0m\n\u001b[1;37m    ^\u001b[0m\n\u001b[1;31mSyntaxError\u001b[0m\u001b[1;31m:\u001b[0m cannot assign to function call\n"
     ]
    }
   ],
   "source": [
    "t = ('foo', 'bar', 'baz')\n",
    "t(1)='qux'\n",
    "t"
   ]
  },
  {
   "cell_type": "code",
   "execution_count": 9,
   "id": "98df4b62",
   "metadata": {},
   "outputs": [
    {
     "data": {
      "text/plain": [
       "5"
      ]
     },
     "execution_count": 9,
     "metadata": {},
     "output_type": "execute_result"
    }
   ],
   "source": [
    "a, b, c = (1, 2, 3, 4, 5, 6, 7, 8, 9)[1::3]\n",
    "b"
   ]
  },
  {
   "cell_type": "markdown",
   "id": "364719a0",
   "metadata": {},
   "source": [
    "## Complejidad de tiempo\n",
    "\n",
    "+ append tiene una complejidad de tiempo constante, es decir, O (1). \n",
    "+ extend tiene una complejidad de O(k). Donde k es la longitud de la lista que debe agregarse."
   ]
  },
  {
   "cell_type": "code",
   "execution_count": null,
   "id": "01dc425d",
   "metadata": {},
   "outputs": [],
   "source": [
    "# Recordar sintaxis del for\n",
    "iniciales = []\n",
    "for i in ['Galileo', 'Oliver','Ostwald','Descartes']:\n",
    "          iniciales.append(i[0])\n",
    "iniciales"
   ]
  },
  {
   "cell_type": "code",
   "execution_count": null,
   "id": "c044eb22",
   "metadata": {},
   "outputs": [],
   "source": [
    "# Alternativa por comprensión\n",
    "\n",
    "print([i[0] for i in ['Galileo', 'Oliver','Ostwald','Descartes']])"
   ]
  },
  {
   "cell_type": "code",
   "execution_count": null,
   "id": "4a04ab67",
   "metadata": {},
   "outputs": [],
   "source": [
    "list1 = [40,50,60]\n",
    "list2 = [10,20,30]\n",
    "list3 = list1 + list2\n",
    "print(list3)"
   ]
  },
  {
   "cell_type": "code",
   "execution_count": null,
   "id": "dd3c3d25",
   "metadata": {},
   "outputs": [],
   "source": []
  }
 ],
 "metadata": {
  "kernelspec": {
   "display_name": "Python 3 (ipykernel)",
   "language": "python",
   "name": "python3"
  },
  "language_info": {
   "codemirror_mode": {
    "name": "ipython",
    "version": 3
   },
   "file_extension": ".py",
   "mimetype": "text/x-python",
   "name": "python",
   "nbconvert_exporter": "python",
   "pygments_lexer": "ipython3",
   "version": "3.8.12"
  }
 },
 "nbformat": 4,
 "nbformat_minor": 5
}
