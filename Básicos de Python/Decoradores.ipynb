{
 "cells": [
  {
   "cell_type": "markdown",
   "id": "artificial-blogger",
   "metadata": {},
   "source": [
    "# Decoradores\n",
    "## Programación para Analítica de Datos\n",
    "### Mtra. Gisel Hernández Chávez\n",
    "\n",
    "### Temas\n",
    "+ Definición de decorador\n",
    "+ Temas que son prerequisitos\n",
    "    + Funciones como objetos. \n",
    "    + Funciones pasadas como argumentos.\n",
    "    + Funciones internas (*inner function*)\n",
    "    + Devolución de funciones desde funciones\n",
    "+ Decorador simple\n",
    "+ Verdadera forma de usar decorador con @\n",
    "+ Ejemplos\n",
    "+ Ejercicios\n",
    "+ Decoradores built-in:  @classmethod, @staticmethod, @property"
   ]
  },
  {
   "cell_type": "markdown",
   "id": "grave-visitor",
   "metadata": {},
   "source": [
    "### Definición\n",
    "\n",
    "__Decorators are functions that accept functions and return functions. They're weird but powerful!__\n",
    "\n",
    "+ Un decorador es una función que toma otra función y extiende su comportamiento sin modificarla explícitamente.\n",
    "+ Esto suena confuso, pero en realidad no lo es, especialmente después de que vean los siguientes ejemplos de cómo funcionan los decoradores.\n",
    "\n",
    "__Vamos a comenzar tratando algunos temas que se deben comprender antes de entrar de lleno en los decoradores__"
   ]
  },
  {
   "cell_type": "markdown",
   "id": "final-sword",
   "metadata": {},
   "source": [
    "### Funciones como objetos que pueden ser pasados como argumentos\n",
    "\n",
    "+ En Python, las funciones son objetos de primera clase. \n",
    "    + Esto significa que las funciones pueden pasarse y usarse como argumentos, como cualquier otro objeto (string, int, float, list, etc.). \n",
    "\n",
    "Considere las siguientes tres funciones:\n"
   ]
  },
  {
   "cell_type": "code",
   "execution_count": 112,
   "id": "characteristic-subscription",
   "metadata": {},
   "outputs": [],
   "source": [
    "def say_hello(name):\n",
    "    return f\"Hello {name}\"\n",
    "\n",
    "def be_awesome(name):\n",
    "    #Yo is an interjection that is used for getting someone's attention, \n",
    "    # greeting someone, or expressing strong feelings.'''\n",
    "    \n",
    "    return f\"Yo {name}, together we are the awesomest!\"\n",
    "\n",
    "def greet_bob(greeter_func): # El parámetro es un nombre de función\n",
    "    ''' greeter_func: toma el valor de un argumento que es un nombre de función\n",
    "                        para llamar a esa función y lo que retorne la misma es lo\n",
    "                        que retorna esta función greet_bob\n",
    "    ''' \n",
    "    return greeter_func(\"Bob\")"
   ]
  },
  {
   "cell_type": "code",
   "execution_count": 113,
   "id": "english-share",
   "metadata": {},
   "outputs": [],
   "source": [
    "greet_bob?"
   ]
  },
  {
   "cell_type": "markdown",
   "id": "cardiac-tunnel",
   "metadata": {},
   "source": [
    "### Llamado a función pasando como argumento nombre de función\n",
    "\n",
    "+ Note que no se usan los paréntesis al usar el nombre de la función como argumento.\n",
    "+ Esto significa que solo se pasa una referencia a la función. La función no se ejecuta en ese momento."
   ]
  },
  {
   "cell_type": "code",
   "execution_count": 114,
   "id": "received-tulsa",
   "metadata": {},
   "outputs": [
    {
     "data": {
      "text/plain": [
       "'Hello Bob'"
      ]
     },
     "execution_count": 114,
     "metadata": {},
     "output_type": "execute_result"
    }
   ],
   "source": [
    "# el argumento say_hello hace match con el parámetro greeter_func\n",
    "greet_bob(say_hello)  # say_hello es una función nombrada sin paréntesis"
   ]
  },
  {
   "cell_type": "code",
   "execution_count": 115,
   "id": "labeled-detector",
   "metadata": {},
   "outputs": [
    {
     "data": {
      "text/plain": [
       "'Yo Bob, together we are the awesomest!'"
      ]
     },
     "execution_count": 115,
     "metadata": {},
     "output_type": "execute_result"
    }
   ],
   "source": [
    "# el argumento say_hello hace match con el parámetro greeter_func\n",
    "greet_bob(be_awesome)  # be_awesome es una función nombrada sin paréntesis"
   ]
  },
  {
   "cell_type": "markdown",
   "id": "awful-oriental",
   "metadata": {},
   "source": [
    "### Funciones internas (*inner functions*)\n",
    "\n",
    "Es posible definir funciones dentro de otras funciones. Estas funciones se denominan funciones internas. \n",
    "\n",
    "A continuación, se muestra un ejemplo de una función con dos funciones internas:"
   ]
  },
  {
   "cell_type": "code",
   "execution_count": 116,
   "id": "intellectual-journalist",
   "metadata": {},
   "outputs": [],
   "source": [
    "def parent():\n",
    "    print(\"Printing from the parent() function\")\n",
    "\n",
    "    def first_child():\n",
    "        print(\"Printing from the first_child() function\")\n",
    "\n",
    "    def second_child():\n",
    "        print(\"Printing from the second_child() function\")\n",
    "\n",
    "    second_child()\n",
    "    first_child()"
   ]
  },
  {
   "cell_type": "markdown",
   "id": "infinite-forty",
   "metadata": {},
   "source": [
    "### Llamado a función con funciones internas\n",
    "¿Qué ocurre si llamo a parent()?\n",
    "\n",
    "+ Las funciones internas no se definen hasta que se llama a la función principal. \n",
    "+ En este caso ambas funciones tienen un alcance local para parent (): solo existen dentro de la función parent () como variables locales.\n",
    "+ Intente llamar a first_child () y recibirá un error"
   ]
  },
  {
   "cell_type": "code",
   "execution_count": 117,
   "id": "parallel-value",
   "metadata": {},
   "outputs": [
    {
     "ename": "NameError",
     "evalue": "name 'first_child' is not defined",
     "output_type": "error",
     "traceback": [
      "\u001b[1;31m---------------------------------------------------------------------------\u001b[0m",
      "\u001b[1;31mNameError\u001b[0m                                 Traceback (most recent call last)",
      "Input \u001b[1;32mIn [117]\u001b[0m, in \u001b[0;36m<cell line: 1>\u001b[1;34m()\u001b[0m\n\u001b[1;32m----> 1\u001b[0m \u001b[43mfirst_child\u001b[49m()\n",
      "\u001b[1;31mNameError\u001b[0m: name 'first_child' is not defined"
     ]
    }
   ],
   "source": [
    "first_child()"
   ]
  },
  {
   "cell_type": "code",
   "execution_count": 118,
   "id": "martial-shuttle",
   "metadata": {},
   "outputs": [
    {
     "name": "stdout",
     "output_type": "stream",
     "text": [
      "Printing from the parent() function\n",
      "Printing from the second_child() function\n",
      "Printing from the first_child() function\n"
     ]
    }
   ],
   "source": [
    "parent()"
   ]
  },
  {
   "cell_type": "markdown",
   "id": "primary-gibson",
   "metadata": {},
   "source": [
    "### Devolución de funciones desde funciones\n",
    "\n",
    "Python también le permite usar funciones como valores de retorno. \n",
    "\n",
    "El siguiente ejemplo devuelve una de las funciones internas de la función externa parent ():\n"
   ]
  },
  {
   "cell_type": "code",
   "execution_count": 119,
   "id": "ordinary-laugh",
   "metadata": {},
   "outputs": [
    {
     "data": {
      "text/plain": [
       "<function __main__.parent.<locals>.second_child()>"
      ]
     },
     "execution_count": 119,
     "metadata": {},
     "output_type": "execute_result"
    }
   ],
   "source": [
    "def parent(num):\n",
    "    def first_child():\n",
    "        return \"Hi, I am Emma\"\n",
    "\n",
    "    def second_child():\n",
    "        return \"Call me Liam\"\n",
    "\n",
    "    if num == 1:\n",
    "        return first_child # se devuelve la referencia al objeto función\n",
    "    else:\n",
    "        return second_child # se devuelve la referencia al objeto función\n",
    "    \n",
    "parent(88)"
   ]
  },
  {
   "cell_type": "code",
   "execution_count": 120,
   "id": "80c0966d",
   "metadata": {},
   "outputs": [
    {
     "name": "stdout",
     "output_type": "stream",
     "text": [
      "<function parent.<locals>.first_child at 0x000001DFA133A0D0>\n"
     ]
    }
   ],
   "source": [
    "a = parent(1)\n",
    "print(a)"
   ]
  },
  {
   "cell_type": "code",
   "execution_count": 121,
   "id": "crucial-deputy",
   "metadata": {},
   "outputs": [
    {
     "data": {
      "text/plain": [
       "<function __main__.parent.<locals>.second_child()>"
      ]
     },
     "execution_count": 121,
     "metadata": {},
     "output_type": "execute_result"
    }
   ],
   "source": [
    "b = parent(33)\n",
    "b"
   ]
  },
  {
   "cell_type": "code",
   "execution_count": 122,
   "id": "129a7df8",
   "metadata": {},
   "outputs": [
    {
     "name": "stdout",
     "output_type": "stream",
     "text": [
      "<function parent.<locals>.second_child at 0x000001DFA4FD6B80>\n"
     ]
    }
   ],
   "source": [
    "print(b)"
   ]
  },
  {
   "cell_type": "code",
   "execution_count": 123,
   "id": "connected-prompt",
   "metadata": {},
   "outputs": [
    {
     "name": "stdout",
     "output_type": "stream",
     "text": [
      "<function parent.<locals>.first_child at 0x000001DFA5051CA0>\n"
     ]
    }
   ],
   "source": [
    "print(parent(1))"
   ]
  },
  {
   "cell_type": "markdown",
   "id": "spread-webcam",
   "metadata": {},
   "source": [
    "+ Tenga en cuenta que está devolviendo first_child sin los paréntesis. Recuerde que esto significa que __está devolviendo una referencia a la función first_child__.\n",
    "\n",
    "+ En contraste, first_child () con paréntesis se refiere al resultado de evaluar la función.\n"
   ]
  },
  {
   "cell_type": "code",
   "execution_count": 124,
   "id": "personal-meaning",
   "metadata": {},
   "outputs": [],
   "source": [
    "def parent2(num):\n",
    "    def first_child():\n",
    "        return \"Hi, I am Emma\"\n",
    "\n",
    "    def second_child():\n",
    "        return \"Call me Liam\"\n",
    "\n",
    "    if num == 1:\n",
    "        return first_child()\n",
    "    else:\n",
    "        return second_child()"
   ]
  },
  {
   "cell_type": "code",
   "execution_count": 125,
   "id": "appropriate-inspector",
   "metadata": {},
   "outputs": [
    {
     "data": {
      "text/plain": [
       "'Hi, I am Emma'"
      ]
     },
     "execution_count": 125,
     "metadata": {},
     "output_type": "execute_result"
    }
   ],
   "source": [
    "parent2(1)"
   ]
  },
  {
   "cell_type": "markdown",
   "id": "present-spice",
   "metadata": {},
   "source": [
    "### Decoradores simples\n",
    "\n",
    "Ahora que ha visto que las funciones son como cualquier otro objeto en Python, está listo para seguir adelante y ver lo que son los  decoradores de Python. Comencemos con un ejemplo:\n"
   ]
  },
  {
   "cell_type": "code",
   "execution_count": 126,
   "id": "rubber-stick",
   "metadata": {},
   "outputs": [
    {
     "name": "stdout",
     "output_type": "stream",
     "text": [
      "entra a my_decorator\n"
     ]
    }
   ],
   "source": [
    "def my_decorator(func):  # el parámetro func es una referencia a la función que se pase\n",
    "    print('entra a my_decorator')\n",
    "    \n",
    "    def wrapper():\n",
    "        print(\"Something is happening before the function func() is called.\")\n",
    "        \n",
    "        func()   # Se ejecuta la función que se pase como argumento al llamar a my_decorator()\n",
    "        \n",
    "        print(\"Something is happening after the function func() is called.\")\n",
    "        \n",
    "    return wrapper  # Se retorna la referencia a una función\n",
    "\n",
    "\n",
    "def say_whee():\n",
    "    print(\"Whee!\")\n",
    "\n",
    "say_whee = my_decorator(say_whee)  # La decoración ocurre en esta línea\n",
    "# Ahora la variable say_whee apunta a la función interna wrapper()"
   ]
  },
  {
   "cell_type": "code",
   "execution_count": 127,
   "id": "popular-sunday",
   "metadata": {},
   "outputs": [
    {
     "data": {
      "text/plain": [
       "<function __main__.my_decorator.<locals>.wrapper()>"
      ]
     },
     "execution_count": 127,
     "metadata": {},
     "output_type": "execute_result"
    }
   ],
   "source": [
    "say_whee  # indica (apunta) a la función "
   ]
  },
  {
   "cell_type": "code",
   "execution_count": 128,
   "id": "f55bbd7d",
   "metadata": {},
   "outputs": [
    {
     "data": {
      "text/plain": [
       "2060057580448"
      ]
     },
     "execution_count": 128,
     "metadata": {},
     "output_type": "execute_result"
    }
   ],
   "source": [
    "id(say_whee)  # dirección de la función wrapper en base 10"
   ]
  },
  {
   "cell_type": "code",
   "execution_count": 129,
   "id": "6580b68a",
   "metadata": {},
   "outputs": [
    {
     "data": {
      "text/plain": [
       "'0x1df9ee96310'"
      ]
     },
     "execution_count": 129,
     "metadata": {},
     "output_type": "execute_result"
    }
   ],
   "source": [
    "hex(2059955430160)"
   ]
  },
  {
   "cell_type": "code",
   "execution_count": 130,
   "id": "reflected-annex",
   "metadata": {},
   "outputs": [
    {
     "name": "stdout",
     "output_type": "stream",
     "text": [
      "<function my_decorator.<locals>.wrapper at 0x000001DFA50013A0>\n"
     ]
    }
   ],
   "source": [
    "print(say_whee)  # indica a la función que apunta. Muestra la dirección en hexadecimal"
   ]
  },
  {
   "cell_type": "code",
   "execution_count": 131,
   "id": "disciplinary-entrepreneur",
   "metadata": {},
   "outputs": [
    {
     "name": "stdout",
     "output_type": "stream",
     "text": [
      "Something is happening before the function func() is called.\n",
      "Whee!\n",
      "Something is happening after the function func() is called.\n"
     ]
    }
   ],
   "source": [
    "say_whee()"
   ]
  },
  {
   "cell_type": "markdown",
   "id": "utility-garage",
   "metadata": {},
   "source": [
    "En pocas palabras: __los decoradores envuelven (wrap) una función, extendiendo su comportamiento__.\n",
    "\n",
    "### Ejercicio\n",
    "\n",
    "Modifique el código anterior usando el módulo datetime y su función now() para que sólo se ejecute la función say_whee() si estamos entre las 7 am y las 8 pm.\n",
    "\n",
    "+ Use la función time() de datetime para acceder solo a la parte del tiempo de un objeto datetime."
   ]
  },
  {
   "cell_type": "code",
   "execution_count": 132,
   "id": "operational-natural",
   "metadata": {},
   "outputs": [],
   "source": [
    "# Espacio para la solución del ejercicio\n",
    "\n",
    "# time(8,21)\n",
    "# time(23,00)\n",
    "# datetime.now()\n",
    "\n",
    "from datetime import datetime, time\n",
    "\n",
    "def my_decorator2(func):  # el parámetro func es una referencia a la función que se pase\n",
    "    def wrapper():\n",
    "        if time(7,0) < datetime.now().time() < time(20,0): \n",
    "        \n",
    "            func()   # Se ejecuta la función que se pase como argumento al llamar a my_decorator()\n",
    "        else:\n",
    "            print('No estamos entre las 7 am y 8 pm')\n",
    "        \n",
    "        \n",
    "    return wrapper  # Se retorna la referencia a una función\n",
    "\n",
    "\n",
    "def say_whee2():\n",
    "    print(\"Whee! Estamos en horario permitido\")\n",
    "\n",
    "say_whee2 = my_decorator2(say_whee2)  # La decoración ocurre en esta línea\n",
    "# Ahora la variable say_whee apunta a la función interna wrapper()"
   ]
  },
  {
   "cell_type": "code",
   "execution_count": 133,
   "id": "683e5651",
   "metadata": {},
   "outputs": [
    {
     "name": "stdout",
     "output_type": "stream",
     "text": [
      "Whee! Estamos en horario permitido\n"
     ]
    }
   ],
   "source": [
    "say_whee2()"
   ]
  },
  {
   "cell_type": "code",
   "execution_count": 134,
   "id": "92d0417b",
   "metadata": {},
   "outputs": [],
   "source": [
    "# Espacio para la solución del ejercicio\n",
    "\n",
    "from datetime import datetime, time\n",
    "\n",
    "def my_decorator2(func):  # el parámetro func es una referencia a la función que se pase\n",
    "    def wrapper():\n",
    "        if time(9,10) < datetime.now().time() < time(11,50): \n",
    "        \n",
    "            func()   # Se ejecuta la función que se pase como argumento al llamar a my_decorator()\n",
    "        else:\n",
    "            print('No estamos en Progra para Analítica')\n",
    "        \n",
    "        \n",
    "    return wrapper  # Se retorna la referencia a una función\n",
    "\n",
    "\n",
    "def say_whee2():\n",
    "    print(\"Whee! Estamos en horario de la clase de Progra\")\n",
    "\n",
    "say_whee2 = my_decorator2(say_whee2)  # La decoración ocurre en esta línea\n",
    "# Ahora la variable say_whee apunta a la función interna wrapper()"
   ]
  },
  {
   "cell_type": "code",
   "execution_count": 135,
   "id": "psychological-april",
   "metadata": {},
   "outputs": [
    {
     "data": {
      "text/plain": [
       "datetime.datetime(2022, 10, 24, 9, 18, 58, 912112)"
      ]
     },
     "execution_count": 135,
     "metadata": {},
     "output_type": "execute_result"
    }
   ],
   "source": [
    "datetime.now()"
   ]
  },
  {
   "cell_type": "code",
   "execution_count": 136,
   "id": "shaped-wallet",
   "metadata": {},
   "outputs": [
    {
     "name": "stdout",
     "output_type": "stream",
     "text": [
      "Whee! Estamos en horario de la clase de Progra\n"
     ]
    }
   ],
   "source": [
    "say_whee2()"
   ]
  },
  {
   "cell_type": "markdown",
   "id": "fixed-seattle",
   "metadata": {},
   "source": [
    "### La verdadera forma de usar decoradores con @\n",
    "\n",
    "Los ejemplos anteriores se hicieron para una mejor comprensión de lo que es la decoración, pero es una manera algo torpe.\n",
    "\n",
    "En cambio, Python le permite usar decoradores de una manera más simple con el símbolo @, a veces llamado sintaxis de “pie\". El siguiente ejemplo hace exactamente lo mismo que el primer ejemplo de decorador:\n"
   ]
  },
  {
   "cell_type": "code",
   "execution_count": 137,
   "id": "automatic-mainstream",
   "metadata": {},
   "outputs": [],
   "source": [
    "def my_decorator(func):\n",
    "    def wrapper():\n",
    "        print(\"Something is happening before the function is called.\")\n",
    "        func()\n",
    "        print(\"Something is happening after the function is called.\")\n",
    "    return wrapper\n",
    "\n",
    "@my_decorator #  Es lo mismo que say_whee = my_decorator(say_whee)\n",
    "def say_whee():    \n",
    "    print(\"Whee!\")"
   ]
  },
  {
   "cell_type": "markdown",
   "id": "absent-conclusion",
   "metadata": {},
   "source": [
    "### Cómo se aplica un decorador a una función\n",
    "\n",
    "Entonces, @my_decorator es solo una forma más fácil de decir:\n",
    "\n",
    "    say_whee = my_decorator (say_whee). \n",
    "    \n",
    "+ Es como se aplica un decorador a una función."
   ]
  },
  {
   "cell_type": "markdown",
   "id": "million-facing",
   "metadata": {},
   "source": [
    "### Reutilización de decoradores\n",
    "\n",
    "+ Recuerde que __un decorador es solo una función normal de Python__. \n",
    "+ Todas las herramientas habituales para una fácil reutilización están disponibles. \n",
    "+ Pasemos el decorador a su propio módulo, para que se pueda utilizar en muchas otras funciones.\n",
    "\n",
    "Cree un archivo (módulo de Python) llamado decorador.py con el siguiente contenido (en el mismo directorio actual de trabajo):NOTA: La triple comilla es para que al ejecutar el markdown se interprete como código\n",
    "\n",
    "```\n",
    "def do_twice(func):\n",
    "    \n",
    "    def wrapper_do_twice(): # Una posibilidad es usar el mismo nombre que el decorador y prefijo wrapper; no hay regla\n",
    "        func()\n",
    "        func()\n",
    "    return wrapper_do_twice\n",
    "```"
   ]
  },
  {
   "cell_type": "markdown",
   "id": "caroline-third",
   "metadata": {},
   "source": [
    "Ahora vamos a importar el módulo y usar el decorador:\n",
    "    "
   ]
  },
  {
   "cell_type": "code",
   "execution_count": 138,
   "id": "pursuant-strand",
   "metadata": {},
   "outputs": [],
   "source": [
    "from decorador import do_twice\n",
    "\n",
    "@do_twice\n",
    "def say_whee():\n",
    "    print(\"Whee!\")"
   ]
  },
  {
   "cell_type": "code",
   "execution_count": 139,
   "id": "8520e08d",
   "metadata": {},
   "outputs": [],
   "source": [
    "@do_twice\n",
    "def otra():\n",
    "    print('Angel es un buen alumno')\n",
    " \n"
   ]
  },
  {
   "cell_type": "code",
   "execution_count": 140,
   "id": "bbd7a8b0",
   "metadata": {},
   "outputs": [
    {
     "name": "stdout",
     "output_type": "stream",
     "text": [
      "Angel es un buen alumno\n",
      "Angel es un buen alumno\n"
     ]
    }
   ],
   "source": [
    "otra()"
   ]
  },
  {
   "cell_type": "markdown",
   "id": "golden-premiere",
   "metadata": {},
   "source": [
    "Cuando a continuación ejecute este ejemplo, debería ver que el say_whee () original se ejecuta dos veces:"
   ]
  },
  {
   "cell_type": "code",
   "execution_count": 141,
   "id": "accepted-confidence",
   "metadata": {},
   "outputs": [
    {
     "name": "stdout",
     "output_type": "stream",
     "text": [
      "Whee!\n",
      "Whee!\n"
     ]
    }
   ],
   "source": [
    "say_whee()"
   ]
  },
  {
   "cell_type": "markdown",
   "id": "whole-swift",
   "metadata": {},
   "source": [
    "### Decoración de funciones con argumentos\n",
    "\n",
    "Tenemos una función que acepta algunos argumentos. ¿Podemos decorarla? \n",
    "\n",
    "Veamos:"
   ]
  },
  {
   "cell_type": "code",
   "execution_count": 142,
   "id": "sensitive-generic",
   "metadata": {},
   "outputs": [],
   "source": [
    "from decorador import do_twice\n",
    "\n",
    "@do_twice\n",
    "def greet(name):\n",
    "    print(f\"Hello {name}\")"
   ]
  },
  {
   "cell_type": "code",
   "execution_count": 143,
   "id": "fiscal-cliff",
   "metadata": {},
   "outputs": [],
   "source": [
    "do_twice?"
   ]
  },
  {
   "cell_type": "code",
   "execution_count": 144,
   "id": "progressive-crazy",
   "metadata": {},
   "outputs": [
    {
     "ename": "TypeError",
     "evalue": "wrapper_do_twice() takes 0 positional arguments but 1 was given",
     "output_type": "error",
     "traceback": [
      "\u001b[1;31m---------------------------------------------------------------------------\u001b[0m",
      "\u001b[1;31mTypeError\u001b[0m                                 Traceback (most recent call last)",
      "Input \u001b[1;32mIn [144]\u001b[0m, in \u001b[0;36m<cell line: 2>\u001b[1;34m()\u001b[0m\n\u001b[0;32m      1\u001b[0m \u001b[38;5;66;03m# say_whee()\u001b[39;00m\n\u001b[1;32m----> 2\u001b[0m \u001b[43mgreet\u001b[49m\u001b[43m(\u001b[49m\u001b[38;5;124;43m'\u001b[39;49m\u001b[38;5;124;43mPaty\u001b[39;49m\u001b[38;5;124;43m'\u001b[39;49m\u001b[43m)\u001b[49m\n",
      "\u001b[1;31mTypeError\u001b[0m: wrapper_do_twice() takes 0 positional arguments but 1 was given"
     ]
    }
   ],
   "source": [
    "# say_whee()\n",
    "greet('Paty')"
   ]
  },
  {
   "cell_type": "markdown",
   "id": "polyphonic-glasgow",
   "metadata": {},
   "source": [
    "+ El problema es que la función interna wrapper_do_twice () no toma ningún argumento, pero se le pasó name = \"Paty\". \n",
    "+ Puede arreglar esto dejando que wrapper_do_twice () acepte un argumento, pero entonces no funcionaría para la función say_whee () que creó anteriormente.\n",
    "\n",
    "+ __La solución es usar * args y ** kwargs en la función de envoltorio interno. Entonces aceptará un número arbitrario de argumentos posicionales y de palabras clave__\n",
    "\n",
    "Escribe otro módulo decorador_py.py de la siguiente manera (No modifique el anterior, pues le diremos más adelante lo que se requeriría con Jupyter para recargarlo):\n",
    "\n",
    "def do_twice(func):\n",
    "\n",
    "    def wrapper_do_twice(*args, **kwargs):\n",
    "    \n",
    "        func(*args, **kwargs)\n",
    "        \n",
    "        func(*args, **kwargs)\n",
    "        \n",
    "    return wrapper_do_twice"
   ]
  },
  {
   "cell_type": "code",
   "execution_count": 145,
   "id": "cooperative-respondent",
   "metadata": {},
   "outputs": [],
   "source": [
    "from decorador_py import do_twice\n",
    "\n",
    "@do_twice\n",
    "def greet(name):\n",
    "    print(f\"Hello {name}\")   "
   ]
  },
  {
   "cell_type": "code",
   "execution_count": 146,
   "id": "accurate-tragedy",
   "metadata": {},
   "outputs": [
    {
     "name": "stdout",
     "output_type": "stream",
     "text": [
      "Hello Paty\n",
      "Hello Paty\n"
     ]
    }
   ],
   "source": [
    "greet('Paty')"
   ]
  },
  {
   "cell_type": "code",
   "execution_count": 147,
   "id": "located-qatar",
   "metadata": {},
   "outputs": [],
   "source": [
    "#do_twice?"
   ]
  },
  {
   "cell_type": "markdown",
   "id": "reverse-entity",
   "metadata": {},
   "source": [
    "### Devolución de valores de funciones decoradas\n",
    "\n",
    "¿Qué sucede con el valor de retorno de las funciones decoradas? Bueno, eso es decisión del decorador. Supongamos que decora una función simple de la siguiente manera:\n"
   ]
  },
  {
   "cell_type": "code",
   "execution_count": 148,
   "id": "intensive-museum",
   "metadata": {},
   "outputs": [],
   "source": [
    "from decorador_py import do_twice\n",
    "\n",
    "@do_twice  # Es equivalente a return_greeting = do_twice(return_greeting)\n",
    "def return_greeting(name):\n",
    "    print(\"Creating greeting\")\n",
    "    return f\"Hi {name}\""
   ]
  },
  {
   "cell_type": "code",
   "execution_count": 149,
   "id": "ba4b055c",
   "metadata": {},
   "outputs": [
    {
     "name": "stdout",
     "output_type": "stream",
     "text": [
      "Creating greeting\n",
      "Creating greeting\n"
     ]
    }
   ],
   "source": [
    "return_greeting(\"Adam\")"
   ]
  },
  {
   "cell_type": "code",
   "execution_count": 150,
   "id": "critical-suffering",
   "metadata": {},
   "outputs": [
    {
     "name": "stdout",
     "output_type": "stream",
     "text": [
      "Creating greeting\n",
      "Creating greeting\n"
     ]
    }
   ],
   "source": [
    "hi_adam = return_greeting(\"Adam\")"
   ]
  },
  {
   "cell_type": "code",
   "execution_count": 151,
   "id": "forced-discipline",
   "metadata": {},
   "outputs": [
    {
     "name": "stdout",
     "output_type": "stream",
     "text": [
      "None\n"
     ]
    }
   ],
   "source": [
    "print(hi_adam)"
   ]
  },
  {
   "cell_type": "markdown",
   "id": "60200817",
   "metadata": {},
   "source": [
    "+ En este caso, el decorador no tiene valor de retorno de la función.\n",
    "\n",
    "Debido a que do_twice_wrapper () no devuelve explícitamente un valor, la llamada return_greeting (\"Adam\") terminó devolviendo None.\n",
    "\n",
    "Para solucionar este problema, __la función contenedora (en este caso wrapper_do_twice(*args, **kwargs) debe devolver el valor de retorno de la función decorada__. \n"
   ]
  },
  {
   "cell_type": "markdown",
   "id": "becoming-journalism",
   "metadata": {},
   "source": [
    "### Ejercicio\n",
    "Cree otro archivo para el decorador llamado decorators.py con el siguiente código:\n",
    "<code>\n",
    "def do_twice(func):\n",
    "    '''prueba del docstring\n",
    "    Esta tiene return en func\n",
    "    '''\n",
    "    def wrapper_do_twice(*args, **kwargs):\n",
    "        func(*args, **kwargs)\n",
    "        return func(*args, **kwargs)  # devuelve valor de la función modificada\n",
    "\n",
    "    return wrapper_do_twice \n",
    "\n",
    "\n",
    "\n",
    "\n",
    "__Nota:__ Si lo que desea es modificar el decorador existente, en lugar de crear un nuevo decorador en otro archivo, lea la siguiente celda que explica pasos para la recarga de un módulo modificado."
   ]
  },
  {
   "cell_type": "markdown",
   "id": "thousand-germany",
   "metadata": {},
   "source": [
    "## ¡Aguas! ¡Aguas! si usas un módulo ya importado y modificado después\n",
    "\n",
    "Una característica poderosa de Jupyter / IPython (de hecho, del propio Python) es que puede interactuar con sus datos desde la línea de comandos de (I) Python. \n",
    "\n",
    "Para proporcionar esta funcionalidad, __los módulos que contienen sus datos permanecen activos entre invocaciones__. Por lo tanto, una vez que se importa un módulo, permanece importado y __volver a importarlo no tiene ningún efecto__.\n",
    "\n",
    "Ver un excelente artículo de donde se ha traducido esta información: https://support.enthought.com/hc/en-us/articles/204469240-Jupyter-IPython-After-editing-a-module-changes-are-not-effective-without-kernel-restart \n",
    "\n",
    "Esta gran característica puede tener consecuencias desconcertantes, en particular, si cambia un módulo de Python que ya ha sido importado dentro de ipython y luego vuelve a importar ese módulo (por ejemplo, usando ipython para ejecutar un programa que lo usa).\n",
    "\n",
    "__Python pensará \"Ya importé este módulo, no es necesario volver a leer ese archivo \"__, por lo que los cambios no serán efectivos. (Tenga en cuenta que esto no se aplica a su archivo de programa principal, que IPython ejecuta directamente, en lugar de importar, por lo que los cambios siempre son efectivos una vez que se guardan).\n",
    "\n",
    "Hay varias formas de solucionar este problema.\n",
    "\n",
    "1) Lo más simple y seguro es __reiniciar el kernel de ipython después de cambiar un módulo importado__. Pero esto también tiene __desventajas__, en particular la __pérdida de los datos que existen en su espacio de nombres ipython y en cualquier otro módulo importado__.\n",
    "\n",
    "2) Para casos simples (**solución que aplicaremos ahora**), puede __usar la función de recarga de Python__. Para ello, se importa desde el módulo estándar \"importlib\"). En muchos casos, esto es suficiente después de editar un módulo.  Hay una buena discusión en https://stackoverflow.com/questions/1254370/reimport-a-module-in-python-while-interactive\n",
    "\n",
    "3) Para casos más complejos, donde recargar el módulo que ha editado también requiere que se recarguen sus módulos dependientes / importados (por ejemplo, porque deben inicializarse como parte de la inicialización de su módulo editado), la extensión de recarga automática de ipython puede ser útil."
   ]
  },
  {
   "cell_type": "code",
   "execution_count": 152,
   "id": "tutorial-crisis",
   "metadata": {},
   "outputs": [],
   "source": [
    "import decorators"
   ]
  },
  {
   "cell_type": "code",
   "execution_count": 153,
   "id": "stopped-hearts",
   "metadata": {},
   "outputs": [],
   "source": [
    "decorators.do_twice?"
   ]
  },
  {
   "cell_type": "code",
   "execution_count": 154,
   "id": "restricted-neighborhood",
   "metadata": {},
   "outputs": [
    {
     "data": {
      "text/plain": [
       "<module 'decorators' from 'C:\\\\Users\\\\ghernand\\\\Downloads\\\\decorators.py'>"
      ]
     },
     "execution_count": 154,
     "metadata": {},
     "output_type": "execute_result"
    }
   ],
   "source": [
    "import importlib\n",
    "importlib.reload(decorators)"
   ]
  },
  {
   "cell_type": "code",
   "execution_count": 155,
   "id": "3703a561",
   "metadata": {},
   "outputs": [],
   "source": [
    "decorators.do_twice?"
   ]
  },
  {
   "cell_type": "code",
   "execution_count": 156,
   "id": "successful-homeless",
   "metadata": {},
   "outputs": [
    {
     "name": "stdout",
     "output_type": "stream",
     "text": [
      "Creating greeting\n",
      "Creating greeting\n"
     ]
    },
    {
     "data": {
      "text/plain": [
       "'Hi Adam'"
      ]
     },
     "execution_count": 156,
     "metadata": {},
     "output_type": "execute_result"
    }
   ],
   "source": [
    "from decorators import do_twice\n",
    "\n",
    "@do_twice\n",
    "def return_greeting(name):\n",
    "    print(\"Creating greeting\")\n",
    "    return f\"Hi {name}\"\n",
    "\n",
    "return_greeting(\"Adam\")"
   ]
  },
  {
   "cell_type": "markdown",
   "id": "double-horizontal",
   "metadata": {},
   "source": [
    "## Introspección\n",
    "\n",
    "Un objeto puede revisar sus propios atributos en tiempo de ejecución, como ya hemos visto. \n",
    "\n",
    "Para evitar la confusión con lo que veremos a continuación, __modificaremos el decorador decorators.py__ de la siguiente manera, usando el decorador @functools.wraps, que preservará la información de la función original.\n",
    "\n",
    "+ El **módulo functools** es para funciones de orden superior: funciones que actúan o devuelven otras funciones. En general, cualquier objeto invocable puede tratarse como una función para los propósitos de este módulo.\n",
    "+ Entre sus funciones más usadas está: functools.update_wrapper(wrapper, wrapped, assigned=WRAPPER_ASSIGNMENTS, updated=WRAPPER_UPDATES)\n",
    "+ **functools.update_wrapper** Actualiza una función wrapper para que se parezca a la función envuelta. Los argumentos opcionales son tuplas para especificar qué atributos de la función original se asignan directamente a los atributos coincidentes en la función contenedora y qué atributos de la función contenedora se actualizan con los atributos correspondientes de la función original.\n",
    "+ **functools.wraps** es una función conveniente para invocar update_wrapper() como un decorador de funciones al definir una función contenedora. https://docs.python.org/3/library/functools.html\n",
    "\n",
    "```\n",
    "import functools\n",
    "\n",
    "def do_twice(func):\n",
    "    @functools.wraps(func)    \n",
    "    def wrapper_do_twice(*args, **kwargs):\n",
    "        func(*args, **kwargs)\n",
    "        return func(*args, **kwargs)\n",
    "    return wrapper_do_twice\n",
    "```\n"
   ]
  },
  {
   "cell_type": "code",
   "execution_count": 157,
   "id": "united-fellowship",
   "metadata": {},
   "outputs": [
    {
     "data": {
      "text/plain": [
       "<function decorador.do_twice.<locals>.wrapper_do_twice()>"
      ]
     },
     "execution_count": 157,
     "metadata": {},
     "output_type": "execute_result"
    }
   ],
   "source": [
    "say_whee"
   ]
  },
  {
   "cell_type": "code",
   "execution_count": 158,
   "id": "driving-being",
   "metadata": {},
   "outputs": [
    {
     "data": {
      "text/plain": [
       "'wrapper_do_twice'"
      ]
     },
     "execution_count": 158,
     "metadata": {},
     "output_type": "execute_result"
    }
   ],
   "source": [
    "say_whee.__name__"
   ]
  },
  {
   "cell_type": "code",
   "execution_count": 159,
   "id": "integral-sister",
   "metadata": {},
   "outputs": [
    {
     "name": "stdout",
     "output_type": "stream",
     "text": [
      "Help on function wrapper_do_twice in module decorador:\n",
      "\n",
      "wrapper_do_twice()\n",
      "\n"
     ]
    }
   ],
   "source": [
    "help(say_whee)"
   ]
  },
  {
   "cell_type": "markdown",
   "id": "adult-valuable",
   "metadata": {},
   "source": [
    "#### Hay que recargar el módulo"
   ]
  },
  {
   "cell_type": "code",
   "execution_count": 160,
   "id": "outside-sapphire",
   "metadata": {},
   "outputs": [
    {
     "data": {
      "text/plain": [
       "<module 'decorators' from 'C:\\\\Users\\\\ghernand\\\\Downloads\\\\decorators.py'>"
      ]
     },
     "execution_count": 160,
     "metadata": {},
     "output_type": "execute_result"
    }
   ],
   "source": [
    "import importlib\n",
    "importlib.reload(decorators)"
   ]
  },
  {
   "cell_type": "code",
   "execution_count": 161,
   "id": "clear-township",
   "metadata": {},
   "outputs": [],
   "source": [
    "from decorators import do_twice\n",
    "@do_twice\n",
    "def say_whee():\n",
    "    print(\"Whee!\")"
   ]
  },
  {
   "cell_type": "markdown",
   "id": "blind-mounting",
   "metadata": {},
   "source": [
    "#### Observe cómo cambian los resultados y ahora son más comprensibles"
   ]
  },
  {
   "cell_type": "code",
   "execution_count": 162,
   "id": "brave-maryland",
   "metadata": {},
   "outputs": [
    {
     "data": {
      "text/plain": [
       "<function decorators.do_twice.<locals>.wrapper_do_twice(*args, **kwargs)>"
      ]
     },
     "execution_count": 162,
     "metadata": {},
     "output_type": "execute_result"
    }
   ],
   "source": [
    "say_whee"
   ]
  },
  {
   "cell_type": "code",
   "execution_count": 163,
   "id": "sound-limit",
   "metadata": {},
   "outputs": [
    {
     "data": {
      "text/plain": [
       "'wrapper_do_twice'"
      ]
     },
     "execution_count": 163,
     "metadata": {},
     "output_type": "execute_result"
    }
   ],
   "source": [
    "say_whee.__name__"
   ]
  },
  {
   "cell_type": "code",
   "execution_count": 164,
   "id": "consecutive-strip",
   "metadata": {},
   "outputs": [
    {
     "name": "stdout",
     "output_type": "stream",
     "text": [
      "Help on function wrapper_do_twice in module decorators:\n",
      "\n",
      "wrapper_do_twice(*args, **kwargs)\n",
      "\n"
     ]
    }
   ],
   "source": [
    "help(say_whee)"
   ]
  },
  {
   "cell_type": "markdown",
   "id": "handed-christopher",
   "metadata": {},
   "source": [
    "Puede encontrar en el artículo anteriormente referido varios ejemplos: https://realpython.com/primer-on-python-decorators/ .\n",
    "\n",
    "También trata temas más elegantes y profundos sobre decoradores bajo el título __\"Fancy decorators\"__\n",
    "\n",
    "De esos temas lo que más nos interesa es lo relacionado con __Decoración en las clases__\n",
    "\n",
    "Hay dos formas diferentes de usar los decoradores en las clases. El primero está muy cerca de lo que ya has hecho con las funciones: puedes decorar los métodos de una clase. Esta fue una de las motivaciones para presentar a los decoradores en el pasado.\n",
    "\n"
   ]
  },
  {
   "cell_type": "markdown",
   "id": "49a1757b",
   "metadata": {},
   "source": [
    "## Decoradores integrados de Python\n",
    "\n",
    "### @staticmethod\n",
    "\n",
    "+ Modifica un método para que no use la variable self. La función de método no tendrá acceso a una instancia específica de la clase.\n",
    "\n",
    "### @classmethod\n",
    "\n",
    "+ Modifica un método para que reciba el objeto de clase como primer parámetro en lugar de una instancia de la clase. Este método tendrá acceso al objeto de clase en sí.\n",
    "\n",
    "+ El decorador @classmethod se usa para crear clases __singleton__. Esta es una técnica de Python para definir un objeto que también es una clase única. La definición de clase es también la única instancia. Esto nos brinda una forma muy práctica y fácil de segregar atributos en una parte separada de una declaración de clase. Esta es una técnica muy utilizada por frameworks de Python.\n",
    "\n",
    "+ Generalmente, una función decorada con @classmethod se usa para la introspección de una clase. Un método de introspección analiza la estructura o las características de la clase, no los valores de la instancia específica.\n",
    "\n",
    "+ Los decoradores __@classmethod y @staticmethod__ se utilizan para definir métodos dentro de un espacio de nombres de clase que no están conectados a una instancia particular de esa clase. \n",
    "\n",
    "### @property\n",
    "\n",
    "+ El decorador __@property__ se utiliza para personalizar captadores (*getters*) y definidores (*setters*) para atributos de clase. "
   ]
  },
  {
   "cell_type": "markdown",
   "id": "signed-warrant",
   "metadata": {},
   "source": [
    "### Ejemplos con estos decoradores\n",
    "\n",
    "En la clase que se verá a continuación:\n",
    "\n",
    "+ __cylinder_volume ()__ es un método regular.\n",
    "+ __radius__ es una propiedad mutable: se puede establecer en un valor diferente. Sin embargo, al definir un método de establecimiento ( _setter_ ), podemos hacer algunas pruebas de error para asegurarnos, por ejemplo, de que no esté configurado en un número negativo sin sentido. __Se accede a las propiedades como atributos sin paréntesis__.\n",
    "+ __area__ es una propiedad inmutable: las propiedades sin los métodos .setter () no se pueden cambiar. Aunque se define como un método, se puede recuperar como un atributo sin paréntesis.\n",
    "+ __unit_circle ()__ es un __método de clase__. No está vinculado a una instancia particular de Circle. Los métodos de clase se utilizan a menudo como **métodos de fábrica** que pueden crear instancias específicas de la clase.\n",
    "+ En la POO, una **fábrica** (*factory*) es un **objeto para crear otros objetos**; formalmente, una fábrica es una función o método que devuelve objetos de un prototipo o clase variable, a partir de alguna llamada de método, que se supone que es \"*new*\". En términos más generales, una subrutina que devuelve un objeto nuevo puede denominarse fábrica, como en el método de fábrica o en la función de fábrica. Este es un concepto básico en POO y forma la base para una serie de patrones de diseño de software relacionados.\n",
    "+ __pi ()__ es un __método estático__. Realmente no depende de la clase Circle, excepto que es parte de su espacio de nombres. Este tipo de método no toma un parámetro self ni cls (pero, por supuesto, es libre de aceptar un número arbitrario de otros parámetros). Por lo tanto, **un método estático no puede modificar el estado del objeto ni el estado de la clase**. Los métodos estáticos están restringidos en cuanto a los datos a los que pueden acceder, y son principalmente una forma de asignar un espacio de nombres a sus métodos.\n",
    "+ Los métodos estáticos se pueden llamar en una instancia o en la clase.\n",
    "+ Para conocer más sobre métodos de instancia, de clase y estáticos puede leer el artículo: https://realpython.com/instance-class-and-static-methods-demystified/ \n",
    "+ La clase Circle se puede utilizar, por ejemplo, de la siguiente manera:"
   ]
  },
  {
   "cell_type": "code",
   "execution_count": 177,
   "id": "specialized-franchise",
   "metadata": {},
   "outputs": [],
   "source": [
    "class Circle:\n",
    "    def __init__(self, radius):\n",
    "        self._radius = radius\n",
    "\n",
    "    @property\n",
    "    def radius(self):   # de tipo getter\n",
    "        \"\"\"Get value of radius\"\"\"\n",
    "        return self._radius\n",
    "\n",
    "    @radius.setter\n",
    "    def radius(self, value):\n",
    "        \"\"\"Set radius, raise error if negative\"\"\"\n",
    "        if value >= 0:\n",
    "            self._radius = value\n",
    "        else:\n",
    "            raise ValueError(\"Radius must be positive\")\n",
    "\n",
    "    @property\n",
    "    def area(self):  # getter\n",
    "        \"\"\"Calculate area inside circle\"\"\"\n",
    "        return self.pi() * self.radius**2\n",
    "\n",
    "    \n",
    "    def cylinder_volume(self, height):       # No es tratado como propiedad\n",
    "        \"\"\"Calculate volume of cylinder with circle as base\"\"\"\n",
    "        return self.area * height\n",
    "\n",
    "    @classmethod\n",
    "    def unit_circle(cls):  # cls es el apuntador a la clase\n",
    "        \"\"\"Factory method creating a circle with radius 1\"\"\"\n",
    "        return cls(1)\n",
    "\n",
    "    @staticmethod      \n",
    "    def pi():\n",
    "        \"\"\"Value of π, could use math.pi instead though\"\"\"\n",
    "        return 3.1415926535"
   ]
  },
  {
   "cell_type": "markdown",
   "id": "tropical-salad",
   "metadata": {},
   "source": [
    "## ¿Atributo o property?\n",
    "\n",
    "+ Una vez que confirmamos que un atributo no es una acción (sino un dato), debemos decidir entre decorarlo como property o dejarlo como atributo de dato estándar. \n",
    "+ En general, utilice siempre un atributo estándar hasta que necesite controlar el acceso a esa propiedad de alguna manera. \n",
    "+ En cualquier caso, su atributo suele ser un sustantivo. \n",
    "+ La única __diferencia entre un atributo y un property__ es que podemos invocar acciones personalizadas automáticamente cuando se recupera (getter), configura (setter) o elimina (deleter) una propiedad, no así con un atributo estándar."
   ]
  },
  {
   "cell_type": "code",
   "execution_count": 178,
   "id": "ancient-absolute",
   "metadata": {},
   "outputs": [
    {
     "data": {
      "text/plain": [
       "4"
      ]
     },
     "execution_count": 178,
     "metadata": {},
     "output_type": "execute_result"
    }
   ],
   "source": [
    "c = Circle(4) # Esta no e la forma correcta porque ya se convirtió en propiedad y se tiene acceso a través de getter\n",
    "c._radius  # No respeto que la intención es que sea atributo protegido que solo debe ser accedido por los métodos de la clase o de las clases hijas\n"
   ]
  },
  {
   "cell_type": "code",
   "execution_count": 179,
   "id": "moderate-lyric",
   "metadata": {},
   "outputs": [
    {
     "data": {
      "text/plain": [
       "5"
      ]
     },
     "execution_count": 179,
     "metadata": {},
     "output_type": "execute_result"
    }
   ],
   "source": [
    "# Esto es lo correcto\n",
    "c = Circle(5)\n",
    "c.radius"
   ]
  },
  {
   "cell_type": "code",
   "execution_count": 180,
   "id": "informal-citizenship",
   "metadata": {},
   "outputs": [
    {
     "data": {
      "text/plain": [
       "78.5398163375"
      ]
     },
     "execution_count": 180,
     "metadata": {},
     "output_type": "execute_result"
    }
   ],
   "source": [
    "c.area"
   ]
  },
  {
   "cell_type": "code",
   "execution_count": 181,
   "id": "removed-corpus",
   "metadata": {},
   "outputs": [
    {
     "data": {
      "text/plain": [
       "12.566370614"
      ]
     },
     "execution_count": 181,
     "metadata": {},
     "output_type": "execute_result"
    }
   ],
   "source": [
    "c.radius = 2\n",
    "c.area"
   ]
  },
  {
   "cell_type": "code",
   "execution_count": 182,
   "id": "amended-residence",
   "metadata": {},
   "outputs": [
    {
     "ename": "ValueError",
     "evalue": "Radius must be positive",
     "output_type": "error",
     "traceback": [
      "\u001b[1;31m---------------------------------------------------------------------------\u001b[0m",
      "\u001b[1;31mValueError\u001b[0m                                Traceback (most recent call last)",
      "Input \u001b[1;32mIn [182]\u001b[0m, in \u001b[0;36m<cell line: 1>\u001b[1;34m()\u001b[0m\n\u001b[1;32m----> 1\u001b[0m c\u001b[38;5;241m.\u001b[39mradius \u001b[38;5;241m=\u001b[39m \u001b[38;5;241m-\u001b[39m\u001b[38;5;241m12\u001b[39m\n",
      "Input \u001b[1;32mIn [177]\u001b[0m, in \u001b[0;36mCircle.radius\u001b[1;34m(self, value)\u001b[0m\n\u001b[0;32m     14\u001b[0m     \u001b[38;5;28mself\u001b[39m\u001b[38;5;241m.\u001b[39m_radius \u001b[38;5;241m=\u001b[39m value\n\u001b[0;32m     15\u001b[0m \u001b[38;5;28;01melse\u001b[39;00m:\n\u001b[1;32m---> 16\u001b[0m     \u001b[38;5;28;01mraise\u001b[39;00m \u001b[38;5;167;01mValueError\u001b[39;00m(\u001b[38;5;124m\"\u001b[39m\u001b[38;5;124mRadius must be positive\u001b[39m\u001b[38;5;124m\"\u001b[39m)\n",
      "\u001b[1;31mValueError\u001b[0m: Radius must be positive"
     ]
    }
   ],
   "source": [
    "c.radius = -12"
   ]
  },
  {
   "cell_type": "code",
   "execution_count": 183,
   "id": "92ca065c",
   "metadata": {},
   "outputs": [
    {
     "name": "stdout",
     "output_type": "stream",
     "text": [
      "Radius must be positive\n"
     ]
    }
   ],
   "source": [
    "try:\n",
    "    c.radius = -12\n",
    "except ValueError as e:\n",
    "    print(e)"
   ]
  },
  {
   "cell_type": "code",
   "execution_count": 184,
   "id": "bcd63035",
   "metadata": {},
   "outputs": [
    {
     "name": "stdout",
     "output_type": "stream",
     "text": [
      "Error\n"
     ]
    }
   ],
   "source": [
    "try:\n",
    "    c.radius = -12\n",
    "except :\n",
    "    print('Error')"
   ]
  },
  {
   "cell_type": "code",
   "execution_count": 185,
   "id": "integral-record",
   "metadata": {},
   "outputs": [
    {
     "ename": "AttributeError",
     "evalue": "can't set attribute",
     "output_type": "error",
     "traceback": [
      "\u001b[1;31m---------------------------------------------------------------------------\u001b[0m",
      "\u001b[1;31mAttributeError\u001b[0m                            Traceback (most recent call last)",
      "Input \u001b[1;32mIn [185]\u001b[0m, in \u001b[0;36m<cell line: 1>\u001b[1;34m()\u001b[0m\n\u001b[1;32m----> 1\u001b[0m c\u001b[38;5;241m.\u001b[39marea \u001b[38;5;241m=\u001b[39m \u001b[38;5;241m100\u001b[39m\n",
      "\u001b[1;31mAttributeError\u001b[0m: can't set attribute"
     ]
    }
   ],
   "source": [
    "c.area = 100\n",
    "# Falta el setter para area"
   ]
  },
  {
   "cell_type": "code",
   "execution_count": 186,
   "id": "solid-vegetable",
   "metadata": {},
   "outputs": [
    {
     "data": {
      "text/plain": [
       "50.265482456"
      ]
     },
     "execution_count": 186,
     "metadata": {},
     "output_type": "execute_result"
    }
   ],
   "source": [
    "c.cylinder_volume(height=4)"
   ]
  },
  {
   "cell_type": "code",
   "execution_count": 187,
   "id": "freelance-qualification",
   "metadata": {},
   "outputs": [
    {
     "ename": "ValueError",
     "evalue": "Radius must be positive",
     "output_type": "error",
     "traceback": [
      "\u001b[1;31m---------------------------------------------------------------------------\u001b[0m",
      "\u001b[1;31mValueError\u001b[0m                                Traceback (most recent call last)",
      "Input \u001b[1;32mIn [187]\u001b[0m, in \u001b[0;36m<cell line: 1>\u001b[1;34m()\u001b[0m\n\u001b[1;32m----> 1\u001b[0m c\u001b[38;5;241m.\u001b[39mradius \u001b[38;5;241m=\u001b[39m \u001b[38;5;241m-\u001b[39m\u001b[38;5;241m1\u001b[39m\n",
      "Input \u001b[1;32mIn [177]\u001b[0m, in \u001b[0;36mCircle.radius\u001b[1;34m(self, value)\u001b[0m\n\u001b[0;32m     14\u001b[0m     \u001b[38;5;28mself\u001b[39m\u001b[38;5;241m.\u001b[39m_radius \u001b[38;5;241m=\u001b[39m value\n\u001b[0;32m     15\u001b[0m \u001b[38;5;28;01melse\u001b[39;00m:\n\u001b[1;32m---> 16\u001b[0m     \u001b[38;5;28;01mraise\u001b[39;00m \u001b[38;5;167;01mValueError\u001b[39;00m(\u001b[38;5;124m\"\u001b[39m\u001b[38;5;124mRadius must be positive\u001b[39m\u001b[38;5;124m\"\u001b[39m)\n",
      "\u001b[1;31mValueError\u001b[0m: Radius must be positive"
     ]
    }
   ],
   "source": [
    "c.radius = -1"
   ]
  },
  {
   "cell_type": "code",
   "execution_count": 188,
   "id": "manual-talent",
   "metadata": {},
   "outputs": [
    {
     "data": {
      "text/plain": [
       "1"
      ]
     },
     "execution_count": 188,
     "metadata": {},
     "output_type": "execute_result"
    }
   ],
   "source": [
    "c = Circle.unit_circle()\n",
    "c.radius"
   ]
  },
  {
   "cell_type": "code",
   "execution_count": 189,
   "id": "concrete-fantasy",
   "metadata": {},
   "outputs": [
    {
     "data": {
      "text/plain": [
       "3.1415926535"
      ]
     },
     "execution_count": 189,
     "metadata": {},
     "output_type": "execute_result"
    }
   ],
   "source": [
    "c.pi()"
   ]
  },
  {
   "cell_type": "code",
   "execution_count": 190,
   "id": "bored-patio",
   "metadata": {},
   "outputs": [
    {
     "data": {
      "text/plain": [
       "3.1415926535"
      ]
     },
     "execution_count": 190,
     "metadata": {},
     "output_type": "execute_result"
    }
   ],
   "source": [
    "Circle.pi()"
   ]
  },
  {
   "cell_type": "markdown",
   "id": "continent-clock",
   "metadata": {},
   "source": [
    "Espero que les haya resultado interesante el tema y que lo puedan aplicar en su proyecto."
   ]
  },
  {
   "cell_type": "markdown",
   "id": "deadly-investment",
   "metadata": {},
   "source": [
    "## Ejercicio\n",
    "\n",
    "Cree una clase Casa con atributo precio y defínalo como propiedad usando el decorador @property.\n",
    "\n",
    "1. Escriba un método getter que solo devuelva el valor de la propiedad.\n",
    "2. Escriba un setter que valide si el precio es flotante y mayor que cero. De no serlo debe imprimir un mensaje indicando que no es un valor válido.\n",
    "3. Escriba un deleter que elimine el atributo de instancia precio."
   ]
  },
  {
   "cell_type": "code",
   "execution_count": null,
   "id": "99008c0d",
   "metadata": {},
   "outputs": [],
   "source": []
  }
 ],
 "metadata": {
  "kernelspec": {
   "display_name": "Python 3 (ipykernel)",
   "language": "python",
   "name": "python3"
  },
  "language_info": {
   "codemirror_mode": {
    "name": "ipython",
    "version": 3
   },
   "file_extension": ".py",
   "mimetype": "text/x-python",
   "name": "python",
   "nbconvert_exporter": "python",
   "pygments_lexer": "ipython3",
   "version": "3.9.13"
  }
 },
 "nbformat": 4,
 "nbformat_minor": 5
}
