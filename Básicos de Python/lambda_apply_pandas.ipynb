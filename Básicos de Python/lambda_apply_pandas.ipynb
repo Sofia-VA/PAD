{
 "cells": [
  {
   "cell_type": "markdown",
   "id": "b532efc0",
   "metadata": {},
   "source": [
    "# Ejemplo aplicación lambda function, apply() y DataFrame\n",
    "## Programación para Analítica de Datos\n",
    "### Mtra.  Gisel Hernández Chávez\n",
    "\n",
    "Ver tutorial https://www.analyticsvidhya.com/blog/2021/10/lambda-function-a-better-understanding/"
   ]
  },
  {
   "attachments": {
    "image-3.png": {
     "image/png": "[encoded data removed]"
    }
   },
   "cell_type": "markdown",
   "id": "6d514247",
   "metadata": {},
   "source": [
    "![image-3.png](attachment:image-3.png)\n",
    "\n",
    "Python admite la creación de funciones anónimas en tiempo de ejecución (es decir, funciones que no están vinculadas a un nombre), utilizando una construcción llamada \"lambda\". \n",
    "Esto no es exactamente lo mismo que lambda en los lenguajes de programación funcionales, pero es un concepto muy poderoso que está bien integrado en Python y se usa a menudo junto con conceptos funcionales típicos como filter (), map () y reduce ().\n"
   ]
  },
  {
   "cell_type": "code",
   "execution_count": 1,
   "id": "918786c8",
   "metadata": {},
   "outputs": [
    {
     "name": "stdout",
     "output_type": "stream",
     "text": [
      "64\n"
     ]
    }
   ],
   "source": [
    "def f (x): \n",
    "    return x**2   # Función normal\n",
    " \n",
    "print (f(8))"
   ]
  },
  {
   "cell_type": "code",
   "execution_count": 2,
   "id": "f5378b8b",
   "metadata": {},
   "outputs": [
    {
     "name": "stdout",
     "output_type": "stream",
     "text": [
      "64\n"
     ]
    }
   ],
   "source": [
    "g = lambda x: x**2\n",
    "print (g(8))\n"
   ]
  },
  {
   "cell_type": "markdown",
   "id": "7447c2ec",
   "metadata": {},
   "source": [
    "## ¿Cuándo usar una función lambda?\n",
    "\n",
    "1. Si la necesitamos solo una vez\n",
    "2. Si la función es bastante simple (es decir, contiene solo una expresión, como en los ejemplos que siguen). En este caso es  más conveniente usar una construcción lambda para generar una función anónima (temporal) y pasarla a filter() inmediatamente. \n",
    "\n",
    "Esto crea un código muy compacto y legible.\n",
    "\n",
    "## ¿Cuándo NO usar una función lambda?\n",
    "\n",
    "1. Si podemos definir una función separada en otro lugar y luego usar el nombre de esa función como argumento para filtrar. Eso es lo mejor si vamos a usar esa función varias veces. \n",
    "2. Si la función es demasiado compleja para escribir en una sola línea. \n"
   ]
  },
  {
   "cell_type": "markdown",
   "id": "8466ba54",
   "metadata": {},
   "source": [
    "### Uso de lambda con filter()"
   ]
  },
  {
   "cell_type": "code",
   "execution_count": 3,
   "id": "db51d687",
   "metadata": {},
   "outputs": [
    {
     "name": "stdout",
     "output_type": "stream",
     "text": [
      "[18, 9, 24, 12, 27]\n"
     ]
    }
   ],
   "source": [
    "foo = [2, 18, 9, 22, 17, 24, 8, 12, 27]\n",
    "print (list(filter(lambda x: x % 3 == 0, foo))) # filtra a los divisibles por 3\n",
    "# Salida [18, 9, 24, 12, 27]"
   ]
  },
  {
   "cell_type": "markdown",
   "id": "483603ee",
   "metadata": {},
   "source": [
    "### Uso de lambda con map()"
   ]
  },
  {
   "cell_type": "code",
   "execution_count": 4,
   "id": "4363db60",
   "metadata": {},
   "outputs": [
    {
     "name": "stdout",
     "output_type": "stream",
     "text": [
      "[14, 46, 28, 54, 44, 58, 26, 34, 64]\n"
     ]
    }
   ],
   "source": [
    "print (list(map(lambda x: x * 2 + 10, foo))) # mapea  a todos los elementos de la lista con la función\n",
    "# Salida [14, 46, 28, 54, 44, 58, 26, 34, 64]"
   ]
  },
  {
   "cell_type": "markdown",
   "id": "1d960332",
   "metadata": {},
   "source": [
    "### Ejemplo que lista longitud de palabras y usa map()"
   ]
  },
  {
   "cell_type": "code",
   "execution_count": 5,
   "id": "8a1906a6",
   "metadata": {},
   "outputs": [
    {
     "ename": "SyntaxError",
     "evalue": "invalid syntax (437693139.py, line 1)",
     "output_type": "error",
     "traceback": [
      "\u001b[1;36m  File \u001b[1;32m\"C:\\Users\\ghernand\\AppData\\Local\\Temp\\ipykernel_16752\\437693139.py\"\u001b[1;36m, line \u001b[1;32m1\u001b[0m\n\u001b[1;33m    La ventaja del operador lambda se puede ver cuando se usa en combinación con la función map ().\u001b[0m\n\u001b[1;37m       ^\u001b[0m\n\u001b[1;31mSyntaxError\u001b[0m\u001b[1;31m:\u001b[0m invalid syntax\n"
     ]
    }
   ],
   "source": [
    "La ventaja del operador lambda se puede ver cuando se usa en combinación con la función map ().\n",
    "\n",
    "sentence = 'It is raining cats and dogs'\n",
    "words = sentence.split()\n",
    "print (words)\n",
    "# ['It', 'is', 'raining', 'cats', 'and', 'dogs'] A partir de Python 3 devuelve iterador\n",
    "\n",
    "lengths = map(lambda word: len(word), words)\n",
    "Print(lengths)\n",
    "# [2, 2, 7, 4, 3, 4]"
   ]
  },
  {
   "cell_type": "markdown",
   "id": "415c35a3",
   "metadata": {},
   "source": [
    "### Uso de lambda con reduce()\n",
    "\n",
    "+ reduce() se quitó de las funciones built-in en Python3; se importa la función de la biblioteca __functools__\n",
    "    + Aplica una función de dos argumentos acumulativamente a los elementos de una secuencia, de izquierda a derecha, para reducir la # secuencia a un solo valor.\n",
    "    \n",
    "reduce(function, sequence[, initial]) -> value\n",
    "\n",
    "Por ejemplo, \n",
    "\n",
    "    reduce(lambda x, y: x+y, [1, 2, 3, 4, 5]) \n",
    "    \n",
    "    Calcula ((((1+2)+3)+4)+5). \n",
    "    \n",
    "    Si initial estuviera presente, se colocaría antes de los elementos de la secuencia en el cálculo y sirve como valor predeterminado cuando la secuencia está vacía."
   ]
  },
  {
   "cell_type": "code",
   "execution_count": 6,
   "id": "6b0a6405",
   "metadata": {},
   "outputs": [
    {
     "data": {
      "text/plain": [
       "[2, 18, 9, 22, 17, 24, 8, 12, 27]"
      ]
     },
     "execution_count": 6,
     "metadata": {},
     "output_type": "execute_result"
    }
   ],
   "source": [
    "foo"
   ]
  },
  {
   "cell_type": "code",
   "execution_count": 7,
   "id": "242df827",
   "metadata": {},
   "outputs": [
    {
     "name": "stdout",
     "output_type": "stream",
     "text": [
      "139\n"
     ]
    }
   ],
   "source": [
    "import functools as ft  \n",
    "\n",
    "print (ft.reduce(lambda x, y: x + y, foo))\n",
    "# Salida 139"
   ]
  },
  {
   "cell_type": "code",
   "execution_count": 8,
   "id": "42a6147c",
   "metadata": {},
   "outputs": [
    {
     "data": {
      "text/plain": [
       "139"
      ]
     },
     "execution_count": 8,
     "metadata": {},
     "output_type": "execute_result"
    }
   ],
   "source": [
    "sum(foo)"
   ]
  },
  {
   "cell_type": "markdown",
   "id": "88156988",
   "metadata": {},
   "source": [
    "## Cómo usar if-elif-else en funciones lambda\n",
    "\n",
    "lambda <arguments> : <Return Value if condition is True> if <condition> else <Return Value if condition is False>\n"
   ]
  },
  {
   "cell_type": "code",
   "execution_count": 9,
   "id": "93a27685",
   "metadata": {},
   "outputs": [
    {
     "name": "stdout",
     "output_type": "stream",
     "text": [
      "False\n",
      "False\n",
      "True\n",
      "False\n"
     ]
    }
   ],
   "source": [
    "prueba = lambda x : True if (x > 10 and x < 20) else False\n",
    "Lista = [ 23, 10, 15,4]\n",
    "for i in Lista:\n",
    "    print(prueba(i))"
   ]
  },
  {
   "cell_type": "code",
   "execution_count": 10,
   "id": "4aecd7fc",
   "metadata": {},
   "outputs": [
    {
     "data": {
      "text/plain": [
       "function"
      ]
     },
     "execution_count": 10,
     "metadata": {},
     "output_type": "execute_result"
    }
   ],
   "source": [
    "type(prueba)"
   ]
  },
  {
   "cell_type": "markdown",
   "id": "86d73b51",
   "metadata": {},
   "source": [
    "## Función lambda condicional sin if-else\n",
    "\n",
    "+ Usar las palabras clave 'if' 'else' hace que la función sea fácil de entender, pero en lambda podemos evitar el uso de palabras clave 'if' y 'else' y aún lograr los mismos resultados. \n",
    "\n",
    "Por ejemplo, modifiquemos la función lambda creada anteriormente eliminando las palabras clave if else y también True False, es decir:\n"
   ]
  },
  {
   "cell_type": "code",
   "execution_count": 11,
   "id": "d6a2fcd2",
   "metadata": {},
   "outputs": [
    {
     "name": "stdout",
     "output_type": "stream",
     "text": [
      "False\n",
      "False\n",
      "True\n",
      "False\n"
     ]
    }
   ],
   "source": [
    "prueba = lambda x : x > 10 and x < 20\n",
    "Lista = [ 23, 10, 15,4]\n",
    "for i in Lista:\n",
    "    print(prueba(i))\n"
   ]
  },
  {
   "cell_type": "markdown",
   "id": "701e3ba7",
   "metadata": {},
   "source": [
    "## Ejemplo con anidamientos de if (if-elif-else)"
   ]
  },
  {
   "cell_type": "code",
   "execution_count": 20,
   "id": "3ccc98af",
   "metadata": {},
   "outputs": [
    {
     "data": {
      "text/plain": [
       "(44, 10, 33)"
      ]
     },
     "execution_count": 20,
     "metadata": {},
     "output_type": "execute_result"
    }
   ],
   "source": [
    "# IF valor dado < 10, entonces se multiplica por 2\n",
    "# else if (elif) 10 <= valor < 20, se multiplica por 3\n",
    "# else retornan el valor sin modificarlo\n",
    "converter = lambda x : x*2 if x < 10 else (x*3 if x < 20 else x)\n",
    "\n",
    "converter(44), converter(5), converter(11)"
   ]
  },
  {
   "cell_type": "markdown",
   "id": "67eba4c3",
   "metadata": {},
   "source": [
    "\n",
    "## Ejercicios sobre funciones lambda\n",
    "\n",
    "Escriba función lambda para:\n",
    "\n",
    "1. Criba de Eratóstenes\n",
    "2. Crear todas las combinaciones de lanzamiento de dos dados de (1,1) a (6,6).\n",
    "3. Crear tabla de conversión de Farenheit a Celcius en un rango de temperaturas."
   ]
  },
  {
   "cell_type": "code",
   "execution_count": 25,
   "id": "7a329926",
   "metadata": {},
   "outputs": [
    {
     "name": "stdout",
     "output_type": "stream",
     "text": [
      "[2, 3, 5, 7, 11, 13, 17, 19, 23, 29, 31, 37, 41, 43, 47]\n"
     ]
    }
   ],
   "source": [
    "import numpy as np\n",
    "# Criba de Eratóstenes\n",
    "n = 50\n",
    "nums = list(range(2, n)) #nums va de 2 a 49\n",
    "\n",
    "for i in range(2, int(np.sqrt(n))+1): # i va de 2 a 7 (raíz de 49)\n",
    "    nums = list(filter(lambda x: (x == i) or (x % i), nums))\n",
    "    \n",
    "print (list(nums))"
   ]
  },
  {
   "cell_type": "code",
   "execution_count": 31,
   "id": "e7bb810a",
   "metadata": {},
   "outputs": [
    {
     "name": "stdout",
     "output_type": "stream",
     "text": [
      "[2, 3, 5, 7, 11, 13, 17, 19, 23, 29, 31, 37, 41, 43, 47, 53, 59, 61, 67, 71, 73, 79, 83, 89, 97, 101, 103, 107, 109, 113, 127, 131, 137, 139, 149, 151, 157, 163, 167, 173, 179, 181, 191, 193, 197, 199, 211, 223, 227, 229, 233, 239, 241, 251, 257, 263, 269, 271, 277, 281, 283, 293, 307, 311, 313, 317, 331, 337, 347, 349, 353, 359, 367, 373, 379, 383, 389, 397, 401, 409, 419, 421, 431, 433, 439, 443, 449, 457, 461, 463, 467, 479, 487, 491, 499, 503, 509, 521, 523, 541, 547, 557, 563, 569, 571, 577, 587, 593, 599, 601, 607, 613, 617, 619, 631, 641, 643, 647, 653, 659, 661, 673, 677, 683, 691, 701, 709, 719, 727, 733, 739, 743, 751, 757, 761, 769, 773, 787, 797, 809, 811, 821, 823, 827, 829, 839, 853, 857, 859, 863, 877, 881, 883, 887, 907, 911, 919, 929, 937, 941, 947, 953, 967, 971, 977, 983, 991, 997, 1009, 1013, 1019, 1021, 1031, 1033, 1039, 1049, 1051, 1061, 1063, 1069, 1087, 1091, 1093, 1097, 1103, 1109, 1117, 1123, 1129, 1151, 1153, 1163, 1171, 1181, 1187, 1193, 1201, 1213, 1217, 1223, 1229, 1231, 1237, 1249, 1259, 1277, 1279, 1283, 1289, 1291, 1297, 1301, 1303, 1307, 1319, 1321, 1327, 1361, 1367, 1373, 1381, 1399, 1409, 1423, 1427, 1429, 1433, 1439, 1447, 1451, 1453, 1459, 1471, 1481, 1483, 1487, 1489, 1493, 1499, 1511, 1523, 1531, 1543, 1549, 1553, 1559, 1567, 1571, 1579, 1583, 1597, 1601, 1607, 1609, 1613, 1619, 1621, 1627, 1637, 1657, 1663, 1667, 1669, 1693, 1697, 1699, 1709, 1721, 1723, 1733, 1741, 1747, 1753, 1759, 1777, 1783, 1787, 1789, 1801, 1811, 1823, 1831, 1847, 1861, 1867, 1871, 1873, 1877, 1879, 1889, 1901, 1907, 1913, 1931, 1933, 1949, 1951, 1973, 1979, 1987, 1993, 1997, 1999, 2003, 2011, 2017, 2027, 2029, 2039, 2053, 2063, 2069, 2081, 2083, 2087, 2089, 2099, 2111, 2113, 2129, 2131, 2137, 2141, 2143, 2153, 2161, 2179, 2203, 2207, 2213, 2221, 2237, 2239, 2243, 2251, 2267, 2269, 2273, 2281, 2287, 2293, 2297, 2309, 2311, 2333, 2339, 2341, 2347, 2351, 2357, 2371, 2377, 2381, 2383, 2389, 2393, 2399, 2411, 2417, 2423, 2437, 2441, 2447, 2459, 2467, 2473, 2477, 2503, 2521, 2531, 2539, 2543, 2549, 2551, 2557, 2579, 2591, 2593, 2609, 2617, 2621, 2633, 2647, 2657, 2659, 2663, 2671, 2677, 2683, 2687, 2689, 2693, 2699, 2707, 2711, 2713, 2719, 2729, 2731, 2741, 2749, 2753, 2767, 2777, 2789, 2791, 2797, 2801, 2803, 2819, 2833, 2837, 2843, 2851, 2857, 2861, 2879, 2887, 2897, 2903, 2909, 2917, 2927, 2939, 2953, 2957, 2963, 2969, 2971, 2999, 3001, 3011, 3019, 3023, 3037, 3041, 3049, 3061, 3067, 3079, 3083, 3089, 3109, 3119, 3121, 3137, 3163, 3167, 3169, 3181, 3187, 3191, 3203, 3209, 3217, 3221, 3229, 3251, 3253, 3257, 3259, 3271, 3299, 3301, 3307, 3313, 3319, 3323, 3329, 3331, 3343, 3347, 3359, 3361, 3371, 3373, 3389, 3391, 3407, 3413, 3433, 3449, 3457, 3461, 3463, 3467, 3469, 3491, 3499, 3511, 3517, 3527, 3529, 3533, 3539, 3541, 3547, 3557, 3559, 3571, 3581, 3583, 3593, 3607, 3613, 3617, 3623, 3631, 3637, 3643, 3659, 3671, 3673, 3677, 3691, 3697, 3701, 3709, 3719, 3727, 3733, 3739, 3761, 3767, 3769, 3779, 3793, 3797, 3803, 3821, 3823, 3833, 3847, 3851, 3853, 3863, 3877, 3881, 3889, 3907, 3911, 3917, 3919, 3923, 3929, 3931, 3943, 3947, 3967, 3989, 4001, 4003, 4007, 4013, 4019, 4021, 4027, 4049, 4051, 4057, 4073, 4079, 4091, 4093, 4099, 4111, 4127, 4129, 4133, 4139, 4153, 4157, 4159, 4177, 4201, 4211, 4217, 4219, 4229, 4231, 4241, 4243, 4253, 4259, 4261, 4271, 4273, 4283, 4289, 4297, 4327, 4337, 4339, 4349, 4357, 4363, 4373, 4391, 4397, 4409, 4421, 4423, 4441, 4447, 4451, 4457, 4463, 4481, 4483, 4493, 4507, 4513, 4517, 4519, 4523, 4547, 4549, 4561, 4567, 4583, 4591, 4597, 4603, 4621, 4637, 4639, 4643, 4649, 4651, 4657, 4663, 4673, 4679, 4691, 4703, 4721, 4723, 4729, 4733, 4751, 4759, 4783, 4787, 4789, 4793, 4799, 4801, 4813, 4817, 4831, 4861, 4871, 4877, 4889, 4903, 4909, 4919, 4931, 4933, 4937, 4943, 4951, 4957, 4967, 4969, 4973, 4987, 4993, 4999]\n",
      "0:00:00.005289 , -5289500\n"
     ]
    }
   ],
   "source": [
    "from datetime import datetime\n",
    "import time\n",
    "from math import ceil\n",
    "n = 5000\n",
    "\n",
    "inicio =datetime.now()\n",
    "i_c = time.time_ns()\n",
    "nums = list(range(2, n)) #nums va de 2 a 49\n",
    "for i in range(2, ceil(n**0.5)): # i va de 2 a raíz cuadrada de n)\n",
    "    nums = list(filter(lambda x: (x == i) or (x % i), nums))\n",
    "print (list(nums))\n",
    "\n",
    "tiempo_criba = datetime.now() - inicio\n",
    "t_c = i_c - time.time_ns()\n",
    "#time.time_ns() / (10 ** 9) # convert to floating-point seconds\n",
    "print(tiempo_criba, ',',t_c)"
   ]
  },
  {
   "cell_type": "code",
   "execution_count": 32,
   "id": "73f753d2",
   "metadata": {},
   "outputs": [
    {
     "data": {
      "text/html": [
       "<div>\n",
       "<style scoped>\n",
       "    .dataframe tbody tr th:only-of-type {\n",
       "        vertical-align: middle;\n",
       "    }\n",
       "\n",
       "    .dataframe tbody tr th {\n",
       "        vertical-align: top;\n",
       "    }\n",
       "\n",
       "    .dataframe thead th {\n",
       "        text-align: right;\n",
       "    }\n",
       "</style>\n",
       "<table border=\"1\" class=\"dataframe\">\n",
       "  <thead>\n",
       "    <tr style=\"text-align: right;\">\n",
       "      <th></th>\n",
       "      <th>S.No</th>\n",
       "      <th>name</th>\n",
       "      <th>expert</th>\n",
       "      <th>income</th>\n",
       "      <th>place</th>\n",
       "      <th>Experience</th>\n",
       "    </tr>\n",
       "  </thead>\n",
       "  <tbody>\n",
       "    <tr>\n",
       "      <th>0</th>\n",
       "      <td>1</td>\n",
       "      <td>Anand</td>\n",
       "      <td>ML</td>\n",
       "      <td>45000</td>\n",
       "      <td>Cheyyar</td>\n",
       "      <td>3</td>\n",
       "    </tr>\n",
       "    <tr>\n",
       "      <th>1</th>\n",
       "      <td>2</td>\n",
       "      <td>Ramesh</td>\n",
       "      <td>DS</td>\n",
       "      <td>50000</td>\n",
       "      <td>Chennai</td>\n",
       "      <td>2</td>\n",
       "    </tr>\n",
       "    <tr>\n",
       "      <th>2</th>\n",
       "      <td>3</td>\n",
       "      <td>Surya</td>\n",
       "      <td>Network</td>\n",
       "      <td>75000</td>\n",
       "      <td>Bangalore</td>\n",
       "      <td>10</td>\n",
       "    </tr>\n",
       "    <tr>\n",
       "      <th>3</th>\n",
       "      <td>4</td>\n",
       "      <td>Dinesh</td>\n",
       "      <td>Banking</td>\n",
       "      <td>80000</td>\n",
       "      <td>Malaysia</td>\n",
       "      <td>9</td>\n",
       "    </tr>\n",
       "    <tr>\n",
       "      <th>4</th>\n",
       "      <td>5</td>\n",
       "      <td>Dhamu</td>\n",
       "      <td>Electronics</td>\n",
       "      <td>85000</td>\n",
       "      <td>Cheannai</td>\n",
       "      <td>5</td>\n",
       "    </tr>\n",
       "  </tbody>\n",
       "</table>\n",
       "</div>"
      ],
      "text/plain": [
       "   S.No    name       expert  income      place  Experience\n",
       "0     1   Anand           ML   45000    Cheyyar           3\n",
       "1     2  Ramesh           DS   50000    Chennai           2\n",
       "2     3   Surya      Network   75000  Bangalore          10\n",
       "3     4  Dinesh      Banking   80000   Malaysia           9\n",
       "4     5   Dhamu  Electronics   85000   Cheannai           5"
      ]
     },
     "execution_count": 32,
     "metadata": {},
     "output_type": "execute_result"
    }
   ],
   "source": [
    "#importing libraries\n",
    "import pandas as pd\n",
    "#creating dataframe\n",
    "data = pd.DataFrame({\n",
    "    'S.No':[1,2,3,4,5],\n",
    "    'name':['Anand','Ramesh','Surya','Dinesh','Dhamu'],\n",
    "    'expert':['ML','DS','Network','Banking','Electronics'],\n",
    "    'income':[45000,50000,75000,80000,85000],\n",
    "    'place':['Cheyyar','Chennai','Bangalore','Malaysia','Cheannai'],\n",
    "    'Experience':[3,2,10,9,5]\n",
    "})\n",
    "data"
   ]
  },
  {
   "cell_type": "code",
   "execution_count": 33,
   "id": "1f918efa",
   "metadata": {},
   "outputs": [
    {
     "data": {
      "text/html": [
       "<div>\n",
       "<style scoped>\n",
       "    .dataframe tbody tr th:only-of-type {\n",
       "        vertical-align: middle;\n",
       "    }\n",
       "\n",
       "    .dataframe tbody tr th {\n",
       "        vertical-align: top;\n",
       "    }\n",
       "\n",
       "    .dataframe thead th {\n",
       "        text-align: right;\n",
       "    }\n",
       "</style>\n",
       "<table border=\"1\" class=\"dataframe\">\n",
       "  <thead>\n",
       "    <tr style=\"text-align: right;\">\n",
       "      <th></th>\n",
       "      <th>S.No</th>\n",
       "      <th>name</th>\n",
       "      <th>expert</th>\n",
       "      <th>income</th>\n",
       "      <th>place</th>\n",
       "      <th>Experience</th>\n",
       "    </tr>\n",
       "  </thead>\n",
       "  <tbody>\n",
       "    <tr>\n",
       "      <th>0</th>\n",
       "      <td>1</td>\n",
       "      <td>Anand</td>\n",
       "      <td>ML</td>\n",
       "      <td>50500</td>\n",
       "      <td>Cheyyar</td>\n",
       "      <td>3</td>\n",
       "    </tr>\n",
       "    <tr>\n",
       "      <th>1</th>\n",
       "      <td>2</td>\n",
       "      <td>Ramesh</td>\n",
       "      <td>DS</td>\n",
       "      <td>55500</td>\n",
       "      <td>Chennai</td>\n",
       "      <td>2</td>\n",
       "    </tr>\n",
       "    <tr>\n",
       "      <th>2</th>\n",
       "      <td>3</td>\n",
       "      <td>Surya</td>\n",
       "      <td>Network</td>\n",
       "      <td>80500</td>\n",
       "      <td>Bangalore</td>\n",
       "      <td>10</td>\n",
       "    </tr>\n",
       "    <tr>\n",
       "      <th>3</th>\n",
       "      <td>4</td>\n",
       "      <td>Dinesh</td>\n",
       "      <td>Banking</td>\n",
       "      <td>85500</td>\n",
       "      <td>Malaysia</td>\n",
       "      <td>9</td>\n",
       "    </tr>\n",
       "    <tr>\n",
       "      <th>4</th>\n",
       "      <td>5</td>\n",
       "      <td>Dhamu</td>\n",
       "      <td>Electronics</td>\n",
       "      <td>90500</td>\n",
       "      <td>Cheannai</td>\n",
       "      <td>5</td>\n",
       "    </tr>\n",
       "  </tbody>\n",
       "</table>\n",
       "</div>"
      ],
      "text/plain": [
       "   S.No    name       expert  income      place  Experience\n",
       "0     1   Anand           ML   50500    Cheyyar           3\n",
       "1     2  Ramesh           DS   55500    Chennai           2\n",
       "2     3   Surya      Network   80500  Bangalore          10\n",
       "3     4  Dinesh      Banking   85500   Malaysia           9\n",
       "4     5   Dhamu  Electronics   90500   Cheannai           5"
      ]
     },
     "execution_count": 33,
     "metadata": {},
     "output_type": "execute_result"
    }
   ],
   "source": [
    "data['income'] = data.apply(lambda i: i['income']+5500, axis=1)\n",
    "data"
   ]
  },
  {
   "cell_type": "code",
   "execution_count": 34,
   "id": "1a6c076a",
   "metadata": {},
   "outputs": [
    {
     "data": {
      "text/plain": [
       "[10, 9]"
      ]
     },
     "execution_count": 34,
     "metadata": {},
     "output_type": "execute_result"
    }
   ],
   "source": [
    "#filter function for segregation from the dataframe\n",
    "list(filter(lambda i: i>5, data['Experience']))\n",
    "[10, 9]"
   ]
  },
  {
   "cell_type": "code",
   "execution_count": 35,
   "id": "27d1d54a",
   "metadata": {},
   "outputs": [
    {
     "data": {
      "text/html": [
       "<div>\n",
       "<style scoped>\n",
       "    .dataframe tbody tr th:only-of-type {\n",
       "        vertical-align: middle;\n",
       "    }\n",
       "\n",
       "    .dataframe tbody tr th {\n",
       "        vertical-align: top;\n",
       "    }\n",
       "\n",
       "    .dataframe thead th {\n",
       "        text-align: right;\n",
       "    }\n",
       "</style>\n",
       "<table border=\"1\" class=\"dataframe\">\n",
       "  <thead>\n",
       "    <tr style=\"text-align: right;\">\n",
       "      <th></th>\n",
       "      <th>S.No</th>\n",
       "      <th>name</th>\n",
       "      <th>expert</th>\n",
       "      <th>income</th>\n",
       "      <th>place</th>\n",
       "      <th>Experience</th>\n",
       "    </tr>\n",
       "  </thead>\n",
       "  <tbody>\n",
       "    <tr>\n",
       "      <th>0</th>\n",
       "      <td>1</td>\n",
       "      <td>Anand</td>\n",
       "      <td>ML</td>\n",
       "      <td>58075</td>\n",
       "      <td>Cheyyar</td>\n",
       "      <td>3</td>\n",
       "    </tr>\n",
       "    <tr>\n",
       "      <th>1</th>\n",
       "      <td>2</td>\n",
       "      <td>Ramesh</td>\n",
       "      <td>DS</td>\n",
       "      <td>63825</td>\n",
       "      <td>Chennai</td>\n",
       "      <td>2</td>\n",
       "    </tr>\n",
       "    <tr>\n",
       "      <th>2</th>\n",
       "      <td>3</td>\n",
       "      <td>Surya</td>\n",
       "      <td>Network</td>\n",
       "      <td>92575</td>\n",
       "      <td>Bangalore</td>\n",
       "      <td>10</td>\n",
       "    </tr>\n",
       "    <tr>\n",
       "      <th>3</th>\n",
       "      <td>4</td>\n",
       "      <td>Dinesh</td>\n",
       "      <td>Banking</td>\n",
       "      <td>98325</td>\n",
       "      <td>Malaysia</td>\n",
       "      <td>9</td>\n",
       "    </tr>\n",
       "    <tr>\n",
       "      <th>4</th>\n",
       "      <td>5</td>\n",
       "      <td>Dhamu</td>\n",
       "      <td>Electronics</td>\n",
       "      <td>104075</td>\n",
       "      <td>Cheannai</td>\n",
       "      <td>5</td>\n",
       "    </tr>\n",
       "  </tbody>\n",
       "</table>\n",
       "</div>"
      ],
      "text/plain": [
       "   S.No    name       expert  income      place  Experience\n",
       "0     1   Anand           ML   58075    Cheyyar           3\n",
       "1     2  Ramesh           DS   63825    Chennai           2\n",
       "2     3   Surya      Network   92575  Bangalore          10\n",
       "3     4  Dinesh      Banking   98325   Malaysia           9\n",
       "4     5   Dhamu  Electronics  104075   Cheannai           5"
      ]
     },
     "execution_count": 35,
     "metadata": {},
     "output_type": "execute_result"
    }
   ],
   "source": [
    "#map() function\n",
    "data['income']=list(map(lambda i: int(i+i*0.15),data['income']))\n",
    "data"
   ]
  },
  {
   "cell_type": "code",
   "execution_count": 36,
   "id": "c4294abc",
   "metadata": {},
   "outputs": [
    {
     "data": {
      "text/plain": [
       "479404"
      ]
     },
     "execution_count": 36,
     "metadata": {},
     "output_type": "execute_result"
    }
   ],
   "source": [
    "functools.reduce(lambda a,b: a+b,data['income'])\n",
    "479404"
   ]
  },
  {
   "cell_type": "code",
   "execution_count": 37,
   "id": "dd95c36b",
   "metadata": {},
   "outputs": [
    {
     "data": {
      "text/html": [
       "<div>\n",
       "<style scoped>\n",
       "    .dataframe tbody tr th:only-of-type {\n",
       "        vertical-align: middle;\n",
       "    }\n",
       "\n",
       "    .dataframe tbody tr th {\n",
       "        vertical-align: top;\n",
       "    }\n",
       "\n",
       "    .dataframe thead th {\n",
       "        text-align: right;\n",
       "    }\n",
       "</style>\n",
       "<table border=\"1\" class=\"dataframe\">\n",
       "  <thead>\n",
       "    <tr style=\"text-align: right;\">\n",
       "      <th></th>\n",
       "      <th>S.No</th>\n",
       "      <th>name</th>\n",
       "      <th>expert</th>\n",
       "      <th>income</th>\n",
       "      <th>place</th>\n",
       "      <th>Experience</th>\n",
       "      <th>category</th>\n",
       "    </tr>\n",
       "  </thead>\n",
       "  <tbody>\n",
       "    <tr>\n",
       "      <th>0</th>\n",
       "      <td>1</td>\n",
       "      <td>Anand</td>\n",
       "      <td>ML</td>\n",
       "      <td>58075</td>\n",
       "      <td>Cheyyar</td>\n",
       "      <td>3</td>\n",
       "      <td>Begineer</td>\n",
       "    </tr>\n",
       "    <tr>\n",
       "      <th>1</th>\n",
       "      <td>2</td>\n",
       "      <td>Ramesh</td>\n",
       "      <td>DS</td>\n",
       "      <td>63825</td>\n",
       "      <td>Chennai</td>\n",
       "      <td>2</td>\n",
       "      <td>Begineer</td>\n",
       "    </tr>\n",
       "    <tr>\n",
       "      <th>2</th>\n",
       "      <td>3</td>\n",
       "      <td>Surya</td>\n",
       "      <td>Network</td>\n",
       "      <td>92575</td>\n",
       "      <td>Bangalore</td>\n",
       "      <td>10</td>\n",
       "      <td>Expert level</td>\n",
       "    </tr>\n",
       "    <tr>\n",
       "      <th>3</th>\n",
       "      <td>4</td>\n",
       "      <td>Dinesh</td>\n",
       "      <td>Banking</td>\n",
       "      <td>98325</td>\n",
       "      <td>Malaysia</td>\n",
       "      <td>9</td>\n",
       "      <td>Expert level</td>\n",
       "    </tr>\n",
       "    <tr>\n",
       "      <th>4</th>\n",
       "      <td>5</td>\n",
       "      <td>Dhamu</td>\n",
       "      <td>Electronics</td>\n",
       "      <td>104075</td>\n",
       "      <td>Cheannai</td>\n",
       "      <td>5</td>\n",
       "      <td>Expert level</td>\n",
       "    </tr>\n",
       "  </tbody>\n",
       "</table>\n",
       "</div>"
      ],
      "text/plain": [
       "   S.No    name       expert  income      place  Experience      category\n",
       "0     1   Anand           ML   58075    Cheyyar           3      Begineer\n",
       "1     2  Ramesh           DS   63825    Chennai           2      Begineer\n",
       "2     3   Surya      Network   92575  Bangalore          10  Expert level\n",
       "3     4  Dinesh      Banking   98325   Malaysia           9  Expert level\n",
       "4     5   Dhamu  Electronics  104075   Cheannai           5  Expert level"
      ]
     },
     "execution_count": 37,
     "metadata": {},
     "output_type": "execute_result"
    }
   ],
   "source": [
    "data['category']=data['Experience'].apply(lambda x: 'Expert level' if\n",
    "  x>=5 else 'Begineer')\n",
    "data"
   ]
  },
  {
   "cell_type": "code",
   "execution_count": 38,
   "id": "e224e442",
   "metadata": {},
   "outputs": [
    {
     "name": "stdout",
     "output_type": "stream",
     "text": [
      "12\n"
     ]
    }
   ],
   "source": [
    "#lambda in user defined \n",
    "def ads(x):\n",
    "    return(lambda y:x+y)\n",
    "\n",
    "a = ads(4)\n",
    "print(a(8))"
   ]
  },
  {
   "cell_type": "markdown",
   "id": "68930675",
   "metadata": {},
   "source": [
    "## Ejemplo de aplicación transformando formato de FechaHora"
   ]
  },
  {
   "cell_type": "code",
   "execution_count": 44,
   "id": "f4b787e8",
   "metadata": {},
   "outputs": [
    {
     "data": {
      "text/html": [
       "<div>\n",
       "<style scoped>\n",
       "    .dataframe tbody tr th:only-of-type {\n",
       "        vertical-align: middle;\n",
       "    }\n",
       "\n",
       "    .dataframe tbody tr th {\n",
       "        vertical-align: top;\n",
       "    }\n",
       "\n",
       "    .dataframe thead th {\n",
       "        text-align: right;\n",
       "    }\n",
       "</style>\n",
       "<table border=\"1\" class=\"dataframe\">\n",
       "  <thead>\n",
       "    <tr style=\"text-align: right;\">\n",
       "      <th></th>\n",
       "      <th>Alfa</th>\n",
       "      <th>Bravo</th>\n",
       "      <th>Datetime</th>\n",
       "    </tr>\n",
       "  </thead>\n",
       "  <tbody>\n",
       "    <tr>\n",
       "      <th>A</th>\n",
       "      <td>1</td>\n",
       "      <td>4</td>\n",
       "      <td>03/09/2023, 08:38:25</td>\n",
       "    </tr>\n",
       "    <tr>\n",
       "      <th>B</th>\n",
       "      <td>2</td>\n",
       "      <td>5</td>\n",
       "      <td>03/08/2023, 08:38:25</td>\n",
       "    </tr>\n",
       "    <tr>\n",
       "      <th>C</th>\n",
       "      <td>3</td>\n",
       "      <td>6</td>\n",
       "      <td>03/07/2023, 08:38:25</td>\n",
       "    </tr>\n",
       "  </tbody>\n",
       "</table>\n",
       "</div>"
      ],
      "text/plain": [
       "  Alfa Bravo              Datetime\n",
       "A    1     4  03/09/2023, 08:38:25\n",
       "B    2     5  03/08/2023, 08:38:25\n",
       "C    3     6  03/07/2023, 08:38:25"
      ]
     },
     "execution_count": 44,
     "metadata": {},
     "output_type": "execute_result"
    }
   ],
   "source": [
    "from datetime import timedelta\n",
    "df = pd.DataFrame.from_dict(\n",
    "    {'Alfa': [1, 2, 3], \n",
    "     'Bravo': [4, 5, 6], \n",
    "     'Datetime': [datetime.strftime(datetime.now()-timedelta(days=_),\n",
    "                                    \"%m/%d/%Y, %H:%M:%S\") for _ in range(3)]}, \n",
    "    orient='index', \n",
    "    columns=['A', 'B', 'C']).T  # transpuesta\n",
    "\n",
    "df"
   ]
  },
  {
   "cell_type": "code",
   "execution_count": 45,
   "id": "b4256219",
   "metadata": {},
   "outputs": [
    {
     "name": "stdout",
     "output_type": "stream",
     "text": [
      "<class 'pandas.core.frame.DataFrame'>\n",
      "Index: 3 entries, A to C\n",
      "Data columns (total 3 columns):\n",
      " #   Column    Non-Null Count  Dtype \n",
      "---  ------    --------------  ----- \n",
      " 0   Alfa      3 non-null      object\n",
      " 1   Bravo     3 non-null      object\n",
      " 2   Datetime  3 non-null      object\n",
      "dtypes: object(3)\n",
      "memory usage: 96.0+ bytes\n"
     ]
    }
   ],
   "source": [
    "df.info()"
   ]
  },
  {
   "cell_type": "code",
   "execution_count": 46,
   "id": "3aa59213",
   "metadata": {},
   "outputs": [],
   "source": [
    "#datetime.strptime?"
   ]
  },
  {
   "cell_type": "code",
   "execution_count": 48,
   "id": "09d039ae",
   "metadata": {},
   "outputs": [
    {
     "data": {
      "text/html": [
       "<div>\n",
       "<style scoped>\n",
       "    .dataframe tbody tr th:only-of-type {\n",
       "        vertical-align: middle;\n",
       "    }\n",
       "\n",
       "    .dataframe tbody tr th {\n",
       "        vertical-align: top;\n",
       "    }\n",
       "\n",
       "    .dataframe thead th {\n",
       "        text-align: right;\n",
       "    }\n",
       "</style>\n",
       "<table border=\"1\" class=\"dataframe\">\n",
       "  <thead>\n",
       "    <tr style=\"text-align: right;\">\n",
       "      <th></th>\n",
       "      <th>Alfa</th>\n",
       "      <th>Bravo</th>\n",
       "      <th>Datetime</th>\n",
       "    </tr>\n",
       "  </thead>\n",
       "  <tbody>\n",
       "    <tr>\n",
       "      <th>A</th>\n",
       "      <td>1</td>\n",
       "      <td>4</td>\n",
       "      <td>2023-03-09 08:38:25</td>\n",
       "    </tr>\n",
       "    <tr>\n",
       "      <th>B</th>\n",
       "      <td>2</td>\n",
       "      <td>5</td>\n",
       "      <td>2023-03-08 08:38:25</td>\n",
       "    </tr>\n",
       "    <tr>\n",
       "      <th>C</th>\n",
       "      <td>3</td>\n",
       "      <td>6</td>\n",
       "      <td>2023-03-07 08:38:25</td>\n",
       "    </tr>\n",
       "  </tbody>\n",
       "</table>\n",
       "</div>"
      ],
      "text/plain": [
       "  Alfa Bravo            Datetime\n",
       "A    1     4 2023-03-09 08:38:25\n",
       "B    2     5 2023-03-08 08:38:25\n",
       "C    3     6 2023-03-07 08:38:25"
      ]
     },
     "execution_count": 48,
     "metadata": {},
     "output_type": "execute_result"
    }
   ],
   "source": [
    "df['Datetime'] = df['Datetime'].apply(lambda _: datetime.strptime(_,\"%m/%d/%Y, %H:%M:%S\"))\n",
    "           \n",
    "df"
   ]
  },
  {
   "cell_type": "code",
   "execution_count": 49,
   "id": "119a6cb0",
   "metadata": {},
   "outputs": [
    {
     "name": "stdout",
     "output_type": "stream",
     "text": [
      "<class 'pandas.core.frame.DataFrame'>\n",
      "Index: 3 entries, A to C\n",
      "Data columns (total 3 columns):\n",
      " #   Column    Non-Null Count  Dtype         \n",
      "---  ------    --------------  -----         \n",
      " 0   Alfa      3 non-null      object        \n",
      " 1   Bravo     3 non-null      object        \n",
      " 2   Datetime  3 non-null      datetime64[ns]\n",
      "dtypes: datetime64[ns](1), object(2)\n",
      "memory usage: 96.0+ bytes\n"
     ]
    }
   ],
   "source": [
    "df.info()"
   ]
  },
  {
   "cell_type": "code",
   "execution_count": null,
   "id": "5554b494",
   "metadata": {},
   "outputs": [],
   "source": []
  }
 ],
 "metadata": {
  "kernelspec": {
   "display_name": "Python 3 (ipykernel)",
   "language": "python",
   "name": "python3"
  },
  "language_info": {
   "codemirror_mode": {
    "name": "ipython",
    "version": 3
   },
   "file_extension": ".py",
   "mimetype": "text/x-python",
   "name": "python",
   "nbconvert_exporter": "python",
   "pygments_lexer": "ipython3",
   "version": "3.9.16"
  }
 },
 "nbformat": 4,
 "nbformat_minor": 5
}
