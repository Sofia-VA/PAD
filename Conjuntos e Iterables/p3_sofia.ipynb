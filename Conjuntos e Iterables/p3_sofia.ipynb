{
 "cells": [
  {
   "cell_type": "markdown",
   "metadata": {},
   "source": [
    "> # Práctica 3\n",
    "> ##### &nbsp;&nbsp;&nbsp;&nbsp; Listas, tuplas y conjuntos\n",
    "> - **Fecha**: 27/08/2023  |  ITESO  \n",
    "> - **Materia**: Programación para el Análisis de Datos\n",
    "> - **Alumno**: Sofía Vargas Aceves is77375  \n",
    ">  <br>"
   ]
  },
  {
   "cell_type": "markdown",
   "metadata": {},
   "source": [
    "## Tuplas"
   ]
  },
  {
   "cell_type": "markdown",
   "metadata": {},
   "source": [
    "> **Instrucciones:**  \n",
    "> Ver tutorial https://www.digitalocean.com/community/tutorials/understanding-tuples-in-python-3"
   ]
  },
  {
   "cell_type": "markdown",
   "metadata": {},
   "source": [
    "#### 1. Medidas de círculo\n",
    "> Escriba una función que devuelva una tupla con el área y el perímetro (circunferencia) de un círculo. La función recibe como parámetro el diámetro del círculo."
   ]
  },
  {
   "cell_type": "markdown",
   "metadata": {},
   "source": [
    "#### 2. Medidas estadísticas\n",
    "> Escriba un código en Python que, dada la siguiente tupla, imprima en una sola línea su longitud, el valor mínimo, el máximo, la media, la desviación estándar, el primer cuartil y tercer cuartil. \n",
    "> * Puede convertir la tupla a un array de numpy y usar las funciones estadísticas de numpy. \n",
    "> * Otra opción sencilla es emplear las funciones estadísticas de numpy."
   ]
  },
  {
   "cell_type": "code",
   "execution_count": 1,
   "metadata": {},
   "outputs": [],
   "source": [
    "more_numbers = (11.13, 34.87, 95.59, 82.49, 42.73, 11.12, 95.57)"
   ]
  },
  {
   "cell_type": "markdown",
   "metadata": {},
   "source": [
    "> Grafique un diagrama de cajas y bigotes con esos valores usando la biblioteca matplotlib"
   ]
  },
  {
   "cell_type": "markdown",
   "metadata": {},
   "source": [
    "#### 3. Carrera y expediente\n",
    "> Escriba una función en Python que capture el nombre de una carrera (dos caracteres) y después el expediente (6 dígitos) de cada alumno, creando tuplas (carrera, expte). Cada tupla se adicionará a la lista A.  Los caracteres de las carreras son:\n",
    "> > ie: Electrónica  \n",
    "> > cd: Ciencia de Datos  \n",
    "> > in: Nanotecnología  \n",
    "> > is: Sistemas  \n",
    "> > ib: Biotecnología  \n",
    "> > if: Financiera  \n",
    "> * La primera función devuelve la lista de tuplas."
   ]
  },
  {
   "cell_type": "markdown",
   "metadata": {},
   "source": [
    "> Escriba otra función a la que se le pase una lista de tuplas  en la que, si no hay nadie de is, elimine a los de cd y devuelva la tupla resultante. Llame a esta función con la lista de tuplas A creada."
   ]
  },
  {
   "cell_type": "markdown",
   "metadata": {},
   "source": [
    "#### 4. Nombre de mascota\n",
    "> Escriba código Python que cree una nueva tupla, a partir de la siguiente tupla M, cambiando el nombre de la mascota, usando el operador : de slicing y usando concatenación."
   ]
  },
  {
   "cell_type": "code",
   "execution_count": 2,
   "metadata": {},
   "outputs": [],
   "source": [
    "M=('Filis','perro',5,'10-01-17')"
   ]
  },
  {
   "cell_type": "markdown",
   "metadata": {},
   "source": [
    "#### 5. Adición a la tupla\n",
    "\n",
    "> Recordemos que las tuplas son diferentes de las listas porque son inmutables: no se pueden modificar. Esto significa que no se pueden agregar o quitar elementos de las tuplas, y los elementos no se pueden reemplazar dentro de las tuplas. Sin embargo, puede concatenar 2 o más tuplas para formar una nueva tupla. \n",
    "> * Escriba una función en Python a la que se le pase una tupla y cualquier cantidad de elementos para adicionarle y devuelva la nueva tupla. Tip: use parámetros flexibles de tipo * args en la función para permitir el paso de cualquier cantidad de argumentos, además de la tupla."
   ]
  },
  {
   "cell_type": "markdown",
   "metadata": {},
   "source": [
    "## Listas y Conjuntos"
   ]
  },
  {
   "cell_type": "markdown",
   "metadata": {},
   "source": []
  }
 ],
 "metadata": {
  "kernelspec": {
   "display_name": "DeepEnv",
   "language": "python",
   "name": "python3"
  },
  "language_info": {
   "codemirror_mode": {
    "name": "ipython",
    "version": 3
   },
   "file_extension": ".py",
   "mimetype": "text/x-python",
   "name": "python",
   "nbconvert_exporter": "python",
   "pygments_lexer": "ipython3",
   "version": "3.8.12"
  }
 },
 "nbformat": 4,
 "nbformat_minor": 2
}
