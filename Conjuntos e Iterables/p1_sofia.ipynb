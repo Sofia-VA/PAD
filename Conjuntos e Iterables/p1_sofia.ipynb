{
 "cells": [
  {
   "cell_type": "markdown",
   "metadata": {},
   "source": [
    "> # Práctica 1\n",
    "> ##### &nbsp;&nbsp;&nbsp;&nbsp; Copia profunda y superficial de listas\n",
    "> - **Fecha**: 22/08/2023  |  ITESO  \n",
    "> - **Materia**: Programación para el Análisis de Datos\n",
    "> - **Alumno**: Sofía Vargas Aceves is77375  \n",
    ">  <br>\n",
    "\n",
    "> **Instrucciones:**  \n",
    "> Escriba un programa de Python para crear una copia profunda de una lista de listas. Usar biblioteca copy.  \n",
    "> Realice inserciones, modificaciones, eliminaciones que demuestren lo que ocurre"
   ]
  },
  {
   "cell_type": "markdown",
   "metadata": {},
   "source": [
    "### Librerías"
   ]
  },
  {
   "cell_type": "code",
   "execution_count": 153,
   "metadata": {},
   "outputs": [],
   "source": [
    "# Para visualizar más de una salida de una celda\n",
    "from IPython.core.interactiveshell import InteractiveShell\n",
    "InteractiveShell.ast_node_interactivity = \"all\""
   ]
  },
  {
   "cell_type": "code",
   "execution_count": 154,
   "metadata": {},
   "outputs": [],
   "source": [
    "# Para representar datos en una tabla\n",
    "import pandas as pd\n",
    "import numpy as np"
   ]
  },
  {
   "cell_type": "code",
   "execution_count": 155,
   "metadata": {},
   "outputs": [],
   "source": [
    "# Para obtener las funciones de deep y shallow copy\n",
    "import copy"
   ]
  },
  {
   "cell_type": "markdown",
   "metadata": {},
   "source": [
    "### Creación de listas\n",
    "Primero se crea la lista original my_list, seguida de dos copias: la primera profunda y la segunda shallow."
   ]
  },
  {
   "cell_type": "code",
   "execution_count": 156,
   "metadata": {},
   "outputs": [
    {
     "data": {
      "text/plain": [
       "[2, 3, [100, 200, 300, {'data': 2}], {11, 22}, 5, 8]"
      ]
     },
     "execution_count": 156,
     "metadata": {},
     "output_type": "execute_result"
    }
   ],
   "source": [
    "my_list = list([2,3,[100,200,300,{\"data\":2}],{11,22},5,8])\n",
    "my_list"
   ]
  },
  {
   "cell_type": "code",
   "execution_count": 157,
   "metadata": {},
   "outputs": [
    {
     "data": {
      "text/plain": [
       "[2, 3, [100, 200, 300, {'data': 2}], {11, 22}, 5, 8]"
      ]
     },
     "execution_count": 157,
     "metadata": {},
     "output_type": "execute_result"
    }
   ],
   "source": [
    "deep_copy = copy.deepcopy(my_list)\n",
    "deep_copy"
   ]
  },
  {
   "cell_type": "code",
   "execution_count": 158,
   "metadata": {},
   "outputs": [
    {
     "data": {
      "text/plain": [
       "[2, 3, [100, 200, 300, {'data': 2}], {11, 22}, 5, 8]"
      ]
     },
     "execution_count": 158,
     "metadata": {},
     "output_type": "execute_result"
    }
   ],
   "source": [
    "shallow_copy = copy.copy(my_list)\n",
    "shallow_copy"
   ]
  },
  {
   "cell_type": "markdown",
   "metadata": {},
   "source": [
    "### Modificación de lista"
   ]
  },
  {
   "cell_type": "markdown",
   "metadata": {},
   "source": [
    "Se modifica un elemento desde la lista original, se puede observar que todas las listas tienen diferentes IDs y no hay ningún efecto ni en la deep copy ni en la shallow copy."
   ]
  },
  {
   "cell_type": "code",
   "execution_count": 159,
   "metadata": {},
   "outputs": [],
   "source": [
    "my_list[0]= 6\n",
    "my_list[1] = {'data2': 'A'}\n",
    "my_list[4] += 2 \n",
    "my_list[5] -= 8"
   ]
  },
  {
   "cell_type": "code",
   "execution_count": 160,
   "metadata": {},
   "outputs": [
    {
     "data": {
      "text/html": [
       "<style type=\"text/css\">\n",
       "</style>\n",
       "<table id=\"T_d2973_\">\n",
       "  <caption>Comparación de listas</caption>\n",
       "  <thead>\n",
       "    <tr>\n",
       "      <th class=\"blank level0\" >&nbsp;</th>\n",
       "      <th class=\"col_heading level0 col0\" >Data</th>\n",
       "      <th class=\"col_heading level0 col1\" >IDs</th>\n",
       "    </tr>\n",
       "  </thead>\n",
       "  <tbody>\n",
       "    <tr>\n",
       "      <th id=\"T_d2973_level0_row0\" class=\"row_heading level0 row0\" >Original</th>\n",
       "      <td id=\"T_d2973_row0_col0\" class=\"data row0 col0\" >[6, {'data2': 'A'}, [100, 200, 300, {'data': 2}], {11, 22}, 7, 0]</td>\n",
       "      <td id=\"T_d2973_row0_col1\" class=\"data row0 col1\" >2863051524736</td>\n",
       "    </tr>\n",
       "    <tr>\n",
       "      <th id=\"T_d2973_level0_row1\" class=\"row_heading level0 row1\" >Deep Copy</th>\n",
       "      <td id=\"T_d2973_row1_col0\" class=\"data row1 col0\" >[2, 3, [100, 200, 300, {'data': 2}], {11, 22}, 5, 8]</td>\n",
       "      <td id=\"T_d2973_row1_col1\" class=\"data row1 col1\" >2863051651968</td>\n",
       "    </tr>\n",
       "    <tr>\n",
       "      <th id=\"T_d2973_level0_row2\" class=\"row_heading level0 row2\" >Superficial</th>\n",
       "      <td id=\"T_d2973_row2_col0\" class=\"data row2 col0\" >[2, 3, [100, 200, 300, {'data': 2}], {11, 22}, 5, 8]</td>\n",
       "      <td id=\"T_d2973_row2_col1\" class=\"data row2 col1\" >2863051770560</td>\n",
       "    </tr>\n",
       "  </tbody>\n",
       "</table>\n"
      ],
      "text/plain": [
       "<pandas.io.formats.style.Styler at 0x29a9b2c3d00>"
      ]
     },
     "execution_count": 160,
     "metadata": {},
     "output_type": "execute_result"
    }
   ],
   "source": [
    "def print_lists(list_data):\n",
    "    #Creación de dataframe con los resultados\n",
    "    lists = [\"Original\",\"Deep Copy\",\"Superficial\"]\n",
    "    list_id = map(id,list_data)\n",
    "    #list_type =list(map(lambda x: list(map(type,x)),list_data))\n",
    "\n",
    "    data = {\"Data\": list_data,\"IDs\": list_id}#, \"Var Types\": list_type}\n",
    "    df = pd.DataFrame(data, index = lists)\n",
    "    df = df.style.set_caption(\"Comparación de listas\")\n",
    "    return df\n",
    "\n",
    "print_lists([my_list, deep_copy,shallow_copy])"
   ]
  },
  {
   "cell_type": "markdown",
   "metadata": {},
   "source": [
    "Ahora, en lugar de asignar valores, se modifica un valor adentro de una arreglo dentro de la lista, desde l]a lista original.  \n",
    "En este caso, se puede observar que el valor insertado se refleja tanto en la lista original como en la lista que se creó con copia superficial.  \n",
    "Sea desde la original, en la copia superficial:"
   ]
  },
  {
   "cell_type": "code",
   "execution_count": 161,
   "metadata": {},
   "outputs": [],
   "source": [
    "my_list[2].append({'hola','hello'})"
   ]
  },
  {
   "cell_type": "code",
   "execution_count": 162,
   "metadata": {},
   "outputs": [
    {
     "data": {
      "text/html": [
       "<style type=\"text/css\">\n",
       "</style>\n",
       "<table id=\"T_1e64e_\">\n",
       "  <caption>Comparación de listas</caption>\n",
       "  <thead>\n",
       "    <tr>\n",
       "      <th class=\"blank level0\" >&nbsp;</th>\n",
       "      <th class=\"col_heading level0 col0\" >Data</th>\n",
       "      <th class=\"col_heading level0 col1\" >IDs</th>\n",
       "    </tr>\n",
       "  </thead>\n",
       "  <tbody>\n",
       "    <tr>\n",
       "      <th id=\"T_1e64e_level0_row0\" class=\"row_heading level0 row0\" >Original</th>\n",
       "      <td id=\"T_1e64e_row0_col0\" class=\"data row0 col0\" >[6, {'data2': 'A'}, [100, 200, 300, {'data': 2}, {'hello', 'hola'}], {11, 22}, 7, 0]</td>\n",
       "      <td id=\"T_1e64e_row0_col1\" class=\"data row0 col1\" >2863051524736</td>\n",
       "    </tr>\n",
       "    <tr>\n",
       "      <th id=\"T_1e64e_level0_row1\" class=\"row_heading level0 row1\" >Deep Copy</th>\n",
       "      <td id=\"T_1e64e_row1_col0\" class=\"data row1 col0\" >[2, 3, [100, 200, 300, {'data': 2}], {11, 22}, 5, 8]</td>\n",
       "      <td id=\"T_1e64e_row1_col1\" class=\"data row1 col1\" >2863051651968</td>\n",
       "    </tr>\n",
       "    <tr>\n",
       "      <th id=\"T_1e64e_level0_row2\" class=\"row_heading level0 row2\" >Superficial</th>\n",
       "      <td id=\"T_1e64e_row2_col0\" class=\"data row2 col0\" >[2, 3, [100, 200, 300, {'data': 2}, {'hello', 'hola'}], {11, 22}, 5, 8]</td>\n",
       "      <td id=\"T_1e64e_row2_col1\" class=\"data row2 col1\" >2863051770560</td>\n",
       "    </tr>\n",
       "  </tbody>\n",
       "</table>\n"
      ],
      "text/plain": [
       "<pandas.io.formats.style.Styler at 0x29a9b2e38b0>"
      ]
     },
     "execution_count": 162,
     "metadata": {},
     "output_type": "execute_result"
    }
   ],
   "source": [
    "print_lists([my_list, deep_copy,shallow_copy])"
   ]
  },
  {
   "cell_type": "markdown",
   "metadata": {},
   "source": [
    "O desde a superficial en la copia:"
   ]
  },
  {
   "cell_type": "code",
   "execution_count": 163,
   "metadata": {},
   "outputs": [],
   "source": [
    "shallow_copy[2].append({'shallow','shallow'})"
   ]
  },
  {
   "cell_type": "code",
   "execution_count": 164,
   "metadata": {},
   "outputs": [
    {
     "data": {
      "text/html": [
       "<style type=\"text/css\">\n",
       "</style>\n",
       "<table id=\"T_8a09b_\">\n",
       "  <caption>Comparación de listas</caption>\n",
       "  <thead>\n",
       "    <tr>\n",
       "      <th class=\"blank level0\" >&nbsp;</th>\n",
       "      <th class=\"col_heading level0 col0\" >Data</th>\n",
       "      <th class=\"col_heading level0 col1\" >IDs</th>\n",
       "    </tr>\n",
       "  </thead>\n",
       "  <tbody>\n",
       "    <tr>\n",
       "      <th id=\"T_8a09b_level0_row0\" class=\"row_heading level0 row0\" >Original</th>\n",
       "      <td id=\"T_8a09b_row0_col0\" class=\"data row0 col0\" >[6, {'data2': 'A'}, [100, 200, 300, {'data': 2}, {'hello', 'hola'}, {'shallow'}], {11, 22}, 7, 0]</td>\n",
       "      <td id=\"T_8a09b_row0_col1\" class=\"data row0 col1\" >2863051524736</td>\n",
       "    </tr>\n",
       "    <tr>\n",
       "      <th id=\"T_8a09b_level0_row1\" class=\"row_heading level0 row1\" >Deep Copy</th>\n",
       "      <td id=\"T_8a09b_row1_col0\" class=\"data row1 col0\" >[2, 3, [100, 200, 300, {'data': 2}], {11, 22}, 5, 8]</td>\n",
       "      <td id=\"T_8a09b_row1_col1\" class=\"data row1 col1\" >2863051651968</td>\n",
       "    </tr>\n",
       "    <tr>\n",
       "      <th id=\"T_8a09b_level0_row2\" class=\"row_heading level0 row2\" >Superficial</th>\n",
       "      <td id=\"T_8a09b_row2_col0\" class=\"data row2 col0\" >[2, 3, [100, 200, 300, {'data': 2}, {'hello', 'hola'}, {'shallow'}], {11, 22}, 5, 8]</td>\n",
       "      <td id=\"T_8a09b_row2_col1\" class=\"data row2 col1\" >2863051770560</td>\n",
       "    </tr>\n",
       "  </tbody>\n",
       "</table>\n"
      ],
      "text/plain": [
       "<pandas.io.formats.style.Styler at 0x29a9b2e3f10>"
      ]
     },
     "execution_count": 164,
     "metadata": {},
     "output_type": "execute_result"
    }
   ],
   "source": [
    "print_lists([my_list, deep_copy,shallow_copy])"
   ]
  },
  {
   "cell_type": "markdown",
   "metadata": {},
   "source": [
    "Dado que se modificó en la copia superficial, se puede asumir que los elementos internos que son un tipo de conjunto de dato, siguen apuntando al mismo objeto. Para corroborarlo, se crea la siguiente tabla comparativa de IDs de los elementos dentro de las listas. En la siguiente tabla, se observa que hay elementos que efectivamente, apuntan a la misma dirección de memoria.  \n",
    "  \n",
    "Las siguientes son las coincidencias entre: \n",
    "+ Deep y Superficial copy: my_list[0,1,4,5]\n",
    "+ Original y Superficial copy: my_list[2,3]"
   ]
  },
  {
   "cell_type": "code",
   "execution_count": 165,
   "metadata": {},
   "outputs": [
    {
     "data": {
      "text/html": [
       "<style type=\"text/css\">\n",
       "</style>\n",
       "<table id=\"T_66ab9_\">\n",
       "  <caption>Comparación de IDs de elementos de listas</caption>\n",
       "  <thead>\n",
       "    <tr>\n",
       "      <th class=\"blank level0\" >&nbsp;</th>\n",
       "      <th class=\"col_heading level0 col0\" >Original</th>\n",
       "      <th class=\"col_heading level0 col1\" >Deep Copy</th>\n",
       "      <th class=\"col_heading level0 col2\" >Superficial</th>\n",
       "    </tr>\n",
       "  </thead>\n",
       "  <tbody>\n",
       "    <tr>\n",
       "      <th id=\"T_66ab9_level0_row0\" class=\"row_heading level0 row0\" >0</th>\n",
       "      <td id=\"T_66ab9_row0_col0\" class=\"data row0 col0\" >140723494199200</td>\n",
       "      <td id=\"T_66ab9_row0_col1\" class=\"data row0 col1\" >140723494199072</td>\n",
       "      <td id=\"T_66ab9_row0_col2\" class=\"data row0 col2\" >140723494199072</td>\n",
       "    </tr>\n",
       "    <tr>\n",
       "      <th id=\"T_66ab9_level0_row1\" class=\"row_heading level0 row1\" >1</th>\n",
       "      <td id=\"T_66ab9_row1_col0\" class=\"data row1 col0\" >2863051649600</td>\n",
       "      <td id=\"T_66ab9_row1_col1\" class=\"data row1 col1\" >140723494199104</td>\n",
       "      <td id=\"T_66ab9_row1_col2\" class=\"data row1 col2\" >140723494199104</td>\n",
       "    </tr>\n",
       "    <tr>\n",
       "      <th id=\"T_66ab9_level0_row2\" class=\"row_heading level0 row2\" >2</th>\n",
       "      <td id=\"T_66ab9_row2_col0\" class=\"data row2 col0\" >2863051650304</td>\n",
       "      <td id=\"T_66ab9_row2_col1\" class=\"data row2 col1\" >2863051650368</td>\n",
       "      <td id=\"T_66ab9_row2_col2\" class=\"data row2 col2\" >2863051650304</td>\n",
       "    </tr>\n",
       "    <tr>\n",
       "      <th id=\"T_66ab9_level0_row3\" class=\"row_heading level0 row3\" >3</th>\n",
       "      <td id=\"T_66ab9_row3_col0\" class=\"data row3 col0\" >2863051505216</td>\n",
       "      <td id=\"T_66ab9_row3_col1\" class=\"data row3 col1\" >2863051503648</td>\n",
       "      <td id=\"T_66ab9_row3_col2\" class=\"data row3 col2\" >2863051505216</td>\n",
       "    </tr>\n",
       "    <tr>\n",
       "      <th id=\"T_66ab9_level0_row4\" class=\"row_heading level0 row4\" >4</th>\n",
       "      <td id=\"T_66ab9_row4_col0\" class=\"data row4 col0\" >140723494199232</td>\n",
       "      <td id=\"T_66ab9_row4_col1\" class=\"data row4 col1\" >140723494199168</td>\n",
       "      <td id=\"T_66ab9_row4_col2\" class=\"data row4 col2\" >140723494199168</td>\n",
       "    </tr>\n",
       "    <tr>\n",
       "      <th id=\"T_66ab9_level0_row5\" class=\"row_heading level0 row5\" >5</th>\n",
       "      <td id=\"T_66ab9_row5_col0\" class=\"data row5 col0\" >140723494199008</td>\n",
       "      <td id=\"T_66ab9_row5_col1\" class=\"data row5 col1\" >140723494199264</td>\n",
       "      <td id=\"T_66ab9_row5_col2\" class=\"data row5 col2\" >140723494199264</td>\n",
       "    </tr>\n",
       "  </tbody>\n",
       "</table>\n"
      ],
      "text/plain": [
       "<pandas.io.formats.style.Styler at 0x29a9b2d4b20>"
      ]
     },
     "execution_count": 165,
     "metadata": {},
     "output_type": "execute_result"
    }
   ],
   "source": [
    "list_data = [my_list, deep_copy,shallow_copy]\n",
    "#Creación de dataframe con los IDs de elementos de listas\n",
    "lists = [\"Original\",\"Deep Copy\",\"Superficial\"]\n",
    "list_data_ids = np.array(list(map(lambda x: list(map(id,x)),list_data)))\n",
    "list_type =list(map(lambda x: list(map(type,x)),list_data_ids))\n",
    "\n",
    "df = pd.DataFrame(data=list_data_ids).T\n",
    "df.columns = lists\n",
    "df = df.style.set_caption(\"Comparación de IDs de elementos de listas\")\n",
    "df"
   ]
  },
  {
   "cell_type": "markdown",
   "metadata": {},
   "source": [
    "Los elementos en común entre la original y superficial copy, son ambos tipos de conjuntos (una lista junto con un set).  \n",
    "Sin embargo, hay coincidencias entre elementos de deep y superficial copy, que fueron creados paralelamente pero a partir del mismo objeto.  \n",
    "Corroboramos su relación haciendo modificaciones:"
   ]
  },
  {
   "cell_type": "code",
   "execution_count": 166,
   "metadata": {},
   "outputs": [],
   "source": [
    "shallow_copy[0] += 0\n",
    "shallow_copy[1] += 1\n",
    "shallow_copy[3] = 0\n",
    "shallow_copy[4] += 4\n",
    "shallow_copy[5] += 5"
   ]
  },
  {
   "cell_type": "code",
   "execution_count": 167,
   "metadata": {},
   "outputs": [
    {
     "data": {
      "text/html": [
       "<style type=\"text/css\">\n",
       "</style>\n",
       "<table id=\"T_c405b_\">\n",
       "  <caption>Comparación de listas</caption>\n",
       "  <thead>\n",
       "    <tr>\n",
       "      <th class=\"blank level0\" >&nbsp;</th>\n",
       "      <th class=\"col_heading level0 col0\" >Data</th>\n",
       "      <th class=\"col_heading level0 col1\" >IDs</th>\n",
       "    </tr>\n",
       "  </thead>\n",
       "  <tbody>\n",
       "    <tr>\n",
       "      <th id=\"T_c405b_level0_row0\" class=\"row_heading level0 row0\" >Original</th>\n",
       "      <td id=\"T_c405b_row0_col0\" class=\"data row0 col0\" >[6, {'data2': 'A'}, [100, 200, 300, {'data': 2}, {'hello', 'hola'}, {'shallow'}], {11, 22}, 7, 0]</td>\n",
       "      <td id=\"T_c405b_row0_col1\" class=\"data row0 col1\" >2863051524736</td>\n",
       "    </tr>\n",
       "    <tr>\n",
       "      <th id=\"T_c405b_level0_row1\" class=\"row_heading level0 row1\" >Deep Copy</th>\n",
       "      <td id=\"T_c405b_row1_col0\" class=\"data row1 col0\" >[2, 3, [100, 200, 300, {'data': 2}], {11, 22}, 5, 8]</td>\n",
       "      <td id=\"T_c405b_row1_col1\" class=\"data row1 col1\" >2863051651968</td>\n",
       "    </tr>\n",
       "    <tr>\n",
       "      <th id=\"T_c405b_level0_row2\" class=\"row_heading level0 row2\" >Superficial</th>\n",
       "      <td id=\"T_c405b_row2_col0\" class=\"data row2 col0\" >[2, 4, [100, 200, 300, {'data': 2}, {'hello', 'hola'}, {'shallow'}], 0, 9, 13]</td>\n",
       "      <td id=\"T_c405b_row2_col1\" class=\"data row2 col1\" >2863051770560</td>\n",
       "    </tr>\n",
       "  </tbody>\n",
       "</table>\n"
      ],
      "text/plain": [
       "<pandas.io.formats.style.Styler at 0x29a9b2e3940>"
      ]
     },
     "execution_count": 167,
     "metadata": {},
     "output_type": "execute_result"
    }
   ],
   "source": [
    "print_lists([my_list, deep_copy,shallow_copy])"
   ]
  },
  {
   "cell_type": "code",
   "execution_count": 168,
   "metadata": {},
   "outputs": [
    {
     "data": {
      "text/html": [
       "<style type=\"text/css\">\n",
       "</style>\n",
       "<table id=\"T_6b35a_\">\n",
       "  <caption>Comparación de IDs de elementos de listas</caption>\n",
       "  <thead>\n",
       "    <tr>\n",
       "      <th class=\"blank level0\" >&nbsp;</th>\n",
       "      <th class=\"col_heading level0 col0\" >Original</th>\n",
       "      <th class=\"col_heading level0 col1\" >Deep Copy</th>\n",
       "      <th class=\"col_heading level0 col2\" >Superficial</th>\n",
       "    </tr>\n",
       "  </thead>\n",
       "  <tbody>\n",
       "    <tr>\n",
       "      <th id=\"T_6b35a_level0_row0\" class=\"row_heading level0 row0\" >0</th>\n",
       "      <td id=\"T_6b35a_row0_col0\" class=\"data row0 col0\" >140723494199200</td>\n",
       "      <td id=\"T_6b35a_row0_col1\" class=\"data row0 col1\" >140723494199072</td>\n",
       "      <td id=\"T_6b35a_row0_col2\" class=\"data row0 col2\" >140723494199072</td>\n",
       "    </tr>\n",
       "    <tr>\n",
       "      <th id=\"T_6b35a_level0_row1\" class=\"row_heading level0 row1\" >1</th>\n",
       "      <td id=\"T_6b35a_row1_col0\" class=\"data row1 col0\" >2863051649600</td>\n",
       "      <td id=\"T_6b35a_row1_col1\" class=\"data row1 col1\" >140723494199104</td>\n",
       "      <td id=\"T_6b35a_row1_col2\" class=\"data row1 col2\" >140723494199136</td>\n",
       "    </tr>\n",
       "    <tr>\n",
       "      <th id=\"T_6b35a_level0_row2\" class=\"row_heading level0 row2\" >2</th>\n",
       "      <td id=\"T_6b35a_row2_col0\" class=\"data row2 col0\" >2863051650304</td>\n",
       "      <td id=\"T_6b35a_row2_col1\" class=\"data row2 col1\" >2863051650368</td>\n",
       "      <td id=\"T_6b35a_row2_col2\" class=\"data row2 col2\" >2863051650304</td>\n",
       "    </tr>\n",
       "    <tr>\n",
       "      <th id=\"T_6b35a_level0_row3\" class=\"row_heading level0 row3\" >3</th>\n",
       "      <td id=\"T_6b35a_row3_col0\" class=\"data row3 col0\" >2863051505216</td>\n",
       "      <td id=\"T_6b35a_row3_col1\" class=\"data row3 col1\" >2863051503648</td>\n",
       "      <td id=\"T_6b35a_row3_col2\" class=\"data row3 col2\" >140723494199008</td>\n",
       "    </tr>\n",
       "    <tr>\n",
       "      <th id=\"T_6b35a_level0_row4\" class=\"row_heading level0 row4\" >4</th>\n",
       "      <td id=\"T_6b35a_row4_col0\" class=\"data row4 col0\" >140723494199232</td>\n",
       "      <td id=\"T_6b35a_row4_col1\" class=\"data row4 col1\" >140723494199168</td>\n",
       "      <td id=\"T_6b35a_row4_col2\" class=\"data row4 col2\" >140723494199296</td>\n",
       "    </tr>\n",
       "    <tr>\n",
       "      <th id=\"T_6b35a_level0_row5\" class=\"row_heading level0 row5\" >5</th>\n",
       "      <td id=\"T_6b35a_row5_col0\" class=\"data row5 col0\" >140723494199008</td>\n",
       "      <td id=\"T_6b35a_row5_col1\" class=\"data row5 col1\" >140723494199264</td>\n",
       "      <td id=\"T_6b35a_row5_col2\" class=\"data row5 col2\" >140723494199424</td>\n",
       "    </tr>\n",
       "  </tbody>\n",
       "</table>\n"
      ],
      "text/plain": [
       "<pandas.io.formats.style.Styler at 0x29a9b2d4340>"
      ]
     },
     "execution_count": 168,
     "metadata": {},
     "output_type": "execute_result"
    }
   ],
   "source": [
    "#Creación de dataframe con los IDs de elementos de listas\n",
    "lists = [\"Original\",\"Deep Copy\",\"Superficial\"]\n",
    "list_data_ids = np.array(list(map(lambda x: list(map(id,x)),list_data)))\n",
    "list_type =list(map(lambda x: list(map(type,x)),list_data_ids))\n",
    "\n",
    "df = pd.DataFrame(data=list_data_ids).T\n",
    "df.columns = lists\n",
    "df = df.style.set_caption(\"Comparación de IDs de elementos de listas\")\n",
    "df"
   ]
  },
  {
   "cell_type": "markdown",
   "metadata": {},
   "source": [
    "Se logra ver cómo al modificar los elementos superficiales, apuntan a un nuevo objeto independiente del de deep copy. Esto se debe a una funcionalidad interna en Python para ahorrar memoria, quedando fuera de eso, sólo las relaciones entre la original y la superficial para elementos compuestos.  \n",
    "Además, se puede verificar que apuntar a un nuevo objeto en lugar del objeto compuesto que hay en una lista superficial, no tiene impacto alguno sobre la lista original."
   ]
  },
  {
   "cell_type": "markdown",
   "metadata": {},
   "source": [
    "### Conclusiones"
   ]
  },
  {
   "cell_type": "markdown",
   "metadata": {},
   "source": [
    "+ Cuando un valor que NO es un objeto tipo conjunto mutable (sea set, diccionario, lista, etc) es modificado, no tendrá efecto alguno ni para la deep o shallow copy.\n",
    "+ Cuando un valor ES un objeto tipo conjunto mutable, shallow copy apuntará a este objeto y el deep copy creará una nueva copia de este objeto.\n",
    "+ Si la lista original tiene un elemento compuesto y ahora apunta a un nuevo/diferente objeto, no se reflejará ni en el shallow ni deep copy.\n",
    "+ Ya que un objeto original y su shallow copy tienen elementos compuestos que apuntan a mismo espacio de memoria, modificar en shallow cambiará el original."
   ]
  }
 ],
 "metadata": {
  "kernelspec": {
   "display_name": "DeepEnv",
   "language": "python",
   "name": "python3"
  },
  "language_info": {
   "codemirror_mode": {
    "name": "ipython",
    "version": 3
   },
   "file_extension": ".py",
   "mimetype": "text/x-python",
   "name": "python",
   "nbconvert_exporter": "python",
   "pygments_lexer": "ipython3",
   "version": "3.8.12"
  },
  "orig_nbformat": 4
 },
 "nbformat": 4,
 "nbformat_minor": 2
}
