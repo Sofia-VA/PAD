{
 "cells": [
  {
   "cell_type": "markdown",
   "metadata": {},
   "source": [
    "# Lista de tuplas\n",
    "\n",
    "## Programación para Analítica de Datos\n",
    "## Mtra. Gisel Hernández Chávez\n",
    "\n",
    "### Contenido principal\n",
    "+ Ventaja de la lista de tuplas sobre la lista de lista\n",
    "+ Uso de la función zip()\n",
    "+ Función zip() y lista por comprensión\n",
    "+ Ejercicios\n",
    "\n",
    "### Contenido complementario\n",
    "+ Tachado en markdown, secciones embebidas y lograr que aparezcan ciertos caracteres como el asterisco.\n",
    "+ Cómo dividir en varias líneas una misma sentencia de código larga en Jupyter.\n",
    "+ Cómo asignar de forma múltiple en la misma sentencia: desempaquetado."
   ]
  },
  {
   "cell_type": "markdown",
   "metadata": {},
   "source": [
    "## Tachado en markdown, secciones embebidas y lograr que aparezcan ciertos caracteres como el asterisco."
   ]
  },
  {
   "cell_type": "markdown",
   "metadata": {},
   "source": [
    "~~This text is struckthrough.~~ This one isn’t.\n",
    ">This is an **embedded section**.\n",
    ">The section continues here\n",
    "\n",
    ">This is another **embedded section**.\n",
    "This section also continues in the second like\n",
    "\n",
    "This line isn’t embedded any more.\n",
    "- Point 1\n",
    "- Point 2\n",
    "- Point 3\n",
    "\n",
    "This is an \\*example with an asterisk\\*."
   ]
  },
  {
   "cell_type": "markdown",
   "metadata": {},
   "source": [
    "## Cómo dividir en varias líneas una misma sentencia de código larga en Jupyter"
   ]
  },
  {
   "cell_type": "code",
   "execution_count": 1,
   "metadata": {},
   "outputs": [
    {
     "name": "stdout",
     "output_type": "stream",
     "text": [
      "Select * FROM OURDBNAME.dbo.vw_DimFoo WHERE <foo> \n"
     ]
    }
   ],
   "source": [
    "# Usando paréntesis\n",
    "x = (\n",
    "  'Select * '\n",
    "  'FROM OURDBNAME.dbo.vw_DimFoo '\n",
    "  'WHERE <foo> '\n",
    ")\n",
    "\n",
    "print(x)"
   ]
  },
  {
   "cell_type": "markdown",
   "metadata": {},
   "source": [
    "## Cómo asignar de forma múltiple en la misma sentencia"
   ]
  },
  {
   "cell_type": "code",
   "execution_count": 2,
   "metadata": {},
   "outputs": [
    {
     "data": {
      "text/plain": [
       "('Homero', 'La Ilíada', 93)"
      ]
     },
     "execution_count": 2,
     "metadata": {},
     "output_type": "execute_result"
    }
   ],
   "source": [
    "# Creación de tuplas\n",
    "# Cada tupla o registro es una entrada a una listade grandes obras literarias, autor y puntaje según\n",
    "# https://www.abc.es/cultura/cultural/abci-100-mejores-libros-literatura-universal-201806030125_noticia.html?ref=https:%2F%2Fwww.google.com%2F\n",
    "t1, t2, t3, t4 = (\n",
    "    ('Miguel de Cervantes','El ingenioso hidalgo DonQuijote de la Mancha',267)\n",
    "    ,('Homero','La Odisea', 148),('Homero', 'La Ilíada',93)\n",
    "    ,('Dante Alighieri', 'La divina comedia',86)\n",
    ")\n",
    "t3\n"
   ]
  },
  {
   "cell_type": "code",
   "execution_count": 3,
   "metadata": {},
   "outputs": [
    {
     "data": {
      "text/plain": [
       "('Dante Alighieri', 'La divina comedia', 86)"
      ]
     },
     "execution_count": 3,
     "metadata": {},
     "output_type": "execute_result"
    }
   ],
   "source": [
    "t4"
   ]
  },
  {
   "cell_type": "markdown",
   "metadata": {},
   "source": [
    "## ¿Por qué es más eficiente en uso de memoria una lista de tuplas que una lista de listas?\n",
    "\n",
    "https://stackoverflow.com/questions/46664007/why-do-tuples-take-less-space-in-memory-than-lists\n",
    "\n",
    "+ El método mágico __sizeof__() no devuelve el tamaño correcto, sino el tamaño de almacenamiento de valores.\n",
    "+ sys.get_sizeof() devuelve el tamaño correcto"
   ]
  },
  {
   "cell_type": "code",
   "execution_count": 4,
   "metadata": {},
   "outputs": [
    {
     "data": {
      "text/plain": [
       "48"
      ]
     },
     "execution_count": 4,
     "metadata": {},
     "output_type": "execute_result"
    }
   ],
   "source": [
    "a = (1,2,3)\n",
    "a.__sizeof__()"
   ]
  },
  {
   "cell_type": "markdown",
   "metadata": {},
   "source": [
    "La tupla a ocupa 48 bytes:\n",
    "+ 24 bytes de 3 punteros a los 3 entereos de 8 bytes cada uno\n",
    "+ 24 bytes de los 3 enteros. Cada entero es del tipo int64, ocupando cada uno 8 bytes"
   ]
  },
  {
   "cell_type": "code",
   "execution_count": 5,
   "metadata": {},
   "outputs": [
    {
     "data": {
      "text/plain": [
       "72"
      ]
     },
     "execution_count": 5,
     "metadata": {},
     "output_type": "execute_result"
    }
   ],
   "source": [
    "b = [1,2,3]\n",
    "b.__sizeof__()"
   ]
  },
  {
   "cell_type": "markdown",
   "metadata": {},
   "source": [
    "La lista b ocupa 72 bytes. Ademas de los 48 bytes de los 3 punteros y los enteros, sobreasigama memoria para admitir adiciones de elementos sin relocalizar la lista."
   ]
  },
  {
   "cell_type": "code",
   "execution_count": 6,
   "metadata": {},
   "outputs": [],
   "source": [
    "#b.__sizeof__?"
   ]
  },
  {
   "cell_type": "markdown",
   "metadata": {},
   "source": [
    "## Explicación\n",
    "+ Las tuplas de Python son inmutables. Los objetos mutables tienen una sobrecarga adicional para lidiar con los cambios en el tiempo de ejecución.\n",
    "+ Independientemente de la implementación, las listas son de tamaño variable, mientras que las tuplas son de tamaño fijo.\n",
    "+ Entonces, las tuplas pueden almacenar los elementos directamente dentro de la estructura. Las listas, por otro lado, necesitan una capa de indirección (almacena un puntero a los elementos). Esta capa de indirección es un puntero, en sistemas de 64 bits que son 64 bits, por lo tanto, 8 bytes.\n",
    "+ Pero hay otra cosa que hacen las listas: sobreasignan (over-allocate). De lo contrario, list.append sería una operación __O(n)__ siempre: para que se amortice __O(1)__ (¡mucho más rápido!), se sobreasigna. Pero ahora tiene que realizar un seguimiento del tamaño asignado y el tamaño de relleno (las tuplas solo necesitan almacenar un tamaño, porque el tamaño asignado y relleno son siempre idénticos). Eso significa que cada lista tiene que almacenar otro \"tamaño\" que en los sistemas de 64 bits es un número entero de 64 bits, de nuevo 8 bytes.\n",
    "+ Entonces, las listas necesitan al menos 16 bytes más de memoria que las tuplas. ¿Por qué dije \"al menos\"? Debido a la sobreasignación. La sobreasignación significa que asigna más espacio del necesario. Sin embargo, la cantidad de sobreasignación depende de \"cómo\" crea la lista y el historial de anexos / eliminaciones"
   ]
  },
  {
   "cell_type": "code",
   "execution_count": 10,
   "metadata": {},
   "outputs": [
    {
     "data": {
      "text/plain": [
       "72"
      ]
     },
     "execution_count": 10,
     "metadata": {},
     "output_type": "execute_result"
    }
   ],
   "source": [
    "# Lo que ocurre al adicionar un elemento\n",
    "L = [1,2,3]\n",
    "L.__sizeof__()"
   ]
  },
  {
   "cell_type": "code",
   "execution_count": 11,
   "metadata": {},
   "outputs": [
    {
     "data": {
      "text/plain": [
       "72"
      ]
     },
     "execution_count": 11,
     "metadata": {},
     "output_type": "execute_result"
    }
   ],
   "source": [
    "L.append(4)  # No crece al agregar otro elemento, no re-allocation (no over-allocation)\n",
    "L.__sizeof__()"
   ]
  },
  {
   "cell_type": "code",
   "execution_count": 12,
   "metadata": {},
   "outputs": [
    {
     "data": {
      "text/plain": [
       "104"
      ]
     },
     "execution_count": 12,
     "metadata": {},
     "output_type": "execute_result"
    }
   ],
   "source": [
    "# triggers re-allocation (with over-allocation), because the original list is full\n",
    "L.append(5.5)  \n",
    "L.__sizeof__()"
   ]
  },
  {
   "cell_type": "code",
   "execution_count": 13,
   "metadata": {},
   "outputs": [
    {
     "data": {
      "text/plain": [
       "[1, 2, 3, 4, 5.5]"
      ]
     },
     "execution_count": 13,
     "metadata": {},
     "output_type": "execute_result"
    }
   ],
   "source": [
    "L"
   ]
  },
  {
   "cell_type": "code",
   "execution_count": 14,
   "metadata": {},
   "outputs": [
    {
     "data": {
      "text/plain": [
       "40"
      ]
     },
     "execution_count": 14,
     "metadata": {},
     "output_type": "execute_result"
    }
   ],
   "source": [
    "L2 = []\n",
    "L2.__sizeof__() # aunque no tenga elementos le asigna un espacio en memoria"
   ]
  },
  {
   "cell_type": "code",
   "execution_count": 15,
   "metadata": {},
   "outputs": [
    {
     "data": {
      "text/plain": [
       "72"
      ]
     },
     "execution_count": 15,
     "metadata": {},
     "output_type": "execute_result"
    }
   ],
   "source": [
    "L2.append(1)  # re-allocation with over-allocation\n",
    "L2.__sizeof__()"
   ]
  },
  {
   "cell_type": "code",
   "execution_count": 16,
   "metadata": {},
   "outputs": [
    {
     "data": {
      "text/plain": [
       "72"
      ]
     },
     "execution_count": 16,
     "metadata": {},
     "output_type": "execute_result"
    }
   ],
   "source": [
    "L2.append(2)  # no re-alloc\n",
    "L2.__sizeof__()"
   ]
  },
  {
   "cell_type": "code",
   "execution_count": 17,
   "metadata": {},
   "outputs": [
    {
     "data": {
      "text/plain": [
       "72"
      ]
     },
     "execution_count": 17,
     "metadata": {},
     "output_type": "execute_result"
    }
   ],
   "source": [
    "L2.append(3)  # no re-alloc\n",
    "L2.__sizeof__()"
   ]
  },
  {
   "cell_type": "code",
   "execution_count": 18,
   "metadata": {},
   "outputs": [
    {
     "data": {
      "text/plain": [
       "72"
      ]
     },
     "execution_count": 18,
     "metadata": {},
     "output_type": "execute_result"
    }
   ],
   "source": [
    "L2.append(4)  # still has room, so no over-allocation needed (yet)\n",
    "L2.__sizeof__()"
   ]
  },
  {
   "cell_type": "code",
   "execution_count": 19,
   "metadata": {},
   "outputs": [
    {
     "data": {
      "text/plain": [
       "104"
      ]
     },
     "execution_count": 19,
     "metadata": {},
     "output_type": "execute_result"
    }
   ],
   "source": [
    "L2.append(5)  # no room, so over-allocation needed\n",
    "L2.__sizeof__()"
   ]
  },
  {
   "cell_type": "markdown",
   "metadata": {},
   "source": [
    "### La lista es un arreglo dinámico en Python"
   ]
  },
  {
   "cell_type": "markdown",
   "metadata": {},
   "source": [
    "## Nota importante\n",
    "Tenga en cuenta que __sizeof__ realmente no devuelve el tamaño \"correcto\". Solo devuelve el tamaño de los valores almacenados. Sin embargo, cuando usa __sys.getsizeof__, el resultado es diferente."
   ]
  },
  {
   "cell_type": "code",
   "execution_count": 21,
   "metadata": {},
   "outputs": [
    {
     "data": {
      "text/plain": [
       "(88, 72)"
      ]
     },
     "execution_count": 21,
     "metadata": {},
     "output_type": "execute_result"
    }
   ],
   "source": [
    "import sys\n",
    "L = [1,2,3]\n",
    "t = (1, 2, 3)\n",
    "sys.getsizeof(L), L.__sizeof__()"
   ]
  },
  {
   "cell_type": "code",
   "execution_count": 22,
   "metadata": {},
   "outputs": [
    {
     "data": {
      "text/plain": [
       "64"
      ]
     },
     "execution_count": 22,
     "metadata": {},
     "output_type": "execute_result"
    }
   ],
   "source": [
    "sys.getsizeof(t)"
   ]
  },
  {
   "cell_type": "markdown",
   "metadata": {},
   "source": [
    "+ Hay 24 bytes \"extra\". Estos son reales, esa es la __sobrecarga del recolector de basura__ (GC: garbage collector) que no se tiene en cuenta en el método __sizeof__. \n",
    "+ Esto se debe a que generalmente no se supone que debe usar métodos mágicos directamente; use las funciones que saben cómo manejarlos, en este caso: sys.getsizeof (que en realidad agrega la sobrecarga de GC al valor devuelto por __sizeof__)"
   ]
  },
  {
   "cell_type": "markdown",
   "metadata": {},
   "source": [
    "## Creación de una lista de tuplas "
   ]
  },
  {
   "cell_type": "code",
   "execution_count": 23,
   "metadata": {},
   "outputs": [
    {
     "data": {
      "text/plain": [
       "(('Miguel de Cervantes', 'El ingenioso hidalgo DonQuijote de la Mancha', 267),\n",
       " ('Homero', 'La Odisea', 148),\n",
       " ('Homero', 'La Ilíada', 93),\n",
       " ('Dante Alighieri', 'La divina comedia', 86))"
      ]
     },
     "execution_count": 23,
     "metadata": {},
     "output_type": "execute_result"
    }
   ],
   "source": [
    "# Creación de una tupla de tuplas\n",
    "rank_obras = t1,t2,t3,t4\n",
    "rank_obras"
   ]
  },
  {
   "cell_type": "code",
   "execution_count": 24,
   "metadata": {},
   "outputs": [
    {
     "data": {
      "text/plain": [
       "tuple"
      ]
     },
     "execution_count": 24,
     "metadata": {},
     "output_type": "execute_result"
    }
   ],
   "source": [
    "type(rank_obras)"
   ]
  },
  {
   "cell_type": "code",
   "execution_count": 25,
   "metadata": {},
   "outputs": [
    {
     "data": {
      "text/plain": [
       "72"
      ]
     },
     "execution_count": 25,
     "metadata": {},
     "output_type": "execute_result"
    }
   ],
   "source": [
    "sys.getsizeof(rank_obras)"
   ]
  },
  {
   "cell_type": "code",
   "execution_count": 26,
   "metadata": {},
   "outputs": [
    {
     "data": {
      "text/plain": [
       "[('Miguel de Cervantes', 'El ingenioso hidalgo DonQuijote de la Mancha', 267),\n",
       " ('Homero', 'La Odisea', 148),\n",
       " ('Homero', 'La Ilíada', 93),\n",
       " ('Dante Alighieri', 'La divina comedia', 86)]"
      ]
     },
     "execution_count": 26,
     "metadata": {},
     "output_type": "execute_result"
    }
   ],
   "source": [
    "# Creación de una lista de tuplas\n",
    "rank_obras2 = [t1,t2,t3,t4]\n",
    "rank_obras2"
   ]
  },
  {
   "cell_type": "code",
   "execution_count": 27,
   "metadata": {},
   "outputs": [
    {
     "data": {
      "text/plain": [
       "list"
      ]
     },
     "execution_count": 27,
     "metadata": {},
     "output_type": "execute_result"
    }
   ],
   "source": [
    "type(rank_obras2)"
   ]
  },
  {
   "cell_type": "code",
   "execution_count": 28,
   "metadata": {},
   "outputs": [
    {
     "data": {
      "text/plain": [
       "88"
      ]
     },
     "execution_count": 28,
     "metadata": {},
     "output_type": "execute_result"
    }
   ],
   "source": [
    "sys.getsizeof(rank_obras2)"
   ]
  },
  {
   "cell_type": "markdown",
   "metadata": {},
   "source": [
    "## Creación de una lista de tuplas a partir de varias listas"
   ]
  },
  {
   "cell_type": "code",
   "execution_count": 29,
   "metadata": {},
   "outputs": [],
   "source": [
    "L5, L6 = (\n",
    "    ['Shakespeare','Hamlet',63]\n",
    "    ,['SA','La Biblia',61]\n",
    ")"
   ]
  },
  {
   "cell_type": "code",
   "execution_count": 30,
   "metadata": {},
   "outputs": [
    {
     "data": {
      "text/plain": [
       "['Shakespeare', 'Hamlet', 63]"
      ]
     },
     "execution_count": 30,
     "metadata": {},
     "output_type": "execute_result"
    }
   ],
   "source": [
    "L5"
   ]
  },
  {
   "cell_type": "code",
   "execution_count": 31,
   "metadata": {},
   "outputs": [
    {
     "data": {
      "text/plain": [
       "list"
      ]
     },
     "execution_count": 31,
     "metadata": {},
     "output_type": "execute_result"
    }
   ],
   "source": [
    "type(L5)"
   ]
  },
  {
   "cell_type": "code",
   "execution_count": 32,
   "metadata": {},
   "outputs": [
    {
     "data": {
      "text/plain": [
       "2863872456576"
      ]
     },
     "execution_count": 32,
     "metadata": {},
     "output_type": "execute_result"
    }
   ],
   "source": [
    "id(L5)"
   ]
  },
  {
   "cell_type": "markdown",
   "metadata": {},
   "source": [
    "## Uso de la función zip\n",
    "+ La función zip() de Python se puede usar para mapear las listas en conjunto para crear una lista de tuplas.\n",
    "+ La función zip () devuelve un iterable de tuplas en función de los valores que se le pasan. \n",
    "+ La función list () crearía una lista de esas tuplas como resultado de la función zip ()."
   ]
  },
  {
   "cell_type": "code",
   "execution_count": 33,
   "metadata": {},
   "outputs": [
    {
     "data": {
      "text/plain": [
       "str"
      ]
     },
     "execution_count": 33,
     "metadata": {},
     "output_type": "execute_result"
    }
   ],
   "source": [
    "cadena ='esta es una cadena de caracteres'\n",
    "type(cadena)"
   ]
  },
  {
   "cell_type": "code",
   "execution_count": 34,
   "metadata": {},
   "outputs": [
    {
     "data": {
      "text/plain": [
       "81"
      ]
     },
     "execution_count": 34,
     "metadata": {},
     "output_type": "execute_result"
    }
   ],
   "source": [
    "sys.getsizeof(cadena)"
   ]
  },
  {
   "cell_type": "code",
   "execution_count": 35,
   "metadata": {},
   "outputs": [
    {
     "data": {
      "text/plain": [
       "<str_iterator at 0x29acbdcd0c0>"
      ]
     },
     "execution_count": 35,
     "metadata": {},
     "output_type": "execute_result"
    }
   ],
   "source": [
    "iter(cadena)"
   ]
  },
  {
   "cell_type": "code",
   "execution_count": 36,
   "metadata": {},
   "outputs": [
    {
     "data": {
      "text/plain": [
       "'e'"
      ]
     },
     "execution_count": 36,
     "metadata": {},
     "output_type": "execute_result"
    }
   ],
   "source": [
    "it = iter(cadena)\n",
    "it.__next__()\n"
   ]
  },
  {
   "cell_type": "code",
   "execution_count": 37,
   "metadata": {},
   "outputs": [
    {
     "data": {
      "text/plain": [
       "['e',\n",
       " 's',\n",
       " 't',\n",
       " 'a',\n",
       " ' ',\n",
       " 'e',\n",
       " 's',\n",
       " ' ',\n",
       " 'u',\n",
       " 'n',\n",
       " 'a',\n",
       " ' ',\n",
       " 'c',\n",
       " 'a',\n",
       " 'd',\n",
       " 'e',\n",
       " 'n',\n",
       " 'a',\n",
       " ' ',\n",
       " 'd',\n",
       " 'e',\n",
       " ' ',\n",
       " 'c',\n",
       " 'a',\n",
       " 'r',\n",
       " 'a',\n",
       " 'c',\n",
       " 't',\n",
       " 'e',\n",
       " 'r',\n",
       " 'e',\n",
       " 's']"
      ]
     },
     "execution_count": 37,
     "metadata": {},
     "output_type": "execute_result"
    }
   ],
   "source": [
    "lista_cad = list(cadena)\n",
    "lista_cad "
   ]
  },
  {
   "cell_type": "code",
   "execution_count": 38,
   "metadata": {},
   "outputs": [
    {
     "data": {
      "text/plain": [
       "[('Shakespeare', 'SA'), ('Hamlet', 'La Biblia'), (63, 61)]"
      ]
     },
     "execution_count": 38,
     "metadata": {},
     "output_type": "execute_result"
    }
   ],
   "source": [
    "Lista_obras = list(zip(L5,L6))\n",
    "Lista_obras"
   ]
  },
  {
   "cell_type": "markdown",
   "metadata": {},
   "source": [
    "### Observaciones\n",
    "+ Note cómo el mapeo con zip() conjuntó en tuplas los datos correspondientes de las mismas posiciones en las secuencias.\n",
    "+ Si se tuviera una lista con todos los nombres de autores, otra con los nombres de obras y otra con los rankings, podría formar tuplas con un registro por obra"
   ]
  },
  {
   "cell_type": "code",
   "execution_count": 39,
   "metadata": {},
   "outputs": [],
   "source": [
    "L7, L8, L9 = (\n",
    "    ['Marcel Proust','Virgilio']\n",
    "    ,['En busca del tiempo perdido', 'La Eneida']\n",
    "    ,[59,58]\n",
    ")"
   ]
  },
  {
   "cell_type": "code",
   "execution_count": 40,
   "metadata": {},
   "outputs": [
    {
     "data": {
      "text/plain": [
       "[('Marcel Proust', 'En busca del tiempo perdido', 59),\n",
       " ('Virgilio', 'La Eneida', 58)]"
      ]
     },
     "execution_count": 40,
     "metadata": {},
     "output_type": "execute_result"
    }
   ],
   "source": [
    "Lista_obras2 = list(zip(L7,L8,L9))\n",
    "Lista_obras2"
   ]
  },
  {
   "cell_type": "markdown",
   "metadata": {},
   "source": [
    "## Preguntas de intelección y discusión\n",
    "1. ¿Qué tiene más sentido, crear las tuplas en el código o crear un archivo en memoria externa con los datos que conozco?\n",
    "2. Si no conociera los datos y tendría que capturarlos en línea, ¿tendría sentido hacer la lista de tuplas y finalmente guardarlos en un archivo?"
   ]
  },
  {
   "cell_type": "markdown",
   "metadata": {},
   "source": [
    "## Agrupación personalizada de elementos mientras se forma una lista de tuplas\n",
    "\n",
    "Mientras formamos una lista de tuplas, es posible que proporcionemos agrupaciones personalizadas de elementos en función del número de elementos de la lista / tupla.\n",
    "\n",
    "<font color ='green' > __[elemento for elemento in zip (* [iter (lista)] * número)]__</font>\n",
    "\n",
    "+ La _comprensión de listas_ junto con la función zip () se utiliza para convertir las tuplas en listas y crear una lista de tuplas. \n",
    "+ La función Python iter () se usa para iterar un elemento de un objeto a la vez. \n",
    "+ El \"número\" especificaría el número de elementos que se agruparán en una sola tupla para formar una lista.\n"
   ]
  },
  {
   "cell_type": "code",
   "execution_count": 41,
   "metadata": {},
   "outputs": [
    {
     "name": "stdout",
     "output_type": "stream",
     "text": [
      "[(50,), ('Python',), ('JournalDev',), (100,)]\n"
     ]
    }
   ],
   "source": [
    "Lst = [50,\"Python\",\"JournalDev\",100]\n",
    "Lst_tuple = [x for x in zip(*[iter(Lst)])]\n",
    "print(Lst_tuple)"
   ]
  },
  {
   "cell_type": "code",
   "execution_count": 42,
   "metadata": {},
   "outputs": [
    {
     "name": "stdout",
     "output_type": "stream",
     "text": [
      "[(50, 'Python'), ('JournalDev', 100)]\n"
     ]
    }
   ],
   "source": [
    "# Dos elementos contenidos dentro de la tupla para formar la lista de tuplas\n",
    "lst = [50,\"Python\",\"JournalDev\",100]\n",
    "lst_tuple = [x for x in zip(*[iter(lst)]*2)]\n",
    "print(lst_tuple)"
   ]
  },
  {
   "cell_type": "code",
   "execution_count": 43,
   "metadata": {},
   "outputs": [
    {
     "name": "stdout",
     "output_type": "stream",
     "text": [
      "[(50, 'Python', 'JournalDev')]\n"
     ]
    }
   ],
   "source": [
    "# Tres elementos contenidos dentro de la tupla para formar la lista de tuplas\n",
    "lst = [50,\"Python\",\"JournalDev\",100]\n",
    "lst_tuple = [x for x in zip(*[iter(lst)]*3)]\n",
    "print(lst_tuple)"
   ]
  },
  {
   "cell_type": "markdown",
   "metadata": {},
   "source": [
    "## Lista de tuplas usando la función map()\n",
    "\n",
    "+ La función map() de Python se puede utilizar para crear una lista de tuplas. \n",
    "+ La función map () mapea y aplica una función a un iterable pasado a la función.\n",
    "\n",
    "map(function, iterable)\n"
   ]
  },
  {
   "cell_type": "code",
   "execution_count": 44,
   "metadata": {},
   "outputs": [
    {
     "name": "stdout",
     "output_type": "stream",
     "text": [
      "[(50,), ('Python',), ('JournalDev',), (100,)]\n"
     ]
    }
   ],
   "source": [
    "lst = [[50],[\"Python\"],[\"JournalDev\"],[100]]\n",
    "lst_tuple =list(map(tuple, lst))\n",
    "print(lst_tuple)"
   ]
  },
  {
   "cell_type": "markdown",
   "metadata": {},
   "source": [
    "## Lista de tuplas usando la comprensión de listas y el método tuple ()\n",
    "\n",
    "+ El método Python tuple () junto con List Comprehension se puede usar para formar una lista de tuplas.\n",
    "\n",
    "+ La función tuple () ayuda a crear tuplas a partir del conjunto de elementos que se le pasan."
   ]
  },
  {
   "cell_type": "code",
   "execution_count": 45,
   "metadata": {},
   "outputs": [
    {
     "name": "stdout",
     "output_type": "stream",
     "text": [
      "[(50,), ('Python',), ('JournalDev',), (100,)]\n"
     ]
    }
   ],
   "source": [
    "lst = [[50],[\"Python\"],[\"JournalDev\"],[100]]\n",
    "lst_tuple =[tuple(ele) for ele in lst]\n",
    "print(lst_tuple)"
   ]
  },
  {
   "cell_type": "markdown",
   "metadata": {},
   "source": [
    "## Ejercicio de tarea (no hay que entregarlo)\n",
    "\n",
    "Cree en Excel un archivo con tres columnas (campos) en formato csv que contenga 7 de las obras de literatura vistas en los ejemplos con sus correspondientes autores y ranking según la fuente citada de abc.\n",
    "\n",
    "Use el módulo y funciones de preferencia para leer un archivo csv, de manera que los datos los coloque en una lista de tuplas.\n",
    "\n",
    "Ordene la lista según el ranking y muestre en pantalla el mismo de mayor a menor.\n",
    "\n",
    "Cree un nuevo archivo csv con las obras ordenadas por ranking"
   ]
  },
  {
   "cell_type": "code",
   "execution_count": null,
   "metadata": {},
   "outputs": [],
   "source": []
  }
 ],
 "metadata": {
  "kernelspec": {
   "display_name": "Python 3 (ipykernel)",
   "language": "python",
   "name": "python3"
  },
  "language_info": {
   "codemirror_mode": {
    "name": "ipython",
    "version": 3
   },
   "file_extension": ".py",
   "mimetype": "text/x-python",
   "name": "python",
   "nbconvert_exporter": "python",
   "pygments_lexer": "ipython3",
   "version": "3.10.9"
  }
 },
 "nbformat": 4,
 "nbformat_minor": 4
}
