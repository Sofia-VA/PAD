{
 "cells": [
  {
   "attachments": {},
   "cell_type": "markdown",
   "metadata": {},
   "source": [
    "# Práctica sobre iteradores e iterables\n",
    "\n",
    "## Programación para Análisis de datos\n",
    "\n",
    "### Mtra. Gisel Hernández Chávez\n",
    "\n"
   ]
  },
  {
   "cell_type": "markdown",
   "metadata": {},
   "source": [
    "## Iterable \n",
    "\n",
    "Es un objeto sobre el que se puede iterar. Genera un iterator cuando se pasa al método iter (). \n",
    "\n",
    "##Iterator\n",
    "\n",
    "Es un objeto, que se usa para iterar sobre un objeto iterable usando el método **__next__()**. \n",
    "\n",
    "+ El método **__next__()**, devuelve el siguiente elemento del objeto.\n",
    "+ Los iteradores son objetos que permiten recorrer todos los elementos de una colección y devolver un elemento a la vez.\n",
    "+ Todos los iteradores también son iterables, pero no todos los iterables son iteradores. Por ejemplo, __una lista es iterable pero una lista no es un iterador.__ \n",
    "+ Se puede crear un iterador a partir de un iterable usando el método **__iter__()**, que devuelve un iterador, o un método **__getitem__()** con índices secuenciales que comienzan con 0.\n"
   ]
  },
  {
   "cell_type": "code",
   "execution_count": 2,
   "metadata": {},
   "outputs": [],
   "source": [
    "# Para visualizar más de una salida de una celda\n",
    "from IPython.core.interactiveshell import InteractiveShell\n",
    "InteractiveShell.ast_node_interactivity = \"all\""
   ]
  },
  {
   "cell_type": "code",
   "execution_count": 3,
   "metadata": {},
   "outputs": [
    {
     "data": {
      "text/plain": [
       "list_iterator"
      ]
     },
     "execution_count": 3,
     "metadata": {},
     "output_type": "execute_result"
    }
   ],
   "source": [
    "x = [0, 1, 2, 3, 4, 5, 6, 7, 8, 9] # x es un alista; por tanto es iterable\n",
    "\n",
    "it = iter(x) # it es un objeto list_iterator\n",
    "\n",
    "type(it)\n"
   ]
  },
  {
   "cell_type": "code",
   "execution_count": 4,
   "metadata": {},
   "outputs": [
    {
     "data": {
      "text/plain": [
       "0"
      ]
     },
     "execution_count": 4,
     "metadata": {},
     "output_type": "execute_result"
    }
   ],
   "source": [
    "it.__next__()"
   ]
  },
  {
   "cell_type": "code",
   "execution_count": 5,
   "metadata": {},
   "outputs": [
    {
     "data": {
      "text/plain": [
       "1"
      ]
     },
     "execution_count": 5,
     "metadata": {},
     "output_type": "execute_result"
    }
   ],
   "source": [
    "it.__next__() # el siguiente elemento es 1"
   ]
  },
  {
   "cell_type": "code",
   "execution_count": 11,
   "metadata": {},
   "outputs": [
    {
     "data": {
      "text/plain": [
       "'adulto'"
      ]
     },
     "execution_count": 11,
     "metadata": {},
     "output_type": "execute_result"
    }
   ],
   "source": [
    "a_set = {'joven', 'adulto', 'anciano'} # el conjunto es un iterable, aunque no es una secuencia\n",
    "b_iterator = iter(a_set)\n",
    "next(b_iterator)"
   ]
  },
  {
   "cell_type": "code",
   "execution_count": 12,
   "metadata": {},
   "outputs": [
    {
     "data": {
      "text/plain": [
       "'joven'"
      ]
     },
     "execution_count": 12,
     "metadata": {},
     "output_type": "execute_result"
    }
   ],
   "source": [
    "next(b_iterator)"
   ]
  },
  {
   "cell_type": "code",
   "execution_count": 9,
   "metadata": {},
   "outputs": [
    {
     "data": {
      "text/plain": [
       "(str, str_iterator)"
      ]
     },
     "execution_count": 9,
     "metadata": {},
     "output_type": "execute_result"
    },
    {
     "name": "stdout",
     "output_type": "stream",
     "text": [
      "b\n",
      "a\n",
      "n\n",
      "a\n",
      "n\n",
      "a\n"
     ]
    }
   ],
   "source": [
    "# Iterador e iterable\n",
    "mystr = \"banana\"  # str\n",
    "myit = iter(mystr)  # str_iterator\n",
    "type(mystr),type(myit)\n",
    "for i in mystr:\n",
    "    print(next(myit))  # equivalente a  print(i)"
   ]
  },
  {
   "attachments": {},
   "cell_type": "markdown",
   "metadata": {},
   "source": [
    "## itertools\n",
    "https://realpython.com/python-itertools/\n",
    "https://docs.python.org/3/library/itertools.html\n",
    "\n",
    "Las funciones en itertools \"operan\" en iteradores para producir iteradores más complejos. Un ejemplo es la función integrada zip(), que toma cualquier número de iterables como argumentos y devuelve un iterador sobre tuplas de sus elementos correspondientes.\n",
    "\n",
    "\n",
    "La función zip() funciona, en esencia, al llamar a iter() en cada uno de sus argumentos, luego avanza cada iterador devuelto por iter() con next() y agrega los resultados en tuplas. El iterador devuelto por zip() itera sobre estas tuplas"
   ]
  },
  {
   "cell_type": "code",
   "execution_count": 15,
   "metadata": {},
   "outputs": [
    {
     "name": "stdout",
     "output_type": "stream",
     "text": [
      "\u001b[1;31mInit signature:\u001b[0m \u001b[0mzip\u001b[0m\u001b[1;33m(\u001b[0m\u001b[0mself\u001b[0m\u001b[1;33m,\u001b[0m \u001b[1;33m/\u001b[0m\u001b[1;33m,\u001b[0m \u001b[1;33m*\u001b[0m\u001b[0margs\u001b[0m\u001b[1;33m,\u001b[0m \u001b[1;33m**\u001b[0m\u001b[0mkwargs\u001b[0m\u001b[1;33m)\u001b[0m\u001b[1;33m\u001b[0m\u001b[1;33m\u001b[0m\u001b[0m\n",
      "\u001b[1;31mDocstring:\u001b[0m     \n",
      "zip(*iterables) --> A zip object yielding tuples until an input is exhausted.\n",
      "\n",
      "   >>> list(zip('abcdefg', range(3), range(4)))\n",
      "   [('a', 0, 0), ('b', 1, 1), ('c', 2, 2)]\n",
      "\n",
      "The zip object yields n-length tuples, where n is the number of iterables\n",
      "passed as positional arguments to zip().  The i-th element in every tuple\n",
      "comes from the i-th iterable argument to zip().  This continues until the\n",
      "shortest argument is exhausted.\n",
      "\u001b[1;31mType:\u001b[0m           type\n",
      "\u001b[1;31mSubclasses:\u001b[0m     \n"
     ]
    }
   ],
   "source": [
    "zip?"
   ]
  },
  {
   "cell_type": "code",
   "execution_count": 13,
   "metadata": {},
   "outputs": [
    {
     "data": {
      "text/plain": [
       "[(1, 'a'), (2, 'b'), (3, 'c')]"
      ]
     },
     "execution_count": 13,
     "metadata": {},
     "output_type": "execute_result"
    }
   ],
   "source": [
    "list(zip([1, 2, 3], ['a', 'b', 'c']))"
   ]
  },
  {
   "cell_type": "markdown",
   "metadata": {},
   "source": [
    "## Función map()\n",
    "\n",
    "La función incorporada map() es otro \"operador iterador\" que, en su forma más simple, aplica una función de parámetro único a cada elemento de un elemento iterable a la vez:"
   ]
  },
  {
   "cell_type": "code",
   "execution_count": 16,
   "metadata": {},
   "outputs": [
    {
     "name": "stdout",
     "output_type": "stream",
     "text": [
      "\u001b[1;31mInit signature:\u001b[0m \u001b[0mmap\u001b[0m\u001b[1;33m(\u001b[0m\u001b[0mself\u001b[0m\u001b[1;33m,\u001b[0m \u001b[1;33m/\u001b[0m\u001b[1;33m,\u001b[0m \u001b[1;33m*\u001b[0m\u001b[0margs\u001b[0m\u001b[1;33m,\u001b[0m \u001b[1;33m**\u001b[0m\u001b[0mkwargs\u001b[0m\u001b[1;33m)\u001b[0m\u001b[1;33m\u001b[0m\u001b[1;33m\u001b[0m\u001b[0m\n",
      "\u001b[1;31mDocstring:\u001b[0m     \n",
      "map(func, *iterables) --> map object\n",
      "\n",
      "Make an iterator that computes the function using arguments from\n",
      "each of the iterables.  Stops when the shortest iterable is exhausted.\n",
      "\u001b[1;31mType:\u001b[0m           type\n",
      "\u001b[1;31mSubclasses:\u001b[0m     \n"
     ]
    }
   ],
   "source": [
    "map?"
   ]
  },
  {
   "cell_type": "code",
   "execution_count": 14,
   "metadata": {},
   "outputs": [
    {
     "data": {
      "text/plain": [
       "[3, 2, 4]"
      ]
     },
     "execution_count": 14,
     "metadata": {},
     "output_type": "execute_result"
    }
   ],
   "source": [
    "list(map(len, ['abc', 'de', 'fghi']))"
   ]
  },
  {
   "cell_type": "markdown",
   "metadata": {},
   "source": [
    "La función map() funciona llamando a iter() en su segundo argumento, avanzando este iterador con next() hasta que se agote el iterador y aplicando la función pasada a su primer argumento al valor devuelto por next() en cada paso. En el ejemplo anterior, se llama a len() en cada elemento de ['abc', 'de', 'fghi'] para devolver un iterador sobre las longitudes de cada cadena en la lista.\n",
    "\n",
    "Dado que los iteradores son iterables, puede componer zip() y map() para producir un iterador sobre combinaciones de elementos en más de un iterable. Por ejemplo, lo siguiente suma los elementos correspondientes de dos listas:"
   ]
  },
  {
   "cell_type": "code",
   "execution_count": 17,
   "metadata": {},
   "outputs": [
    {
     "data": {
      "text/plain": [
       "[5, 7, 9]"
      ]
     },
     "execution_count": 17,
     "metadata": {},
     "output_type": "execute_result"
    }
   ],
   "source": [
    "list(map(sum, zip([1, 2, 3], [4, 5, 6])))"
   ]
  },
  {
   "cell_type": "code",
   "execution_count": 13,
   "metadata": {},
   "outputs": [
    {
     "name": "stdout",
     "output_type": "stream",
     "text": [
      "1\n",
      "3\n",
      "5\n",
      "7\n",
      "9\n",
      "11\n"
     ]
    }
   ],
   "source": [
    "from itertools import count\n",
    "sequence = count(start=0, step=1)\n",
    "while(next(sequence) <= 10):\n",
    "    print(next(sequence))\n"
   ]
  },
  {
   "cell_type": "code",
   "execution_count": 16,
   "metadata": {},
   "outputs": [
    {
     "data": {
      "text/plain": [
       "(count(13), itertools.count)"
      ]
     },
     "execution_count": 16,
     "metadata": {},
     "output_type": "execute_result"
    }
   ],
   "source": [
    "sequence,type(sequence)"
   ]
  },
  {
   "cell_type": "code",
   "execution_count": 18,
   "metadata": {},
   "outputs": [
    {
     "name": "stdout",
     "output_type": "stream",
     "text": [
      "Q. What do we have for dessert? A: Icecream\n",
      "Q. What do we have for dessert? A: Cake\n",
      "Q. What do we have for dessert? A: Icecream\n",
      "Q. What do we have for dessert? A: Cake\n"
     ]
    }
   ],
   "source": [
    "from itertools import cycle\n",
    "dessert = cycle(['Icecream','Cake'])\n",
    "count = 0\n",
    "while(count != 4):\n",
    "    print('Q. What do we have for dessert? A: ' + next(dessert))\n",
    "    count += 1\n"
   ]
  },
  {
   "cell_type": "code",
   "execution_count": 19,
   "metadata": {},
   "outputs": [
    {
     "name": "stdout",
     "output_type": "stream",
     "text": [
      "\u001b[1;31mInit signature:\u001b[0m \u001b[0mcycle\u001b[0m\u001b[1;33m(\u001b[0m\u001b[0miterable\u001b[0m\u001b[1;33m,\u001b[0m \u001b[1;33m/\u001b[0m\u001b[1;33m)\u001b[0m\u001b[1;33m\u001b[0m\u001b[1;33m\u001b[0m\u001b[0m\n",
      "\u001b[1;31mDocstring:\u001b[0m      Return elements from the iterable until it is exhausted. Then repeat the sequence indefinitely.\n",
      "\u001b[1;31mType:\u001b[0m           type\n",
      "\u001b[1;31mSubclasses:\u001b[0m     \n"
     ]
    }
   ],
   "source": [
    "cycle?"
   ]
  },
  {
   "cell_type": "code",
   "execution_count": 21,
   "metadata": {},
   "outputs": [
    {
     "name": "stdout",
     "output_type": "stream",
     "text": [
      "(10,) green\n"
     ]
    }
   ],
   "source": [
    "def mi_funcion(* a, color ='green'):\n",
    "    print(a,color)\n",
    "\n",
    "mi_funcion(10)"
   ]
  },
  {
   "cell_type": "code",
   "execution_count": 22,
   "metadata": {},
   "outputs": [
    {
     "name": "stdout",
     "output_type": "stream",
     "text": [
      "(10, 'rose') green\n"
     ]
    }
   ],
   "source": [
    "mi_funcion(10, 'rose')"
   ]
  },
  {
   "cell_type": "code",
   "execution_count": 23,
   "metadata": {},
   "outputs": [
    {
     "name": "stdout",
     "output_type": "stream",
     "text": [
      "(10, 'rose', {'r'}) black\n"
     ]
    }
   ],
   "source": [
    "mi_funcion(10,'rose',{'r'},color='black')"
   ]
  },
  {
   "cell_type": "code",
   "execution_count": null,
   "metadata": {},
   "outputs": [],
   "source": []
  }
 ],
 "metadata": {
  "kernelspec": {
   "display_name": "Python 3 (ipykernel)",
   "language": "python",
   "name": "python3"
  },
  "language_info": {
   "codemirror_mode": {
    "name": "ipython",
    "version": 3
   },
   "file_extension": ".py",
   "mimetype": "text/x-python",
   "name": "python",
   "nbconvert_exporter": "python",
   "pygments_lexer": "ipython3",
   "version": "3.8.12"
  }
 },
 "nbformat": 4,
 "nbformat_minor": 4
}
