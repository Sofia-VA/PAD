{
 "cells": [
  {
   "cell_type": "markdown",
   "metadata": {},
   "source": [
    "## Librerías"
   ]
  },
  {
   "cell_type": "code",
   "execution_count": 1,
   "metadata": {},
   "outputs": [],
   "source": [
    "# Para visualizar más de una salida de una celda\n",
    "from IPython.core.interactiveshell import InteractiveShell\n",
    "InteractiveShell.ast_node_interactivity = \"all\""
   ]
  },
  {
   "cell_type": "markdown",
   "metadata": {},
   "source": [
    "## Preguntas"
   ]
  },
  {
   "cell_type": "markdown",
   "metadata": {},
   "source": [
    "### Pregunta 1"
   ]
  },
  {
   "cell_type": "markdown",
   "metadata": {},
   "source": [
    "Escriba un código en Python, usando comprensión de listas, que le permita encontrar los números entre 1 y 1000 (inclusivos), que tengan al menos un dígito '3' en ellos."
   ]
  },
  {
   "cell_type": "code",
   "execution_count": 6,
   "metadata": {},
   "outputs": [
    {
     "name": "stdout",
     "output_type": "stream",
     "text": [
      "[3, 13, 23, 30, 31, 32, 33, 34, 35, 36, 37, 38, 39, 43, 53, 63, 73, 83, 93, 103, 113, 123, 130, 131, 132, 133, 134, 135, 136, 137, 138, 139, 143, 153, 163, 173, 183, 193, 203, 213, 223, 230, 231, 232, 233, 234, 235, 236, 237, 238, 239, 243, 253, 263, 273, 283, 293, 300, 301, 302, 303, 304, 305, 306, 307, 308, 309, 310, 311, 312, 313, 314, 315, 316, 317, 318, 319, 320, 321, 322, 323, 324, 325, 326, 327, 328, 329, 330, 331, 332, 333, 334, 335, 336, 337, 338, 339, 340, 341, 342, 343, 344, 345, 346, 347, 348, 349, 350, 351, 352, 353, 354, 355, 356, 357, 358, 359, 360, 361, 362, 363, 364, 365, 366, 367, 368, 369, 370, 371, 372, 373, 374, 375, 376, 377, 378, 379, 380, 381, 382, 383, 384, 385, 386, 387, 388, 389, 390, 391, 392, 393, 394, 395, 396, 397, 398, 399, 403, 413, 423, 430, 431, 432, 433, 434, 435, 436, 437, 438, 439, 443, 453, 463, 473, 483, 493, 503, 513, 523, 530, 531, 532, 533, 534, 535, 536, 537, 538, 539, 543, 553, 563, 573, 583, 593, 603, 613, 623, 630, 631, 632, 633, 634, 635, 636, 637, 638, 639, 643, 653, 663, 673, 683, 693, 703, 713, 723, 730, 731, 732, 733, 734, 735, 736, 737, 738, 739, 743, 753, 763, 773, 783, 793, 803, 813, 823, 830, 831, 832, 833, 834, 835, 836, 837, 838, 839, 843, 853, 863, 873, 883, 893, 903, 913, 923, 930, 931, 932, 933, 934, 935, 936, 937, 938, 939, 943, 953, 963, 973, 983, 993]\n"
     ]
    }
   ],
   "source": [
    "arr = []\n",
    "for num in range(1,1001):\n",
    "    if ('3' in str(num)):\n",
    "        arr.append(num)\n",
    "print(arr)\n"
   ]
  },
  {
   "cell_type": "markdown",
   "metadata": {},
   "source": [
    "### Pregunta 2"
   ]
  },
  {
   "cell_type": "markdown",
   "metadata": {},
   "source": [
    "Escriba un código en Python, usando listas por comprensión, que encuentre los números en común de dos listas (sin usar tuplas o sets)\n",
    "\n",
    "Use las siguientes listas para probar su código:\n",
    "\n",
    "list_a = [1, 2, 3, 4]\n",
    "\n",
    "list_b = [2, 3, 4, 5]"
   ]
  },
  {
   "cell_type": "code",
   "execution_count": 8,
   "metadata": {},
   "outputs": [
    {
     "data": {
      "text/plain": [
       "[2, 3, 4]"
      ]
     },
     "execution_count": 8,
     "metadata": {},
     "output_type": "execute_result"
    }
   ],
   "source": [
    "list_a = [1, 2, 3, 4]\n",
    "list_b = [2, 3, 4, 5]\n",
    "\n",
    "arr = []\n",
    "for elem in list_a:\n",
    "    if elem in list_b:\n",
    "        arr.append(elem)\n",
    "arr"
   ]
  },
  {
   "cell_type": "markdown",
   "metadata": {},
   "source": [
    "### Pregunta 3"
   ]
  },
  {
   "cell_type": "markdown",
   "metadata": {},
   "source": [
    "Complete el siguiente código Python para: \n",
    "\n",
    "Crear una función func_compute(n) que retorne lo producido por una función lambda. La función func_compute(n) toma n y lo multiplica un número desconocido x.\n",
    "Complete también el resto del código. \n",
    "\n",
    "El resultado debe verse así:\n",
    "\n",
    "Dobla el número 15 = 30\n",
    "Triplica el número 15 = 45\n",
    "Cuadriplica el número 15 = 60"
   ]
  },
  {
   "cell_type": "code",
   "execution_count": 11,
   "metadata": {},
   "outputs": [
    {
     "name": "stdout",
     "output_type": "stream",
     "text": [
      "Duplica el número 15 = 30\n",
      "Triplica el número 15 = 45\n",
      "Cuadriplica el número 15 = 60\n"
     ]
    }
   ],
   "source": [
    "def func_compute(n):\n",
    "    return lambda x: n*x\n",
    "\n",
    "resultado = func_compute(2)\n",
    "print(\"Duplica el número 15 =\", resultado(15)) \n",
    "\n",
    "resultado = func_compute(3) \n",
    "print(\"Triplica el número 15 =\", resultado(15)) \n",
    "\n",
    "resultado = func_compute(4)\n",
    "print(\"Cuadriplica el número 15 =\", resultado(15)) "
   ]
  },
  {
   "cell_type": "markdown",
   "metadata": {},
   "source": [
    "### Pregunta 4"
   ]
  },
  {
   "cell_type": "markdown",
   "metadata": {},
   "source": [
    "Complete el siguiente código Python que calcula el cuadrado y el cubo todos los números de la siguiente lista de enteros usando funciones lambda.\n",
    "\n",
    "El resultado (salida del código) debe verse así:\n",
    "\n",
    "Lista original: [1,2,3,4,5,6,7,8,9,10]\n",
    "\n",
    "Lista al cuadrado: [1,4,9, 16, 25, 36, 49, 64, 81, 100]\n",
    "\n",
    "Lista al cubo: [1, 8, 27, 64, 125, 216, 343, 512, 729, 1000]"
   ]
  },
  {
   "cell_type": "code",
   "execution_count": 14,
   "metadata": {},
   "outputs": [
    {
     "name": "stdout",
     "output_type": "stream",
     "text": [
      "Lista original:\n",
      "[1, 2, 3, 4, 5, 6, 7, 8, 9, 10]\n",
      "\n",
      "Lista al cuadrado:\n",
      "[1, 4, 9, 16, 25, 36, 49, 64, 81, 100]\n",
      "\n",
      "Lista al cubo:\n",
      "[1, 8, 27, 64, 125, 216, 343, 512, 729, 1000]\n"
     ]
    }
   ],
   "source": [
    "nums = [1, 2, 3, 4, 5, 6, 7, 8, 9, 10] \n",
    "\n",
    "print(\"Lista original:\") \n",
    "print(nums) \n",
    "print(\"\\nLista al cuadrado:\") \n",
    "square_nums = list(map(lambda x: x ** 2, nums))\n",
    "\n",
    "\n",
    "print(square_nums) \n",
    "print(\"\\nLista al cubo:\") \n",
    "cube_nums = list(map(lambda x: x ** 3, nums))\n",
    "\n",
    " \n",
    "print(cube_nums)"
   ]
  },
  {
   "cell_type": "markdown",
   "metadata": {},
   "source": [
    "### Pregunta 5"
   ]
  },
  {
   "cell_type": "markdown",
   "metadata": {},
   "source": [
    "Escribe un programa Python para encontrar números de una lista que sean divisibles entre 19 o entre 13, usando una función lambda.\n",
    "\n",
    "El resultado debería verse así:\n",
    "\n",
    "Lista original: [19, 65, 57, 39, 152, 639, 121, 44, 90, 190]\n",
    "\n",
    "Números que son divisibles entre 19 o 13: [19, 65, 57, 39, 152, 190]"
   ]
  },
  {
   "cell_type": "code",
   "execution_count": 17,
   "metadata": {},
   "outputs": [
    {
     "name": "stdout",
     "output_type": "stream",
     "text": [
      "Lista original:  [19, 65, 57, 39, 152, 639, 121, 44, 90, 190]\n",
      "Números que son divisibles entre 19 o 13:  [19, 65, 57, 39, 152, 190]\n"
     ]
    }
   ],
   "source": [
    "lista = [19, 65, 57, 39, 152, 639, 121, 44, 90, 190]\n",
    "resultado = list(filter(lambda x: x%19==0 or x%13==0, lista))\n",
    "\n",
    "print('Lista original: ', lista)\n",
    "print('Números que son divisibles entre 19 o 13: ', resultado)"
   ]
  },
  {
   "cell_type": "markdown",
   "metadata": {},
   "source": [
    "### Pregunta 6"
   ]
  },
  {
   "cell_type": "markdown",
   "metadata": {},
   "source": [
    "Complete la función imp_lineas(arch,subcad) a la que se le pasa un nombre de archivo (incluida su ruta) y una cadena e imprima solo las líneas del archivo que contengan la cadena. Dicha función debe llamar a la siguiente función generadora:\n"
   ]
  },
  {
   "cell_type": "code",
   "execution_count": 27,
   "metadata": {},
   "outputs": [
    {
     "name": "stdout",
     "output_type": "stream",
     "text": [
      "hola que tal\n",
      "creo que voy a reprobar\n",
      "porque estoy muy idiota\n",
      "que sorpresa\n",
      "que decepcionante soy\n",
      "no sé por que existo\n"
     ]
    }
   ],
   "source": [
    "def readfiles(filenames):   \n",
    "    ''' filenames: lista de nombres de archivos con su ruta'''\n",
    "    for f in filenames:\n",
    "        for line in open(f):\n",
    "            yield line\n",
    " \n",
    "\n",
    "def imp_lineas(arch,subcad):\n",
    "    '''\n",
    "    Parameters\n",
    "    ----------\n",
    "    arch : list\n",
    "        lista de nombres de archivos\n",
    "    subcad : str\n",
    "        cadena de caracteres presente en la línea a imprimir.\n",
    "    '''\n",
    "\n",
    "    files = readfiles(arch)\n",
    "    r_lines = (line.strip() for line in files if subcad in line)\n",
    "\n",
    "    [print(line) for line in r_lines]\n",
    "    \n",
    "       \n",
    "\n",
    "archivos = ['texto1.txt', 'texto2.txt'] \n",
    "\n",
    "imp_lineas(archivos,'que')"
   ]
  },
  {
   "cell_type": "markdown",
   "metadata": {},
   "source": [
    "### Pregunta 7"
   ]
  },
  {
   "cell_type": "markdown",
   "metadata": {},
   "source": [
    "Completa la  función tot_lineas_ejecut(list_ipynb) que retorna el número total de líneas de cógido, ignorando líneas vacías y de comentario, en todos los archivos .ipynb de la lista que se le pase como argumento. Esta función debe llamar a la función generadora siguiente:"
   ]
  },
  {
   "cell_type": "code",
   "execution_count": 88,
   "metadata": {},
   "outputs": [],
   "source": [
    "def readfiles(filenames):\n",
    "    ''' filenames: lista de nombres de archivos con su ruta''' \n",
    "    for f in filenames: \n",
    "        for line in open(f): \n",
    "            yield line\n",
    "\n",
    "def tot_lineas_ejecut(list_ipynb):\n",
    "    '''\n",
    "    list_ipynb:list\n",
    "    Retorna el número total de líneas de cógido, ignorando líneas vacías y de comentario\n",
    "    '''\n",
    "    tot = 0\n",
    "\n",
    "    files = readfiles(list_ipynb)\n",
    "\n",
    "    for line in files:\n",
    "        if line.strip() and not line.strip().startswith('#'):\n",
    "            tot +=1\n",
    "    return tot\n"
   ]
  },
  {
   "cell_type": "markdown",
   "metadata": {},
   "source": [
    "### Pregunta 8"
   ]
  },
  {
   "cell_type": "markdown",
   "metadata": {},
   "source": [
    "Complete la siguiente función generadora que provee valores que aumenten de 3 en 3, desde un valor  mínimo inclusivo(start) hasta un valor máximo exclusivo (stop). Escriba a continuación un código con argumentos de prueba que llame a genera_serie3() e imprime cada valor generado.\n",
    "\n",
    "def genera_serie3(start, stop):\n",
    "   ..."
   ]
  },
  {
   "cell_type": "code",
   "execution_count": 97,
   "metadata": {},
   "outputs": [
    {
     "data": {
      "text/plain": [
       "list"
      ]
     },
     "execution_count": 97,
     "metadata": {},
     "output_type": "execute_result"
    },
    {
     "name": "stdout",
     "output_type": "stream",
     "text": [
      "0\n",
      "3\n",
      "6\n",
      "9\n",
      "12\n",
      "15\n",
      "18\n",
      "21\n",
      "24\n",
      "27\n"
     ]
    },
    {
     "data": {
      "text/plain": [
       "[None, None, None, None, None, None, None, None, None, None]"
      ]
     },
     "execution_count": 97,
     "metadata": {},
     "output_type": "execute_result"
    }
   ],
   "source": [
    "def genera_serie3(start, stop):\n",
    "    cont = start\n",
    "    for i in range(stop):\n",
    "        if (i<=stop):\n",
    "            yield cont\n",
    "            cont += 3\n",
    "        else:\n",
    "            return\n",
    "\n",
    "resultado = list(genera_serie3(0,10))\n",
    "type(resultado)\n",
    "[print(num) for num in resultado]"
   ]
  },
  {
   "cell_type": "markdown",
   "metadata": {},
   "source": [
    "### Pregunta 9"
   ]
  },
  {
   "cell_type": "markdown",
   "metadata": {},
   "source": [
    "Completa el siguiente código:\n",
    "\n",
    "\n",
    "\n",
    "La salida debe verse así, incluyendo el texo:\n",
    "\n",
    "Arreglo original: [1, 2, 3, 4]\n",
    "\n",
    "Arreglo convertido a flotante: [ 1. 2. 3. 4.]"
   ]
  },
  {
   "cell_type": "code",
   "execution_count": 90,
   "metadata": {},
   "outputs": [
    {
     "name": "stdout",
     "output_type": "stream",
     "text": [
      "Arreglo original:  [1, 2, 3, 4]\n",
      "Arreglo convertido a flotante:  [1. 2. 3. 4.]\n"
     ]
    }
   ],
   "source": [
    "import numpy as np \n",
    "a = [1, 2, 3, 4] \n",
    "print(\"Arreglo original: \",a) \n",
    "x = np.array(a,dtype=float)\n",
    "print(\"Arreglo convertido a flotante: \",x) "
   ]
  },
  {
   "cell_type": "markdown",
   "metadata": {},
   "source": [
    "Hay muchas formas de hacerlo. Veamos algunas:\n",
    "+ x = np.asfarray(a) \n",
    "+ x = np.array([float(i) for i in a]) \n",
    "+ x = np.asarray(a).astype('float') \n",
    "+ x = np.asarray(a,dtype='float') "
   ]
  },
  {
   "cell_type": "markdown",
   "metadata": {},
   "source": [
    "### Pregunta 10"
   ]
  },
  {
   "cell_type": "markdown",
   "metadata": {},
   "source": [
    "Complete el código para crear un arreglo con valores de 12 a 38\n",
    "\n",
    "import numpy as np \n",
    "_________________\n",
    "print(x)\n",
    "La salida al imprimir el arreglo debe verse así:\n",
    "\n",
    "[12 13 14 15 16 17 18 19 20 21 22 23 24 25 26 27 28 29 30 31 32 33 34 35 36 37]"
   ]
  },
  {
   "cell_type": "markdown",
   "metadata": {},
   "source": [
    "### Pregunta 11"
   ]
  },
  {
   "cell_type": "markdown",
   "metadata": {},
   "source": [
    "Complete el código para indicar la posición del elemento de máximo valor  y del elemento de mínimo valor de un arreglo de numpy.\n",
    "\n",
    "Si el arreglo original es [4,66,0,10,1], la salida debe verse así:\n",
    "\n",
    "índice del máximo: 1\n",
    "índice del mínimo: 2\n",
    "\n",
    "Si el arreglo original es [[4,66,0],[10,68,3]], la salida debe verse así:\n",
    "\n",
    "índice del máximo: 4\n",
    "índice del mínimo: 2\n",
    "\n"
   ]
  },
  {
   "cell_type": "code",
   "execution_count": 92,
   "metadata": {},
   "outputs": [
    {
     "data": {
      "text/plain": [
       "array([ 4, 66,  0, 10, 68,  3])"
      ]
     },
     "execution_count": 92,
     "metadata": {},
     "output_type": "execute_result"
    },
    {
     "name": "stdout",
     "output_type": "stream",
     "text": [
      "Arreglo original:  [[ 4 66  0]\n",
      " [10 68  3]]\n",
      "índice del máximo:  4\n",
      "índice del mínimo:  2\n"
     ]
    }
   ],
   "source": [
    "# No se necesita usar flatten\n",
    "import numpy as np \n",
    "x = np.array([[4,66,0],[10,68,3]]) \n",
    "x.flatten()\n",
    "print(\"Arreglo original: \",x) \n",
    "print(\"índice del máximo: \", np.argmax(x)) \n",
    "print(\"índice del mínimo: \",np.argmin(x))"
   ]
  },
  {
   "cell_type": "markdown",
   "metadata": {},
   "source": [
    "### Pregunta 12"
   ]
  },
  {
   "cell_type": "markdown",
   "metadata": {},
   "source": [
    "Selecciona todas las opciones correctas para eliminar “Naranja” del set\n",
    "\n",
    "sampleSet = {'Amarillo', 'Naranja', 'Negro'}\n",
    "\n",
    "Grupo de opciones de respuesta\n",
    "\n",
    "+ del sampleSet [“Naranja”]       (no se puede eliminar de un set)\n",
    "\n",
    "+ sampleSet.remove('Naranja')     (sí)\n",
    "\n",
    "+ sampleSet.pop(“Naranja”)        (Pop no toma argumentos)\n",
    "\n",
    "+ sampleSet.discard(“Naranja”)    (sí) "
   ]
  },
  {
   "cell_type": "code",
   "execution_count": 32,
   "metadata": {},
   "outputs": [
    {
     "data": {
      "text/plain": [
       "{'Amarillo', 'Negro'}"
      ]
     },
     "execution_count": 32,
     "metadata": {},
     "output_type": "execute_result"
    }
   ],
   "source": [
    "sampleSet = {'Amarillo', 'Naranja', 'Negro'}\n",
    "\n",
    "# del sampleSet ['Naranja']\n",
    "# sampleSet\n",
    "\n",
    "sampleSet.discard('Naranja')\n",
    "sampleSet\n"
   ]
  },
  {
   "cell_type": "markdown",
   "metadata": {},
   "source": [
    "### Pregunta 13"
   ]
  },
  {
   "cell_type": "markdown",
   "metadata": {},
   "source": [
    "Selecciona la manera correcta de copiar 2 sets\n",
    "\n",
    "+ (X) set2 = set1.copy() \n",
    "+ ( ) set2 = set1(set1) \n",
    "+ ( ) set2.update(set1)\n",
    "+ ( ) set1 = set1"
   ]
  },
  {
   "cell_type": "code",
   "execution_count": 39,
   "metadata": {},
   "outputs": [
    {
     "data": {
      "text/plain": [
       "2905026611232"
      ]
     },
     "execution_count": 39,
     "metadata": {},
     "output_type": "execute_result"
    },
    {
     "data": {
      "text/plain": [
       "{'Amarillo', 'Naranja', 'Negro'}"
      ]
     },
     "execution_count": 39,
     "metadata": {},
     "output_type": "execute_result"
    },
    {
     "data": {
      "text/plain": [
       "2905026611232"
      ]
     },
     "execution_count": 39,
     "metadata": {},
     "output_type": "execute_result"
    },
    {
     "data": {
      "text/plain": [
       "{'Amarillo', 'Naranja', 'Negro'}"
      ]
     },
     "execution_count": 39,
     "metadata": {},
     "output_type": "execute_result"
    }
   ],
   "source": [
    "set1 = {'Amarillo', 'Naranja', 'Negro'}\n",
    "set2 = {}\n",
    "\n",
    "# (X) set2 = set1.copy() \n",
    "# set2 = set1(set1) # Set obj not callable\n",
    "# set2.update(set1) # Ni idea\n",
    "# set2 = set1\n",
    "\n",
    "id(set1)\n",
    "set1\n",
    "id(set2)\n",
    "set2\n"
   ]
  },
  {
   "cell_type": "markdown",
   "metadata": {},
   "source": [
    "### Pregunta 14"
   ]
  },
  {
   "cell_type": "markdown",
   "metadata": {},
   "source": [
    "¿Cuál es el resultado del siguiente código?  \n",
    "R: Amarillo"
   ]
  },
  {
   "cell_type": "code",
   "execution_count": 40,
   "metadata": {},
   "outputs": [
    {
     "name": "stdout",
     "output_type": "stream",
     "text": [
      "Amarillo\n"
     ]
    }
   ],
   "source": [
    "aTuple = 'Amarillo', 20, 'Rojo'\n",
    "a, b, c = aTuple\n",
    "print(a)"
   ]
  },
  {
   "cell_type": "markdown",
   "metadata": {},
   "source": [
    "### Pregunta 15"
   ]
  },
  {
   "cell_type": "markdown",
   "metadata": {},
   "source": [
    "Selecciona lo que es verdad sobre las tuplas en Python\n",
    "\n",
    "+ (X) No podemos cambiar la tupla una vez creada\n",
    "\n",
    "+ ( ) Podemos cambiar la tupla una vez creada\n",
    "\n",
    "+ (X) La tupla no tiene orden\n",
    "\n",
    "+ ( ) La tupla mantiene el orden de los ítems"
   ]
  },
  {
   "cell_type": "markdown",
   "metadata": {},
   "source": [
    "### Pregunta 16"
   ]
  },
  {
   "cell_type": "markdown",
   "metadata": {},
   "source": [
    "¿Cuál es el resultado del siguiente código?"
   ]
  },
  {
   "cell_type": "code",
   "execution_count": 43,
   "metadata": {},
   "outputs": [
    {
     "name": "stdout",
     "output_type": "stream",
     "text": [
      "False\n"
     ]
    }
   ],
   "source": [
    "dict1 = {'key':1,'key2':2}\n",
    "dict2 = {'key':2,'key2':1}\n",
    "\n",
    "print(dict1==dict2)\n"
   ]
  },
  {
   "cell_type": "markdown",
   "metadata": {},
   "source": [
    "### Pregunta 17"
   ]
  },
  {
   "cell_type": "markdown",
   "metadata": {},
   "source": [
    "Escribe en Python la manera correcta para acceder el valor de \"historia\"\n",
    "\n",
    "![Alt text](image.png)"
   ]
  },
  {
   "cell_type": "code",
   "execution_count": 87,
   "metadata": {},
   "outputs": [
    {
     "name": "stdout",
     "output_type": "stream",
     "text": [
      "80\n"
     ]
    }
   ],
   "source": [
    "sampleDict = {\n",
    "    'clase':{\n",
    "        'estudiante':{\n",
    "            'nombre':'Mike',\n",
    "            'marks':{\n",
    "                'historia':80\n",
    "            }\n",
    "        },\n",
    "        'estudiante1':{\n",
    "            'nombre':'laura',\n",
    "            'marks':{\n",
    "                'historia':80\n",
    "            }\n",
    "        }\n",
    "    }\n",
    "}\n",
    "\n",
    "for key,estudiante in sampleDict['clase'].items():\n",
    "    if estudiante['nombre'] == 'Mike':\n",
    "        print(estudiante['marks']['historia'])\n",
    "        break"
   ]
  },
  {
   "cell_type": "markdown",
   "metadata": {},
   "source": [
    "### Pregunta 18"
   ]
  },
  {
   "cell_type": "markdown",
   "metadata": {},
   "source": [
    "Escriba código Python usando la biblioteca pandas y otras requeridas para:\n",
    "\n",
    "1- Crear un DataFrame con las columnas llamadas \"x\", \"y\" y \"prom\" \n",
    "\n",
    "2- Las columnas \"x\" , \"y\" contendrán valores aleatorios entre (5,10) y representan calificaciones de alumnos\n",
    "\n",
    "3- La columna tendrá el promedio de las columnas x\" , \"y\"\n",
    "\n",
    "4- Guardará en un archivo binario los valores de la columna \"prom\" y en un archivo csv el DataFrame, sin que se guarde una columna con el índice."
   ]
  },
  {
   "cell_type": "code",
   "execution_count": 75,
   "metadata": {},
   "outputs": [
    {
     "data": {
      "text/html": [
       "<div>\n",
       "<style scoped>\n",
       "    .dataframe tbody tr th:only-of-type {\n",
       "        vertical-align: middle;\n",
       "    }\n",
       "\n",
       "    .dataframe tbody tr th {\n",
       "        vertical-align: top;\n",
       "    }\n",
       "\n",
       "    .dataframe thead th {\n",
       "        text-align: right;\n",
       "    }\n",
       "</style>\n",
       "<table border=\"1\" class=\"dataframe\">\n",
       "  <thead>\n",
       "    <tr style=\"text-align: right;\">\n",
       "      <th></th>\n",
       "      <th>x</th>\n",
       "      <th>y</th>\n",
       "      <th>prom</th>\n",
       "    </tr>\n",
       "  </thead>\n",
       "  <tbody>\n",
       "  </tbody>\n",
       "</table>\n",
       "</div>"
      ],
      "text/plain": [
       "Empty DataFrame\n",
       "Columns: [x, y, prom]\n",
       "Index: []"
      ]
     },
     "execution_count": 75,
     "metadata": {},
     "output_type": "execute_result"
    },
    {
     "data": {
      "text/html": [
       "<div>\n",
       "<style scoped>\n",
       "    .dataframe tbody tr th:only-of-type {\n",
       "        vertical-align: middle;\n",
       "    }\n",
       "\n",
       "    .dataframe tbody tr th {\n",
       "        vertical-align: top;\n",
       "    }\n",
       "\n",
       "    .dataframe thead th {\n",
       "        text-align: right;\n",
       "    }\n",
       "</style>\n",
       "<table border=\"1\" class=\"dataframe\">\n",
       "  <thead>\n",
       "    <tr style=\"text-align: right;\">\n",
       "      <th></th>\n",
       "      <th>x</th>\n",
       "      <th>y</th>\n",
       "      <th>prom</th>\n",
       "    </tr>\n",
       "  </thead>\n",
       "  <tbody>\n",
       "    <tr>\n",
       "      <th>0</th>\n",
       "      <td>7</td>\n",
       "      <td>6</td>\n",
       "      <td>NaN</td>\n",
       "    </tr>\n",
       "    <tr>\n",
       "      <th>1</th>\n",
       "      <td>6</td>\n",
       "      <td>8</td>\n",
       "      <td>NaN</td>\n",
       "    </tr>\n",
       "    <tr>\n",
       "      <th>2</th>\n",
       "      <td>7</td>\n",
       "      <td>9</td>\n",
       "      <td>NaN</td>\n",
       "    </tr>\n",
       "    <tr>\n",
       "      <th>3</th>\n",
       "      <td>5</td>\n",
       "      <td>6</td>\n",
       "      <td>NaN</td>\n",
       "    </tr>\n",
       "    <tr>\n",
       "      <th>4</th>\n",
       "      <td>5</td>\n",
       "      <td>5</td>\n",
       "      <td>NaN</td>\n",
       "    </tr>\n",
       "  </tbody>\n",
       "</table>\n",
       "</div>"
      ],
      "text/plain": [
       "   x  y  prom\n",
       "0  7  6   NaN\n",
       "1  6  8   NaN\n",
       "2  7  9   NaN\n",
       "3  5  6   NaN\n",
       "4  5  5   NaN"
      ]
     },
     "execution_count": 75,
     "metadata": {},
     "output_type": "execute_result"
    },
    {
     "data": {
      "text/html": [
       "<div>\n",
       "<style scoped>\n",
       "    .dataframe tbody tr th:only-of-type {\n",
       "        vertical-align: middle;\n",
       "    }\n",
       "\n",
       "    .dataframe tbody tr th {\n",
       "        vertical-align: top;\n",
       "    }\n",
       "\n",
       "    .dataframe thead th {\n",
       "        text-align: right;\n",
       "    }\n",
       "</style>\n",
       "<table border=\"1\" class=\"dataframe\">\n",
       "  <thead>\n",
       "    <tr style=\"text-align: right;\">\n",
       "      <th></th>\n",
       "      <th>x</th>\n",
       "      <th>y</th>\n",
       "      <th>prom</th>\n",
       "    </tr>\n",
       "  </thead>\n",
       "  <tbody>\n",
       "    <tr>\n",
       "      <th>0</th>\n",
       "      <td>7</td>\n",
       "      <td>6</td>\n",
       "      <td>6.5</td>\n",
       "    </tr>\n",
       "    <tr>\n",
       "      <th>1</th>\n",
       "      <td>6</td>\n",
       "      <td>8</td>\n",
       "      <td>7.0</td>\n",
       "    </tr>\n",
       "    <tr>\n",
       "      <th>2</th>\n",
       "      <td>7</td>\n",
       "      <td>9</td>\n",
       "      <td>8.0</td>\n",
       "    </tr>\n",
       "    <tr>\n",
       "      <th>3</th>\n",
       "      <td>5</td>\n",
       "      <td>6</td>\n",
       "      <td>5.5</td>\n",
       "    </tr>\n",
       "    <tr>\n",
       "      <th>4</th>\n",
       "      <td>5</td>\n",
       "      <td>5</td>\n",
       "      <td>5.0</td>\n",
       "    </tr>\n",
       "  </tbody>\n",
       "</table>\n",
       "</div>"
      ],
      "text/plain": [
       "   x  y  prom\n",
       "0  7  6   6.5\n",
       "1  6  8   7.0\n",
       "2  7  9   8.0\n",
       "3  5  6   5.5\n",
       "4  5  5   5.0"
      ]
     },
     "execution_count": 75,
     "metadata": {},
     "output_type": "execute_result"
    }
   ],
   "source": [
    "import pandas as pd\n",
    "import numpy as np\n",
    "alumnos = 5\n",
    "\n",
    "df = pd.DataFrame(data={'x':[],'y':[],'prom':[]})\n",
    "df\n",
    "df['x'] = np.random.randint(5,10, alumnos)\n",
    "df['y'] = np.random.randint(5,10, alumnos)\n",
    "df\n",
    "df['prom'] = df.mean(axis=1)\n",
    "df\n",
    " \n",
    "\n",
    "tipos = pd.DataFrame(df.dtypes,columns=['dtypes'])\n",
    "tipos.to_csv('tipos_pobreza.csv',index_label='columnas',header=['tipos'],encoding='utf_8')\n",
    "\n",
    "proms = df['prom'].to_numpy()\n",
    "np.save('promedio.npy', proms)\n",
    "df.to_csv('calificaciones.csv',index=False,encoding='utf-8')\n",
    "\n"
   ]
  },
  {
   "cell_type": "code",
   "execution_count": null,
   "metadata": {},
   "outputs": [],
   "source": []
  }
 ],
 "metadata": {
  "kernelspec": {
   "display_name": "DeepEnv",
   "language": "python",
   "name": "python3"
  },
  "language_info": {
   "codemirror_mode": {
    "name": "ipython",
    "version": 3
   },
   "file_extension": ".py",
   "mimetype": "text/x-python",
   "name": "python",
   "nbconvert_exporter": "python",
   "pygments_lexer": "ipython3",
   "version": "3.8.12"
  },
  "orig_nbformat": 4
 },
 "nbformat": 4,
 "nbformat_minor": 2
}
