{
 "cells": [
  {
   "cell_type": "markdown",
   "id": "22a741a7",
   "metadata": {},
   "source": [
    "# Programación para Análisis de datos\n",
    "\n",
    "## Análisis de datos exploratorio (EDA). Análisis univariado.\n",
    "\n",
    "## Caso: Veterans' Administration Lung Cancer study\n",
    "\n",
    "### Mtra. Gisel Hernández Chávez\n",
    "\n",
    "Este caso es un ensayo aleatorizado de dos regímenes de tratamiento para el cáncer de pulmón. Es un conjunto de datos de análisis de supervivencia estándar con una muestra de 137 pacientes.https://rdrr.io/cran/survival/man/veteran.html\n",
    "\n",
    "__Sigificado de los campos__\n",
    "\n",
    "__trt__:\t1=standard 2=test  Dos tipos de tratamiento para el ensayo clínico / nominal\n",
    "\n",
    "__celltype__:\t1=squamous, 2=smallcell, 3=adeno, 4=large     / nominal\n",
    "\n",
    "__time__:\tsurvival time   (días de supervivencia)           / razón\n",
    "\n",
    "__status__:\tcensoring status  / nominal\n",
    "\n",
    "__karno__:\tKarnofsky performance score (100=good)       / ordinal (algunos pueden considerarlo de intervalo) Por ejemplo: el mismo oncólogo fue el que determinó el karno de cada paciente.\n",
    "\n",
    "    A standard way of measuring the ability of cancer patients to perform ordinary tasks. The Karnofsky Performance Status scores range from 0 to 100. A higher score means the patient is better able to carry out daily activities.\n",
    "\n",
    "    \"The scoring is subjectively assigned by a health professional based on the following hierarchical scale: 100=normal, no evidence of disease; 90=able to perform normal activity with only minor symptoms; 80=normal activity with effort, some symptoms; 70=able to care for self but unable to do normal activities; 60=requires occasional assistance, care for most needs; 50=requires considerable assistance; 40=disabled, requires special assistance; 30=severely disabled; 20=very sick, requires active supportive treatment; 10=moribund. Intermediate or even decimal scores can be assigned. The tool is named after David A. Karnofsky, who described the scale in 1949.\"(Ferrucci et.all,2007)\n",
    "\n",
    "    <div class=\"csl-entry\">Ferrucci, L., Koh, C., Bandinelli, S., &#38; Guralnik, J. M. (2007). Disability, Functional Status, and Activities of Daily Living. <i>Encyclopedia of Gerontology</i>, 427–436. https://doi.org/10.1016/B0-12-370870-2/00075-5</div>\n",
    "\n",
    "__diagtime__:\tmonths from diagnosis to randomisation   / razón\n",
    "\n",
    "__age__:\tin years                    /razón\n",
    "\n",
    "__prior__:\tprior therapy 0=no, 10=yes  / nominal\n",
    "\n",
    "__Source__\n",
    "D Kalbfleisch and RL Prentice (1980), The Statistical Analysis of Failure Time Data. Wiley, New York."
   ]
  },
  {
   "cell_type": "markdown",
   "id": "bdbea6d6",
   "metadata": {},
   "source": [
    "## Preguntas de investigación\n",
    "\n",
    "1. ¿Qué grupo de tratamiento tiene mayor tasa de supervivencia después de 1 año (365 días)?\n",
    "2. ¿Cuál es el estimado de supervivencia de los veteranos, independientemente del tratamiento, a través de los primeros 200 días?\n",
    "3. ¿Puedo predecir con una precisión mayor al 60% si un paciente muere o no antes de 1000 días? Esta es una pregunta de clasificación. La variable dependiente es binaria y se puede resolver, entre otras técnicas con regresión logística o árboles.\n",
    "4. ¿Puedo predecir con más de 0.65 de concordancia la probabilidad y el riesgo de supervivencia de un veterano en un tiempo dado,  conociendo 'trt', 'celltype', 'karno', 'diagtime', 'age' y 'prior'? Aquí son variables dependientes continuas y se usan otros tipos de regresiones.\n",
    "\n",
    "### Unidad de observación\n",
    "\n",
    "+ Cada fila de la tabla: veterano con cáncer de pulmón ...\n",
    "\n",
    "### Unidad de análisis\n",
    "\n",
    "| __Pregunta de investigación__ | __Unidad de análisis__ |\n",
    "| --------------------------------------------------- | ------------------ | \n",
    "| Qué trt tiene mayor superv. después 1 año?                              | grupo tratamiento |  \n",
    "| ---------------------------------------------------- | ------------------ | \n",
    "| Estimado de supervivencia a los 1000 días (1/0) | veterano                  | \n",
    "| ---------------------------------------------------- | ------------------ | \n",
    "| Estimado de supervivencia en 200 días | veterano                  | \n",
    "| ---------------------------------------------------- | ------------------ | \n",
    "| Modelo supervivencia de veterano concordancia >0.65 | veterano           | \n"
   ]
  },
  {
   "cell_type": "code",
   "execution_count": 1,
   "id": "d7105f14",
   "metadata": {},
   "outputs": [],
   "source": [
    "import numpy as np\n",
    "import pandas as pd"
   ]
  },
  {
   "cell_type": "code",
   "execution_count": 2,
   "id": "fc998da1",
   "metadata": {},
   "outputs": [
    {
     "data": {
      "text/plain": [
       "'1.5.3'"
      ]
     },
     "execution_count": 2,
     "metadata": {},
     "output_type": "execute_result"
    }
   ],
   "source": [
    "pd.__version__"
   ]
  },
  {
   "cell_type": "code",
   "execution_count": 3,
   "id": "512bb53b",
   "metadata": {},
   "outputs": [],
   "source": [
    "import matplotlib.pyplot as plt\n",
    "import seaborn as sns"
   ]
  },
  {
   "cell_type": "code",
   "execution_count": 4,
   "id": "d4089f08",
   "metadata": {},
   "outputs": [],
   "source": [
    "from ipywidgets import interact\n",
    "%matplotlib inline"
   ]
  },
  {
   "cell_type": "code",
   "execution_count": 5,
   "id": "4ad25e94",
   "metadata": {},
   "outputs": [],
   "source": [
    "# Para obtener múltiples salidas de una celda\n",
    "from IPython.core.interactiveshell import InteractiveShell\n",
    "InteractiveShell.ast_node_interactivity = \"all\""
   ]
  },
  {
   "cell_type": "code",
   "execution_count": 6,
   "id": "c14272a0",
   "metadata": {
    "scrolled": true
   },
   "outputs": [
    {
     "name": "stderr",
     "output_type": "stream",
     "text": [
      "Enabling notebook extension jupyter-js-widgets/extension...\n",
      "      - Validating: ok\n"
     ]
    }
   ],
   "source": [
    "!jupyter nbextension enable --py widgetsnbextension"
   ]
  },
  {
   "cell_type": "code",
   "execution_count": 7,
   "id": "ed9f52ee",
   "metadata": {},
   "outputs": [],
   "source": [
    "df = pd.read_csv('dataset-25346.csv',encoding='utf-8')\n",
    "# 'latin-1'"
   ]
  },
  {
   "cell_type": "code",
   "execution_count": 8,
   "id": "24917659",
   "metadata": {},
   "outputs": [
    {
     "data": {
      "text/html": [
       "<div>\n",
       "<style scoped>\n",
       "    .dataframe tbody tr th:only-of-type {\n",
       "        vertical-align: middle;\n",
       "    }\n",
       "\n",
       "    .dataframe tbody tr th {\n",
       "        vertical-align: top;\n",
       "    }\n",
       "\n",
       "    .dataframe thead th {\n",
       "        text-align: right;\n",
       "    }\n",
       "</style>\n",
       "<table border=\"1\" class=\"dataframe\">\n",
       "  <thead>\n",
       "    <tr style=\"text-align: right;\">\n",
       "      <th></th>\n",
       "      <th>trt</th>\n",
       "      <th>celltype</th>\n",
       "      <th>time</th>\n",
       "      <th>status</th>\n",
       "      <th>karno</th>\n",
       "      <th>diagtime</th>\n",
       "      <th>age</th>\n",
       "      <th>prior</th>\n",
       "    </tr>\n",
       "  </thead>\n",
       "  <tbody>\n",
       "    <tr>\n",
       "      <th>0</th>\n",
       "      <td>1</td>\n",
       "      <td>squamous</td>\n",
       "      <td>72</td>\n",
       "      <td>1</td>\n",
       "      <td>60</td>\n",
       "      <td>7</td>\n",
       "      <td>69</td>\n",
       "      <td>0</td>\n",
       "    </tr>\n",
       "    <tr>\n",
       "      <th>1</th>\n",
       "      <td>1</td>\n",
       "      <td>squamous</td>\n",
       "      <td>411</td>\n",
       "      <td>1</td>\n",
       "      <td>70</td>\n",
       "      <td>5</td>\n",
       "      <td>64</td>\n",
       "      <td>10</td>\n",
       "    </tr>\n",
       "    <tr>\n",
       "      <th>2</th>\n",
       "      <td>1</td>\n",
       "      <td>squamous</td>\n",
       "      <td>228</td>\n",
       "      <td>1</td>\n",
       "      <td>60</td>\n",
       "      <td>3</td>\n",
       "      <td>38</td>\n",
       "      <td>0</td>\n",
       "    </tr>\n",
       "    <tr>\n",
       "      <th>3</th>\n",
       "      <td>1</td>\n",
       "      <td>squamous</td>\n",
       "      <td>126</td>\n",
       "      <td>1</td>\n",
       "      <td>60</td>\n",
       "      <td>9</td>\n",
       "      <td>63</td>\n",
       "      <td>10</td>\n",
       "    </tr>\n",
       "    <tr>\n",
       "      <th>4</th>\n",
       "      <td>1</td>\n",
       "      <td>squamous</td>\n",
       "      <td>118</td>\n",
       "      <td>1</td>\n",
       "      <td>70</td>\n",
       "      <td>11</td>\n",
       "      <td>65</td>\n",
       "      <td>10</td>\n",
       "    </tr>\n",
       "    <tr>\n",
       "      <th>...</th>\n",
       "      <td>...</td>\n",
       "      <td>...</td>\n",
       "      <td>...</td>\n",
       "      <td>...</td>\n",
       "      <td>...</td>\n",
       "      <td>...</td>\n",
       "      <td>...</td>\n",
       "      <td>...</td>\n",
       "    </tr>\n",
       "    <tr>\n",
       "      <th>132</th>\n",
       "      <td>2</td>\n",
       "      <td>large</td>\n",
       "      <td>133</td>\n",
       "      <td>1</td>\n",
       "      <td>75</td>\n",
       "      <td>1</td>\n",
       "      <td>65</td>\n",
       "      <td>0</td>\n",
       "    </tr>\n",
       "    <tr>\n",
       "      <th>133</th>\n",
       "      <td>2</td>\n",
       "      <td>large</td>\n",
       "      <td>111</td>\n",
       "      <td>1</td>\n",
       "      <td>60</td>\n",
       "      <td>5</td>\n",
       "      <td>64</td>\n",
       "      <td>0</td>\n",
       "    </tr>\n",
       "    <tr>\n",
       "      <th>134</th>\n",
       "      <td>2</td>\n",
       "      <td>large</td>\n",
       "      <td>231</td>\n",
       "      <td>1</td>\n",
       "      <td>70</td>\n",
       "      <td>18</td>\n",
       "      <td>67</td>\n",
       "      <td>10</td>\n",
       "    </tr>\n",
       "    <tr>\n",
       "      <th>135</th>\n",
       "      <td>2</td>\n",
       "      <td>large</td>\n",
       "      <td>378</td>\n",
       "      <td>1</td>\n",
       "      <td>80</td>\n",
       "      <td>4</td>\n",
       "      <td>65</td>\n",
       "      <td>0</td>\n",
       "    </tr>\n",
       "    <tr>\n",
       "      <th>136</th>\n",
       "      <td>2</td>\n",
       "      <td>large</td>\n",
       "      <td>49</td>\n",
       "      <td>1</td>\n",
       "      <td>30</td>\n",
       "      <td>3</td>\n",
       "      <td>37</td>\n",
       "      <td>0</td>\n",
       "    </tr>\n",
       "  </tbody>\n",
       "</table>\n",
       "<p>137 rows × 8 columns</p>\n",
       "</div>"
      ],
      "text/plain": [
       "     trt  celltype  time  status  karno  diagtime  age  prior\n",
       "0      1  squamous    72       1     60         7   69      0\n",
       "1      1  squamous   411       1     70         5   64     10\n",
       "2      1  squamous   228       1     60         3   38      0\n",
       "3      1  squamous   126       1     60         9   63     10\n",
       "4      1  squamous   118       1     70        11   65     10\n",
       "..   ...       ...   ...     ...    ...       ...  ...    ...\n",
       "132    2     large   133       1     75         1   65      0\n",
       "133    2     large   111       1     60         5   64      0\n",
       "134    2     large   231       1     70        18   67     10\n",
       "135    2     large   378       1     80         4   65      0\n",
       "136    2     large    49       1     30         3   37      0\n",
       "\n",
       "[137 rows x 8 columns]"
      ]
     },
     "execution_count": 8,
     "metadata": {},
     "output_type": "execute_result"
    }
   ],
   "source": [
    "df_backup = df.copy()\n",
    "df"
   ]
  },
  {
   "cell_type": "code",
   "execution_count": 9,
   "id": "b400612a",
   "metadata": {},
   "outputs": [
    {
     "data": {
      "text/plain": [
       "Index(['trt', 'celltype', 'time', 'status', 'karno', 'diagtime', 'age',\n",
       "       'prior'],\n",
       "      dtype='object')"
      ]
     },
     "execution_count": 9,
     "metadata": {},
     "output_type": "execute_result"
    }
   ],
   "source": [
    "# Lista de nombres de columnas\n",
    "col = df.columns\n",
    "col"
   ]
  },
  {
   "cell_type": "code",
   "execution_count": 10,
   "id": "cc0e8e72",
   "metadata": {},
   "outputs": [
    {
     "name": "stdout",
     "output_type": "stream",
     "text": [
      "<class 'pandas.core.frame.DataFrame'>\n",
      "RangeIndex: 137 entries, 0 to 136\n",
      "Data columns (total 8 columns):\n",
      " #   Column    Non-Null Count  Dtype \n",
      "---  ------    --------------  ----- \n",
      " 0   trt       137 non-null    int64 \n",
      " 1   celltype  137 non-null    object\n",
      " 2   time      137 non-null    int64 \n",
      " 3   status    137 non-null    int64 \n",
      " 4   karno     137 non-null    int64 \n",
      " 5   diagtime  137 non-null    int64 \n",
      " 6   age       137 non-null    int64 \n",
      " 7   prior     137 non-null    int64 \n",
      "dtypes: int64(7), object(1)\n",
      "memory usage: 8.7+ KB\n"
     ]
    }
   ],
   "source": [
    "df.info()"
   ]
  },
  {
   "cell_type": "code",
   "execution_count": 11,
   "id": "6575d7d5",
   "metadata": {},
   "outputs": [],
   "source": [
    "nominales = ['trt', 'celltype', 'status','prior']\n",
    "ordinales = []  # Pudiera considerarse a karno ordinal pues de un médico a otro el número asignado no eslo mismo\n",
    "intervalo = ['karno']\n",
    "razon = ['time', 'diagtime', 'age']"
   ]
  },
  {
   "cell_type": "code",
   "execution_count": 12,
   "id": "4a10ea12",
   "metadata": {},
   "outputs": [],
   "source": [
    "for i in nominales:\n",
    "    df[i] = df[i].astype('category')\n",
    "    "
   ]
  },
  {
   "cell_type": "markdown",
   "id": "5896ef36",
   "metadata": {},
   "source": [
    "### Univariado para categóricas nominales \n",
    "\n",
    "En este caso no tenemos ordinales\n",
    "\n",
    "#### Explorar si las categóricas nominales son de alta o baja cardinalidad"
   ]
  },
  {
   "cell_type": "code",
   "execution_count": 13,
   "id": "fbf7e760",
   "metadata": {},
   "outputs": [
    {
     "name": "stdout",
     "output_type": "stream",
     "text": [
      "trt\n"
     ]
    },
    {
     "data": {
      "text/plain": [
       "[1, 2]\n",
       "Categories (2, int64): [1, 2]"
      ]
     },
     "execution_count": 13,
     "metadata": {},
     "output_type": "execute_result"
    },
    {
     "name": "stdout",
     "output_type": "stream",
     "text": [
      "\n",
      "celltype\n"
     ]
    },
    {
     "data": {
      "text/plain": [
       "['squamous', 'smallcell', 'adeno', 'large']\n",
       "Categories (4, object): ['adeno', 'large', 'smallcell', 'squamous']"
      ]
     },
     "execution_count": 13,
     "metadata": {},
     "output_type": "execute_result"
    },
    {
     "name": "stdout",
     "output_type": "stream",
     "text": [
      "\n",
      "status\n"
     ]
    },
    {
     "data": {
      "text/plain": [
       "[1, 0]\n",
       "Categories (2, int64): [0, 1]"
      ]
     },
     "execution_count": 13,
     "metadata": {},
     "output_type": "execute_result"
    },
    {
     "name": "stdout",
     "output_type": "stream",
     "text": [
      "\n",
      "prior\n"
     ]
    },
    {
     "data": {
      "text/plain": [
       "[0, 10]\n",
       "Categories (2, int64): [0, 10]"
      ]
     },
     "execution_count": 13,
     "metadata": {},
     "output_type": "execute_result"
    },
    {
     "name": "stdout",
     "output_type": "stream",
     "text": [
      "\n"
     ]
    }
   ],
   "source": [
    "for i in nominales + ordinales:\n",
    "    print(i)\n",
    "    df[i].unique()\n",
    "    print()    "
   ]
  },
  {
   "cell_type": "markdown",
   "id": "a40921b6",
   "metadata": {},
   "source": [
    "### Hallazgo\n",
    "\n",
    "+ En este dataset todas las nominales pueden ser consideradas de baja cardinalidad, pues excepto celltype que tiene 4 categorías, las demás son dicotómicas"
   ]
  },
  {
   "cell_type": "markdown",
   "id": "662235a0",
   "metadata": {},
   "source": [
    "## Exploración de cantidad de muestras por categoría\n",
    "\n",
    "+ Sirve, entre otras cosas, para detectar desbalance y muestras muy pequeñas\n",
    "+ Note que la mayor cantidad de pacientes tiene cancer con tipo de célula smallcell\n",
    "+ Solo 9 pacientes fueron censurados (no ocurrió el evento de muerte antes de findel estudio\n",
    "+ Solo 40 pacientes habían tenido otros tratamientos previos"
   ]
  },
  {
   "cell_type": "code",
   "execution_count": 14,
   "id": "8e1ef22a",
   "metadata": {},
   "outputs": [
    {
     "name": "stdout",
     "output_type": "stream",
     "text": [
      "trt\n"
     ]
    },
    {
     "data": {
      "text/plain": [
       "1    69\n",
       "2    68\n",
       "Name: trt, dtype: int64"
      ]
     },
     "execution_count": 14,
     "metadata": {},
     "output_type": "execute_result"
    },
    {
     "name": "stdout",
     "output_type": "stream",
     "text": [
      "\n",
      "celltype\n"
     ]
    },
    {
     "data": {
      "text/plain": [
       "smallcell    48\n",
       "squamous     35\n",
       "adeno        27\n",
       "large        27\n",
       "Name: celltype, dtype: int64"
      ]
     },
     "execution_count": 14,
     "metadata": {},
     "output_type": "execute_result"
    },
    {
     "name": "stdout",
     "output_type": "stream",
     "text": [
      "\n",
      "status\n"
     ]
    },
    {
     "data": {
      "text/plain": [
       "1    128\n",
       "0      9\n",
       "Name: status, dtype: int64"
      ]
     },
     "execution_count": 14,
     "metadata": {},
     "output_type": "execute_result"
    },
    {
     "name": "stdout",
     "output_type": "stream",
     "text": [
      "\n",
      "prior\n"
     ]
    },
    {
     "data": {
      "text/plain": [
       "0     97\n",
       "10    40\n",
       "Name: prior, dtype: int64"
      ]
     },
     "execution_count": 14,
     "metadata": {},
     "output_type": "execute_result"
    },
    {
     "name": "stdout",
     "output_type": "stream",
     "text": [
      "\n"
     ]
    }
   ],
   "source": [
    "for i in nominales + ordinales:\n",
    "    print(i)\n",
    "    df[i].value_counts()\n",
    "    print()"
   ]
  },
  {
   "cell_type": "markdown",
   "id": "23851520",
   "metadata": {},
   "source": [
    "### Estadística descriptiva para categóricas\n",
    "\n",
    "+ La moda se muestra en la variable top"
   ]
  },
  {
   "cell_type": "code",
   "execution_count": 15,
   "id": "681c9ba2",
   "metadata": {},
   "outputs": [
    {
     "name": "stdout",
     "output_type": "stream",
     "text": [
      "trt\n"
     ]
    },
    {
     "data": {
      "text/plain": [
       "count     137\n",
       "unique      2\n",
       "top         1\n",
       "freq       69\n",
       "Name: trt, dtype: int64"
      ]
     },
     "execution_count": 15,
     "metadata": {},
     "output_type": "execute_result"
    },
    {
     "name": "stdout",
     "output_type": "stream",
     "text": [
      "\n",
      "celltype\n"
     ]
    },
    {
     "data": {
      "text/plain": [
       "count           137\n",
       "unique            4\n",
       "top       smallcell\n",
       "freq             48\n",
       "Name: celltype, dtype: object"
      ]
     },
     "execution_count": 15,
     "metadata": {},
     "output_type": "execute_result"
    },
    {
     "name": "stdout",
     "output_type": "stream",
     "text": [
      "\n",
      "status\n"
     ]
    },
    {
     "data": {
      "text/plain": [
       "count     137\n",
       "unique      2\n",
       "top         1\n",
       "freq      128\n",
       "Name: status, dtype: int64"
      ]
     },
     "execution_count": 15,
     "metadata": {},
     "output_type": "execute_result"
    },
    {
     "name": "stdout",
     "output_type": "stream",
     "text": [
      "\n",
      "prior\n"
     ]
    },
    {
     "data": {
      "text/plain": [
       "count     137\n",
       "unique      2\n",
       "top         0\n",
       "freq       97\n",
       "Name: prior, dtype: int64"
      ]
     },
     "execution_count": 15,
     "metadata": {},
     "output_type": "execute_result"
    },
    {
     "name": "stdout",
     "output_type": "stream",
     "text": [
      "\n"
     ]
    }
   ],
   "source": [
    "for i in nominales + ordinales:\n",
    "    print(i)\n",
    "    df[i].describe()\n",
    "    print()"
   ]
  },
  {
   "cell_type": "markdown",
   "id": "a89bb4bd",
   "metadata": {},
   "source": [
    "### Gráficas univariadas para categóricas \n",
    "\n",
    "+ De __pie o de dona__ para categóricas con menos de 6 categorías\n",
    "+ De barras para cualquier categórica. La __gráfica de conteo__ de la biblioteca seaborn es un gráfico de barras muy útil.\n",
    "\n",
    "Un __gráfico de barras__ representa una estimación de la tendencia central de una variable numérica con la altura de cada rectángulo y __proporciona alguna indicación de la incertidumbre en torno a esa estimación__ utilizando barras de error. Los diagramas de barras incluyen 0 en el rango del eje cuantitativo y son una buena opción cuando 0 es un valor significativo para la variable cuantitativa y desea realizar comparaciones con ella.\n",
    "\n",
    "+ Para baja cardinalidad; normalmente 6 o menos categorias y datos expresados en proporciones o porcentajes"
   ]
  },
  {
   "cell_type": "markdown",
   "id": "da1c54ea",
   "metadata": {},
   "source": [
    "#### celltype"
   ]
  },
  {
   "cell_type": "code",
   "execution_count": 16,
   "id": "25cc8c19",
   "metadata": {},
   "outputs": [
    {
     "data": {
      "text/plain": [
       "smallcell    0.350365\n",
       "squamous     0.255474\n",
       "adeno        0.197080\n",
       "large        0.197080\n",
       "Name: celltype, dtype: float64"
      ]
     },
     "execution_count": 16,
     "metadata": {},
     "output_type": "execute_result"
    }
   ],
   "source": [
    "prop_cel = df.celltype.value_counts(normalize=True)\n",
    "prop_cel"
   ]
  },
  {
   "cell_type": "code",
   "execution_count": 17,
   "id": "967e3def",
   "metadata": {},
   "outputs": [
    {
     "data": {
      "text/plain": [
       "(CategoricalIndex(['smallcell', 'squamous', 'adeno', 'large'], categories=['adeno', 'large', 'smallcell', 'squamous'], ordered=False, dtype='category'),\n",
       " array([48, 35, 27, 27], dtype=int64))"
      ]
     },
     "execution_count": 17,
     "metadata": {},
     "output_type": "execute_result"
    }
   ],
   "source": [
    "freq = df.celltype.value_counts()\n",
    "freq.index, freq.values"
   ]
  },
  {
   "cell_type": "code",
   "execution_count": 18,
   "id": "9202612f",
   "metadata": {},
   "outputs": [
    {
     "data": {
      "text/plain": [
       "([<matplotlib.patches.Wedge at 0x211e0909930>,\n",
       "  <matplotlib.patches.Wedge at 0x211e0909840>,\n",
       "  <matplotlib.patches.Wedge at 0x211e090a620>,\n",
       "  <matplotlib.patches.Wedge at 0x211e090acb0>],\n",
       " [Text(0.49826549499298955, 0.9806790996546176, 'smallcell'),\n",
       "  Text(-1.0896046511478596, 0.15086982533612026, 'squamous'),\n",
       "  Text(-0.3110058391003899, -1.0551186511693662, 'adeno'),\n",
       "  Text(0.8958117872564462, -0.638373904394918, 'large')],\n",
       " [Text(0.27178117908708516, 0.5349158725388823, '35.0%'),\n",
       "  Text(-0.5943298097170142, 0.08229263200152012, '25.5%'),\n",
       "  Text(-0.1696395486002127, -0.5755192642741996, '19.7%'),\n",
       "  Text(0.4886246112307887, -0.34820394785177344, '19.7%')])"
      ]
     },
     "execution_count": 18,
     "metadata": {},
     "output_type": "execute_result"
    },
    {
     "data": {
      "text/plain": [
       "<BarContainer object of 4 artists>"
      ]
     },
     "execution_count": 18,
     "metadata": {},
     "output_type": "execute_result"
    },
    {
     "data": {
      "text/plain": [
       "<Axes: xlabel='celltype', ylabel='count'>"
      ]
     },
     "execution_count": 18,
     "metadata": {},
     "output_type": "execute_result"
    },
    {
     "data": {
      "image/png": "[encoded data removed]",
      "text/plain": [
       "<Figure size 1000x400 with 3 Axes>"
      ]
     },
     "metadata": {},
     "output_type": "display_data"
    }
   ],
   "source": [
    "fig,ax = plt.subplots(1,3,figsize=(10,4))\n",
    "\n",
    "ax[0].pie(prop_cel, labels=prop_cel.index, autopct='%.1f%%')\n",
    "ax[0].title.set_text('Porcentaje por tipo de célula')\n",
    "ax[1].bar(freq.index,height=freq.values) \n",
    "ax[1].title.set_text('Frecuencia por tipo de célula')\n",
    "sns.countplot(data=df, x =\"celltype\",ax=ax[2]) # Esto es para poner axis labels, pero puede quitar formato\n",
    "# Para no quitar formato usa:\n",
    "ax[1].set_ylabel('Count')\n",
    "ax[1].set_xlabel('Tipo de inseguridad alimentaria')\n",
    "# Rotaciones de labels\n",
    "ax[1].tick_params(axis='x', rotation=45)\n",
    "ax[2].tick_params(axis='x', rotation=45)\n",
    "# displaying chart\n",
    "plt.show()"
   ]
  },
  {
   "cell_type": "code",
   "execution_count": 19,
   "id": "c725ed74",
   "metadata": {},
   "outputs": [
    {
     "data": {
      "text/plain": [
       "([<matplotlib.patches.Wedge at 0x211e156e500>,\n",
       "  <matplotlib.patches.Wedge at 0x211e080feb0>,\n",
       "  <matplotlib.patches.Wedge at 0x211e156f010>,\n",
       "  <matplotlib.patches.Wedge at 0x211e156f6a0>],\n",
       " [Text(0.49826549499298955, 0.9806790996546176, 'smallcell'),\n",
       "  Text(-1.0896046511478596, 0.15086982533612026, 'squamous'),\n",
       "  Text(-0.3110058391003899, -1.0551186511693662, 'adeno'),\n",
       "  Text(0.8958117872564462, -0.638373904394918, 'large')],\n",
       " [Text(0.33972647385885646, 0.6686448406736029, '35.0%'),\n",
       "  Text(-0.7429122621462678, 0.10286579000190016, '25.5%'),\n",
       "  Text(-0.21204943575026586, -0.7193990803427496, '19.7%'),\n",
       "  Text(0.6107807640384859, -0.4352549348147168, '19.7%')])"
      ]
     },
     "execution_count": 19,
     "metadata": {},
     "output_type": "execute_result"
    },
    {
     "data": {
      "text/plain": [
       "<matplotlib.patches.Circle at 0x211e152bd30>"
      ]
     },
     "execution_count": 19,
     "metadata": {},
     "output_type": "execute_result"
    },
    {
     "data": {
      "text/plain": [
       "Text(0.5, 1.0, 'Porcentaje de tipos de células cancerígenas en la muestra')"
      ]
     },
     "execution_count": 19,
     "metadata": {},
     "output_type": "execute_result"
    },
    {
     "data": {
      "image/png": "[encoded data removed]",
      "text/plain": [
       "<Figure size 500x300 with 1 Axes>"
      ]
     },
     "metadata": {},
     "output_type": "display_data"
    }
   ],
   "source": [
    "fig,ax = plt.subplots(figsize=(5,3))\n",
    "plt.pie(prop_cel, labels=prop_cel.index,\n",
    "        autopct='%1.1f%%', pctdistance=0.75,\n",
    "        )\n",
    "# Dibuja círculo\n",
    "centre_circle = plt.Circle((0, 0), 0.5, fc='white')\n",
    "fig = plt.gcf()\n",
    "  \n",
    "# Adiciona círculo al pie\n",
    "fig.gca().add_artist(centre_circle)\n",
    "  \n",
    "plt.title('Porcentaje de tipos de células cancerígenas en la muestra')"
   ]
  },
  {
   "cell_type": "code",
   "execution_count": null,
   "id": "b8c0e04a",
   "metadata": {},
   "outputs": [],
   "source": [
    "## Otro ejemplo mío :D ##\n",
    "# Chécate https://proclusacademy.com/blog/customize_matplotlib_piechart/\n",
    "#\n",
    "#\n",
    "# Información\n",
    "prop_ali_lim = df['ali_lim'].value_counts(normalize=True)\n",
    "prop_ali_lim\n",
    "\n",
    "freq = df['ali_lim'].value_counts()\n",
    "\n",
    "labels = ['Decente','Limitada']\n",
    "\n",
    "# Gráfica de pie\n",
    "\n",
    "textprops={'color':'black', 'fontsize':12.5} # Font de toda la gráfica\n",
    "explode = (0.05,0.05)   # Pedazos del pie separados\n",
    "\n",
    "fig,ax = plt.subplots(figsize=(6,6))\n",
    "_, _, autopcts = plt.pie(prop_ali_lim, # El _ es figura anónima y el autopcts es sólo si quieres font diferente en labels\n",
    "                        autopct='%1.1f%%', # Estos son los decimales de los porcentajes\n",
    "                        pctdistance=0.75,   # PCT distance es distancia de porcentajes\n",
    "                        labels=labels, labeldistance=1.05,     \n",
    "                        textprops=textprops,                   #Font general\n",
    "                        explode=explode                       \n",
    "                        #wedgeprops = { 'linewidth' : 5, 'edgecolor' : 'white' },   # Esto es borde, sirve para dona porque no hay desfase, en lugar de explode\n",
    "                        )\n",
    "\n",
    "# Círculo intero\n",
    "centre_circle = plt.Circle((0, 0), 0.70, fc='white')\n",
    "fig = plt.gcf()\n",
    "fig.gca().add_artist(centre_circle)  \n",
    "\n",
    "# Texto\n",
    "sns.set(font_scale = 1.2) # Escala de todos los textos\n",
    "fig.set_facecolor('white')      # Fondo\n",
    "# plt.setp(autopcts, **{'weight':'bold', 'fontsize':12.5})\n",
    "plt.title('Porcentaje de tipos de células cancerígenas en la muestra')\n",
    "\n",
    "plt.show(); # Con ; para eliminar el texto antes de la gráfica"
   ]
  },
  {
   "cell_type": "markdown",
   "id": "baba4c95",
   "metadata": {},
   "source": [
    "#### Hallazgos\n",
    "+ No hay desbalance severo entre las muestras de cada tipo de célula\n",
    "+ La mayoría de los veteranos tiene cáncer de pulmón de célula pequeña\n",
    "+ La gráfica de conteo de seaborn maneja colores diferentes y calcula automáticamente las frecuencias para cada categoría"
   ]
  },
  {
   "cell_type": "markdown",
   "id": "a13f963f",
   "metadata": {},
   "source": [
    "#### trt"
   ]
  },
  {
   "cell_type": "code",
   "execution_count": 20,
   "id": "504cddbd",
   "metadata": {},
   "outputs": [
    {
     "data": {
      "text/plain": [
       "([<matplotlib.patches.Wedge at 0x211e1603820>,\n",
       "  <matplotlib.patches.Wedge at 0x211e1603730>],\n",
       " [Text(-0.012612015577909001, 1.0999276962887437, '1'),\n",
       "  Text(0.012612118560571721, -1.0999276951079169, '2')],\n",
       " [Text(-0.006879281224314, 0.5999605616120419, '50.4%'),\n",
       "  Text(0.006879337396675483, -0.5999605609679546, '49.6%')])"
      ]
     },
     "execution_count": 20,
     "metadata": {},
     "output_type": "execute_result"
    },
    {
     "data": {
      "text/plain": [
       "<Axes: title={'center': 'Frecuencia con tratamiento 1 y 2'}, xlabel='trt', ylabel='count'>"
      ]
     },
     "execution_count": 20,
     "metadata": {},
     "output_type": "execute_result"
    },
    {
     "data": {
      "image/png": "[encoded data removed]",
      "text/plain": [
       "<Figure size 800x300 with 2 Axes>"
      ]
     },
     "metadata": {},
     "output_type": "display_data"
    }
   ],
   "source": [
    "prop_trt = df.trt.value_counts(normalize=True)\n",
    "frec = df.trt.value_counts()\n",
    "fig,ax = plt.subplots(1,2,figsize=(8,3))\n",
    "ax[0].title.set_text('Porcentaje con tratamiento 1 y 2')  \n",
    "ax[1].title.set_text('Frecuencia con tratamiento 1 y 2')\n",
    "ax[0].pie(prop_trt, labels=prop_trt.index, autopct='%.1f%%')\n",
    "\n",
    "sns.countplot(data=df, x =\"trt\",ax=ax[1])\n",
    "plt.show()"
   ]
  },
  {
   "cell_type": "markdown",
   "id": "002548cd",
   "metadata": {},
   "source": [
    "#### Hallazgo\n",
    "+ Casi igual la cantidad de pacientes en cada tipo de tratamiento"
   ]
  },
  {
   "cell_type": "markdown",
   "id": "30d8db42",
   "metadata": {},
   "source": [
    "#### prior"
   ]
  },
  {
   "cell_type": "code",
   "execution_count": 21,
   "id": "15a06d95",
   "metadata": {},
   "outputs": [
    {
     "data": {
      "text/plain": [
       "([<matplotlib.patches.Wedge at 0x211e11580a0>,\n",
       "  <matplotlib.patches.Wedge at 0x211e112bf70>],\n",
       " [Text(-0.6688034735918211, 0.8733280676306667, '0'),\n",
       "  Text(0.6688034735918207, -0.8733280676306672, '10')],\n",
       " [Text(-0.36480189468644786, 0.4763607641621818, '70.8%'),\n",
       "  Text(0.3648018946864476, -0.476360764162182, '29.2%')])"
      ]
     },
     "execution_count": 21,
     "metadata": {},
     "output_type": "execute_result"
    },
    {
     "data": {
      "text/plain": [
       "<Axes: title={'center': 'Frecuencia con tratamiento previo'}, xlabel='prior', ylabel='count'>"
      ]
     },
     "execution_count": 21,
     "metadata": {},
     "output_type": "execute_result"
    },
    {
     "data": {
      "image/png": "[encoded data removed]",
      "text/plain": [
       "<Figure size 800x300 with 2 Axes>"
      ]
     },
     "metadata": {},
     "output_type": "display_data"
    }
   ],
   "source": [
    "prop_pr = df.prior.value_counts(normalize=True)\n",
    "\n",
    "fig,ax = plt.subplots(1,2,figsize=(8,3))\n",
    "ax[0].title.set_text('Porcentaje con tratamiento previo')  \n",
    "ax[1].title.set_text('Frecuencia con tratamiento previo')  \n",
    "ax[0].pie(prop_pr, labels=prop_pr.index, autopct='%.1f%%')\n",
    "sns.countplot(data=df, x =\"prior\",ax=ax[1])\n",
    "plt.show()"
   ]
  },
  {
   "cell_type": "markdown",
   "id": "a1ca93fc",
   "metadata": {},
   "source": [
    "#### Hallazgo\n",
    "+ La mayoría de los pacientes(70.8 %) no tuvo tratamiento previo"
   ]
  },
  {
   "cell_type": "markdown",
   "id": "38b93e44",
   "metadata": {},
   "source": [
    "#### status"
   ]
  },
  {
   "cell_type": "code",
   "execution_count": 22,
   "id": "90f272d9",
   "metadata": {},
   "outputs": [
    {
     "data": {
      "text/plain": [
       "([<matplotlib.patches.Wedge at 0x211e13db9d0>,\n",
       "  <matplotlib.patches.Wedge at 0x211e13db8e0>],\n",
       " [Text(-1.076656586767007, 0.22541205418348575, '1'),\n",
       "  Text(1.0766565814908566, -0.22541207938445176, '0')],\n",
       " [Text(-0.5872672291456401, 0.12295202955462858, '93.4%'),\n",
       "  Text(0.58726722626774, -0.12295204330061003, '6.6%')])"
      ]
     },
     "execution_count": 22,
     "metadata": {},
     "output_type": "execute_result"
    },
    {
     "data": {
      "text/plain": [
       "<Axes: title={'center': 'Frecuencia por status'}, xlabel='status', ylabel='count'>"
      ]
     },
     "execution_count": 22,
     "metadata": {},
     "output_type": "execute_result"
    },
    {
     "data": {
      "image/png": "[encoded data removed]",
      "text/plain": [
       "<Figure size 600x200 with 2 Axes>"
      ]
     },
     "metadata": {},
     "output_type": "display_data"
    }
   ],
   "source": [
    "prop_st = df.status.value_counts(normalize=True)\n",
    "\n",
    "fig,ax = plt.subplots(1,2,figsize=(6,2))\n",
    "ax[0].title.set_text('Porcentaje por status')  \n",
    "ax[1].title.set_text('Frecuencia por status')  \n",
    "ax[0].pie(prop_st, labels=prop_st.index, autopct='%.1f%%')\n",
    "sns.countplot(data=df, x =\"status\",ax=ax[1])\n",
    "plt.show()"
   ]
  },
  {
   "cell_type": "markdown",
   "id": "5b25ddef",
   "metadata": {},
   "source": [
    "#### Hallazgo\n",
    "+ Casi no hubo pacientes censurados (6.6%). Estos son aquellos de los que se desconoce si fallecieron o no, pues se les perdió el rastro durante el ensayo clínico."
   ]
  },
  {
   "cell_type": "markdown",
   "id": "48a9d656",
   "metadata": {},
   "source": [
    "### Histograma (recomendado para variables de intervalo y razón)\n",
    "\n",
    "+ Un histograma es una herramienta de visualización clásica que representa la distribución de una o más variables al contar el número de observaciones que se encuentran dentro de contenedores discretos (bins).\n",
    "\n",
    "+ La función histplot() de seaborn puede normalizar la estadística calculada dentro de cada contenedor para estimar la frecuencia, la densidad o la masa de probabilidad, y puede agregar una curva suave obtenida mediante una estimación de la densidad del kernel, similar a kdeplot().\n",
    "\n",
    "+ seaborn.histplot() calcula la cantidad de contenedores (bin)s. La elección de los contenedores para calcular y trazar un histograma puede ejercer una influencia sustancial en los conocimientos que uno puede extraer de la visualización. Si los contenedores son demasiado grandes, pueden borrar funciones importantes. Por otro lado, los contenedores que son demasiado pequeños pueden estar dominados por la variabilidad aleatoria, lo que oscurece la forma de la verdadera distribución subyacente. El tamaño del contenedor predeterminado se determina mediante una regla de referencia que depende del tamaño y la varianza de la muestra. Esto funciona bien en muchos casos (es decir, con datos de \"buen comportamiento\") pero falla en otros. Siempre es bueno probar diferentes tamaños de contenedores para asegurarse de que no se está perdiendo algo importante. Esta función le permite especificar contenedores de varias maneras diferentes, como establecer el número total de contenedores que se usarán, el ancho de cada contenedor o las ubicaciones específicas donde los contenedores deben dividirse.\n",
    "\n",
    "http://citadel.sjfc.edu/faculty/kgreen/DataAM_Web/TextBook/MSTI130_TextFall2011_Chapter%2005.pdf"
   ]
  },
  {
   "cell_type": "markdown",
   "id": "0c4dd6c2",
   "metadata": {},
   "source": [
    "### Se puede, pero no se debe usar un histograma para categóricas"
   ]
  },
  {
   "cell_type": "code",
   "execution_count": 23,
   "id": "9f64401c",
   "metadata": {},
   "outputs": [
    {
     "data": {
      "text/plain": [
       "<Axes: >"
      ]
     },
     "execution_count": 23,
     "metadata": {},
     "output_type": "execute_result"
    },
    {
     "data": {
      "image/png": "[encoded data removed]",
      "text/plain": [
       "<Figure size 400x200 with 1 Axes>"
      ]
     },
     "metadata": {},
     "output_type": "display_data"
    }
   ],
   "source": [
    "fig,ax = plt.subplots(figsize=(4,2))\n",
    "# hist() es método de pandas\n",
    "# En el eje y se muestra frecuencia\n",
    "df.celltype.hist()  # 10 bins por defecto \n",
    "# En este caso se recomienda el diagrama de barras"
   ]
  },
  {
   "cell_type": "markdown",
   "id": "eee932cf",
   "metadata": {},
   "source": [
    "### Conclusión\n",
    "\n",
    "+ El histograma debe usarse para variables de intervalo o razón y NO para una nominal, como es este caso.\n",
    "+ Lo correcto es usar el diagrama de barras, como se muestra a continuación\n",
    "+ Este diagrama muestra de mayor a menor las frecuencias de ocurrencia"
   ]
  },
  {
   "cell_type": "markdown",
   "id": "39c48fbf",
   "metadata": {},
   "source": [
    "## Conversión a dummy\n",
    "\n",
    "Se convertirán las categóricas a variables dicotómicas. Esto permitirá manejarlas como numéricas con valores de cero o uno. Es parte de una actividad de ingeniería de características."
   ]
  },
  {
   "cell_type": "code",
   "execution_count": 24,
   "id": "54bcca86",
   "metadata": {},
   "outputs": [],
   "source": [
    "#pd.get_dummies?"
   ]
  },
  {
   "cell_type": "code",
   "execution_count": 25,
   "id": "0491d6d2",
   "metadata": {},
   "outputs": [
    {
     "data": {
      "text/html": [
       "<div>\n",
       "<style scoped>\n",
       "    .dataframe tbody tr th:only-of-type {\n",
       "        vertical-align: middle;\n",
       "    }\n",
       "\n",
       "    .dataframe tbody tr th {\n",
       "        vertical-align: top;\n",
       "    }\n",
       "\n",
       "    .dataframe thead th {\n",
       "        text-align: right;\n",
       "    }\n",
       "</style>\n",
       "<table border=\"1\" class=\"dataframe\">\n",
       "  <thead>\n",
       "    <tr style=\"text-align: right;\">\n",
       "      <th></th>\n",
       "      <th>time</th>\n",
       "      <th>karno</th>\n",
       "      <th>diagtime</th>\n",
       "      <th>age</th>\n",
       "      <th>trt_1</th>\n",
       "      <th>trt_2</th>\n",
       "      <th>celltype_adeno</th>\n",
       "      <th>celltype_large</th>\n",
       "      <th>celltype_smallcell</th>\n",
       "      <th>celltype_squamous</th>\n",
       "      <th>status_0</th>\n",
       "      <th>status_1</th>\n",
       "      <th>prior_0</th>\n",
       "      <th>prior_10</th>\n",
       "    </tr>\n",
       "  </thead>\n",
       "  <tbody>\n",
       "    <tr>\n",
       "      <th>0</th>\n",
       "      <td>72</td>\n",
       "      <td>60</td>\n",
       "      <td>7</td>\n",
       "      <td>69</td>\n",
       "      <td>1</td>\n",
       "      <td>0</td>\n",
       "      <td>0</td>\n",
       "      <td>0</td>\n",
       "      <td>0</td>\n",
       "      <td>1</td>\n",
       "      <td>0</td>\n",
       "      <td>1</td>\n",
       "      <td>1</td>\n",
       "      <td>0</td>\n",
       "    </tr>\n",
       "    <tr>\n",
       "      <th>1</th>\n",
       "      <td>411</td>\n",
       "      <td>70</td>\n",
       "      <td>5</td>\n",
       "      <td>64</td>\n",
       "      <td>1</td>\n",
       "      <td>0</td>\n",
       "      <td>0</td>\n",
       "      <td>0</td>\n",
       "      <td>0</td>\n",
       "      <td>1</td>\n",
       "      <td>0</td>\n",
       "      <td>1</td>\n",
       "      <td>0</td>\n",
       "      <td>1</td>\n",
       "    </tr>\n",
       "    <tr>\n",
       "      <th>2</th>\n",
       "      <td>228</td>\n",
       "      <td>60</td>\n",
       "      <td>3</td>\n",
       "      <td>38</td>\n",
       "      <td>1</td>\n",
       "      <td>0</td>\n",
       "      <td>0</td>\n",
       "      <td>0</td>\n",
       "      <td>0</td>\n",
       "      <td>1</td>\n",
       "      <td>0</td>\n",
       "      <td>1</td>\n",
       "      <td>1</td>\n",
       "      <td>0</td>\n",
       "    </tr>\n",
       "    <tr>\n",
       "      <th>3</th>\n",
       "      <td>126</td>\n",
       "      <td>60</td>\n",
       "      <td>9</td>\n",
       "      <td>63</td>\n",
       "      <td>1</td>\n",
       "      <td>0</td>\n",
       "      <td>0</td>\n",
       "      <td>0</td>\n",
       "      <td>0</td>\n",
       "      <td>1</td>\n",
       "      <td>0</td>\n",
       "      <td>1</td>\n",
       "      <td>0</td>\n",
       "      <td>1</td>\n",
       "    </tr>\n",
       "    <tr>\n",
       "      <th>4</th>\n",
       "      <td>118</td>\n",
       "      <td>70</td>\n",
       "      <td>11</td>\n",
       "      <td>65</td>\n",
       "      <td>1</td>\n",
       "      <td>0</td>\n",
       "      <td>0</td>\n",
       "      <td>0</td>\n",
       "      <td>0</td>\n",
       "      <td>1</td>\n",
       "      <td>0</td>\n",
       "      <td>1</td>\n",
       "      <td>0</td>\n",
       "      <td>1</td>\n",
       "    </tr>\n",
       "    <tr>\n",
       "      <th>...</th>\n",
       "      <td>...</td>\n",
       "      <td>...</td>\n",
       "      <td>...</td>\n",
       "      <td>...</td>\n",
       "      <td>...</td>\n",
       "      <td>...</td>\n",
       "      <td>...</td>\n",
       "      <td>...</td>\n",
       "      <td>...</td>\n",
       "      <td>...</td>\n",
       "      <td>...</td>\n",
       "      <td>...</td>\n",
       "      <td>...</td>\n",
       "      <td>...</td>\n",
       "    </tr>\n",
       "    <tr>\n",
       "      <th>132</th>\n",
       "      <td>133</td>\n",
       "      <td>75</td>\n",
       "      <td>1</td>\n",
       "      <td>65</td>\n",
       "      <td>0</td>\n",
       "      <td>1</td>\n",
       "      <td>0</td>\n",
       "      <td>1</td>\n",
       "      <td>0</td>\n",
       "      <td>0</td>\n",
       "      <td>0</td>\n",
       "      <td>1</td>\n",
       "      <td>1</td>\n",
       "      <td>0</td>\n",
       "    </tr>\n",
       "    <tr>\n",
       "      <th>133</th>\n",
       "      <td>111</td>\n",
       "      <td>60</td>\n",
       "      <td>5</td>\n",
       "      <td>64</td>\n",
       "      <td>0</td>\n",
       "      <td>1</td>\n",
       "      <td>0</td>\n",
       "      <td>1</td>\n",
       "      <td>0</td>\n",
       "      <td>0</td>\n",
       "      <td>0</td>\n",
       "      <td>1</td>\n",
       "      <td>1</td>\n",
       "      <td>0</td>\n",
       "    </tr>\n",
       "    <tr>\n",
       "      <th>134</th>\n",
       "      <td>231</td>\n",
       "      <td>70</td>\n",
       "      <td>18</td>\n",
       "      <td>67</td>\n",
       "      <td>0</td>\n",
       "      <td>1</td>\n",
       "      <td>0</td>\n",
       "      <td>1</td>\n",
       "      <td>0</td>\n",
       "      <td>0</td>\n",
       "      <td>0</td>\n",
       "      <td>1</td>\n",
       "      <td>0</td>\n",
       "      <td>1</td>\n",
       "    </tr>\n",
       "    <tr>\n",
       "      <th>135</th>\n",
       "      <td>378</td>\n",
       "      <td>80</td>\n",
       "      <td>4</td>\n",
       "      <td>65</td>\n",
       "      <td>0</td>\n",
       "      <td>1</td>\n",
       "      <td>0</td>\n",
       "      <td>1</td>\n",
       "      <td>0</td>\n",
       "      <td>0</td>\n",
       "      <td>0</td>\n",
       "      <td>1</td>\n",
       "      <td>1</td>\n",
       "      <td>0</td>\n",
       "    </tr>\n",
       "    <tr>\n",
       "      <th>136</th>\n",
       "      <td>49</td>\n",
       "      <td>30</td>\n",
       "      <td>3</td>\n",
       "      <td>37</td>\n",
       "      <td>0</td>\n",
       "      <td>1</td>\n",
       "      <td>0</td>\n",
       "      <td>1</td>\n",
       "      <td>0</td>\n",
       "      <td>0</td>\n",
       "      <td>0</td>\n",
       "      <td>1</td>\n",
       "      <td>1</td>\n",
       "      <td>0</td>\n",
       "    </tr>\n",
       "  </tbody>\n",
       "</table>\n",
       "<p>137 rows × 14 columns</p>\n",
       "</div>"
      ],
      "text/plain": [
       "     time  karno  diagtime  age  trt_1  trt_2  celltype_adeno  celltype_large  \\\n",
       "0      72     60         7   69      1      0               0               0   \n",
       "1     411     70         5   64      1      0               0               0   \n",
       "2     228     60         3   38      1      0               0               0   \n",
       "3     126     60         9   63      1      0               0               0   \n",
       "4     118     70        11   65      1      0               0               0   \n",
       "..    ...    ...       ...  ...    ...    ...             ...             ...   \n",
       "132   133     75         1   65      0      1               0               1   \n",
       "133   111     60         5   64      0      1               0               1   \n",
       "134   231     70        18   67      0      1               0               1   \n",
       "135   378     80         4   65      0      1               0               1   \n",
       "136    49     30         3   37      0      1               0               1   \n",
       "\n",
       "     celltype_smallcell  celltype_squamous  status_0  status_1  prior_0  \\\n",
       "0                     0                  1         0         1        1   \n",
       "1                     0                  1         0         1        0   \n",
       "2                     0                  1         0         1        1   \n",
       "3                     0                  1         0         1        0   \n",
       "4                     0                  1         0         1        0   \n",
       "..                  ...                ...       ...       ...      ...   \n",
       "132                   0                  0         0         1        1   \n",
       "133                   0                  0         0         1        1   \n",
       "134                   0                  0         0         1        0   \n",
       "135                   0                  0         0         1        1   \n",
       "136                   0                  0         0         1        1   \n",
       "\n",
       "     prior_10  \n",
       "0           0  \n",
       "1           1  \n",
       "2           0  \n",
       "3           1  \n",
       "4           1  \n",
       "..        ...  \n",
       "132         0  \n",
       "133         0  \n",
       "134         1  \n",
       "135         0  \n",
       "136         0  \n",
       "\n",
       "[137 rows x 14 columns]"
      ]
     },
     "execution_count": 25,
     "metadata": {},
     "output_type": "execute_result"
    }
   ],
   "source": [
    "df_dum_todas = pd.get_dummies(df) # si la variable tiene k categorías, crea k nuevas columnas\n",
    "df_dum_todas"
   ]
  },
  {
   "cell_type": "code",
   "execution_count": 26,
   "id": "71b1acd4",
   "metadata": {
    "scrolled": true
   },
   "outputs": [
    {
     "data": {
      "text/plain": [
       "(27,)"
      ]
     },
     "execution_count": 26,
     "metadata": {},
     "output_type": "execute_result"
    },
    {
     "data": {
      "text/plain": [
       "(27,)"
      ]
     },
     "execution_count": 26,
     "metadata": {},
     "output_type": "execute_result"
    },
    {
     "data": {
      "text/plain": [
       "(48,)"
      ]
     },
     "execution_count": 26,
     "metadata": {},
     "output_type": "execute_result"
    },
    {
     "data": {
      "text/plain": [
       "35"
      ]
     },
     "execution_count": 26,
     "metadata": {},
     "output_type": "execute_result"
    }
   ],
   "source": [
    "df_dum_todas.celltype_adeno.sum(),\n",
    "df_dum_todas.celltype_large.sum(),\n",
    "df_dum_todas.celltype_smallcell.sum(),\n",
    "df_dum_todas.celltype_squamous.sum()"
   ]
  },
  {
   "cell_type": "code",
   "execution_count": 27,
   "id": "968cb028",
   "metadata": {},
   "outputs": [
    {
     "data": {
      "text/html": [
       "<div>\n",
       "<style scoped>\n",
       "    .dataframe tbody tr th:only-of-type {\n",
       "        vertical-align: middle;\n",
       "    }\n",
       "\n",
       "    .dataframe tbody tr th {\n",
       "        vertical-align: top;\n",
       "    }\n",
       "\n",
       "    .dataframe thead th {\n",
       "        text-align: right;\n",
       "    }\n",
       "</style>\n",
       "<table border=\"1\" class=\"dataframe\">\n",
       "  <thead>\n",
       "    <tr style=\"text-align: right;\">\n",
       "      <th></th>\n",
       "      <th>time</th>\n",
       "      <th>karno</th>\n",
       "      <th>diagtime</th>\n",
       "      <th>age</th>\n",
       "      <th>trt_2</th>\n",
       "      <th>celltype_large</th>\n",
       "      <th>celltype_smallcell</th>\n",
       "      <th>celltype_squamous</th>\n",
       "      <th>status_1</th>\n",
       "      <th>prior_10</th>\n",
       "    </tr>\n",
       "  </thead>\n",
       "  <tbody>\n",
       "    <tr>\n",
       "      <th>0</th>\n",
       "      <td>72</td>\n",
       "      <td>60</td>\n",
       "      <td>7</td>\n",
       "      <td>69</td>\n",
       "      <td>0</td>\n",
       "      <td>0</td>\n",
       "      <td>0</td>\n",
       "      <td>1</td>\n",
       "      <td>1</td>\n",
       "      <td>0</td>\n",
       "    </tr>\n",
       "    <tr>\n",
       "      <th>1</th>\n",
       "      <td>411</td>\n",
       "      <td>70</td>\n",
       "      <td>5</td>\n",
       "      <td>64</td>\n",
       "      <td>0</td>\n",
       "      <td>0</td>\n",
       "      <td>0</td>\n",
       "      <td>1</td>\n",
       "      <td>1</td>\n",
       "      <td>1</td>\n",
       "    </tr>\n",
       "    <tr>\n",
       "      <th>2</th>\n",
       "      <td>228</td>\n",
       "      <td>60</td>\n",
       "      <td>3</td>\n",
       "      <td>38</td>\n",
       "      <td>0</td>\n",
       "      <td>0</td>\n",
       "      <td>0</td>\n",
       "      <td>1</td>\n",
       "      <td>1</td>\n",
       "      <td>0</td>\n",
       "    </tr>\n",
       "    <tr>\n",
       "      <th>3</th>\n",
       "      <td>126</td>\n",
       "      <td>60</td>\n",
       "      <td>9</td>\n",
       "      <td>63</td>\n",
       "      <td>0</td>\n",
       "      <td>0</td>\n",
       "      <td>0</td>\n",
       "      <td>1</td>\n",
       "      <td>1</td>\n",
       "      <td>1</td>\n",
       "    </tr>\n",
       "    <tr>\n",
       "      <th>4</th>\n",
       "      <td>118</td>\n",
       "      <td>70</td>\n",
       "      <td>11</td>\n",
       "      <td>65</td>\n",
       "      <td>0</td>\n",
       "      <td>0</td>\n",
       "      <td>0</td>\n",
       "      <td>1</td>\n",
       "      <td>1</td>\n",
       "      <td>1</td>\n",
       "    </tr>\n",
       "    <tr>\n",
       "      <th>...</th>\n",
       "      <td>...</td>\n",
       "      <td>...</td>\n",
       "      <td>...</td>\n",
       "      <td>...</td>\n",
       "      <td>...</td>\n",
       "      <td>...</td>\n",
       "      <td>...</td>\n",
       "      <td>...</td>\n",
       "      <td>...</td>\n",
       "      <td>...</td>\n",
       "    </tr>\n",
       "    <tr>\n",
       "      <th>132</th>\n",
       "      <td>133</td>\n",
       "      <td>75</td>\n",
       "      <td>1</td>\n",
       "      <td>65</td>\n",
       "      <td>1</td>\n",
       "      <td>1</td>\n",
       "      <td>0</td>\n",
       "      <td>0</td>\n",
       "      <td>1</td>\n",
       "      <td>0</td>\n",
       "    </tr>\n",
       "    <tr>\n",
       "      <th>133</th>\n",
       "      <td>111</td>\n",
       "      <td>60</td>\n",
       "      <td>5</td>\n",
       "      <td>64</td>\n",
       "      <td>1</td>\n",
       "      <td>1</td>\n",
       "      <td>0</td>\n",
       "      <td>0</td>\n",
       "      <td>1</td>\n",
       "      <td>0</td>\n",
       "    </tr>\n",
       "    <tr>\n",
       "      <th>134</th>\n",
       "      <td>231</td>\n",
       "      <td>70</td>\n",
       "      <td>18</td>\n",
       "      <td>67</td>\n",
       "      <td>1</td>\n",
       "      <td>1</td>\n",
       "      <td>0</td>\n",
       "      <td>0</td>\n",
       "      <td>1</td>\n",
       "      <td>1</td>\n",
       "    </tr>\n",
       "    <tr>\n",
       "      <th>135</th>\n",
       "      <td>378</td>\n",
       "      <td>80</td>\n",
       "      <td>4</td>\n",
       "      <td>65</td>\n",
       "      <td>1</td>\n",
       "      <td>1</td>\n",
       "      <td>0</td>\n",
       "      <td>0</td>\n",
       "      <td>1</td>\n",
       "      <td>0</td>\n",
       "    </tr>\n",
       "    <tr>\n",
       "      <th>136</th>\n",
       "      <td>49</td>\n",
       "      <td>30</td>\n",
       "      <td>3</td>\n",
       "      <td>37</td>\n",
       "      <td>1</td>\n",
       "      <td>1</td>\n",
       "      <td>0</td>\n",
       "      <td>0</td>\n",
       "      <td>1</td>\n",
       "      <td>0</td>\n",
       "    </tr>\n",
       "  </tbody>\n",
       "</table>\n",
       "<p>137 rows × 10 columns</p>\n",
       "</div>"
      ],
      "text/plain": [
       "     time  karno  diagtime  age  trt_2  celltype_large  celltype_smallcell  \\\n",
       "0      72     60         7   69      0               0                   0   \n",
       "1     411     70         5   64      0               0                   0   \n",
       "2     228     60         3   38      0               0                   0   \n",
       "3     126     60         9   63      0               0                   0   \n",
       "4     118     70        11   65      0               0                   0   \n",
       "..    ...    ...       ...  ...    ...             ...                 ...   \n",
       "132   133     75         1   65      1               1                   0   \n",
       "133   111     60         5   64      1               1                   0   \n",
       "134   231     70        18   67      1               1                   0   \n",
       "135   378     80         4   65      1               1                   0   \n",
       "136    49     30         3   37      1               1                   0   \n",
       "\n",
       "     celltype_squamous  status_1  prior_10  \n",
       "0                    1         1         0  \n",
       "1                    1         1         1  \n",
       "2                    1         1         0  \n",
       "3                    1         1         1  \n",
       "4                    1         1         1  \n",
       "..                 ...       ...       ...  \n",
       "132                  0         1         0  \n",
       "133                  0         1         0  \n",
       "134                  0         1         1  \n",
       "135                  0         1         0  \n",
       "136                  0         1         0  \n",
       "\n",
       "[137 rows x 10 columns]"
      ]
     },
     "execution_count": 27,
     "metadata": {},
     "output_type": "execute_result"
    }
   ],
   "source": [
    "df_dum = pd.get_dummies(df,drop_first=True) # toma solo las categóricas y usa k-1 columnas\n",
    "df_dum"
   ]
  },
  {
   "cell_type": "code",
   "execution_count": 28,
   "id": "5db0f7d1",
   "metadata": {
    "scrolled": true
   },
   "outputs": [
    {
     "data": {
      "text/plain": [
       "(27, 48, 35)"
      ]
     },
     "execution_count": 28,
     "metadata": {},
     "output_type": "execute_result"
    }
   ],
   "source": [
    "df_dum.celltype_large.sum(),df_dum.celltype_smallcell.sum(),df_dum.celltype_squamous.sum()"
   ]
  },
  {
   "cell_type": "code",
   "execution_count": 29,
   "id": "9e595c97",
   "metadata": {},
   "outputs": [
    {
     "data": {
      "text/html": [
       "<div>\n",
       "<style scoped>\n",
       "    .dataframe tbody tr th:only-of-type {\n",
       "        vertical-align: middle;\n",
       "    }\n",
       "\n",
       "    .dataframe tbody tr th {\n",
       "        vertical-align: top;\n",
       "    }\n",
       "\n",
       "    .dataframe thead th {\n",
       "        text-align: right;\n",
       "    }\n",
       "</style>\n",
       "<table border=\"1\" class=\"dataframe\">\n",
       "  <thead>\n",
       "    <tr style=\"text-align: right;\">\n",
       "      <th></th>\n",
       "      <th>trt</th>\n",
       "      <th>prior</th>\n",
       "      <th>celltype</th>\n",
       "      <th>time</th>\n",
       "      <th>karno</th>\n",
       "      <th>diagtime</th>\n",
       "      <th>age</th>\n",
       "      <th>trt_2</th>\n",
       "      <th>celltype_large</th>\n",
       "      <th>celltype_smallcell</th>\n",
       "      <th>celltype_squamous</th>\n",
       "      <th>status_1</th>\n",
       "      <th>prior_10</th>\n",
       "    </tr>\n",
       "  </thead>\n",
       "  <tbody>\n",
       "    <tr>\n",
       "      <th>0</th>\n",
       "      <td>1</td>\n",
       "      <td>0</td>\n",
       "      <td>squamous</td>\n",
       "      <td>72</td>\n",
       "      <td>60</td>\n",
       "      <td>7</td>\n",
       "      <td>69</td>\n",
       "      <td>0</td>\n",
       "      <td>0</td>\n",
       "      <td>0</td>\n",
       "      <td>1</td>\n",
       "      <td>1</td>\n",
       "      <td>0</td>\n",
       "    </tr>\n",
       "    <tr>\n",
       "      <th>1</th>\n",
       "      <td>1</td>\n",
       "      <td>10</td>\n",
       "      <td>squamous</td>\n",
       "      <td>411</td>\n",
       "      <td>70</td>\n",
       "      <td>5</td>\n",
       "      <td>64</td>\n",
       "      <td>0</td>\n",
       "      <td>0</td>\n",
       "      <td>0</td>\n",
       "      <td>1</td>\n",
       "      <td>1</td>\n",
       "      <td>1</td>\n",
       "    </tr>\n",
       "    <tr>\n",
       "      <th>2</th>\n",
       "      <td>1</td>\n",
       "      <td>0</td>\n",
       "      <td>squamous</td>\n",
       "      <td>228</td>\n",
       "      <td>60</td>\n",
       "      <td>3</td>\n",
       "      <td>38</td>\n",
       "      <td>0</td>\n",
       "      <td>0</td>\n",
       "      <td>0</td>\n",
       "      <td>1</td>\n",
       "      <td>1</td>\n",
       "      <td>0</td>\n",
       "    </tr>\n",
       "    <tr>\n",
       "      <th>3</th>\n",
       "      <td>1</td>\n",
       "      <td>10</td>\n",
       "      <td>squamous</td>\n",
       "      <td>126</td>\n",
       "      <td>60</td>\n",
       "      <td>9</td>\n",
       "      <td>63</td>\n",
       "      <td>0</td>\n",
       "      <td>0</td>\n",
       "      <td>0</td>\n",
       "      <td>1</td>\n",
       "      <td>1</td>\n",
       "      <td>1</td>\n",
       "    </tr>\n",
       "    <tr>\n",
       "      <th>4</th>\n",
       "      <td>1</td>\n",
       "      <td>10</td>\n",
       "      <td>squamous</td>\n",
       "      <td>118</td>\n",
       "      <td>70</td>\n",
       "      <td>11</td>\n",
       "      <td>65</td>\n",
       "      <td>0</td>\n",
       "      <td>0</td>\n",
       "      <td>0</td>\n",
       "      <td>1</td>\n",
       "      <td>1</td>\n",
       "      <td>1</td>\n",
       "    </tr>\n",
       "    <tr>\n",
       "      <th>...</th>\n",
       "      <td>...</td>\n",
       "      <td>...</td>\n",
       "      <td>...</td>\n",
       "      <td>...</td>\n",
       "      <td>...</td>\n",
       "      <td>...</td>\n",
       "      <td>...</td>\n",
       "      <td>...</td>\n",
       "      <td>...</td>\n",
       "      <td>...</td>\n",
       "      <td>...</td>\n",
       "      <td>...</td>\n",
       "      <td>...</td>\n",
       "    </tr>\n",
       "    <tr>\n",
       "      <th>132</th>\n",
       "      <td>2</td>\n",
       "      <td>0</td>\n",
       "      <td>large</td>\n",
       "      <td>133</td>\n",
       "      <td>75</td>\n",
       "      <td>1</td>\n",
       "      <td>65</td>\n",
       "      <td>1</td>\n",
       "      <td>1</td>\n",
       "      <td>0</td>\n",
       "      <td>0</td>\n",
       "      <td>1</td>\n",
       "      <td>0</td>\n",
       "    </tr>\n",
       "    <tr>\n",
       "      <th>133</th>\n",
       "      <td>2</td>\n",
       "      <td>0</td>\n",
       "      <td>large</td>\n",
       "      <td>111</td>\n",
       "      <td>60</td>\n",
       "      <td>5</td>\n",
       "      <td>64</td>\n",
       "      <td>1</td>\n",
       "      <td>1</td>\n",
       "      <td>0</td>\n",
       "      <td>0</td>\n",
       "      <td>1</td>\n",
       "      <td>0</td>\n",
       "    </tr>\n",
       "    <tr>\n",
       "      <th>134</th>\n",
       "      <td>2</td>\n",
       "      <td>10</td>\n",
       "      <td>large</td>\n",
       "      <td>231</td>\n",
       "      <td>70</td>\n",
       "      <td>18</td>\n",
       "      <td>67</td>\n",
       "      <td>1</td>\n",
       "      <td>1</td>\n",
       "      <td>0</td>\n",
       "      <td>0</td>\n",
       "      <td>1</td>\n",
       "      <td>1</td>\n",
       "    </tr>\n",
       "    <tr>\n",
       "      <th>135</th>\n",
       "      <td>2</td>\n",
       "      <td>0</td>\n",
       "      <td>large</td>\n",
       "      <td>378</td>\n",
       "      <td>80</td>\n",
       "      <td>4</td>\n",
       "      <td>65</td>\n",
       "      <td>1</td>\n",
       "      <td>1</td>\n",
       "      <td>0</td>\n",
       "      <td>0</td>\n",
       "      <td>1</td>\n",
       "      <td>0</td>\n",
       "    </tr>\n",
       "    <tr>\n",
       "      <th>136</th>\n",
       "      <td>2</td>\n",
       "      <td>0</td>\n",
       "      <td>large</td>\n",
       "      <td>49</td>\n",
       "      <td>30</td>\n",
       "      <td>3</td>\n",
       "      <td>37</td>\n",
       "      <td>1</td>\n",
       "      <td>1</td>\n",
       "      <td>0</td>\n",
       "      <td>0</td>\n",
       "      <td>1</td>\n",
       "      <td>0</td>\n",
       "    </tr>\n",
       "  </tbody>\n",
       "</table>\n",
       "<p>137 rows × 13 columns</p>\n",
       "</div>"
      ],
      "text/plain": [
       "    trt prior  celltype  time  karno  diagtime  age  trt_2  celltype_large  \\\n",
       "0     1     0  squamous    72     60         7   69      0               0   \n",
       "1     1    10  squamous   411     70         5   64      0               0   \n",
       "2     1     0  squamous   228     60         3   38      0               0   \n",
       "3     1    10  squamous   126     60         9   63      0               0   \n",
       "4     1    10  squamous   118     70        11   65      0               0   \n",
       "..   ..   ...       ...   ...    ...       ...  ...    ...             ...   \n",
       "132   2     0     large   133     75         1   65      1               1   \n",
       "133   2     0     large   111     60         5   64      1               1   \n",
       "134   2    10     large   231     70        18   67      1               1   \n",
       "135   2     0     large   378     80         4   65      1               1   \n",
       "136   2     0     large    49     30         3   37      1               1   \n",
       "\n",
       "     celltype_smallcell  celltype_squamous  status_1  prior_10  \n",
       "0                     0                  1         1         0  \n",
       "1                     0                  1         1         1  \n",
       "2                     0                  1         1         0  \n",
       "3                     0                  1         1         1  \n",
       "4                     0                  1         1         1  \n",
       "..                  ...                ...       ...       ...  \n",
       "132                   0                  0         1         0  \n",
       "133                   0                  0         1         0  \n",
       "134                   0                  0         1         1  \n",
       "135                   0                  0         1         0  \n",
       "136                   0                  0         1         0  \n",
       "\n",
       "[137 rows x 13 columns]"
      ]
     },
     "execution_count": 29,
     "metadata": {},
     "output_type": "execute_result"
    }
   ],
   "source": [
    "df_dum = pd.concat([df[['trt','prior','celltype']], df_dum], axis=1) #le añade las columnas originales\n",
    "df_dum"
   ]
  },
  {
   "cell_type": "markdown",
   "id": "749c36c1",
   "metadata": {},
   "source": [
    "### Análisis univariado para intervalo y razón\n",
    "\n",
    "+ Vamos a visualizar estas variables con histogramas, diagramas de densidad, diagramas de cajas y bigotes, diagramas de barra de la biblioteca seaborn, entre otros\n",
    "\n",
    "#### Diagrama de densidad\n",
    "\n",
    "Un gráfico de densidad visualiza la distribución de datos en un intervalo o período de tiempo continuo. Este gráfico es una variación de un histograma que utiliza el suavizado del kernel para trazar valores, lo que permite distribuciones más suaves al suavizar el ruido."
   ]
  },
  {
   "cell_type": "markdown",
   "id": "b7990c49",
   "metadata": {},
   "source": [
    "#### karno"
   ]
  },
  {
   "cell_type": "code",
   "execution_count": 30,
   "id": "61453444",
   "metadata": {
    "scrolled": true
   },
   "outputs": [
    {
     "data": {
      "text/plain": [
       "<Axes: xlabel='karno', ylabel='Count'>"
      ]
     },
     "execution_count": 30,
     "metadata": {},
     "output_type": "execute_result"
    },
    {
     "data": {
      "image/png": "[encoded data removed]",
      "text/plain": [
       "<Figure size 400x200 with 1 Axes>"
      ]
     },
     "metadata": {},
     "output_type": "display_data"
    }
   ],
   "source": [
    "fig,ax = plt.subplots(figsize=(4,2))\n",
    "sns.histplot(data=df_dum,x='karno')\n",
    "# seaborn determina que 9 bins es lo mejor"
   ]
  },
  {
   "cell_type": "code",
   "execution_count": 31,
   "id": "31ba9cd0",
   "metadata": {},
   "outputs": [
    {
     "data": {
      "text/plain": [
       "<Axes: xlabel='karno', ylabel='Count'>"
      ]
     },
     "execution_count": 31,
     "metadata": {},
     "output_type": "execute_result"
    },
    {
     "data": {
      "image/png": "[encoded data removed]",
      "text/plain": [
       "<Figure size 400x200 with 1 Axes>"
      ]
     },
     "metadata": {},
     "output_type": "display_data"
    }
   ],
   "source": [
    "# Note que al cambiar a 20 bins se resaltan rangos de valores en los que no hay muestras\n",
    "fig,ax = plt.subplots(figsize=(4,2))\n",
    "sns.histplot(data=df_dum,x='karno', bins=20)"
   ]
  },
  {
   "cell_type": "code",
   "execution_count": 32,
   "id": "b70b941a",
   "metadata": {},
   "outputs": [
    {
     "data": {
      "text/plain": [
       "<Axes: xlabel='karno', ylabel='Count'>"
      ]
     },
     "execution_count": 32,
     "metadata": {},
     "output_type": "execute_result"
    },
    {
     "data": {
      "text/plain": [
       "<Axes: xlabel='karno'>"
      ]
     },
     "execution_count": 32,
     "metadata": {},
     "output_type": "execute_result"
    },
    {
     "data": {
      "text/plain": [
       "<Axes: ylabel='karno'>"
      ]
     },
     "execution_count": 32,
     "metadata": {},
     "output_type": "execute_result"
    },
    {
     "data": {
      "text/plain": [
       "<Axes: xlabel='karno'>"
      ]
     },
     "execution_count": 32,
     "metadata": {},
     "output_type": "execute_result"
    },
    {
     "data": {
      "image/png": "[encoded data removed]",
      "text/plain": [
       "<Figure size 800x600 with 4 Axes>"
      ]
     },
     "metadata": {},
     "output_type": "display_data"
    }
   ],
   "source": [
    "fig,ax = plt.subplots(2,2,figsize=(8,6))\n",
    "sns.histplot(data=df_dum,x='karno',hue='status_1',kde=True,ax=ax[0,0]) #visualiza densidad de kernel\n",
    "sns.boxplot(x=df_dum.karno,ax=ax[0,1])\n",
    "sns.barplot(data=df_dum, y=\"karno\",errcolor='orange',ax=ax[1,0])\n",
    "sns.violinplot(x=df_dum[\"karno\"],ax=ax[1,1]) # por defecto dibuja un boxplot en miniatura"
   ]
  },
  {
   "cell_type": "code",
   "execution_count": 33,
   "id": "ff1e241e",
   "metadata": {},
   "outputs": [
    {
     "data": {
      "text/plain": [
       "<Figure size 400x300 with 0 Axes>"
      ]
     },
     "execution_count": 33,
     "metadata": {},
     "output_type": "execute_result"
    },
    {
     "data": {
      "text/plain": [
       "<Axes: xlabel='karno', ylabel='count'>"
      ]
     },
     "execution_count": 33,
     "metadata": {},
     "output_type": "execute_result"
    },
    {
     "data": {
      "image/png": "[encoded data removed]",
      "text/plain": [
       "<Figure size 400x300 with 1 Axes>"
      ]
     },
     "metadata": {},
     "output_type": "display_data"
    }
   ],
   "source": [
    "plt.figure(figsize=(4,3))\n",
    "sns.countplot(data=df_dum, x =\"karno\")\n",
    "# Aquí el intervalo de confianza es del 95% (ci), calculado con 1000 bootstraps"
   ]
  },
  {
   "cell_type": "code",
   "execution_count": 34,
   "id": "ce3c7a06",
   "metadata": {},
   "outputs": [
    {
     "data": {
      "text/plain": [
       "Index(['trt', 'prior', 'celltype', 'time', 'karno', 'diagtime', 'age', 'trt_2',\n",
       "       'celltype_large', 'celltype_smallcell', 'celltype_squamous', 'status_1',\n",
       "       'prior_10'],\n",
       "      dtype='object')"
      ]
     },
     "execution_count": 34,
     "metadata": {},
     "output_type": "execute_result"
    }
   ],
   "source": [
    "df_dum.columns"
   ]
  },
  {
   "cell_type": "markdown",
   "id": "8361f7bf",
   "metadata": {},
   "source": [
    "### Ejemplo de gráfica interactiva"
   ]
  },
  {
   "cell_type": "code",
   "execution_count": 35,
   "id": "d142b83e",
   "metadata": {},
   "outputs": [
    {
     "data": {
      "application/vnd.jupyter.widget-view+json": {
       "model_id": "ea6629a4534b46b98305b99dcafc1668",
       "version_major": 2,
       "version_minor": 0
      },
      "text/plain": [
       "interactive(children=(Dropdown(description='col', options=('trt', 'prior', 'celltype', 'status_1', 'karno'), v…"
      ]
     },
     "metadata": {},
     "output_type": "display_data"
    }
   ],
   "source": [
    "@interact\n",
    "def grafica(col=df_dum[['trt', 'prior', 'celltype', 'status_1','karno']]):\n",
    "    sns.countplot(data=df_dum[['trt', 'prior', 'celltype', 'status_1','karno']], x = col )"
   ]
  },
  {
   "cell_type": "markdown",
   "id": "40101774",
   "metadata": {},
   "source": [
    "#### Interpretación\n",
    "\n",
    "+ No hay outliers\n",
    "+ La media está ligeramente más abajo que la mediana"
   ]
  },
  {
   "cell_type": "markdown",
   "id": "490e9505",
   "metadata": {},
   "source": [
    "#### diagtime"
   ]
  },
  {
   "cell_type": "code",
   "execution_count": 36,
   "id": "c8751750",
   "metadata": {},
   "outputs": [
    {
     "data": {
      "text/plain": [
       "<Axes: xlabel='diagtime', ylabel='Count'>"
      ]
     },
     "execution_count": 36,
     "metadata": {},
     "output_type": "execute_result"
    },
    {
     "data": {
      "text/plain": [
       "<Axes: xlabel='diagtime'>"
      ]
     },
     "execution_count": 36,
     "metadata": {},
     "output_type": "execute_result"
    },
    {
     "data": {
      "text/plain": [
       "<Axes: ylabel='diagtime'>"
      ]
     },
     "execution_count": 36,
     "metadata": {},
     "output_type": "execute_result"
    },
    {
     "data": {
      "image/png": "[encoded data removed]",
      "text/plain": [
       "<Figure size 1000x300 with 3 Axes>"
      ]
     },
     "metadata": {},
     "output_type": "display_data"
    }
   ],
   "source": [
    "fig,ax = plt.subplots(1,3,figsize=(10,3))\n",
    "sns.histplot(data=df_dum, x=\"diagtime\", hue='status_1',kde=True,ax=ax[0])  #visualiza densidad de kernel\n",
    "sns.boxplot(x=df_dum.diagtime,ax=ax[1])\n",
    "sns.barplot(data=df_dum, y=\"diagtime\",errcolor='orange',ax=ax[2])"
   ]
  },
  {
   "cell_type": "markdown",
   "id": "a9698a65",
   "metadata": {},
   "source": [
    "#### Interpretación\n",
    "\n",
    "+ Hay outliers\n",
    "+ El diagnóstico se hizo fundamentalmente antes de los 25 días"
   ]
  },
  {
   "cell_type": "markdown",
   "id": "aa1b98b8",
   "metadata": {},
   "source": [
    "#### age"
   ]
  },
  {
   "cell_type": "code",
   "execution_count": 37,
   "id": "69ade7cf",
   "metadata": {},
   "outputs": [
    {
     "data": {
      "text/plain": [
       "<Axes: xlabel='age', ylabel='Count'>"
      ]
     },
     "execution_count": 37,
     "metadata": {},
     "output_type": "execute_result"
    },
    {
     "data": {
      "text/plain": [
       "<Axes: xlabel='age'>"
      ]
     },
     "execution_count": 37,
     "metadata": {},
     "output_type": "execute_result"
    },
    {
     "data": {
      "text/plain": [
       "<Axes: ylabel='age'>"
      ]
     },
     "execution_count": 37,
     "metadata": {},
     "output_type": "execute_result"
    },
    {
     "data": {
      "image/png": "[encoded data removed]",
      "text/plain": [
       "<Figure size 1000x300 with 3 Axes>"
      ]
     },
     "metadata": {},
     "output_type": "display_data"
    }
   ],
   "source": [
    "fig,ax = plt.subplots(1,3,figsize=(10,3))\n",
    "sns.histplot(data=df_dum, x=\"age\", hue='status_1',kde=True,ax=ax[0])  #visualiza densidad de kernel\n",
    "sns.boxplot(x=df_dum.age,ax=ax[1])\n",
    "sns.barplot(data=df_dum, y=\"age\",errcolor='orange',ax=ax[2])"
   ]
  },
  {
   "cell_type": "markdown",
   "id": "a40e6890",
   "metadata": {},
   "source": [
    "#### Interpretación\n",
    "\n",
    "+ No hay outliers\n",
    "+ La mayor densidad de pacientes está entre 60 y 70 años\n",
    "+ La media es menor que la mediana"
   ]
  },
  {
   "cell_type": "markdown",
   "id": "2baff0ef",
   "metadata": {},
   "source": [
    "#### time"
   ]
  },
  {
   "cell_type": "code",
   "execution_count": 38,
   "id": "00b2ebed",
   "metadata": {
    "scrolled": true
   },
   "outputs": [
    {
     "data": {
      "text/plain": [
       "<Axes: xlabel='time', ylabel='Count'>"
      ]
     },
     "execution_count": 38,
     "metadata": {},
     "output_type": "execute_result"
    },
    {
     "data": {
      "text/plain": [
       "<Axes: xlabel='time'>"
      ]
     },
     "execution_count": 38,
     "metadata": {},
     "output_type": "execute_result"
    },
    {
     "data": {
      "text/plain": [
       "<Axes: ylabel='time'>"
      ]
     },
     "execution_count": 38,
     "metadata": {},
     "output_type": "execute_result"
    },
    {
     "data": {
      "image/png": "[encoded data removed]",
      "text/plain": [
       "<Figure size 1200x300 with 3 Axes>"
      ]
     },
     "metadata": {},
     "output_type": "display_data"
    }
   ],
   "source": [
    "fig,ax = plt.subplots(1,3,figsize=(12,3))\n",
    "sns.histplot(data=df_dum, x=\"time\", hue='status_1',kde=True,ax=ax[0])\n",
    "sns.boxplot(x=df_dum.time,ax=ax[1])#visualiza densidad de kernel\n",
    "sns.barplot(data=df_dum, y=\"time\",errcolor='orange',ax=ax[2])"
   ]
  },
  {
   "cell_type": "markdown",
   "id": "7fb7e46e",
   "metadata": {},
   "source": [
    "#### Interpretación\n",
    "\n",
    "+ No hay casi datos entre el día 600 y el 1000. \n",
    "+ Los últimos datos son atípicos (outliers)\n",
    "+ La mayoría de los veteranos muere antes del día 200\n",
    "+ Muy pocos veteranos se salieron del estudio (status=0)\n",
    "+ El tiempo mínimo es de 0 días y tenemos una media de 120 con desviación estándard de 157 !!!!"
   ]
  },
  {
   "cell_type": "markdown",
   "id": "6d424c05",
   "metadata": {},
   "source": [
    "### Uso de escala logarítmica\n",
    "\n",
    "Las escalas logarítmicas resultan útiles cuando los datos que visualiza son muchos menos o muchos más que el resto de los datos o cuando las diferencias entre los valores son importantes. También puede usarla si los valores del gráfico cubren un rango muy amplio."
   ]
  },
  {
   "cell_type": "code",
   "execution_count": 39,
   "id": "a7abe90c",
   "metadata": {
    "scrolled": true
   },
   "outputs": [
    {
     "data": {
      "text/plain": [
       "<Axes: xlabel='time', ylabel='Count'>"
      ]
     },
     "execution_count": 39,
     "metadata": {},
     "output_type": "execute_result"
    },
    {
     "data": {
      "image/png": "[encoded data removed]",
      "text/plain": [
       "<Figure size 500x300 with 1 Axes>"
      ]
     },
     "metadata": {},
     "output_type": "display_data"
    }
   ],
   "source": [
    "fig,ax = plt.subplots(figsize=(5,3))\n",
    "sns.histplot(data=df_dum, x=\"time\", kde=True,log_scale=True) # por defecto es logaritmo en base 10"
   ]
  },
  {
   "cell_type": "markdown",
   "id": "ece90bb8",
   "metadata": {},
   "source": [
    "### Interpretación\n",
    "\n",
    "+ Pocos pacientes murieron antes de los 10 días desde el inicio del estudio.\n",
    "+ La mayor cantidad murió alrededor de los 100 días\n",
    "+ Puede crearse una nueva característica con el logaritmo del tiempo y tendría una distribución más cercana a la normal."
   ]
  },
  {
   "cell_type": "code",
   "execution_count": 40,
   "id": "eb4e52ef",
   "metadata": {
    "scrolled": true
   },
   "outputs": [
    {
     "data": {
      "text/plain": [
       "0      1.857332\n",
       "1      2.613842\n",
       "2      2.357935\n",
       "3      2.100371\n",
       "4      2.071882\n",
       "         ...   \n",
       "132    2.123852\n",
       "133    2.045323\n",
       "134    2.363612\n",
       "135    2.577492\n",
       "136    1.690196\n",
       "Name: log_time, Length: 137, dtype: float64"
      ]
     },
     "execution_count": 40,
     "metadata": {},
     "output_type": "execute_result"
    }
   ],
   "source": [
    "df_dum['log_time'] = np.log10(df_dum['time'])  # Nueva característica\n",
    "df_dum['log_time']"
   ]
  },
  {
   "cell_type": "markdown",
   "id": "8f3dc165",
   "metadata": {},
   "source": [
    "### Otras opciones para los diagramas de violín"
   ]
  },
  {
   "cell_type": "code",
   "execution_count": 41,
   "id": "49da387a",
   "metadata": {},
   "outputs": [
    {
     "data": {
      "text/plain": [
       "<Axes: xlabel='karno'>"
      ]
     },
     "execution_count": 41,
     "metadata": {},
     "output_type": "execute_result"
    },
    {
     "data": {
      "text/plain": [
       "<Axes: xlabel='karno'>"
      ]
     },
     "execution_count": 41,
     "metadata": {},
     "output_type": "execute_result"
    },
    {
     "data": {
      "image/png": "[encoded data removed]",
      "text/plain": [
       "<Figure size 600x200 with 2 Axes>"
      ]
     },
     "metadata": {},
     "output_type": "display_data"
    }
   ],
   "source": [
    "fig,ax = plt.subplots(1,2,figsize=(6,2))\n",
    "sns.violinplot(x=df_dum[\"karno\"],inner='quartile',ax=ax[0])\n",
    "sns.violinplot(x=df_dum[\"karno\"],inner='stick',ax=ax[1])"
   ]
  },
  {
   "cell_type": "markdown",
   "id": "cb37ba78",
   "metadata": {},
   "source": [
    "### Interpretación\n",
    "\n",
    "+ La puntuación de karno tiene una densidad mayor entre 60 y 80, con un pico cercano a 70 y con mediana en 60"
   ]
  },
  {
   "cell_type": "markdown",
   "id": "c151897b",
   "metadata": {},
   "source": [
    "## Ejercicio para resaltar la diferencia de sintaxis en matplotlib y seaborn para enviar un plot a un eje"
   ]
  },
  {
   "cell_type": "code",
   "execution_count": 42,
   "id": "b6e4bb77",
   "metadata": {},
   "outputs": [
    {
     "data": {
      "text/plain": [
       "(array([35.,  0.,  0., 48.,  0.,  0., 27.,  0.,  0., 27.]),\n",
       " array([0. , 0.3, 0.6, 0.9, 1.2, 1.5, 1.8, 2.1, 2.4, 2.7, 3. ]),\n",
       " <BarContainer object of 10 artists>)"
      ]
     },
     "execution_count": 42,
     "metadata": {},
     "output_type": "execute_result"
    },
    {
     "data": {
      "text/plain": [
       "Text(0.5, 0.98, 'Histogramas')"
      ]
     },
     "execution_count": 42,
     "metadata": {},
     "output_type": "execute_result"
    },
    {
     "data": {
      "text/plain": [
       "([0, 1, 2, 3],\n",
       " [Text(0, 0, 'adeno'),\n",
       "  Text(1, 0, 'large'),\n",
       "  Text(2, 0, 'smallcell'),\n",
       "  Text(3, 0, 'squamous')])"
      ]
     },
     "execution_count": 42,
     "metadata": {},
     "output_type": "execute_result"
    },
    {
     "data": {
      "image/png": "[encoded data removed]",
      "text/plain": [
       "<Figure size 600x300 with 2 Axes>"
      ]
     },
     "metadata": {},
     "output_type": "display_data"
    }
   ],
   "source": [
    "fig,axs = plt.subplots(nrows=1,ncols=2,figsize=(6,3),sharey=True)\n",
    "#eje.plot\n",
    "axs[0].hist(df.celltype)\n",
    "\n",
    "#eje = plot\n",
    "axs[1] = sns.histplot(data=df_dum,x=df_dum.celltype)\n",
    "\n",
    "plt.suptitle('Histogramas')\n",
    "plt.xticks(rotation=45)\n",
    "plt.show()"
   ]
  },
  {
   "cell_type": "markdown",
   "id": "56a160e5",
   "metadata": {},
   "source": [
    "### Interpretación\n",
    "\n",
    "+ Notar que la cantidad de bins por defecto con seaborn y matplotlib es diferente. \n",
    "Los histogramas no son adecuados para este cao. Note que no cambia de colores como en el countplot()\n"
   ]
  },
  {
   "cell_type": "markdown",
   "id": "38b1f3a4",
   "metadata": {},
   "source": [
    "### Diagramas categóricos\n",
    "\n",
    "+ Es un diagrama de la biblioteca seaborn que opera a nivel de FaceGrid, por lo que el ancho y la altura del gráfico hay que especificarlo con los parámetros height y scale. el objeto FaceGrid devuelto es el que se puede usar para hacer subplots.\n",
    "+ Sin especificar una categoría por el eje de las y, permite visualizar densidad de puntos para cada valor de la x\n",
    "+ Son mejores para análisis multivariado, especialmente el bivariado"
   ]
  },
  {
   "cell_type": "code",
   "execution_count": 43,
   "id": "bf4ee19d",
   "metadata": {},
   "outputs": [],
   "source": [
    "#sns.catplot?"
   ]
  },
  {
   "cell_type": "code",
   "execution_count": 44,
   "id": "5b53fe3f",
   "metadata": {},
   "outputs": [
    {
     "data": {
      "text/plain": [
       "<seaborn.axisgrid.FacetGrid at 0x211e3a00580>"
      ]
     },
     "execution_count": 44,
     "metadata": {},
     "output_type": "execute_result"
    },
    {
     "data": {
      "image/png": "[encoded data removed]",
      "text/plain": [
       "<Figure size 300x300 with 1 Axes>"
      ]
     },
     "metadata": {},
     "output_type": "display_data"
    }
   ],
   "source": [
    "sns.catplot(data=df_dum, x=\"karno\",height=3)"
   ]
  },
  {
   "cell_type": "markdown",
   "id": "df9e09ed",
   "metadata": {},
   "source": [
    "### Guardar archivo con nuevas columnas dummies y guardar tipos de cada columna en archivo\n",
    "\n",
    "Estos archivos se usará en otros notebooks para análisis multivariado\n",
    "\n",
    "+ El formato npy es el formato de archivo binario estándar en NumPy para conservar un arreglo NumPy cualquiera en el disco. El formato almacena toda la información de forma y tipo necesaria para reconstruir el arreglo correctamente incluso en otra máquina con una arquitectura diferente.\n",
    "+ Un archivo pkl es un archivo creado por pickle, un módulo de Python que permite que los objetos se serialicen en archivos en el disco y se deserialicen nuevamente en el programa en tiempo de ejecución. Contiene un flujo de bytes que representa los objetos. El archivo contiene secuencias de bytes que representan su contenido."
   ]
  },
  {
   "cell_type": "code",
   "execution_count": 48,
   "id": "7008542b",
   "metadata": {},
   "outputs": [],
   "source": [
    "# Guardar tipos de cada columna\n",
    "tipos = pd.DataFrame(df_dum.dtypes,columns=['dtypes'])\n",
    "\n",
    "non_date = tipos[tipos['dtypes'] != 'datetime64[ns]']\n",
    "\n",
    "non_date.to_csv('tipos_veteranos.csv',index_label='columnas',header=['tipos'],encoding='utf_8')"
   ]
  },
  {
   "cell_type": "code",
   "execution_count": 49,
   "id": "2de8eef6",
   "metadata": {},
   "outputs": [
    {
     "data": {
      "text/plain": [
       "'import pickle\\n\\n# Guardar lista de columnas datatime, si hubiere\\nlista_fechas = list(df_dum.dtypes[df_dum.dtypes == \\'<M8[ns]\\'].index)\\n\\nnp.save( \"lista_fechas.npy\", lista_fechas, allow_pickle=True)  # forma 1\\n\\n# Forma 2\\nwith open(\\'lista_fechas.pkl\\',\\'wb\\') as f:\\n    np.dump(lista_fechas)'"
      ]
     },
     "execution_count": 49,
     "metadata": {},
     "output_type": "execute_result"
    }
   ],
   "source": [
    "'''import pickle\n",
    "\n",
    "# Guardar lista de columnas datatime, si hubiere\n",
    "lista_fechas = list(df_dum.dtypes[df_dum.dtypes == '<M8[ns]'].index)\n",
    "\n",
    "np.save( \"lista_fechas.npy\", lista_fechas, allow_pickle=True)  # forma 1\n",
    "\n",
    "# Forma 2\n",
    "with open('lista_fechas.pkl','wb') as f:\n",
    "    np.dump(lista_fechas)'''"
   ]
  },
  {
   "cell_type": "code",
   "execution_count": 50,
   "id": "01a31fb3",
   "metadata": {},
   "outputs": [],
   "source": [
    "df_dum.to_csv('dataset-25346_dum.csv',index=False,encoding='utf-8')"
   ]
  },
  {
   "cell_type": "code",
   "execution_count": null,
   "id": "e9a3a274",
   "metadata": {},
   "outputs": [],
   "source": []
  }
 ],
 "metadata": {
  "kernelspec": {
   "display_name": "Python 3 (ipykernel)",
   "language": "python",
   "name": "python3"
  },
  "language_info": {
   "codemirror_mode": {
    "name": "ipython",
    "version": 3
   },
   "file_extension": ".py",
   "mimetype": "text/x-python",
   "name": "python",
   "nbconvert_exporter": "python",
   "pygments_lexer": "ipython3",
   "version": "3.10.9"
  }
 },
 "nbformat": 4,
 "nbformat_minor": 5
}
