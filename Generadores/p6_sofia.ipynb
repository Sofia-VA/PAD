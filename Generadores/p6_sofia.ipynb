{
 "cells": [
  {
   "cell_type": "markdown",
   "metadata": {},
   "source": [
    "> # Práctica 6\n",
    "> ##### &nbsp;&nbsp;&nbsp;&nbsp; Funciones generadoras y funciones lambda\n",
    "> - **Fecha**: 04/10/2023  |  ITESO  \n",
    "> - **Materia**: Programación para el Análisis de Datos\n",
    "> - **Alumno**: Sofía Vargas Aceves is77375  \n",
    ">  <br>"
   ]
  },
  {
   "cell_type": "markdown",
   "metadata": {},
   "source": [
    "### Librerías"
   ]
  },
  {
   "cell_type": "code",
   "execution_count": 1,
   "metadata": {},
   "outputs": [],
   "source": [
    "# Para visualizar más de una salida de una celda\n",
    "from IPython.core.interactiveshell import InteractiveShell\n",
    "InteractiveShell.ast_node_interactivity = \"all\""
   ]
  },
  {
   "cell_type": "code",
   "execution_count": 4,
   "metadata": {},
   "outputs": [],
   "source": [
    "# Para representar datos en una tabla\n",
    "import pandas as pd\n",
    "import numpy as np"
   ]
  },
  {
   "cell_type": "markdown",
   "metadata": {},
   "source": [
    "### EXTRA\n",
    "[Ver uso de map(), reduce(), zip(), etc.](https://pythondiario.com/2018/07/ejercicios-en-python-con-funciones.html)"
   ]
  },
  {
   "cell_type": "markdown",
   "metadata": {},
   "source": [
    "### Ejercicio 1\n",
    "Implementa un generador sucesos(p) que produce una secuencia infinita de valores booleanos pseudoaletorios con probabilidad p de que sean True."
   ]
  },
  {
   "cell_type": "code",
   "execution_count": 30,
   "metadata": {},
   "outputs": [
    {
     "name": "stdout",
     "output_type": "stream",
     "text": [
      "True\n",
      "False\n",
      "False\n"
     ]
    }
   ],
   "source": [
    "def sucesos(p):\n",
    "    prob = np.random.random()\n",
    "    # print(prob)\n",
    "    yield True if prob<p else False\n",
    "\n",
    "\n",
    "print(next(sucesos(.87)))\n",
    "print(next(sucesos(.21)))\n",
    "print(next(sucesos(.50)))\n"
   ]
  },
  {
   "cell_type": "markdown",
   "metadata": {},
   "source": [
    "### Ejercicio 2\n",
    "Implementa un generador fibonacci(n) que produce los n primeros elementos de la serie de Fibonacci, que tiene la forma  0, 1, 1, 2, 3, 5, 8, 13, ... los dos primeros valores son 0 y 1 por definición y el resto se calculan sumando los dos últimos valores de la sucesión."
   ]
  },
  {
   "cell_type": "code",
   "execution_count": null,
   "metadata": {},
   "outputs": [],
   "source": [
    "def fibonacci(n):\n",
    "    fib = 0\n",
    "    yield fibonacci(n)\n"
   ]
  },
  {
   "cell_type": "markdown",
   "metadata": {},
   "source": [
    "### Ejercicio 3\n",
    "Implementa un generador primos(n) que genere los primeros n primos. Por eficiencia, el generador debe ir almacenando los primos encontrados hasta el momento en una lista."
   ]
  },
  {
   "cell_type": "markdown",
   "metadata": {},
   "source": []
  },
  {
   "cell_type": "markdown",
   "metadata": {},
   "source": [
    "### Ejercicio 4\n",
    "Filtrar números impares de una lista usando la función integrada filter() y una función lambda. Recuerde que la sintaxis de filter es filter(function, iterable). En la misma, \"function\" opera sobre \" iterable\" y filter() devuelve un iterador que contendrá a todos los elementos del iterable que pasen la condición de function. [Ejemplos](https://www.simplilearn.com/tutorials/python-tutorial/filter-in-python#:~:text=Filter()%20is%20a%20built,that%20you%20provide%20very%20efficiently)"
   ]
  },
  {
   "cell_type": "markdown",
   "metadata": {},
   "source": [
    "### Ejercicio 5\n",
    "Crear dos funciones anónimas:\n",
    "\n",
    "+ Una recibe el valor en Fahrenheit y retorna el valor en Celsius\n",
    "+ Otra recibe el valor en Celsius y retorna el valor en Fahrenheit"
   ]
  },
  {
   "cell_type": "markdown",
   "metadata": {},
   "source": []
  }
 ],
 "metadata": {
  "kernelspec": {
   "display_name": "DeepEnv",
   "language": "python",
   "name": "python3"
  },
  "language_info": {
   "codemirror_mode": {
    "name": "ipython",
    "version": 3
   },
   "file_extension": ".py",
   "mimetype": "text/x-python",
   "name": "python",
   "nbconvert_exporter": "python",
   "pygments_lexer": "ipython3",
   "version": "3.8.12"
  },
  "orig_nbformat": 4
 },
 "nbformat": 4,
 "nbformat_minor": 2
}
