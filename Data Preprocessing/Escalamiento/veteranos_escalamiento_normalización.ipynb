{
 "cells": [
  {
   "cell_type": "markdown",
   "id": "556cdf81",
   "metadata": {},
   "source": [
    "# Programación para Análisis de Datos\n",
    "\n",
    "## Escalamiento y normalización\n",
    "\n",
    "### Caso veteranos con cáncer de pulmón. \n",
    "### Mtra. Gisel Hernández Chávez\n",
    "\n"
   ]
  },
  {
   "attachments": {},
   "cell_type": "markdown",
   "id": "75112358",
   "metadata": {},
   "source": [
    "### Escalamiento\n",
    "\n",
    "+ __¿Por qué es necesario escalar los datos en algunos casos?__ Porque algunos algoritmos son sensibles a las escalas.\n",
    "+  Otro ejemplo popular de escalamiento de datos es el procesamiento de imágenes, donde las intensidades de los píxeles deben escalarse para ajustarse a un cierto rango (es decir, de 0 a 255 para el rango de color RGB).\n",
    "\n",
    "+ El escalado de características es un método utilizado para manejar adecuadamente el rango de variables independientes o características de los datos.\n",
    "+ Generalmente se realiza durante el paso de preprocesamiento de datos.\n",
    "+ Hay dos técnicas fundamentales de escalamiento:\n",
    "    + Normalización\n",
    "    + Estandarización\n",
    "\n",
    "#### Diferencias entre normalizar y escalar\n",
    "\n",
    "https://www.analyticsvidhya.com/blog/2020/04/feature-scaling-machine-learning-normalization-standardization/\n"
   ]
  },
  {
   "attachments": {},
   "cell_type": "markdown",
   "id": "893f384c",
   "metadata": {},
   "source": [
    "### Norma de un vector\n",
    "\n",
    "Una norma es una operación matemática que se aplica a un vector  que asigna valores vectoriales a valores en [0,∞).\n",
    "\n",
    "+ En el aprendizaje automático, las normas son útiles porque se utilizan para expresar distancias: “este vector y este otro vector están tan separados, según tal o cual norma”.\n",
    "+ La norma de un vector es un número no negativo que describe la extensión de este vector en el espacio. Otros términos usados son la magnitud o longitud del vector.\n",
    "+ En el ámbito de la Ciencia de Datos y el Machine Learning (aprendizaje automático) convencionalmente se usan dos tipos de norma: la norma l1 y la norma l2.\n"
   ]
  },
  {
   "cell_type": "code",
   "execution_count": 4,
   "id": "e5e7552d",
   "metadata": {},
   "outputs": [
    {
     "ename": "ImportError",
     "evalue": "\n\nIMPORTANT: PLEASE READ THIS FOR ADVICE ON HOW TO SOLVE THIS ISSUE!\n\nImporting the numpy C-extensions failed. This error can happen for\nmany reasons, often due to issues with your setup or how NumPy was\ninstalled.\n\nWe have compiled some common reasons and troubleshooting tips at:\n\n    https://numpy.org/devdocs/user/troubleshooting-importerror.html\n\nPlease note and check the following:\n\n  * The Python version is: Python3.8 from \"d:\\Programs\\Code\\anaconda3\\envs\\DeepEnv\\python.exe\"\n  * The NumPy version is: \"1.19.2\"\n\nand make sure that they are the versions you expect.\nPlease carefully study the documentation linked above for further help.\n\nOriginal error was: DLL load failed while importing _multiarray_umath: No se puede encontrar el módulo especificado.\n",
     "output_type": "error",
     "traceback": [
      "\u001b[1;31m---------------------------------------------------------------------------\u001b[0m",
      "\u001b[1;31mImportError\u001b[0m                               Traceback (most recent call last)",
      "\u001b[1;32md:\\Programs\\Code\\anaconda3\\envs\\DeepEnv\\lib\\site-packages\\numpy\\core\\__init__.py\u001b[0m in \u001b[0;36m<module>\u001b[1;34m\u001b[0m\n\u001b[0;32m     21\u001b[0m \u001b[1;32mtry\u001b[0m\u001b[1;33m:\u001b[0m\u001b[1;33m\u001b[0m\u001b[1;33m\u001b[0m\u001b[0m\n\u001b[1;32m---> 22\u001b[1;33m     \u001b[1;32mfrom\u001b[0m \u001b[1;33m.\u001b[0m \u001b[1;32mimport\u001b[0m \u001b[0mmultiarray\u001b[0m\u001b[1;33m\u001b[0m\u001b[1;33m\u001b[0m\u001b[0m\n\u001b[0m\u001b[0;32m     23\u001b[0m \u001b[1;32mexcept\u001b[0m \u001b[0mImportError\u001b[0m \u001b[1;32mas\u001b[0m \u001b[0mexc\u001b[0m\u001b[1;33m:\u001b[0m\u001b[1;33m\u001b[0m\u001b[1;33m\u001b[0m\u001b[0m\n",
      "\u001b[1;32md:\\Programs\\Code\\anaconda3\\envs\\DeepEnv\\lib\\site-packages\\numpy\\core\\multiarray.py\u001b[0m in \u001b[0;36m<module>\u001b[1;34m\u001b[0m\n\u001b[0;32m     11\u001b[0m \u001b[1;33m\u001b[0m\u001b[0m\n\u001b[1;32m---> 12\u001b[1;33m \u001b[1;32mfrom\u001b[0m \u001b[1;33m.\u001b[0m \u001b[1;32mimport\u001b[0m \u001b[0moverrides\u001b[0m\u001b[1;33m\u001b[0m\u001b[1;33m\u001b[0m\u001b[0m\n\u001b[0m\u001b[0;32m     13\u001b[0m \u001b[1;32mfrom\u001b[0m \u001b[1;33m.\u001b[0m \u001b[1;32mimport\u001b[0m \u001b[0m_multiarray_umath\u001b[0m\u001b[1;33m\u001b[0m\u001b[1;33m\u001b[0m\u001b[0m\n",
      "\u001b[1;32md:\\Programs\\Code\\anaconda3\\envs\\DeepEnv\\lib\\site-packages\\numpy\\core\\overrides.py\u001b[0m in \u001b[0;36m<module>\u001b[1;34m\u001b[0m\n\u001b[0;32m      6\u001b[0m \u001b[1;33m\u001b[0m\u001b[0m\n\u001b[1;32m----> 7\u001b[1;33m from numpy.core._multiarray_umath import (\n\u001b[0m\u001b[0;32m      8\u001b[0m     add_docstring, implement_array_function, _get_implementing_args)\n",
      "\u001b[1;31mImportError\u001b[0m: DLL load failed while importing _multiarray_umath: No se puede encontrar el módulo especificado.",
      "\nDuring handling of the above exception, another exception occurred:\n",
      "\u001b[1;31mImportError\u001b[0m                               Traceback (most recent call last)",
      "\u001b[1;32m~\\AppData\\Local\\Temp/ipykernel_39984/1592906068.py\u001b[0m in \u001b[0;36m<module>\u001b[1;34m\u001b[0m\n\u001b[0;32m      1\u001b[0m \u001b[1;31m#import pandas as pd\u001b[0m\u001b[1;33m\u001b[0m\u001b[1;33m\u001b[0m\u001b[1;33m\u001b[0m\u001b[0m\n\u001b[1;32m----> 2\u001b[1;33m \u001b[1;32mimport\u001b[0m \u001b[0mnumpy\u001b[0m \u001b[1;32mas\u001b[0m \u001b[0mnp\u001b[0m\u001b[1;33m\u001b[0m\u001b[1;33m\u001b[0m\u001b[0m\n\u001b[0m\u001b[0;32m      3\u001b[0m \u001b[1;32mimport\u001b[0m \u001b[0mmatplotlib\u001b[0m\u001b[1;33m.\u001b[0m\u001b[0mpyplot\u001b[0m \u001b[1;32mas\u001b[0m \u001b[0mplt\u001b[0m\u001b[1;33m\u001b[0m\u001b[1;33m\u001b[0m\u001b[0m\n\u001b[0;32m      4\u001b[0m \u001b[1;32mimport\u001b[0m \u001b[0mseaborn\u001b[0m \u001b[1;32mas\u001b[0m \u001b[0msns\u001b[0m\u001b[1;33m\u001b[0m\u001b[1;33m\u001b[0m\u001b[0m\n",
      "\u001b[1;32md:\\Programs\\Code\\anaconda3\\envs\\DeepEnv\\lib\\site-packages\\numpy\\__init__.py\u001b[0m in \u001b[0;36m<module>\u001b[1;34m\u001b[0m\n\u001b[0;32m    138\u001b[0m     \u001b[1;32mfrom\u001b[0m \u001b[1;33m.\u001b[0m \u001b[1;32mimport\u001b[0m \u001b[0m_distributor_init\u001b[0m\u001b[1;33m\u001b[0m\u001b[1;33m\u001b[0m\u001b[0m\n\u001b[0;32m    139\u001b[0m \u001b[1;33m\u001b[0m\u001b[0m\n\u001b[1;32m--> 140\u001b[1;33m     \u001b[1;32mfrom\u001b[0m \u001b[1;33m.\u001b[0m \u001b[1;32mimport\u001b[0m \u001b[0mcore\u001b[0m\u001b[1;33m\u001b[0m\u001b[1;33m\u001b[0m\u001b[0m\n\u001b[0m\u001b[0;32m    141\u001b[0m     \u001b[1;32mfrom\u001b[0m \u001b[1;33m.\u001b[0m\u001b[0mcore\u001b[0m \u001b[1;32mimport\u001b[0m \u001b[1;33m*\u001b[0m\u001b[1;33m\u001b[0m\u001b[1;33m\u001b[0m\u001b[0m\n\u001b[0;32m    142\u001b[0m     \u001b[1;32mfrom\u001b[0m \u001b[1;33m.\u001b[0m \u001b[1;32mimport\u001b[0m \u001b[0mcompat\u001b[0m\u001b[1;33m\u001b[0m\u001b[1;33m\u001b[0m\u001b[0m\n",
      "\u001b[1;32md:\\Programs\\Code\\anaconda3\\envs\\DeepEnv\\lib\\site-packages\\numpy\\core\\__init__.py\u001b[0m in \u001b[0;36m<module>\u001b[1;34m\u001b[0m\n\u001b[0;32m     46\u001b[0m \"\"\" % (sys.version_info[0], sys.version_info[1], sys.executable,\n\u001b[0;32m     47\u001b[0m         __version__, exc)\n\u001b[1;32m---> 48\u001b[1;33m     \u001b[1;32mraise\u001b[0m \u001b[0mImportError\u001b[0m\u001b[1;33m(\u001b[0m\u001b[0mmsg\u001b[0m\u001b[1;33m)\u001b[0m\u001b[1;33m\u001b[0m\u001b[1;33m\u001b[0m\u001b[0m\n\u001b[0m\u001b[0;32m     49\u001b[0m \u001b[1;32mfinally\u001b[0m\u001b[1;33m:\u001b[0m\u001b[1;33m\u001b[0m\u001b[1;33m\u001b[0m\u001b[0m\n\u001b[0;32m     50\u001b[0m     \u001b[1;32mfor\u001b[0m \u001b[0menvkey\u001b[0m \u001b[1;32min\u001b[0m \u001b[0menv_added\u001b[0m\u001b[1;33m:\u001b[0m\u001b[1;33m\u001b[0m\u001b[1;33m\u001b[0m\u001b[0m\n",
      "\u001b[1;31mImportError\u001b[0m: \n\nIMPORTANT: PLEASE READ THIS FOR ADVICE ON HOW TO SOLVE THIS ISSUE!\n\nImporting the numpy C-extensions failed. This error can happen for\nmany reasons, often due to issues with your setup or how NumPy was\ninstalled.\n\nWe have compiled some common reasons and troubleshooting tips at:\n\n    https://numpy.org/devdocs/user/troubleshooting-importerror.html\n\nPlease note and check the following:\n\n  * The Python version is: Python3.8 from \"d:\\Programs\\Code\\anaconda3\\envs\\DeepEnv\\python.exe\"\n  * The NumPy version is: \"1.19.2\"\n\nand make sure that they are the versions you expect.\nPlease carefully study the documentation linked above for further help.\n\nOriginal error was: DLL load failed while importing _multiarray_umath: No se puede encontrar el módulo especificado.\n"
     ]
    }
   ],
   "source": [
    "#import pandas as pd\n",
    "import numpy as np\n",
    "import matplotlib.pyplot as plt\n",
    "import seaborn as sns"
   ]
  },
  {
   "cell_type": "code",
   "execution_count": null,
   "id": "7125e2cb",
   "metadata": {},
   "outputs": [],
   "source": [
    "import statsmodels.api as sm"
   ]
  },
  {
   "cell_type": "code",
   "execution_count": null,
   "id": "740220a9",
   "metadata": {},
   "outputs": [],
   "source": [
    "from numpy import array\n",
    "from numpy.linalg import norm\n",
    "# scipy.linalg.norm : Similar function in SciPy"
   ]
  },
  {
   "attachments": {},
   "cell_type": "markdown",
   "id": "45f7d828",
   "metadata": {},
   "source": [
    "### Norma l1\n",
    "\n",
    "Se calcula como la suma del valor absoluto de los elementos del vector."
   ]
  },
  {
   "cell_type": "code",
   "execution_count": null,
   "id": "556083ca",
   "metadata": {},
   "outputs": [],
   "source": [
    "#norm?"
   ]
  },
  {
   "cell_type": "code",
   "execution_count": null,
   "id": "35432c7f",
   "metadata": {},
   "outputs": [
    {
     "name": "stdout",
     "output_type": "stream",
     "text": [
      "[1 2 3]\n",
      "6.0\n"
     ]
    }
   ],
   "source": [
    "# ord=1      max(sum(abs(x), axis=0))\n",
    "a = array([1, 2, 3])\n",
    "print(a)\n",
    "l1 = norm(a, 1) # ord=1\n",
    "print(l1)"
   ]
  },
  {
   "attachments": {},
   "cell_type": "markdown",
   "id": "66995fb4",
   "metadata": {},
   "source": [
    "### Norma l2\n",
    "\n",
    "+ Se calcula como raíz cuadrada de la suma de los cuadrados de los elementos del vector y también se conoce como norma euclidiana.\n",
    "+ Un vector unitario se define simplemente como aquel cuya norma l2 es igual a 1.\n"
   ]
  },
  {
   "cell_type": "code",
   "execution_count": null,
   "id": "6dfeb66a",
   "metadata": {},
   "outputs": [
    {
     "name": "stdout",
     "output_type": "stream",
     "text": [
      "3.7416573867739413\n"
     ]
    }
   ],
   "source": [
    "# square root of the sum of the squared vector values\n",
    "l2 = norm(a)\n",
    "print(l2)"
   ]
  },
  {
   "cell_type": "markdown",
   "id": "698f6e24",
   "metadata": {},
   "source": [
    "### Escalamiento con norma \"max\"\n",
    "\n",
    "Si se utiliza norma='max', los valores se reescalarán según el máximo de los valores absolutos."
   ]
  },
  {
   "cell_type": "code",
   "execution_count": null,
   "id": "ef611de2",
   "metadata": {},
   "outputs": [
    {
     "name": "stdout",
     "output_type": "stream",
     "text": [
      "3.0\n"
     ]
    }
   ],
   "source": [
    "maxnorm = norm(a, np.inf)\n",
    "print(maxnorm)"
   ]
  },
  {
   "cell_type": "markdown",
   "id": "140d7f1a",
   "metadata": {},
   "source": [
    "\n",
    "### Normalización\n",
    "\n",
    "+ La normalización es una técnica de escalado en la que __los valores se desplazan y re escalan para que terminen oscilando entre 0 y 1__. También se conoce como __escalado Mín-Máx__.\n",
    "+ Es buena para usar cuando la distribución de datos no sigue una distribución gaussiana. \n",
    "+ El impacto de los datos atípicos (outliers) es muy alto en la normalización.\n",
    "+ Puede ser útil en algoritmos que no asumen ninguna distribución de los datos como K-Nearest Neighbors.\n",
    "+ En el algoritmo de redes neuronales que requiere datos en una escala de 0 a 1, la normalización es un paso de preprocesamiento esencial."
   ]
  },
  {
   "cell_type": "code",
   "execution_count": null,
   "id": "a46c3598",
   "metadata": {},
   "outputs": [
    {
     "data": {
      "text/plain": [
       "array([[0.8, 0.2, 0.4, 0.4],\n",
       "       [0.1, 0.3, 0.9, 0.3],\n",
       "       [0.5, 0.7, 0.5, 0.1]])"
      ]
     },
     "execution_count": 45,
     "metadata": {},
     "output_type": "execute_result"
    }
   ],
   "source": [
    "from sklearn.preprocessing import Normalizer\n",
    "X = [[4, 1, 2, 2],\n",
    "     [1, 3, 9, 3],\n",
    "     [5, 7, 5, 1]]\n",
    "transformer = Normalizer().fit(X)  # fit does nothing.\n",
    "\n",
    "transformer.transform(X)"
   ]
  },
  {
   "attachments": {
    "image-2.png": {
     "image/png": "[encoded data removed]"
    },
    "image.png": {
     "image/png": "[encoded data removed]"
    }
   },
   "cell_type": "markdown",
   "id": "a0604ae8",
   "metadata": {},
   "source": [
    "### Estandarización\n",
    "\n",
    "+ Hace que los valores de cada característica en los datos tengan una __media cero y una varianza unitaria__. \n",
    "+ El método general de cálculo es determinar la media de distribución y la desviación estándar para cada característica y calcular el nuevo punto de datos mediante la siguiente fórmula:\n",
    "\n",
    "    ![image.png](attachment:image.png)\n",
    "\n",
    "    Aquí, σ es la desviación estándar del vector de características y x̄ es el promedio del vector de características.\n",
    "\n",
    "+ El objetivo de este método es escalar los componentes de un vector de características de modo que el vector completo tenga una longitud de uno. Esto generalmente significa dividir cada componente por la longitud euclidiana del vector:\n",
    "\n",
    "    ![image-2.png](attachment:image-2.png)\n",
    "\n",
    "+ Hay algunos otros métodos para escalar las características:\n",
    "\n",
    "        + Transformador de potencia \n",
    "        + Transformador cuantil\n",
    "        + Escalador robusto"
   ]
  },
  {
   "cell_type": "code",
   "execution_count": null,
   "metadata": {},
   "outputs": [],
   "source": []
  },
  {
   "cell_type": "code",
   "execution_count": null,
   "id": "bb289dc8",
   "metadata": {},
   "outputs": [],
   "source": [
    "# Para obtener múltiples salidas de una celda\n",
    "from IPython.core.interactiveshell import InteractiveShell\n",
    "InteractiveShell.ast_node_interactivity = \"all\""
   ]
  },
  {
   "cell_type": "code",
   "execution_count": null,
   "id": "5d4c0016",
   "metadata": {},
   "outputs": [
    {
     "data": {
      "text/html": [
       "<div>\n",
       "<style scoped>\n",
       "    .dataframe tbody tr th:only-of-type {\n",
       "        vertical-align: middle;\n",
       "    }\n",
       "\n",
       "    .dataframe tbody tr th {\n",
       "        vertical-align: top;\n",
       "    }\n",
       "\n",
       "    .dataframe thead th {\n",
       "        text-align: right;\n",
       "    }\n",
       "</style>\n",
       "<table border=\"1\" class=\"dataframe\">\n",
       "  <thead>\n",
       "    <tr style=\"text-align: right;\">\n",
       "      <th></th>\n",
       "      <th>trt</th>\n",
       "      <th>prior</th>\n",
       "      <th>celltype</th>\n",
       "      <th>time</th>\n",
       "      <th>karno</th>\n",
       "      <th>diagtime</th>\n",
       "      <th>age</th>\n",
       "      <th>trt_2</th>\n",
       "      <th>celltype_large</th>\n",
       "      <th>celltype_smallcell</th>\n",
       "      <th>celltype_squamous</th>\n",
       "      <th>status_1</th>\n",
       "      <th>prior_10</th>\n",
       "      <th>log_time</th>\n",
       "      <th>karno_bin</th>\n",
       "      <th>age_bin</th>\n",
       "    </tr>\n",
       "  </thead>\n",
       "  <tbody>\n",
       "    <tr>\n",
       "      <th>0</th>\n",
       "      <td>1</td>\n",
       "      <td>0</td>\n",
       "      <td>squamous</td>\n",
       "      <td>72</td>\n",
       "      <td>60</td>\n",
       "      <td>7</td>\n",
       "      <td>69</td>\n",
       "      <td>0</td>\n",
       "      <td>0</td>\n",
       "      <td>0</td>\n",
       "      <td>1</td>\n",
       "      <td>1</td>\n",
       "      <td>0</td>\n",
       "      <td>1.857332</td>\n",
       "      <td>(40.0, 60.0]</td>\n",
       "      <td>(66.0, 81.0]</td>\n",
       "    </tr>\n",
       "    <tr>\n",
       "      <th>1</th>\n",
       "      <td>1</td>\n",
       "      <td>10</td>\n",
       "      <td>squamous</td>\n",
       "      <td>411</td>\n",
       "      <td>70</td>\n",
       "      <td>5</td>\n",
       "      <td>64</td>\n",
       "      <td>0</td>\n",
       "      <td>0</td>\n",
       "      <td>0</td>\n",
       "      <td>1</td>\n",
       "      <td>1</td>\n",
       "      <td>1</td>\n",
       "      <td>2.613842</td>\n",
       "      <td>(60.0, 75.0]</td>\n",
       "      <td>(62.0, 66.0]</td>\n",
       "    </tr>\n",
       "    <tr>\n",
       "      <th>2</th>\n",
       "      <td>1</td>\n",
       "      <td>0</td>\n",
       "      <td>squamous</td>\n",
       "      <td>228</td>\n",
       "      <td>60</td>\n",
       "      <td>3</td>\n",
       "      <td>38</td>\n",
       "      <td>0</td>\n",
       "      <td>0</td>\n",
       "      <td>0</td>\n",
       "      <td>1</td>\n",
       "      <td>1</td>\n",
       "      <td>0</td>\n",
       "      <td>2.357935</td>\n",
       "      <td>(40.0, 60.0]</td>\n",
       "      <td>(33.999, 51.0]</td>\n",
       "    </tr>\n",
       "    <tr>\n",
       "      <th>3</th>\n",
       "      <td>1</td>\n",
       "      <td>10</td>\n",
       "      <td>squamous</td>\n",
       "      <td>126</td>\n",
       "      <td>60</td>\n",
       "      <td>9</td>\n",
       "      <td>63</td>\n",
       "      <td>0</td>\n",
       "      <td>0</td>\n",
       "      <td>0</td>\n",
       "      <td>1</td>\n",
       "      <td>1</td>\n",
       "      <td>1</td>\n",
       "      <td>2.100371</td>\n",
       "      <td>(40.0, 60.0]</td>\n",
       "      <td>(62.0, 66.0]</td>\n",
       "    </tr>\n",
       "    <tr>\n",
       "      <th>4</th>\n",
       "      <td>1</td>\n",
       "      <td>10</td>\n",
       "      <td>squamous</td>\n",
       "      <td>118</td>\n",
       "      <td>70</td>\n",
       "      <td>11</td>\n",
       "      <td>65</td>\n",
       "      <td>0</td>\n",
       "      <td>0</td>\n",
       "      <td>0</td>\n",
       "      <td>1</td>\n",
       "      <td>1</td>\n",
       "      <td>1</td>\n",
       "      <td>2.071882</td>\n",
       "      <td>(60.0, 75.0]</td>\n",
       "      <td>(62.0, 66.0]</td>\n",
       "    </tr>\n",
       "    <tr>\n",
       "      <th>...</th>\n",
       "      <td>...</td>\n",
       "      <td>...</td>\n",
       "      <td>...</td>\n",
       "      <td>...</td>\n",
       "      <td>...</td>\n",
       "      <td>...</td>\n",
       "      <td>...</td>\n",
       "      <td>...</td>\n",
       "      <td>...</td>\n",
       "      <td>...</td>\n",
       "      <td>...</td>\n",
       "      <td>...</td>\n",
       "      <td>...</td>\n",
       "      <td>...</td>\n",
       "      <td>...</td>\n",
       "      <td>...</td>\n",
       "    </tr>\n",
       "    <tr>\n",
       "      <th>132</th>\n",
       "      <td>2</td>\n",
       "      <td>0</td>\n",
       "      <td>large</td>\n",
       "      <td>133</td>\n",
       "      <td>75</td>\n",
       "      <td>1</td>\n",
       "      <td>65</td>\n",
       "      <td>1</td>\n",
       "      <td>1</td>\n",
       "      <td>0</td>\n",
       "      <td>0</td>\n",
       "      <td>1</td>\n",
       "      <td>0</td>\n",
       "      <td>2.123852</td>\n",
       "      <td>(60.0, 75.0]</td>\n",
       "      <td>(62.0, 66.0]</td>\n",
       "    </tr>\n",
       "    <tr>\n",
       "      <th>133</th>\n",
       "      <td>2</td>\n",
       "      <td>0</td>\n",
       "      <td>large</td>\n",
       "      <td>111</td>\n",
       "      <td>60</td>\n",
       "      <td>5</td>\n",
       "      <td>64</td>\n",
       "      <td>1</td>\n",
       "      <td>1</td>\n",
       "      <td>0</td>\n",
       "      <td>0</td>\n",
       "      <td>1</td>\n",
       "      <td>0</td>\n",
       "      <td>2.045323</td>\n",
       "      <td>(40.0, 60.0]</td>\n",
       "      <td>(62.0, 66.0]</td>\n",
       "    </tr>\n",
       "    <tr>\n",
       "      <th>134</th>\n",
       "      <td>2</td>\n",
       "      <td>10</td>\n",
       "      <td>large</td>\n",
       "      <td>231</td>\n",
       "      <td>70</td>\n",
       "      <td>18</td>\n",
       "      <td>67</td>\n",
       "      <td>1</td>\n",
       "      <td>1</td>\n",
       "      <td>0</td>\n",
       "      <td>0</td>\n",
       "      <td>1</td>\n",
       "      <td>1</td>\n",
       "      <td>2.363612</td>\n",
       "      <td>(60.0, 75.0]</td>\n",
       "      <td>(66.0, 81.0]</td>\n",
       "    </tr>\n",
       "    <tr>\n",
       "      <th>135</th>\n",
       "      <td>2</td>\n",
       "      <td>0</td>\n",
       "      <td>large</td>\n",
       "      <td>378</td>\n",
       "      <td>80</td>\n",
       "      <td>4</td>\n",
       "      <td>65</td>\n",
       "      <td>1</td>\n",
       "      <td>1</td>\n",
       "      <td>0</td>\n",
       "      <td>0</td>\n",
       "      <td>1</td>\n",
       "      <td>0</td>\n",
       "      <td>2.577492</td>\n",
       "      <td>(75.0, 99.0]</td>\n",
       "      <td>(62.0, 66.0]</td>\n",
       "    </tr>\n",
       "    <tr>\n",
       "      <th>136</th>\n",
       "      <td>2</td>\n",
       "      <td>0</td>\n",
       "      <td>large</td>\n",
       "      <td>49</td>\n",
       "      <td>30</td>\n",
       "      <td>3</td>\n",
       "      <td>37</td>\n",
       "      <td>1</td>\n",
       "      <td>1</td>\n",
       "      <td>0</td>\n",
       "      <td>0</td>\n",
       "      <td>1</td>\n",
       "      <td>0</td>\n",
       "      <td>1.690196</td>\n",
       "      <td>(9.999, 40.0]</td>\n",
       "      <td>(33.999, 51.0]</td>\n",
       "    </tr>\n",
       "  </tbody>\n",
       "</table>\n",
       "<p>137 rows × 16 columns</p>\n",
       "</div>"
      ],
      "text/plain": [
       "     trt  prior  celltype  time  karno  diagtime  age  trt_2  celltype_large  \\\n",
       "0      1      0  squamous    72     60         7   69      0               0   \n",
       "1      1     10  squamous   411     70         5   64      0               0   \n",
       "2      1      0  squamous   228     60         3   38      0               0   \n",
       "3      1     10  squamous   126     60         9   63      0               0   \n",
       "4      1     10  squamous   118     70        11   65      0               0   \n",
       "..   ...    ...       ...   ...    ...       ...  ...    ...             ...   \n",
       "132    2      0     large   133     75         1   65      1               1   \n",
       "133    2      0     large   111     60         5   64      1               1   \n",
       "134    2     10     large   231     70        18   67      1               1   \n",
       "135    2      0     large   378     80         4   65      1               1   \n",
       "136    2      0     large    49     30         3   37      1               1   \n",
       "\n",
       "     celltype_smallcell  celltype_squamous  status_1  prior_10  log_time  \\\n",
       "0                     0                  1         1         0  1.857332   \n",
       "1                     0                  1         1         1  2.613842   \n",
       "2                     0                  1         1         0  2.357935   \n",
       "3                     0                  1         1         1  2.100371   \n",
       "4                     0                  1         1         1  2.071882   \n",
       "..                  ...                ...       ...       ...       ...   \n",
       "132                   0                  0         1         0  2.123852   \n",
       "133                   0                  0         1         0  2.045323   \n",
       "134                   0                  0         1         1  2.363612   \n",
       "135                   0                  0         1         0  2.577492   \n",
       "136                   0                  0         1         0  1.690196   \n",
       "\n",
       "         karno_bin         age_bin  \n",
       "0     (40.0, 60.0]    (66.0, 81.0]  \n",
       "1     (60.0, 75.0]    (62.0, 66.0]  \n",
       "2     (40.0, 60.0]  (33.999, 51.0]  \n",
       "3     (40.0, 60.0]    (62.0, 66.0]  \n",
       "4     (60.0, 75.0]    (62.0, 66.0]  \n",
       "..             ...             ...  \n",
       "132   (60.0, 75.0]    (62.0, 66.0]  \n",
       "133   (40.0, 60.0]    (62.0, 66.0]  \n",
       "134   (60.0, 75.0]    (66.0, 81.0]  \n",
       "135   (75.0, 99.0]    (62.0, 66.0]  \n",
       "136  (9.999, 40.0]  (33.999, 51.0]  \n",
       "\n",
       "[137 rows x 16 columns]"
      ]
     },
     "execution_count": 9,
     "metadata": {},
     "output_type": "execute_result"
    }
   ],
   "source": [
    "df = pd.read_csv(r'C:\\Users\\ghernand\\OneDrive - ITESO\\Documentos\\ProgramacionAnaliticaDatos\\P2023\\dataset-25346_dum_feat.csv')\n",
    "df"
   ]
  },
  {
   "cell_type": "code",
   "execution_count": null,
   "id": "596e68e9",
   "metadata": {},
   "outputs": [],
   "source": [
    "data = df.copy() # resguarda archivo cargado con todas las características"
   ]
  },
  {
   "cell_type": "code",
   "execution_count": null,
   "id": "70fc2896",
   "metadata": {},
   "outputs": [
    {
     "data": {
      "text/plain": [
       "Index(['trt', 'prior', 'celltype', 'time', 'karno', 'diagtime', 'age', 'trt_2',\n",
       "       'celltype_large', 'celltype_smallcell', 'celltype_squamous', 'status_1',\n",
       "       'prior_10', 'log_time', 'karno_bin', 'age_bin'],\n",
       "      dtype='object')"
      ]
     },
     "execution_count": 11,
     "metadata": {},
     "output_type": "execute_result"
    }
   ],
   "source": [
    "df.columns"
   ]
  },
  {
   "cell_type": "code",
   "execution_count": null,
   "id": "18962976",
   "metadata": {},
   "outputs": [],
   "source": [
    "# Eliminar las categóricas originales y dejar dummies en este dataset\n",
    "df_dum = data.drop(['trt', 'prior', 'celltype' ], axis=1)\n",
    "# quitar dummies en este dataset\n",
    "df = data.drop(['trt_2','celltype_large', 'celltype_smallcell', 'celltype_squamous',\n",
    "                'prior_10'], axis=1)"
   ]
  },
  {
   "cell_type": "code",
   "execution_count": null,
   "id": "f08dcd9d",
   "metadata": {},
   "outputs": [
    {
     "name": "stdout",
     "output_type": "stream",
     "text": [
      "<class 'pandas.core.frame.DataFrame'>\n",
      "RangeIndex: 137 entries, 0 to 136\n",
      "Data columns (total 11 columns):\n",
      " #   Column     Non-Null Count  Dtype  \n",
      "---  ------     --------------  -----  \n",
      " 0   trt        137 non-null    int64  \n",
      " 1   prior      137 non-null    int64  \n",
      " 2   celltype   137 non-null    object \n",
      " 3   time       137 non-null    int64  \n",
      " 4   karno      137 non-null    int64  \n",
      " 5   diagtime   137 non-null    int64  \n",
      " 6   age        137 non-null    int64  \n",
      " 7   status_1   137 non-null    int64  \n",
      " 8   log_time   137 non-null    float64\n",
      " 9   karno_bin  137 non-null    object \n",
      " 10  age_bin    137 non-null    object \n",
      "dtypes: float64(1), int64(7), object(3)\n",
      "memory usage: 11.9+ KB\n"
     ]
    }
   ],
   "source": [
    "df.info()"
   ]
  },
  {
   "cell_type": "markdown",
   "id": "c0265eac",
   "metadata": {},
   "source": [
    "## Normalizar la columna karno\n",
    "\n",
    "Note que no tiene outliers"
   ]
  },
  {
   "cell_type": "code",
   "execution_count": null,
   "id": "ca170123",
   "metadata": {},
   "outputs": [
    {
     "data": {
      "text/plain": [
       "<Axes: xlabel='karno'>"
      ]
     },
     "execution_count": 58,
     "metadata": {},
     "output_type": "execute_result"
    },
    {
     "data": {
      "image/png": "[encoded data removed]",
      "text/plain": [
       "<Figure size 400x300 with 1 Axes>"
      ]
     },
     "metadata": {},
     "output_type": "display_data"
    }
   ],
   "source": [
    "fig, ax = plt.subplots(figsize=(4,3))\n",
    "sns.boxplot(data=df,x='karno')\n"
   ]
  },
  {
   "cell_type": "code",
   "execution_count": null,
   "id": "5f501350",
   "metadata": {},
   "outputs": [
    {
     "data": {
      "text/plain": [
       "array([[0.08284133, 0.09664821, 0.08284133, 0.08284133, 0.09664821,\n",
       "        0.02761378, 0.05522755, 0.1104551 , 0.06903444, 0.09664821,\n",
       "        0.08284133, 0.05522755, 0.04142066, 0.1104551 , 0.09664821,\n",
       "        0.08284133, 0.08284133, 0.05522755, 0.1104551 , 0.08284133,\n",
       "        0.05522755, 0.08284133, 0.08284133, 0.04142066, 0.1104551 ,\n",
       "        0.04142066, 0.06903444, 0.08284133, 0.1104551 , 0.05522755,\n",
       "        0.02761378, 0.1104551 , 0.04142066, 0.10355166, 0.09664821,\n",
       "        0.08284133, 0.04142066, 0.08284133, 0.1104551 , 0.08284133,\n",
       "        0.09664821, 0.06903444, 0.06903444, 0.05522755, 0.05522755,\n",
       "        0.02761378, 0.09664821, 0.05522755, 0.1104551 , 0.1104551 ,\n",
       "        0.06903444, 0.1104551 , 0.04142066, 0.1104551 , 0.06903444,\n",
       "        0.1104551 , 0.06903444, 0.09664821, 0.08284133, 0.05522755,\n",
       "        0.1104551 , 0.1104551 , 0.09664821, 0.12426199, 0.12426199,\n",
       "        0.1104551 , 0.1104551 , 0.09664821, 0.08284133, 0.12426199,\n",
       "        0.1104551 , 0.1104551 , 0.06903444, 0.06903444, 0.09664821,\n",
       "        0.09664821, 0.02761378, 0.08284133, 0.12426199, 0.04142066,\n",
       "        0.02761378, 0.09664821, 0.12426199, 0.1104551 , 0.06903444,\n",
       "        0.09664821, 0.08284133, 0.12426199, 0.06903444, 0.04142066,\n",
       "        0.09664821, 0.02761378, 0.04142066, 0.08284133, 0.05522755,\n",
       "        0.04142066, 0.02761378, 0.08284133, 0.09664821, 0.1104551 ,\n",
       "        0.11735855, 0.09664821, 0.09664821, 0.09664821, 0.06903444,\n",
       "        0.04142066, 0.05522755, 0.05522755, 0.05522755, 0.13668819,\n",
       "        0.1104551 , 0.08284133, 0.08284133, 0.08284133, 0.08284133,\n",
       "        0.06903444, 0.09664821, 0.01380689, 0.05522755, 0.09664821,\n",
       "        0.12426199, 0.1104551 , 0.06903444, 0.05522755, 0.05522755,\n",
       "        0.08284133, 0.09664821, 0.04142066, 0.08284133, 0.04142066,\n",
       "        0.08284133, 0.1104551 , 0.10355166, 0.08284133, 0.09664821,\n",
       "        0.1104551 , 0.04142066]])"
      ]
     },
     "execution_count": 51,
     "metadata": {},
     "output_type": "execute_result"
    }
   ],
   "source": [
    "# Normalizar la columna karno\n",
    "X = df[['karno']].T\n",
    "#X = np.array(df[['karno']]).T\n",
    "\n",
    "# Por defecto se usa la norma l2\n",
    "transformer = Normalizer().fit(X)  # fit does nothing.\n",
    "\n",
    "transformer.transform(X)"
   ]
  },
  {
   "cell_type": "code",
   "execution_count": null,
   "id": "6b17b687",
   "metadata": {},
   "outputs": [
    {
     "data": {
      "text/plain": [
       "array([[0.60606061, 0.70707071, 0.60606061, 0.60606061, 0.70707071,\n",
       "        0.2020202 , 0.4040404 , 0.80808081, 0.50505051, 0.70707071,\n",
       "        0.60606061, 0.4040404 , 0.3030303 , 0.80808081, 0.70707071,\n",
       "        0.60606061, 0.60606061, 0.4040404 , 0.80808081, 0.60606061,\n",
       "        0.4040404 , 0.60606061, 0.60606061, 0.3030303 , 0.80808081,\n",
       "        0.3030303 , 0.50505051, 0.60606061, 0.80808081, 0.4040404 ,\n",
       "        0.2020202 , 0.80808081, 0.3030303 , 0.75757576, 0.70707071,\n",
       "        0.60606061, 0.3030303 , 0.60606061, 0.80808081, 0.60606061,\n",
       "        0.70707071, 0.50505051, 0.50505051, 0.4040404 , 0.4040404 ,\n",
       "        0.2020202 , 0.70707071, 0.4040404 , 0.80808081, 0.80808081,\n",
       "        0.50505051, 0.80808081, 0.3030303 , 0.80808081, 0.50505051,\n",
       "        0.80808081, 0.50505051, 0.70707071, 0.60606061, 0.4040404 ,\n",
       "        0.80808081, 0.80808081, 0.70707071, 0.90909091, 0.90909091,\n",
       "        0.80808081, 0.80808081, 0.70707071, 0.60606061, 0.90909091,\n",
       "        0.80808081, 0.80808081, 0.50505051, 0.50505051, 0.70707071,\n",
       "        0.70707071, 0.2020202 , 0.60606061, 0.90909091, 0.3030303 ,\n",
       "        0.2020202 , 0.70707071, 0.90909091, 0.80808081, 0.50505051,\n",
       "        0.70707071, 0.60606061, 0.90909091, 0.50505051, 0.3030303 ,\n",
       "        0.70707071, 0.2020202 , 0.3030303 , 0.60606061, 0.4040404 ,\n",
       "        0.3030303 , 0.2020202 , 0.60606061, 0.70707071, 0.80808081,\n",
       "        0.85858586, 0.70707071, 0.70707071, 0.70707071, 0.50505051,\n",
       "        0.3030303 , 0.4040404 , 0.4040404 , 0.4040404 , 1.        ,\n",
       "        0.80808081, 0.60606061, 0.60606061, 0.60606061, 0.60606061,\n",
       "        0.50505051, 0.70707071, 0.1010101 , 0.4040404 , 0.70707071,\n",
       "        0.90909091, 0.80808081, 0.50505051, 0.4040404 , 0.4040404 ,\n",
       "        0.60606061, 0.70707071, 0.3030303 , 0.60606061, 0.3030303 ,\n",
       "        0.60606061, 0.80808081, 0.75757576, 0.60606061, 0.70707071,\n",
       "        0.80808081, 0.3030303 ]])"
      ]
     },
     "execution_count": 52,
     "metadata": {},
     "output_type": "execute_result"
    }
   ],
   "source": [
    "# Se emplea la norma max (máximo de los valores absolutos)\n",
    "transformer = Normalizer(norm='max').fit(X)  # fit does nothing.\n",
    "\n",
    "transformer.transform(X)"
   ]
  },
  {
   "attachments": {},
   "cell_type": "markdown",
   "id": "558bbf90",
   "metadata": {},
   "source": [
    "### Normalizar con MinMaxScaler\n",
    "\n",
    "+ Escala el conjunto de datos de modo que todos los valores de las características estén en el rango [0, 1].\n",
    "+ Es muy sensible a la presencia de outliers.\n"
   ]
  },
  {
   "cell_type": "code",
   "execution_count": null,
   "id": "02ca6446",
   "metadata": {},
   "outputs": [
    {
     "data": {
      "text/html": [
       "<div>\n",
       "<style scoped>\n",
       "    .dataframe tbody tr th:only-of-type {\n",
       "        vertical-align: middle;\n",
       "    }\n",
       "\n",
       "    .dataframe tbody tr th {\n",
       "        vertical-align: top;\n",
       "    }\n",
       "\n",
       "    .dataframe thead th {\n",
       "        text-align: right;\n",
       "    }\n",
       "</style>\n",
       "<table border=\"1\" class=\"dataframe\">\n",
       "  <thead>\n",
       "    <tr style=\"text-align: right;\">\n",
       "      <th></th>\n",
       "      <th>0</th>\n",
       "      <th>1</th>\n",
       "      <th>2</th>\n",
       "      <th>3</th>\n",
       "      <th>4</th>\n",
       "      <th>5</th>\n",
       "      <th>6</th>\n",
       "      <th>7</th>\n",
       "      <th>8</th>\n",
       "      <th>9</th>\n",
       "      <th>...</th>\n",
       "      <th>127</th>\n",
       "      <th>128</th>\n",
       "      <th>129</th>\n",
       "      <th>130</th>\n",
       "      <th>131</th>\n",
       "      <th>132</th>\n",
       "      <th>133</th>\n",
       "      <th>134</th>\n",
       "      <th>135</th>\n",
       "      <th>136</th>\n",
       "    </tr>\n",
       "  </thead>\n",
       "  <tbody>\n",
       "    <tr>\n",
       "      <th>karno</th>\n",
       "      <td>60</td>\n",
       "      <td>70</td>\n",
       "      <td>60</td>\n",
       "      <td>60</td>\n",
       "      <td>70</td>\n",
       "      <td>20</td>\n",
       "      <td>40</td>\n",
       "      <td>80</td>\n",
       "      <td>50</td>\n",
       "      <td>70</td>\n",
       "      <td>...</td>\n",
       "      <td>30</td>\n",
       "      <td>60</td>\n",
       "      <td>30</td>\n",
       "      <td>60</td>\n",
       "      <td>80</td>\n",
       "      <td>75</td>\n",
       "      <td>60</td>\n",
       "      <td>70</td>\n",
       "      <td>80</td>\n",
       "      <td>30</td>\n",
       "    </tr>\n",
       "  </tbody>\n",
       "</table>\n",
       "<p>1 rows × 137 columns</p>\n",
       "</div>"
      ],
      "text/plain": [
       "       0    1    2    3    4    5    6    7    8    9    ...  127  128  129  \\\n",
       "karno   60   70   60   60   70   20   40   80   50   70  ...   30   60   30   \n",
       "\n",
       "       130  131  132  133  134  135  136  \n",
       "karno   60   80   75   60   70   80   30  \n",
       "\n",
       "[1 rows x 137 columns]"
      ]
     },
     "execution_count": 60,
     "metadata": {},
     "output_type": "execute_result"
    }
   ],
   "source": [
    "X"
   ]
  },
  {
   "cell_type": "code",
   "execution_count": null,
   "id": "d1caf6ce",
   "metadata": {},
   "outputs": [
    {
     "name": "stdout",
     "output_type": "stream",
     "text": [
      "MinMaxScaler()\n"
     ]
    }
   ],
   "source": [
    "from sklearn.preprocessing import MinMaxScaler\n",
    "\n",
    "scaler = MinMaxScaler()\n",
    "print(scaler.fit(X.T)) # Transpuesta para hacer vector unidimensional (también se puede con flatten o unravel)\n",
    "\n"
   ]
  },
  {
   "cell_type": "code",
   "execution_count": null,
   "id": "adc584ba",
   "metadata": {},
   "outputs": [
    {
     "name": "stdout",
     "output_type": "stream",
     "text": [
      "[99.]\n"
     ]
    }
   ],
   "source": [
    "print(scaler.data_max_) # Este es el dato más grande de karno que se tiene"
   ]
  },
  {
   "cell_type": "code",
   "execution_count": null,
   "id": "c131d8d8",
   "metadata": {},
   "outputs": [
    {
     "name": "stdout",
     "output_type": "stream",
     "text": [
      "[[0.56179775]\n",
      " [0.6741573 ]\n",
      " [0.56179775]\n",
      " [0.56179775]\n",
      " [0.6741573 ]\n",
      " [0.11235955]\n",
      " [0.33707865]\n",
      " [0.78651685]\n",
      " [0.4494382 ]\n",
      " [0.6741573 ]\n",
      " [0.56179775]\n",
      " [0.33707865]\n",
      " [0.2247191 ]\n",
      " [0.78651685]\n",
      " [0.6741573 ]\n",
      " [0.56179775]\n",
      " [0.56179775]\n",
      " [0.33707865]\n",
      " [0.78651685]\n",
      " [0.56179775]\n",
      " [0.33707865]\n",
      " [0.56179775]\n",
      " [0.56179775]\n",
      " [0.2247191 ]\n",
      " [0.78651685]\n",
      " [0.2247191 ]\n",
      " [0.4494382 ]\n",
      " [0.56179775]\n",
      " [0.78651685]\n",
      " [0.33707865]\n",
      " [0.11235955]\n",
      " [0.78651685]\n",
      " [0.2247191 ]\n",
      " [0.73033708]\n",
      " [0.6741573 ]\n",
      " [0.56179775]\n",
      " [0.2247191 ]\n",
      " [0.56179775]\n",
      " [0.78651685]\n",
      " [0.56179775]\n",
      " [0.6741573 ]\n",
      " [0.4494382 ]\n",
      " [0.4494382 ]\n",
      " [0.33707865]\n",
      " [0.33707865]\n",
      " [0.11235955]\n",
      " [0.6741573 ]\n",
      " [0.33707865]\n",
      " [0.78651685]\n",
      " [0.78651685]\n",
      " [0.4494382 ]\n",
      " [0.78651685]\n",
      " [0.2247191 ]\n",
      " [0.78651685]\n",
      " [0.4494382 ]\n",
      " [0.78651685]\n",
      " [0.4494382 ]\n",
      " [0.6741573 ]\n",
      " [0.56179775]\n",
      " [0.33707865]\n",
      " [0.78651685]\n",
      " [0.78651685]\n",
      " [0.6741573 ]\n",
      " [0.8988764 ]\n",
      " [0.8988764 ]\n",
      " [0.78651685]\n",
      " [0.78651685]\n",
      " [0.6741573 ]\n",
      " [0.56179775]\n",
      " [0.8988764 ]\n",
      " [0.78651685]\n",
      " [0.78651685]\n",
      " [0.4494382 ]\n",
      " [0.4494382 ]\n",
      " [0.6741573 ]\n",
      " [0.6741573 ]\n",
      " [0.11235955]\n",
      " [0.56179775]\n",
      " [0.8988764 ]\n",
      " [0.2247191 ]\n",
      " [0.11235955]\n",
      " [0.6741573 ]\n",
      " [0.8988764 ]\n",
      " [0.78651685]\n",
      " [0.4494382 ]\n",
      " [0.6741573 ]\n",
      " [0.56179775]\n",
      " [0.8988764 ]\n",
      " [0.4494382 ]\n",
      " [0.2247191 ]\n",
      " [0.6741573 ]\n",
      " [0.11235955]\n",
      " [0.2247191 ]\n",
      " [0.56179775]\n",
      " [0.33707865]\n",
      " [0.2247191 ]\n",
      " [0.11235955]\n",
      " [0.56179775]\n",
      " [0.6741573 ]\n",
      " [0.78651685]\n",
      " [0.84269663]\n",
      " [0.6741573 ]\n",
      " [0.6741573 ]\n",
      " [0.6741573 ]\n",
      " [0.4494382 ]\n",
      " [0.2247191 ]\n",
      " [0.33707865]\n",
      " [0.33707865]\n",
      " [0.33707865]\n",
      " [1.        ]\n",
      " [0.78651685]\n",
      " [0.56179775]\n",
      " [0.56179775]\n",
      " [0.56179775]\n",
      " [0.56179775]\n",
      " [0.4494382 ]\n",
      " [0.6741573 ]\n",
      " [0.        ]\n",
      " [0.33707865]\n",
      " [0.6741573 ]\n",
      " [0.8988764 ]\n",
      " [0.78651685]\n",
      " [0.4494382 ]\n",
      " [0.33707865]\n",
      " [0.33707865]\n",
      " [0.56179775]\n",
      " [0.6741573 ]\n",
      " [0.2247191 ]\n",
      " [0.56179775]\n",
      " [0.2247191 ]\n",
      " [0.56179775]\n",
      " [0.78651685]\n",
      " [0.73033708]\n",
      " [0.56179775]\n",
      " [0.6741573 ]\n",
      " [0.78651685]\n",
      " [0.2247191 ]]\n"
     ]
    }
   ],
   "source": [
    "print(scaler.transform(X.T)) # Se lleva de 0 a 1"
   ]
  },
  {
   "attachments": {},
   "cell_type": "markdown",
   "id": "cb0ae7d8",
   "metadata": {},
   "source": [
    "### Normalizar con MaxAbsScaler\n",
    "\n",
    "+ Los valores se asignan en varios rangos dependiendo de si hay valores negativos o positivos presentes. \n",
    "    + Si solo hay valores positivos, el rango es [0, 1]. \n",
    "    + Si solo hay valores negativos, el rango es [-1, 0]. \n",
    "    + Si están presentes valores tanto negativos como positivos, el rango es [-1, 1].\n",
    "    + Solo con datos positivos, tanto MinMaxScaler como MaxAbsScaler se comportan de manera similar. \n",
    "\n",
    "+ MaxAbsScaler también sufre la presencia de grandes valores atípicos.\n"
   ]
  },
  {
   "cell_type": "code",
   "execution_count": null,
   "id": "5d77b3d4",
   "metadata": {},
   "outputs": [
    {
     "data": {
      "text/plain": [
       "array([[0.60606061],\n",
       "       [0.70707071],\n",
       "       [0.60606061],\n",
       "       [0.60606061],\n",
       "       [0.70707071],\n",
       "       [0.2020202 ],\n",
       "       [0.4040404 ],\n",
       "       [0.80808081],\n",
       "       [0.50505051],\n",
       "       [0.70707071],\n",
       "       [0.60606061],\n",
       "       [0.4040404 ],\n",
       "       [0.3030303 ],\n",
       "       [0.80808081],\n",
       "       [0.70707071],\n",
       "       [0.60606061],\n",
       "       [0.60606061],\n",
       "       [0.4040404 ],\n",
       "       [0.80808081],\n",
       "       [0.60606061],\n",
       "       [0.4040404 ],\n",
       "       [0.60606061],\n",
       "       [0.60606061],\n",
       "       [0.3030303 ],\n",
       "       [0.80808081],\n",
       "       [0.3030303 ],\n",
       "       [0.50505051],\n",
       "       [0.60606061],\n",
       "       [0.80808081],\n",
       "       [0.4040404 ],\n",
       "       [0.2020202 ],\n",
       "       [0.80808081],\n",
       "       [0.3030303 ],\n",
       "       [0.75757576],\n",
       "       [0.70707071],\n",
       "       [0.60606061],\n",
       "       [0.3030303 ],\n",
       "       [0.60606061],\n",
       "       [0.80808081],\n",
       "       [0.60606061],\n",
       "       [0.70707071],\n",
       "       [0.50505051],\n",
       "       [0.50505051],\n",
       "       [0.4040404 ],\n",
       "       [0.4040404 ],\n",
       "       [0.2020202 ],\n",
       "       [0.70707071],\n",
       "       [0.4040404 ],\n",
       "       [0.80808081],\n",
       "       [0.80808081],\n",
       "       [0.50505051],\n",
       "       [0.80808081],\n",
       "       [0.3030303 ],\n",
       "       [0.80808081],\n",
       "       [0.50505051],\n",
       "       [0.80808081],\n",
       "       [0.50505051],\n",
       "       [0.70707071],\n",
       "       [0.60606061],\n",
       "       [0.4040404 ],\n",
       "       [0.80808081],\n",
       "       [0.80808081],\n",
       "       [0.70707071],\n",
       "       [0.90909091],\n",
       "       [0.90909091],\n",
       "       [0.80808081],\n",
       "       [0.80808081],\n",
       "       [0.70707071],\n",
       "       [0.60606061],\n",
       "       [0.90909091],\n",
       "       [0.80808081],\n",
       "       [0.80808081],\n",
       "       [0.50505051],\n",
       "       [0.50505051],\n",
       "       [0.70707071],\n",
       "       [0.70707071],\n",
       "       [0.2020202 ],\n",
       "       [0.60606061],\n",
       "       [0.90909091],\n",
       "       [0.3030303 ],\n",
       "       [0.2020202 ],\n",
       "       [0.70707071],\n",
       "       [0.90909091],\n",
       "       [0.80808081],\n",
       "       [0.50505051],\n",
       "       [0.70707071],\n",
       "       [0.60606061],\n",
       "       [0.90909091],\n",
       "       [0.50505051],\n",
       "       [0.3030303 ],\n",
       "       [0.70707071],\n",
       "       [0.2020202 ],\n",
       "       [0.3030303 ],\n",
       "       [0.60606061],\n",
       "       [0.4040404 ],\n",
       "       [0.3030303 ],\n",
       "       [0.2020202 ],\n",
       "       [0.60606061],\n",
       "       [0.70707071],\n",
       "       [0.80808081],\n",
       "       [0.85858586],\n",
       "       [0.70707071],\n",
       "       [0.70707071],\n",
       "       [0.70707071],\n",
       "       [0.50505051],\n",
       "       [0.3030303 ],\n",
       "       [0.4040404 ],\n",
       "       [0.4040404 ],\n",
       "       [0.4040404 ],\n",
       "       [1.        ],\n",
       "       [0.80808081],\n",
       "       [0.60606061],\n",
       "       [0.60606061],\n",
       "       [0.60606061],\n",
       "       [0.60606061],\n",
       "       [0.50505051],\n",
       "       [0.70707071],\n",
       "       [0.1010101 ],\n",
       "       [0.4040404 ],\n",
       "       [0.70707071],\n",
       "       [0.90909091],\n",
       "       [0.80808081],\n",
       "       [0.50505051],\n",
       "       [0.4040404 ],\n",
       "       [0.4040404 ],\n",
       "       [0.60606061],\n",
       "       [0.70707071],\n",
       "       [0.3030303 ],\n",
       "       [0.60606061],\n",
       "       [0.3030303 ],\n",
       "       [0.60606061],\n",
       "       [0.80808081],\n",
       "       [0.75757576],\n",
       "       [0.60606061],\n",
       "       [0.70707071],\n",
       "       [0.80808081],\n",
       "       [0.3030303 ]])"
      ]
     },
     "execution_count": 72,
     "metadata": {},
     "output_type": "execute_result"
    }
   ],
   "source": [
    "# Observar que produce resultados similares (no iguales) porque todos los valores de karno son positivos\n",
    "from sklearn.preprocessing import MaxAbsScaler\n",
    "\n",
    "transformer = MaxAbsScaler().fit(X.T)\n",
    "\n",
    "transformer.transform(X.T)\n"
   ]
  },
  {
   "cell_type": "markdown",
   "id": "7f250289",
   "metadata": {},
   "source": [
    "## Escalamiento de la variable time"
   ]
  },
  {
   "cell_type": "code",
   "execution_count": null,
   "id": "7b8d24f3",
   "metadata": {},
   "outputs": [
    {
     "data": {
      "text/plain": [
       "<Axes: xlabel='time', ylabel='Count'>"
      ]
     },
     "execution_count": 14,
     "metadata": {},
     "output_type": "execute_result"
    },
    {
     "data": {
      "image/png": "[encoded data removed]",
      "text/plain": [
       "<Figure size 640x480 with 1 Axes>"
      ]
     },
     "metadata": {},
     "output_type": "display_data"
    }
   ],
   "source": [
    "sns.histplot(data=df,x='time',hue='trt',kde=True)"
   ]
  },
  {
   "cell_type": "code",
   "execution_count": 15,
   "id": "b5b61138",
   "metadata": {},
   "outputs": [
    {
     "data": {
      "text/plain": [
       "<Axes: xlabel='time'>"
      ]
     },
     "execution_count": 15,
     "metadata": {},
     "output_type": "execute_result"
    },
    {
     "data": {
      "image/png": "[encoded data removed]",
      "text/plain": [
       "<Figure size 640x480 with 1 Axes>"
      ]
     },
     "metadata": {},
     "output_type": "display_data"
    }
   ],
   "source": [
    "sns.boxplot(data=df,x='time')\n",
    "sns.boxplot(data=df,y='time',x='trt')"
   ]
  },
  {
   "cell_type": "markdown",
   "id": "bc3da021",
   "metadata": {},
   "source": [
    "## Hallazgos y recomendaciones\n",
    "\n",
    "+ La variable time no sigue una distribución normal.\n",
    "+ Los escaladores de potencia (PowerTransformer) son robustos ante la presencia de outliers y se recomienda su aplicación."
   ]
  },
  {
   "cell_type": "markdown",
   "id": "03db55d4",
   "metadata": {},
   "source": [
    "### Transformador de potencia Box Cox\n",
    "\n",
    "Vamos a crear una nueva columna 'bc_time'"
   ]
  },
  {
   "cell_type": "code",
   "execution_count": 16,
   "id": "7aece719",
   "metadata": {},
   "outputs": [],
   "source": [
    "from sklearn.preprocessing import PowerTransformer"
   ]
  },
  {
   "cell_type": "code",
   "execution_count": 18,
   "id": "51ff72ac",
   "metadata": {},
   "outputs": [],
   "source": [
    "bc = PowerTransformer(method=\"box-cox\")\n",
    "df['bc_time'] = bc.fit_transform(df[['time']])"
   ]
  },
  {
   "cell_type": "code",
   "execution_count": 21,
   "id": "febc7882",
   "metadata": {},
   "outputs": [
    {
     "data": {
      "text/plain": [
       "<Axes: xlabel='bc_time', ylabel='Count'>"
      ]
     },
     "execution_count": 21,
     "metadata": {},
     "output_type": "execute_result"
    },
    {
     "data": {
      "image/png": "[encoded data removed]",
      "text/plain": [
       "<Figure size 800x400 with 2 Axes>"
      ]
     },
     "metadata": {},
     "output_type": "display_data"
    }
   ],
   "source": [
    "fig,ax = plt.subplots(1,2,figsize=(8,4))\n",
    "sns.histplot(data=df, x=\"bc_time\", hue='trt',kde=True, ax=ax[0])\n",
    "ax[1] = sns.boxplot(data=df,y='bc_time',x='trt')"
   ]
  },
  {
   "cell_type": "code",
   "execution_count": 24,
   "id": "27964fd7",
   "metadata": {},
   "outputs": [],
   "source": [
    "sm.qqplot?"
   ]
  },
  {
   "cell_type": "code",
   "execution_count": 30,
   "id": "a8a3d90a",
   "metadata": {},
   "outputs": [
    {
     "data": {
      "image/png": "[encoded data removed]",
      "text/plain": [
       "<Figure size 1000x300 with 2 Axes>"
      ]
     },
     "metadata": {},
     "output_type": "display_data"
    }
   ],
   "source": [
    "fig,ax = plt.subplots(1,2,figsize=(10,3))\n",
    "a = sm.qqplot(df.time, line='s',ax=ax[0])\n",
    "b = sm.qqplot(df.bc_time, line='s',ax=ax[1])\n",
    "plt.show()"
   ]
  },
  {
   "cell_type": "code",
   "execution_count": 32,
   "id": "2419f12e",
   "metadata": {},
   "outputs": [
    {
     "data": {
      "text/plain": [
       "ShapiroResult(statistic=0.9941854476928711, pvalue=0.8546182513237)"
      ]
     },
     "execution_count": 32,
     "metadata": {},
     "output_type": "execute_result"
    }
   ],
   "source": [
    "# Prueba de Shapiro-Wilk de normalidad\n",
    "#La hipótesis nula es que la muestra sigue distribución normal\n",
    "from scipy.stats import shapiro \n",
    "shapiro(df.bc_time)"
   ]
  },
  {
   "cell_type": "markdown",
   "id": "63fabcb0",
   "metadata": {},
   "source": [
    "### Hallazgo de transformación con Box Cox\n",
    "\n",
    "Se acepta la hipótesis de normalidad de datos transformados con Box-Cox con valor p de 0.8546"
   ]
  },
  {
   "cell_type": "markdown",
   "id": "f1070f1e",
   "metadata": {},
   "source": [
    "### Transformador de potencia Yeo Johnson\n",
    "\n",
    "Creamos la columna 'yj_time'"
   ]
  },
  {
   "cell_type": "code",
   "execution_count": 33,
   "id": "382cb001",
   "metadata": {},
   "outputs": [],
   "source": [
    "yj = PowerTransformer(method=\"yeo-johnson\")\n",
    "df['yj_time'] = yj.fit_transform(df[['time']])\n",
    "df['yj_time'] = yj.fit_transform(df[['time']])\n"
   ]
  },
  {
   "cell_type": "code",
   "execution_count": 34,
   "id": "5d766251",
   "metadata": {},
   "outputs": [
    {
     "data": {
      "text/plain": [
       "<Axes: xlabel='yj_time', ylabel='Count'>"
      ]
     },
     "execution_count": 34,
     "metadata": {},
     "output_type": "execute_result"
    },
    {
     "data": {
      "image/png": "[encoded data removed]",
      "text/plain": [
       "<Figure size 500x300 with 1 Axes>"
      ]
     },
     "metadata": {},
     "output_type": "display_data"
    }
   ],
   "source": [
    "fig,ax = plt.subplots(figsize=(5,3))\n",
    "sns.histplot(data=df, x=\"yj_time\", hue='trt',kde=True)"
   ]
  },
  {
   "cell_type": "code",
   "execution_count": 35,
   "id": "7492b455",
   "metadata": {},
   "outputs": [
    {
     "data": {
      "image/png": "[encoded data removed]",
      "text/plain": [
       "<Figure size 1000x300 with 2 Axes>"
      ]
     },
     "metadata": {},
     "output_type": "display_data"
    }
   ],
   "source": [
    "fig,ax = plt.subplots(1,2,figsize=(10,3))\n",
    "a = sm.qqplot(df.time, line='s',ax=ax[0])\n",
    "b = sm.qqplot(df.yj_time, line='s',ax=ax[1])\n",
    "plt.show()"
   ]
  },
  {
   "cell_type": "code",
   "execution_count": 36,
   "id": "ca97a1ae",
   "metadata": {},
   "outputs": [
    {
     "data": {
      "text/plain": [
       "ShapiroResult(statistic=0.9932432174682617, pvalue=0.7634913921356201)"
      ]
     },
     "execution_count": 36,
     "metadata": {},
     "output_type": "execute_result"
    }
   ],
   "source": [
    "shapiro(df.yj_time)"
   ]
  },
  {
   "cell_type": "markdown",
   "id": "4e1abb1a",
   "metadata": {},
   "source": [
    "### Hallazgo de transformación con Yeo Johnson\n",
    "\n",
    "Se acepta la hipótesis de normalidad de datos transformados con Yeo Johnson"
   ]
  },
  {
   "cell_type": "markdown",
   "id": "0fa0e8aa",
   "metadata": {},
   "source": [
    "### Transformación de cuantil\n",
    "\n",
    "Creamos la columna 'qt_time'"
   ]
  },
  {
   "cell_type": "code",
   "execution_count": 37,
   "id": "e86eef62",
   "metadata": {},
   "outputs": [],
   "source": [
    "from sklearn.preprocessing import QuantileTransformer\n",
    "from sklearn.model_selection import train_test_split"
   ]
  },
  {
   "cell_type": "code",
   "execution_count": 38,
   "id": "61a089ef",
   "metadata": {},
   "outputs": [
    {
     "name": "stderr",
     "output_type": "stream",
     "text": [
      "C:\\Users\\ghernand\\AppData\\Local\\anaconda3\\lib\\site-packages\\sklearn\\preprocessing\\_data.py:2627: UserWarning: n_quantiles (500) is greater than the total number of samples (137). n_quantiles is set to n_samples.\n",
      "  warnings.warn(\n",
      "C:\\Users\\ghernand\\AppData\\Local\\anaconda3\\lib\\site-packages\\sklearn\\preprocessing\\_data.py:2627: UserWarning: n_quantiles (500) is greater than the total number of samples (137). n_quantiles is set to n_samples.\n",
      "  warnings.warn(\n"
     ]
    }
   ],
   "source": [
    "qt = QuantileTransformer(n_quantiles=500, output_distribution=\"normal\", random_state=42)\n",
    "df['qt_time'] = qt.fit_transform(df[['time']])\n",
    "df['qt_time'] = qt.fit_transform(df[['time']])"
   ]
  },
  {
   "cell_type": "code",
   "execution_count": 39,
   "id": "22e26468",
   "metadata": {},
   "outputs": [
    {
     "data": {
      "text/plain": [
       "<Axes: xlabel='qt_time', ylabel='Count'>"
      ]
     },
     "execution_count": 39,
     "metadata": {},
     "output_type": "execute_result"
    },
    {
     "data": {
      "image/png": "[encoded data removed]",
      "text/plain": [
       "<Figure size 500x300 with 1 Axes>"
      ]
     },
     "metadata": {},
     "output_type": "display_data"
    }
   ],
   "source": [
    "fig,ax = plt.subplots(figsize=(5,3))\n",
    "sns.histplot(data=df, x=\"qt_time\", hue='trt',kde=True)"
   ]
  },
  {
   "cell_type": "code",
   "execution_count": 40,
   "id": "2f0ec5b9",
   "metadata": {},
   "outputs": [
    {
     "data": {
      "image/png": "[encoded data removed]",
      "text/plain": [
       "<Figure size 1000x300 with 2 Axes>"
      ]
     },
     "metadata": {},
     "output_type": "display_data"
    }
   ],
   "source": [
    "fig,ax = plt.subplots(1,2,figsize=(10,3))\n",
    "a = sm.qqplot(df.time, line='s',ax=ax[0])\n",
    "b = sm.qqplot(df.qt_time, line='s',ax=ax[1])\n",
    "plt.show()"
   ]
  },
  {
   "cell_type": "code",
   "execution_count": 41,
   "id": "0b8fad31",
   "metadata": {},
   "outputs": [
    {
     "data": {
      "text/plain": [
       "ShapiroResult(statistic=0.9202603101730347, pvalue=6.129772032181791e-07)"
      ]
     },
     "execution_count": 41,
     "metadata": {},
     "output_type": "execute_result"
    }
   ],
   "source": [
    "shapiro(df.qt_time)"
   ]
  },
  {
   "cell_type": "markdown",
   "id": "d35e1fab",
   "metadata": {},
   "source": [
    "## Hallazgo de transformación de quantil\n",
    "\n",
    "+ Se rechaza la hipótesis de normalidad de datos transformados con transformación de cuantil\n",
    "+ No es robusta frente a outliers como Box Cox y Yeo Johnson"
   ]
  }
 ],
 "metadata": {
  "kernelspec": {
   "display_name": "Python 3 (ipykernel)",
   "language": "python",
   "name": "python3"
  },
  "language_info": {
   "codemirror_mode": {
    "name": "ipython",
    "version": 3
   },
   "file_extension": ".py",
   "mimetype": "text/x-python",
   "name": "python",
   "nbconvert_exporter": "python",
   "pygments_lexer": "ipython3",
   "version": "3.8.12"
  }
 },
 "nbformat": 4,
 "nbformat_minor": 5
}
