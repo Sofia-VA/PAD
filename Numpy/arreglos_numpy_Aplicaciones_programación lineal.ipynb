{
 "cells": [
  {
   "cell_type": "markdown",
   "metadata": {},
   "source": [
    "# Ejemplos y ejercicios de aplicaciones de programación lineal\n",
    "\n",
    "## Programación para Análisis de Datos \n",
    "\n",
    "### Mtra. Gisel Hernández Chávez\n",
    "\n",
    "\n",
    "\n",
    "### Contenido\n",
    "\n",
    "+ ¿Qué es la programación lineal?\n",
    "+ Ejemplos\n",
    "+ Ejercicios\n"
   ]
  },
  {
   "cell_type": "code",
   "execution_count": 81,
   "metadata": {
    "scrolled": true
   },
   "outputs": [],
   "source": [
    "import numpy as np\n",
    "import matplotlib.pyplot as plt"
   ]
  },
  {
   "cell_type": "code",
   "execution_count": 82,
   "metadata": {},
   "outputs": [],
   "source": [
    "import pandas as pd"
   ]
  },
  {
   "cell_type": "code",
   "execution_count": 83,
   "metadata": {},
   "outputs": [],
   "source": [
    "# Para obtener múltiples salidas de una celda\n",
    "from IPython.core.interactiveshell import InteractiveShell\n",
    "InteractiveShell.ast_node_interactivity = \"all\""
   ]
  },
  {
   "cell_type": "markdown",
   "metadata": {},
   "source": [
    "## ¿Qué es la programación lineal?\n",
    "\n",
    "https://realpython.com/linear-programming-python/\n",
    "\n",
    "La __programación lineal__ es un conjunto de técnicas utilizadas en programación matemática, a veces llamada optimización matemática, para resolver sistemas de ecuaciones y desigualdades lineales mientras se maximiza o minimiza alguna función lineal. \n",
    "\n",
    "La __programación lineal de enteros mixta__ es una extensión de la programación lineal. Maneja problemas en los que al menos una variable toma un número entero discreto en lugar de un valor continuo. Aunque a primera vista los problemas de enteros mixtos parecen similares a los problemas de variables continuas, ofrecen ventajas significativas en términos de flexibilidad y precisión.\n",
    "\n",
    "Las variables enteras son importantes para representar adecuadamente cantidades expresadas naturalmente con números enteros, como la cantidad de casas a construir o la cantidad de clientes atendidos en una gasolinera.\n",
    "\n",
    "Un tipo particularmente importante de variable entera es la variable binaria. Sólo puede tomar los valores cero o uno y es útil para tomar decisiones de sí o no, como por ejemplo si se debe construir o no una planta o si se debe encender o apagar una máquina. También puede uarse para representar restricciones lógicas.\n",
    "\n",
    "El método básico para resolver problemas de programación lineal se denomina método simplex, que tiene varias variantes. Otro enfoque popular es el método del punto interior.\n",
    "\n",
    "Los problemas de programación lineal entera mixta se resuelven con métodos más complejos y computacionalmente intensivos, como el método de ramificación y unión (branch and bound) que internamente utiliza programación lineal. \n"
   ]
  },
  {
   "cell_type": "markdown",
   "metadata": {},
   "source": [
    "### Pasos para la Programación lineal\n",
    "\n",
    "1. Definir variables\n",
    "2. Definir función objetivo\n",
    "3. Definir restricciones. Limita el conjunto de soluciones factibles.\n",
    "4. Calcular coordenadas de los vértices de las soluciones factibles. La solución óptima, si es única, se encuentra en un vértice. \n"
   ]
  },
  {
   "cell_type": "markdown",
   "metadata": {},
   "source": [
    "### Ejemplo\n",
    "Tomado de https://www.superprof.es/apuntes/escolar/matematicas/algebralineal/pl/ejercicios-y-problemas-resueltos-de-programacion-lineal.html\n",
    "\n",
    "Una compañía fabrica y vende dos modelos de lámparas L1 y L2. Para su fabricación se necesita un __trabajo manual__ de 20 minutos para el modelo L1 y de 30 minutos para el L2; y un trabajo de máquina de 20 minutos para el modelo L1 y de 10 minutos para L2.\n",
    "\n",
    "Se dispone para el trabajo manual de 100 horas al mes y para la máquina 80 horas al mes. Sabiendo que el beneficio por unidad es de 15 y 10 euros para L1 y L2,  respectivamente, planificar la producción para obtener el máximo beneficio."
   ]
  },
  {
   "cell_type": "markdown",
   "metadata": {},
   "source": [
    "### Solución para el ejemplo\n",
    "\n",
    "+ Variables\n",
    "\n",
    "x1: cantidad de lámparas L1\n",
    "\n",
    "x2: cantidad de lámparas L2\n",
    "\n",
    "+ Función objetivo\n",
    "\n",
    "maximizar f(x1,x2) = 15*x1 + 10*x2\n",
    "\n",
    "+ Restricciones\n",
    "\n",
    "20*x1 + 30*x2 <= 100*60 # en minutos\n",
    "\n",
    "20*x1 + 10*x2 <= 80*60  # en minutos\n",
    "\n",
    "x1 >= 0  # entero positivo (número natural)\n",
    "\n",
    "x2 >= 0  \n"
   ]
  },
  {
   "cell_type": "code",
   "execution_count": 84,
   "metadata": {},
   "outputs": [],
   "source": [
    "# Representar gráficamente las inecuaciones de las restricciones\n",
    "\n",
    "#en la 1ra inecuación\n",
    "x12 = 6000 / 30  # x1 = 0  coordenada x1,x2 = (0,200)\n",
    "x11 = 6000 / 20  # x2 = 0  coordenada x1,x2 = (300,0)\n",
    "\n",
    "#en la 2da inecuación\n",
    "x21 = 4800 / 20  # x2 = 0  coordenada x1,x2 = (240,0)\n",
    "x22 = 4800 / 10  # x1 = 0  coordenada x1,x2 = (0,480)\n"
   ]
  },
  {
   "cell_type": "code",
   "execution_count": 85,
   "metadata": {},
   "outputs": [
    {
     "data": {
      "text/plain": [
       "(210.0, 60)"
      ]
     },
     "execution_count": 85,
     "metadata": {},
     "output_type": "execute_result"
    }
   ],
   "source": [
    "# Para calcular la intersección se igualan las ecuaciones\n",
    "\n",
    "#20*x1 + 30*x2 - 6000 = 20*x1 + 10*x2 - 4800\n",
    "#20*x2 = 1200\n",
    "ix2 = 60 # x2 de la coord. de la intersección\n",
    "\n",
    "# sustituyendo x2 en una ecuación para determinar x1\n",
    "#20*x1 + 30*60 = 6000\n",
    "ix1 = (6000 - 1800) / 20 # x1 de la coord. de la intersección\n",
    "ix1,ix2"
   ]
  },
  {
   "cell_type": "code",
   "execution_count": 86,
   "metadata": {},
   "outputs": [
    {
     "name": "stdout",
     "output_type": "stream",
     "text": [
      "coordenada de la intersección:  [Point2D(210, 60)]\n"
     ]
    }
   ],
   "source": [
    "# Forma simplificada usando sympy\n",
    "\n",
    "from sympy import Point, Line \n",
    "  \n",
    "p1, p2, p3, p4 = Point(0,x12), Point(x11,0), Point(0,x22), Point(x21,0) \n",
    "l1 = Line(p1, p2) # puntos de la primera línea\n",
    "l2 = Line(p3,p4)   # puntos de la segunda línea\n",
    "# using intersection() method \n",
    "showIntersection = l1.intersection(l2) \n",
    "  \n",
    "print('coordenada de la intersección: ', showIntersection) "
   ]
  },
  {
   "cell_type": "code",
   "execution_count": 87,
   "metadata": {},
   "outputs": [
    {
     "data": {
      "text/plain": [
       "[{x: 210, y: 60}]"
      ]
     },
     "execution_count": 87,
     "metadata": {},
     "output_type": "execute_result"
    }
   ],
   "source": [
    "# usando sistemas de ecuaciones\n",
    "from sympy import solve\n",
    "from sympy.abc import x, y, z\n",
    "solve([20*x + 30*y - 6000, 20*x + 10*y-4800], [x, y], dict=True, set=True)"
   ]
  },
  {
   "cell_type": "code",
   "execution_count": 88,
   "metadata": {},
   "outputs": [],
   "source": [
    "# Función objetivo en todos los vértices\n",
    "def fun_obj(x,y):\n",
    "    return 15*x + 10*y"
   ]
  },
  {
   "cell_type": "code",
   "execution_count": 89,
   "metadata": {},
   "outputs": [
    {
     "data": {
      "text/plain": [
       "' El máximo beneficio es de 3750.0 con vértice de índice 1 en (210.0, 60)'"
      ]
     },
     "execution_count": 89,
     "metadata": {},
     "output_type": "execute_result"
    }
   ],
   "source": [
    "# Calcular función objetivo en todos los vértices y determinar máximo\n",
    "vertices = [(0,x12), (ix1,ix2), (x21,0)]\n",
    "beneficios = [fun_obj(i[0],i[1]) for i in vertices]\n",
    "beneficios = np.array(beneficios)\n",
    "ind_maximo = np.argmax(beneficios)\n",
    "f' El máximo beneficio es de {max(beneficios)} con vértice de índice {ind_maximo} en {vertices[ind_maximo]}'"
   ]
  },
  {
   "cell_type": "code",
   "execution_count": 90,
   "metadata": {},
   "outputs": [
    {
     "data": {
      "text/plain": [
       "array([[  0., 200.],\n",
       "       [210.,  60.],\n",
       "       [240.,   0.]])"
      ]
     },
     "execution_count": 90,
     "metadata": {},
     "output_type": "execute_result"
    }
   ],
   "source": [
    "vertices = np.array(vertices)\n",
    "vertices"
   ]
  },
  {
   "cell_type": "code",
   "execution_count": 91,
   "metadata": {},
   "outputs": [
    {
     "data": {
      "text/plain": [
       "(3, 2)"
      ]
     },
     "execution_count": 91,
     "metadata": {},
     "output_type": "execute_result"
    }
   ],
   "source": [
    "vertices.shape"
   ]
  },
  {
   "cell_type": "code",
   "execution_count": 92,
   "metadata": {},
   "outputs": [
    {
     "data": {
      "text/plain": [
       "array([  0., 210., 240.])"
      ]
     },
     "execution_count": 92,
     "metadata": {},
     "output_type": "execute_result"
    },
    {
     "data": {
      "text/plain": [
       "array([200.,  60.,   0.])"
      ]
     },
     "execution_count": 92,
     "metadata": {},
     "output_type": "execute_result"
    }
   ],
   "source": [
    "vertices[:,0]  # las x1\n",
    "vertices[:,1]  # las x2"
   ]
  },
  {
   "cell_type": "code",
   "execution_count": 93,
   "metadata": {},
   "outputs": [],
   "source": [
    "sx1 = pd. Series(vertices[:,0])\n",
    "sx2 = pd. Series(vertices[:,1])"
   ]
  },
  {
   "cell_type": "code",
   "execution_count": 94,
   "metadata": {},
   "outputs": [
    {
     "data": {
      "text/plain": [
       "(0.0, 500.0)"
      ]
     },
     "execution_count": 94,
     "metadata": {},
     "output_type": "execute_result"
    },
    {
     "data": {
      "text/plain": [
       "(0.0, 500.0)"
      ]
     },
     "execution_count": 94,
     "metadata": {},
     "output_type": "execute_result"
    },
    {
     "data": {
      "text/plain": [
       "Text(0.5, 0, 'cantidad de lámparas L1')"
      ]
     },
     "execution_count": 94,
     "metadata": {},
     "output_type": "execute_result"
    },
    {
     "data": {
      "text/plain": [
       "Text(0, 0.5, 'cantidad de lámparas L2')"
      ]
     },
     "execution_count": 94,
     "metadata": {},
     "output_type": "execute_result"
    },
    {
     "data": {
      "text/plain": [
       "[<matplotlib.lines.Line2D at 0x2196f916800>]"
      ]
     },
     "execution_count": 94,
     "metadata": {},
     "output_type": "execute_result"
    },
    {
     "data": {
      "text/plain": [
       "[<matplotlib.lines.Line2D at 0x2196f9168f0>]"
      ]
     },
     "execution_count": 94,
     "metadata": {},
     "output_type": "execute_result"
    },
    {
     "data": {
      "text/plain": [
       "Text(0, 200.0, '(0, 200.0)')"
      ]
     },
     "execution_count": 94,
     "metadata": {},
     "output_type": "execute_result"
    },
    {
     "data": {
      "text/plain": [
       "Text(300.0, 0, '(300.0, 0)')"
      ]
     },
     "execution_count": 94,
     "metadata": {},
     "output_type": "execute_result"
    },
    {
     "data": {
      "text/plain": [
       "Text(0, 480.0, '(0, 480.0)')"
      ]
     },
     "execution_count": 94,
     "metadata": {},
     "output_type": "execute_result"
    },
    {
     "data": {
      "text/plain": [
       "Text(240.0, 0, '(240.0, 0)')"
      ]
     },
     "execution_count": 94,
     "metadata": {},
     "output_type": "execute_result"
    },
    {
     "data": {
      "text/plain": [
       "Text(210.0, 60, '(210.0, 60)')"
      ]
     },
     "execution_count": 94,
     "metadata": {},
     "output_type": "execute_result"
    },
    {
     "data": {
      "text/plain": [
       "<matplotlib.collections.PolyCollection at 0x2196f90c850>"
      ]
     },
     "execution_count": 94,
     "metadata": {},
     "output_type": "execute_result"
    },
    {
     "data": {
      "text/plain": [
       "<matplotlib.legend.Legend at 0x2196db0c550>"
      ]
     },
     "execution_count": 94,
     "metadata": {},
     "output_type": "execute_result"
    },
    {
     "data": {
      "image/png": "[encoded data removed]",
      "text/plain": [
       "<Figure size 640x480 with 1 Axes>"
      ]
     },
     "metadata": {},
     "output_type": "display_data"
    }
   ],
   "source": [
    "\n",
    "fig,ax = plt.subplots()\n",
    "plt.xlim(0,500)\n",
    "plt.ylim(0,500)\n",
    "plt.grid()\n",
    "plt.xlabel('cantidad de lámparas L1')\n",
    "plt.ylabel('cantidad de lámparas L2')\n",
    "plt.plot(np.array([0,x11]),np.array([x12,0]), label='inecuación 1 trabajo manual')\n",
    "plt.plot(np.array([0,x21]),np.array([x22,0]), label='inecuación 2 trabajo de máquina')\n",
    "\n",
    "ax.annotate(f'{(0,x12)}', xy=(0,x12))\n",
    "ax.annotate(f'{(x11,0)}', xy=(x11,0))\n",
    "ax.annotate(f'{(0,x22)}', xy=(0,x22))\n",
    "ax.annotate(f'{(x21,0)}', xy=(x21,0))\n",
    "ax.annotate(f'{(ix1,ix2)}', xy=(ix1,ix2))  # intersección\n",
    "\n",
    "# colorear área bajo el polígono de restricciones\n",
    "data = pd. Series(sx2,index=sx1)\n",
    "#data.plot(kind='area',color='gray')\n",
    "#plt.plot()\n",
    "plt.fill_between(sx1, sx2, color='blue', alpha=0.3)\n",
    "plt.legend()\n",
    "plt.show()"
   ]
  },
  {
   "cell_type": "markdown",
   "metadata": {},
   "source": [
    "## Solución usando el método simplex de programación lineal\n",
    "\n",
    "https://docs.scipy.org/doc/scipy/reference/optimize.linprog-simplex.html\n",
    "\n",
    "+ La __función linprog__ minimiza. Si lo que se requiere es maximizar, basta con minimizar la negativa de la función, lo que es equivalente.\n",
    "+ __linprog_ Retorna un un objeto scipy.optimize.OptimizeResult que consta de los campos:\n",
    "\n",
    "    __x1-D array__\n",
    "    The values of the decision variables that minimizes the objective function while satisfying the constraints.\n",
    "\n",
    "    __funfloat__\n",
    "    The optimal value of the objective function c @ x.\n",
    "\n",
    "    __slack1-D array__\n",
    "    The (nominally positive) values of the slack variables, b_ub - A_ub @ x.\n",
    "\n",
    "    __con1-D array__\n",
    "    The (nominally zero) residuals of the equality constraints, b_eq - A_eq @ x.\n",
    "\n",
    "    __successbool__\n",
    "    True when the algorithm succeeds in finding an optimal solution.\n",
    "\n",
    "    __statusint__\n",
    "    An integer representing the exit status of the algorithm.\n",
    "\n",
    "    0 : Optimization terminated successfully.\n",
    "\n",
    "    1 : Iteration limit reached.\n",
    "\n",
    "    2 : Problem appears to be infeasible.\n",
    "\n",
    "    3 : Problem appears to be unbounded.\n",
    "\n",
    "    4 : Numerical difficulties encountered.\n",
    "\n",
    "    __messagestr__\n",
    "    A string descriptor of the exit status of the algorithm.\n",
    "\n",
    "    __nitint__\n",
    "    The total number of iterations performed in all phases.\n",
    "\n",
    "### Para el problema de ejemplo\n",
    "\n",
    "+ Variables\n",
    "\n",
    "    x1: cantidad de lámparas L1\n",
    "\n",
    "    x2: cantidad de lámparas L2\n",
    "\n",
    "+ Función objetivo\n",
    "\n",
    "    minimizar -(15*x1 + 10*x2)\n",
    "\n",
    "+ Restricciones\n",
    "\n",
    "    20*x1 + 30*x2 <= 100*60 # en minutos\n",
    "\n",
    "    20*x1 + 10*x2 <= 80*60  # en minutos\n",
    "\n",
    "    x1 >= 0  # entero positivo (número natural)\n",
    "\n",
    "    x2 >= 0  \n"
   ]
  },
  {
   "cell_type": "code",
   "execution_count": 95,
   "metadata": {},
   "outputs": [],
   "source": [
    "from scipy.optimize import linprog\n"
   ]
  },
  {
   "cell_type": "code",
   "execution_count": 96,
   "metadata": {},
   "outputs": [
    {
     "data": {
      "text/plain": [
       "-22.0"
      ]
     },
     "execution_count": 96,
     "metadata": {},
     "output_type": "execute_result"
    },
    {
     "data": {
      "text/plain": [
       "array([10., -3.])"
      ]
     },
     "execution_count": 96,
     "metadata": {},
     "output_type": "execute_result"
    },
    {
     "data": {
      "text/plain": [
       "'Optimization terminated successfully. (HiGHS Status 7: Optimal)'"
      ]
     },
     "execution_count": 96,
     "metadata": {},
     "output_type": "execute_result"
    }
   ],
   "source": [
    "# Ejemplo de la documentación de scipy\n",
    "# Note que se definen como listas\n",
    "c = [-1, 4]\n",
    "A = [[-3, 1], [1, 2]]\n",
    "b = [6, 4]\n",
    "x0_bounds = (None, None)\n",
    "x1_bounds = (-3, None)\n",
    "res = linprog(c, A_ub=A, b_ub=b, bounds=[x0_bounds, x1_bounds])\n",
    "res.fun\n",
    "res.x\n",
    "res.message"
   ]
  },
  {
   "cell_type": "markdown",
   "metadata": {},
   "source": [
    "### Para el ejemplo de estudio"
   ]
  },
  {
   "cell_type": "code",
   "execution_count": 97,
   "metadata": {},
   "outputs": [],
   "source": [
    "# coeficientes de la función a minimizar\n",
    "c = [-15,-10]"
   ]
  },
  {
   "cell_type": "code",
   "execution_count": 98,
   "metadata": {},
   "outputs": [],
   "source": [
    "#Matriz de restricciones de desigualdad \n",
    "#Cada fila de A_ub especifica los coeficientes de una restricción de desigualdad lineal en x\n",
    "A_ub = [[20,30],[20,10]]"
   ]
  },
  {
   "cell_type": "code",
   "execution_count": 99,
   "metadata": {},
   "outputs": [],
   "source": [
    "# Vector de restricción de desigualdad\n",
    "# Cada elemento representa un límite superior del correspondiente valor de A_ub @ x\n",
    "b_ub =[6000,4800]"
   ]
  },
  {
   "cell_type": "code",
   "execution_count": 100,
   "metadata": {},
   "outputs": [],
   "source": [
    "#Matriz de restricciones de igualdad\n",
    "# Cada fila de A_eq especifica los coeficientes de una restricción de igualdad lineal en x\n",
    "#A_eq "
   ]
  },
  {
   "cell_type": "code",
   "execution_count": 101,
   "metadata": {},
   "outputs": [],
   "source": [
    "# Vector de restricción de igualdad\n",
    "# Cada elemento de A_eq @ x tiene que ser igual al correspondiente elemento de b_eq\n",
    "#b_eq"
   ]
  },
  {
   "cell_type": "code",
   "execution_count": 102,
   "metadata": {},
   "outputs": [],
   "source": [
    "# Una secuencia de pares (mínimo, máximo) para cada elemento en x. Define los valores mín y máx de esa variable de decisión\n",
    "# None para indicar que no hay ningún límite\n",
    "# De forma predeterminada, los límites son (0, None) (todas las variables de decisión no son negativas)\n",
    "# Si se proporciona una única tupla (min, max), entonces servirán como límites para todas las variables de decisión\n",
    "\n",
    "# Usaremos el predeterminado para este caso"
   ]
  },
  {
   "cell_type": "code",
   "execution_count": 103,
   "metadata": {},
   "outputs": [
    {
     "data": {
      "text/plain": [
       "-3750.0"
      ]
     },
     "execution_count": 103,
     "metadata": {},
     "output_type": "execute_result"
    },
    {
     "data": {
      "text/plain": [
       "array([210.,  60.])"
      ]
     },
     "execution_count": 103,
     "metadata": {},
     "output_type": "execute_result"
    },
    {
     "data": {
      "text/plain": [
       "'Optimization terminated successfully. (HiGHS Status 7: Optimal)'"
      ]
     },
     "execution_count": 103,
     "metadata": {},
     "output_type": "execute_result"
    }
   ],
   "source": [
    "res = linprog(c, A_ub=A_ub, b_ub=b_ub)\n",
    "res.fun\n",
    "res.x\n",
    "res.message"
   ]
  },
  {
   "cell_type": "markdown",
   "metadata": {},
   "source": [
    "## Ejercicio\n",
    "\n",
    "En una granja de pollos se da una dieta de engorde con una composición mínima de 15 unidades de una sustancia A y otras 15 de una sustancia B. En el mercado sólo se encuentran dos clases de compuestos: el tipo X con una composición de una unidad de A y 5 de B, y el otro tipo, Y, con una composición de cinco unidades de A y una de B. El precio del tipo X es de 10 euros y del tipo Y es de 30 €. ¿Qué cantidades se han de comprar de cada tipo para cubrir las necesidades con un coste mínimo?"
   ]
  },
  {
   "cell_type": "code",
   "execution_count": 104,
   "metadata": {},
   "outputs": [],
   "source": [
    "# coeficientes de la función a minimizar\n",
    "c = [10,30]"
   ]
  },
  {
   "cell_type": "code",
   "execution_count": 105,
   "metadata": {},
   "outputs": [],
   "source": [
    "#Matriz de restricciones de desigualdad \n",
    "#Cada fila de A_ub especifica los coeficientes de una restricción de desigualdad lineal en x\n",
    "A_ub = [[-1,-5],[-5,-1]]"
   ]
  },
  {
   "cell_type": "code",
   "execution_count": 106,
   "metadata": {},
   "outputs": [],
   "source": [
    "# Vector de restricción de desigualdad\n",
    "# Cada elemento representa un límite superior del correspondiente valor de A_ub @ x\n",
    "b_ub =[-15,-15]"
   ]
  },
  {
   "cell_type": "code",
   "execution_count": 107,
   "metadata": {},
   "outputs": [
    {
     "data": {
      "text/plain": [
       "100.0"
      ]
     },
     "execution_count": 107,
     "metadata": {},
     "output_type": "execute_result"
    },
    {
     "data": {
      "text/plain": [
       "array([2.5, 2.5])"
      ]
     },
     "execution_count": 107,
     "metadata": {},
     "output_type": "execute_result"
    },
    {
     "data": {
      "text/plain": [
       "'Optimization terminated successfully. (HiGHS Status 7: Optimal)'"
      ]
     },
     "execution_count": 107,
     "metadata": {},
     "output_type": "execute_result"
    }
   ],
   "source": [
    "res = linprog(c, A_ub=A_ub, b_ub=b_ub)\n",
    "res.fun\n",
    "res.x\n",
    "res.message"
   ]
  },
  {
   "cell_type": "code",
   "execution_count": null,
   "metadata": {},
   "outputs": [],
   "source": []
  }
 ],
 "metadata": {
  "kernelspec": {
   "display_name": "Python 3 (ipykernel)",
   "language": "python",
   "name": "python3"
  },
  "language_info": {
   "codemirror_mode": {
    "name": "ipython",
    "version": 3
   },
   "file_extension": ".py",
   "mimetype": "text/x-python",
   "name": "python",
   "nbconvert_exporter": "python",
   "pygments_lexer": "ipython3",
   "version": "3.10.9"
  }
 },
 "nbformat": 4,
 "nbformat_minor": 2
}
