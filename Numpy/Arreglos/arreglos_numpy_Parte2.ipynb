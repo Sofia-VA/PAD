{
 "cells": [
  {
   "cell_type": "markdown",
   "metadata": {},
   "source": [
    "# Arreglos con numpy. Parte II\n",
    "\n",
    "## Programación para Análisis de Datos \n",
    "\n",
    "### Mtra. Gisel Hernández Chávez\n",
    "\n",
    "\n",
    "### Contenido\n",
    "\n",
    "13. Características de numpy que lo hacen potente\n",
    "\n",
    "        13.1 Vectorización\n",
    "            13.1.1 Operaciones aritméticas con arreglos\n",
    "            13.1.2 Funciones trigonométricas aplicadas a un arreglo\n",
    "        13.2 Transmisión\n",
    "            13.2.1 Reglas detalladas de transmisión\n",
    "            13.2.2 Transmisión, propagación o estiramiento de un escalar\n",
    "            13.2.3 Ejemplos de transmisiones válidas y no válidas\n",
    "14. Cambiar la forma (shape) de un arreglo\n",
    "\n",
    "        14.1 Sin cambiar sus datos con reshape()\n",
    "        14.2 Aplanado con ravel()\n",
    "        14.3 Aplanado flatten() y atributo flat\n",
    "15. Valores faltantes y valores infinitos en arreglos de numpy \n",
    "16. Generación de números aleatorios en numpy\n",
    "\n",
    "        16.1 Generación de números aleatorios flotantes con rand() y random()\n",
    "        16.2 Generación de números aleatorios enteros\n",
    "        16.3 Distribución Normal con media 0  (mean=0) y varianza 1 (variance=1)\n",
    "        16.4 Toma de una muestra de datos con choice()\n",
    "        16.5 Uso de seed()\n",
    "17. Multiplicación de matrices en numpy usando el operador @\n",
    "\n",
    "        14.1 Multilicación de arreglo por un escalar\n",
    "        14.2 Multilicación de arreglo por otro arreglo\n",
    "18. Producto interior (inner product)\n",
    "\n",
    "        15.1 Producto punto (dot product)"
   ]
  },
  {
   "cell_type": "code",
   "execution_count": 1,
   "metadata": {
    "scrolled": true
   },
   "outputs": [],
   "source": [
    "import numpy as np\n",
    "from datetime import datetime"
   ]
  },
  {
   "cell_type": "code",
   "execution_count": 2,
   "metadata": {},
   "outputs": [],
   "source": [
    "# Para obtener múltiples salidas de una celda\n",
    "from IPython.core.interactiveshell import InteractiveShell\n",
    "InteractiveShell.ast_node_interactivity = \"all\""
   ]
  },
  {
   "cell_type": "markdown",
   "metadata": {},
   "source": [
    "## 13.Características de numpy que lo hacen potente\n",
    "\n",
    "### 13.1 Vectorización \n",
    "\n",
    "La vectorización describe la ausencia de cualquier bucle explícito, indexación, etc. en el código. Sucede sólo \"detrás de escena\" en código C optimizado y precompilado. El código vectorizado tiene muchas ventajas:\n",
    "\n",
    "    + Es más conciso y más fácil de leer\n",
    "    + Tiene menos líneas de código por lo que generalmente significa menos errores\n",
    "    + El código se parece más a la notación matemática estándar (lo que facilita codificar correctamente las construcciones matemáticas)\n",
    "    + Da como resultado un código más \"Pythonico\". Sin la vectorización, nuestro código estaría plagado de bucles for inefi-cientes y difíciles de leer."
   ]
  },
  {
   "cell_type": "markdown",
   "metadata": {},
   "source": [
    "#### 13.1.1 Operaciones aritméticas con arreglos\n",
    "\n",
    "Aunque los arreglos no tienen la misma dimensión, numpy aplica verifica las reglas de compatibilidad y, si se cumplen, aplica reglas de propagación para llevarlos a dimensiones compatibles. Posteriormente realiza la operación. "
   ]
  },
  {
   "cell_type": "code",
   "execution_count": 3,
   "metadata": {},
   "outputs": [],
   "source": [
    "a = np.array([[0,0,0],[10,10,10],[20,20,20],[30,30,30]])\n",
    "b = np.array([0,1,2])"
   ]
  },
  {
   "cell_type": "markdown",
   "metadata": {},
   "source": [
    "## ¿Qué ocurre detrás de escena cuando las dimensiones son diferentes?"
   ]
  },
  {
   "cell_type": "code",
   "execution_count": 4,
   "metadata": {},
   "outputs": [
    {
     "data": {
      "text/plain": [
       "array([[ 0,  1,  2],\n",
       "       [10, 11, 12],\n",
       "       [20, 21, 22],\n",
       "       [30, 31, 32]])"
      ]
     },
     "execution_count": 4,
     "metadata": {},
     "output_type": "execute_result"
    }
   ],
   "source": [
    "a + b"
   ]
  },
  {
   "cell_type": "code",
   "execution_count": 5,
   "metadata": {
    "scrolled": true
   },
   "outputs": [
    {
     "data": {
      "text/plain": [
       "array([[ 0, -1, -2],\n",
       "       [10,  9,  8],\n",
       "       [20, 19, 18],\n",
       "       [30, 29, 28]])"
      ]
     },
     "execution_count": 5,
     "metadata": {},
     "output_type": "execute_result"
    }
   ],
   "source": [
    "a - b"
   ]
  },
  {
   "cell_type": "code",
   "execution_count": 6,
   "metadata": {
    "scrolled": true
   },
   "outputs": [
    {
     "data": {
      "text/plain": [
       "array([[ 0,  0,  0],\n",
       "       [ 0, 10, 20],\n",
       "       [ 0, 20, 40],\n",
       "       [ 0, 30, 60]])"
      ]
     },
     "execution_count": 6,
     "metadata": {},
     "output_type": "execute_result"
    }
   ],
   "source": [
    "a * b "
   ]
  },
  {
   "cell_type": "code",
   "execution_count": 7,
   "metadata": {
    "scrolled": true
   },
   "outputs": [
    {
     "name": "stderr",
     "output_type": "stream",
     "text": [
      "C:\\Users\\ghernand\\AppData\\Local\\Temp\\ipykernel_2700\\3458332907.py:1: RuntimeWarning: divide by zero encountered in divide\n",
      "  b / a  # Note que 0/0 es nan y 1/0 es inf\n",
      "C:\\Users\\ghernand\\AppData\\Local\\Temp\\ipykernel_2700\\3458332907.py:1: RuntimeWarning: invalid value encountered in divide\n",
      "  b / a  # Note que 0/0 es nan y 1/0 es inf\n"
     ]
    },
    {
     "data": {
      "text/plain": [
       "array([[       nan,        inf,        inf],\n",
       "       [0.        , 0.1       , 0.2       ],\n",
       "       [0.        , 0.05      , 0.1       ],\n",
       "       [0.        , 0.03333333, 0.06666667]])"
      ]
     },
     "execution_count": 7,
     "metadata": {},
     "output_type": "execute_result"
    }
   ],
   "source": [
    "b / a  # Note que 0/0 es nan y 1/0 es inf\n",
    "# El tipo de la matriz resultante es float porque hay un nan que es de tipo float."
   ]
  },
  {
   "cell_type": "code",
   "execution_count": 8,
   "metadata": {
    "scrolled": true
   },
   "outputs": [
    {
     "name": "stderr",
     "output_type": "stream",
     "text": [
      "C:\\Users\\ghernand\\AppData\\Local\\Temp\\ipykernel_2700\\745184068.py:1: RuntimeWarning: divide by zero encountered in remainder\n",
      "  a % b\n"
     ]
    },
    {
     "data": {
      "text/plain": [
       "array([[0, 0, 0],\n",
       "       [0, 0, 0],\n",
       "       [0, 0, 0],\n",
       "       [0, 0, 0]])"
      ]
     },
     "execution_count": 8,
     "metadata": {},
     "output_type": "execute_result"
    }
   ],
   "source": [
    "a % b "
   ]
  },
  {
   "cell_type": "code",
   "execution_count": 9,
   "metadata": {
    "scrolled": true
   },
   "outputs": [
    {
     "data": {
      "text/plain": [
       "array([[         1,          1,          1],\n",
       "       [         0,          1,       1024],\n",
       "       [         0,          1,    1048576],\n",
       "       [         0,          1, 1073741824]])"
      ]
     },
     "execution_count": 9,
     "metadata": {},
     "output_type": "execute_result"
    }
   ],
   "source": [
    "b ** a "
   ]
  },
  {
   "cell_type": "markdown",
   "metadata": {},
   "source": [
    "### Otro ejemplo con suma de dos arreglos de diferente dimensión"
   ]
  },
  {
   "cell_type": "code",
   "execution_count": 10,
   "metadata": {
    "scrolled": true
   },
   "outputs": [
    {
     "data": {
      "text/plain": [
       "array([[1., 2.],\n",
       "       [3., 4.],\n",
       "       [5., 6.]])"
      ]
     },
     "execution_count": 10,
     "metadata": {},
     "output_type": "execute_result"
    }
   ],
   "source": [
    "a = np.array([[1, 2], [3, 4], [5, 6]], float) \n",
    "b = np.array([-1, 3], float) \n",
    "a "
   ]
  },
  {
   "cell_type": "code",
   "execution_count": 11,
   "metadata": {
    "scrolled": true
   },
   "outputs": [
    {
     "data": {
      "text/plain": [
       "array([-1.,  3.])"
      ]
     },
     "execution_count": 11,
     "metadata": {},
     "output_type": "execute_result"
    }
   ],
   "source": [
    "b "
   ]
  },
  {
   "cell_type": "code",
   "execution_count": 12,
   "metadata": {
    "scrolled": true
   },
   "outputs": [
    {
     "data": {
      "text/plain": [
       "array([[0., 5.],\n",
       "       [2., 7.],\n",
       "       [4., 9.]])"
      ]
     },
     "execution_count": 12,
     "metadata": {},
     "output_type": "execute_result"
    }
   ],
   "source": [
    "a + b "
   ]
  },
  {
   "cell_type": "markdown",
   "metadata": {},
   "source": [
    "#### 13.1.2 Funciones trigonométricas aplicadas a un arreglo"
   ]
  },
  {
   "cell_type": "code",
   "execution_count": 13,
   "metadata": {},
   "outputs": [],
   "source": [
    "#np.sin?"
   ]
  },
  {
   "cell_type": "code",
   "execution_count": 14,
   "metadata": {},
   "outputs": [],
   "source": [
    "#np.degrees?"
   ]
  },
  {
   "cell_type": "code",
   "execution_count": 15,
   "metadata": {},
   "outputs": [],
   "source": [
    "x= np.array([[[1],\n",
    "        [2],\n",
    "        [3]],\n",
    "\n",
    "       [[4],\n",
    "        [5],\n",
    "        [6]]])"
   ]
  },
  {
   "cell_type": "code",
   "execution_count": 16,
   "metadata": {
    "scrolled": true
   },
   "outputs": [
    {
     "data": {
      "text/plain": [
       "array([[[ 0.84147098],\n",
       "        [ 0.90929743],\n",
       "        [ 0.14112001]],\n",
       "\n",
       "       [[-0.7568025 ],\n",
       "        [-0.95892427],\n",
       "        [-0.2794155 ]]])"
      ]
     },
     "execution_count": 16,
     "metadata": {},
     "output_type": "execute_result"
    }
   ],
   "source": [
    "f = np.sin(x) # Devuelve un nuevo arreglo con el valor del seno de cada elemento de x en radianes\n",
    "f"
   ]
  },
  {
   "cell_type": "code",
   "execution_count": 17,
   "metadata": {},
   "outputs": [
    {
     "data": {
      "text/plain": [
       "array([[[ 48.21273601],\n",
       "        [ 52.09890488],\n",
       "        [  8.08558087]],\n",
       "\n",
       "       [[-43.36158891],\n",
       "        [-54.94231381],\n",
       "        [-16.00932878]]])"
      ]
     },
     "execution_count": 17,
     "metadata": {},
     "output_type": "execute_result"
    }
   ],
   "source": [
    "np.degrees(f) # Convierte 'angulos de radianes a grados"
   ]
  },
  {
   "cell_type": "markdown",
   "metadata": {},
   "source": [
    "### 13.2 Transmisión (propagación) (*broadcasting*)\n",
    "\n",
    "El término transmisión describe cómo numpy trata a los arreglos con diferentes formas durante las operaciones aritméticas. Sujeto a ciertas restricciones, __el arreglo más pequeño se \"transmite\" a través del arreglo más grande para que tengan formas compatibles__. La transmisión proporciona un medio para vectorizar las operaciones del arreglo para que el bucle se produzca en C en lugar de Python.\n",
    "\n",
    "__\"Broadcasting\"__ es el término utilizado para describir el comportamiento implícito elemento por elemento de las operaciones.\n",
    "\n",
    "En general, en NumPy todas las operaciones, no solo las operaciones aritméticas, sino también las lógicas, bit a bit, funcionales, etc., se comportan de esta manera implícita elemento por elemento, es decir, transmiten.\n",
    "\n",
    "En el ejemplo siguiente, a y b podrían ser arreglos multidimensionales de la misma forma, o un escalar y un arreglo, o incluso dos arreglos con formas diferentes, __siempre que el arreglo más pequeño sea \"expandible\" a la forma del más grande__, de tal manera que la emisión resultante sea inequívoca. "
   ]
  },
  {
   "cell_type": "markdown",
   "metadata": {},
   "source": [
    "#### 13.2.1 Reglas detalladas de transmisión\n",
    "\n",
    "Tomadas de: https://numpy.org/doc/stable/user/basics.broadcasting.html\n",
    "\n",
    "__1-__ El ejemplo de transmisión más simple ocurre cuando un __arreglo y un valor escalar__ se combinan en una operación, ya que __se usa el escalar para aplicarlo a todos los elementos del arreglo__.\n",
    "\n",
    "__2-__ Cuando opera en __dos arreglos__, NumPy compara sus formas por elementos. __Comienza con las dimensiones finales__ (es decir, más a la derecha) __y avanza hacia la izquierda__. \n",
    "\n",
    "    Dos dimensiones son compatibles cuando:\n",
    "    \n",
    "        + son iguales, o \n",
    "        + una de las dimensiones es 1\n",
    "    \n",
    "__El tamaño del arreglo resultante es el tamaño que no es 1__ a lo largo de cada eje de las entradas."
   ]
  },
  {
   "attachments": {
    "image.png": {
     "image/png": "[encoded data removed]"
    }
   },
   "cell_type": "markdown",
   "metadata": {},
   "source": [
    "#### 13.2.2 Transmisión, propagación o estiramiento de un escalar\n",
    "\n",
    "Tomado de https://numpy.org/doc/1.20/user/theory.broadcasting.html\n",
    "\n",
    "+ En el siguiente ejemplo el escalar 2 se convierte en un arreglo b(1) del mismo tamaño para que la operación (multiplicación en este caso), sea compatible elemento por elemento\n",
    "\n",
    "![image.png](attachment:image.png)"
   ]
  },
  {
   "cell_type": "code",
   "execution_count": 18,
   "metadata": {},
   "outputs": [
    {
     "data": {
      "text/plain": [
       "array([2, 4, 6])"
      ]
     },
     "execution_count": 18,
     "metadata": {},
     "output_type": "execute_result"
    }
   ],
   "source": [
    "a = np.array([1,2,3]) * 2\n",
    "a"
   ]
  },
  {
   "cell_type": "markdown",
   "metadata": {},
   "source": [
    "#### 13.2.3 Ejemplos de transmisiones válidas y no válidas"
   ]
  },
  {
   "attachments": {
    "image.png": {
     "image/png": "[encoded data removed]"
    }
   },
   "cell_type": "markdown",
   "metadata": {},
   "source": [
    "##### Ejemplo de propagación cuando una de las dimensiones es 1\n",
    "\n",
    "\n",
    "\n",
    "![image.png](attachment:image.png)\n"
   ]
  },
  {
   "cell_type": "code",
   "execution_count": 19,
   "metadata": {},
   "outputs": [
    {
     "data": {
      "text/plain": [
       "array([[ 0,  1,  2],\n",
       "       [10, 11, 12],\n",
       "       [20, 21, 22],\n",
       "       [30, 31, 32]])"
      ]
     },
     "execution_count": 19,
     "metadata": {},
     "output_type": "execute_result"
    }
   ],
   "source": [
    "a = np.array([[0,0,0],[10,10,10],[20,20,20],[30,30,30]])\n",
    "b = np.array([0,1,2])\n",
    "a + b"
   ]
  },
  {
   "cell_type": "markdown",
   "metadata": {},
   "source": [
    "#### Ejemplo con arreglos de 4 y 3 dimensiones:\n",
    "\n",
    "A(4d array)            8 x  1 x  6 x  1\n",
    "\n",
    "B(3d array)                 7 x  1 x  5 \n",
    "\n",
    "Result(4d array)       8 x  7 x  6 x  5\n",
    "\n",
    "+ Note que se colocan alineadas a la derecha\n"
   ]
  },
  {
   "cell_type": "code",
   "execution_count": 20,
   "metadata": {},
   "outputs": [],
   "source": [
    "#np.ones?"
   ]
  },
  {
   "cell_type": "code",
   "execution_count": 21,
   "metadata": {},
   "outputs": [
    {
     "data": {
      "text/plain": [
       "(8, 7, 6, 5)"
      ]
     },
     "execution_count": 21,
     "metadata": {},
     "output_type": "execute_result"
    }
   ],
   "source": [
    "A = np.ones((8,1,6,1)) * 2\n",
    "B = np.ones((7,1,5)) * 3\n",
    "(A + B ).shape"
   ]
  },
  {
   "cell_type": "code",
   "execution_count": 22,
   "metadata": {},
   "outputs": [
    {
     "name": "stdout",
     "output_type": "stream",
     "text": [
      "operands could not be broadcast together with shapes (8,2,6,1) (7,1,5) \n"
     ]
    }
   ],
   "source": [
    "try:\n",
    "    A = np.ones((8,2,6,1)) * 2\n",
    "    B = np.ones((7,1,5)) * 3\n",
    "    (A + B ).shape\n",
    "except Exception as e:\n",
    "    print(e)"
   ]
  },
  {
   "cell_type": "markdown",
   "metadata": {},
   "source": [
    "#### Ejemplo con arreglos de forma (4,1) y (3,):\n",
    "\n"
   ]
  },
  {
   "cell_type": "code",
   "execution_count": 23,
   "metadata": {},
   "outputs": [
    {
     "data": {
      "text/plain": [
       "(4, 1)"
      ]
     },
     "execution_count": 23,
     "metadata": {},
     "output_type": "execute_result"
    }
   ],
   "source": [
    "a1 = np.array([[0],[10],[20],[30]])\n",
    "a1.shape"
   ]
  },
  {
   "cell_type": "code",
   "execution_count": 24,
   "metadata": {},
   "outputs": [
    {
     "data": {
      "text/plain": [
       "(3,)"
      ]
     },
     "execution_count": 24,
     "metadata": {},
     "output_type": "execute_result"
    }
   ],
   "source": [
    "a2 = np.array([0,1,2])\n",
    "a2.shape"
   ]
  },
  {
   "cell_type": "code",
   "execution_count": 25,
   "metadata": {},
   "outputs": [
    {
     "data": {
      "text/plain": [
       "array([[ 0,  1,  2],\n",
       "       [10, 11, 12],\n",
       "       [20, 21, 22],\n",
       "       [30, 31, 32]])"
      ]
     },
     "execution_count": 25,
     "metadata": {},
     "output_type": "execute_result"
    }
   ],
   "source": [
    "a1 + a2"
   ]
  },
  {
   "cell_type": "markdown",
   "metadata": {},
   "source": [
    "Si a.shape es (5,1), b.shape es (1,6), c.shape es (6,) y d.shape es () de modo que d es un escalar,\n",
    "\n",
    "+ Entonces a, b, c, y d son todos ampliables a la dimensión (5,6); y\n",
    "\n",
    "+ a actúa como un arreglo (5,6) donde un [:, 0] se transmite a las otras columnas,\n",
    "\n",
    "+ b actúa como un arreglo (5,6) donde b [0 ,:] se transmite a las otras filas,\n",
    "\n",
    "+ c actúa como un arreglo (1,6) y, por lo tanto, como un arreglo (5,6) donde c [:] se transmite a cada fila, y finalmente,\n",
    "\n",
    "+ d actúa como un arreglo (5,6) donde se repite el valor único."
   ]
  },
  {
   "cell_type": "markdown",
   "metadata": {},
   "source": [
    "#### Ejemplo de incompatibilidad de formas para propagar"
   ]
  },
  {
   "cell_type": "code",
   "execution_count": 26,
   "metadata": {},
   "outputs": [
    {
     "data": {
      "text/plain": [
       "(array([0, 1, 2, 3]), array([0, 1, 2]))"
      ]
     },
     "execution_count": 26,
     "metadata": {},
     "output_type": "execute_result"
    },
    {
     "data": {
      "text/plain": [
       "(4,)"
      ]
     },
     "execution_count": 26,
     "metadata": {},
     "output_type": "execute_result"
    },
    {
     "data": {
      "text/plain": [
       "(3,)"
      ]
     },
     "execution_count": 26,
     "metadata": {},
     "output_type": "execute_result"
    },
    {
     "name": "stdout",
     "output_type": "stream",
     "text": [
      "operands could not be broadcast together with shapes (4,) (3,) \n"
     ]
    }
   ],
   "source": [
    "x = np.arange(4) \n",
    "y = np.arange(3)\n",
    "x,y\n",
    "\n",
    "try:\n",
    "    x.shape\n",
    "    y.shape\n",
    "    x + y\n",
    "except ValueError as e:\n",
    "    print(e)"
   ]
  },
  {
   "cell_type": "markdown",
   "metadata": {},
   "source": [
    "### 14 Cambiar la forma (shape) de un arreglo\n",
    "\n",
    "#### 14.1 Sin cambiar sus datos con reshape()\n",
    "\n",
    "np.reshape(a, nueva forma, orden='C')\n",
    "\n",
    "Da una nueva forma a un arreglo sin cambiar sus datos."
   ]
  },
  {
   "cell_type": "code",
   "execution_count": 27,
   "metadata": {},
   "outputs": [],
   "source": [
    "#np.reshape?"
   ]
  },
  {
   "cell_type": "code",
   "execution_count": null,
   "metadata": {},
   "outputs": [],
   "source": [
    "v1 = np.array(np.arrange(8))\n",
    "v1"
   ]
  },
  {
   "cell_type": "code",
   "execution_count": null,
   "metadata": {},
   "outputs": [],
   "source": [
    "v1.reshape(4,2)"
   ]
  },
  {
   "cell_type": "code",
   "execution_count": 28,
   "metadata": {},
   "outputs": [
    {
     "data": {
      "text/plain": [
       "(10,)"
      ]
     },
     "execution_count": 28,
     "metadata": {},
     "output_type": "execute_result"
    }
   ],
   "source": [
    "a3 = np.array([1,2,3,4,5,6,7,8,9,10])\n",
    "a3.shape"
   ]
  },
  {
   "cell_type": "code",
   "execution_count": 29,
   "metadata": {},
   "outputs": [
    {
     "data": {
      "text/plain": [
       "array([[ 1,  2],\n",
       "       [ 3,  4],\n",
       "       [ 5,  6],\n",
       "       [ 7,  8],\n",
       "       [ 9, 10]])"
      ]
     },
     "execution_count": 29,
     "metadata": {},
     "output_type": "execute_result"
    }
   ],
   "source": [
    "\n",
    "a3.reshape(5,2)"
   ]
  },
  {
   "cell_type": "code",
   "execution_count": 30,
   "metadata": {},
   "outputs": [
    {
     "data": {
      "text/plain": [
       "array([[ 1,  2,  3,  4,  5],\n",
       "       [ 6,  7,  8,  9, 10]])"
      ]
     },
     "execution_count": 30,
     "metadata": {},
     "output_type": "execute_result"
    }
   ],
   "source": [
    "a3.reshape(2,5)"
   ]
  },
  {
   "cell_type": "code",
   "execution_count": 32,
   "metadata": {},
   "outputs": [
    {
     "name": "stdout",
     "output_type": "stream",
     "text": [
      "cannot reshape array of size 10 into shape (2,3)\n"
     ]
    }
   ],
   "source": [
    "\n",
    "try:\n",
    "    a3.reshape(2,3)\n",
    "except Exception as e:\n",
    "    print(e)"
   ]
  },
  {
   "cell_type": "code",
   "execution_count": 33,
   "metadata": {},
   "outputs": [
    {
     "name": "stdout",
     "output_type": "stream",
     "text": [
      "cannot reshape array of size 10 into shape (2,4)\n"
     ]
    }
   ],
   "source": [
    "try:\n",
    "    a3.reshape(2,4)\n",
    "except Exception as e:\n",
    "    print(e)"
   ]
  },
  {
   "cell_type": "code",
   "execution_count": 34,
   "metadata": {},
   "outputs": [
    {
     "data": {
      "text/plain": [
       "array([[ 1,  2,  3,  4,  5,  6,  7,  8,  9, 10]])"
      ]
     },
     "execution_count": 34,
     "metadata": {},
     "output_type": "execute_result"
    }
   ],
   "source": [
    "a3.reshape(1,10)"
   ]
  },
  {
   "cell_type": "code",
   "execution_count": 35,
   "metadata": {},
   "outputs": [
    {
     "data": {
      "text/plain": [
       "array([0, 1, 2, 3])"
      ]
     },
     "execution_count": 35,
     "metadata": {},
     "output_type": "execute_result"
    },
    {
     "data": {
      "text/plain": [
       "(4,)"
      ]
     },
     "execution_count": 35,
     "metadata": {},
     "output_type": "execute_result"
    }
   ],
   "source": [
    "x\n",
    "x.shape"
   ]
  },
  {
   "cell_type": "code",
   "execution_count": 36,
   "metadata": {},
   "outputs": [
    {
     "data": {
      "text/plain": [
       "array([[0],\n",
       "       [1],\n",
       "       [2],\n",
       "       [3]])"
      ]
     },
     "execution_count": 36,
     "metadata": {},
     "output_type": "execute_result"
    },
    {
     "data": {
      "text/plain": [
       "(4, 1)"
      ]
     },
     "execution_count": 36,
     "metadata": {},
     "output_type": "execute_result"
    }
   ],
   "source": [
    "xx = x.reshape(4,1)\n",
    "xx\n",
    "xx.shape"
   ]
  },
  {
   "cell_type": "code",
   "execution_count": 37,
   "metadata": {},
   "outputs": [
    {
     "data": {
      "text/plain": [
       "array([1., 1., 1., 1., 1.])"
      ]
     },
     "execution_count": 37,
     "metadata": {},
     "output_type": "execute_result"
    }
   ],
   "source": [
    "y = np.ones(5)\n",
    "y"
   ]
  },
  {
   "cell_type": "code",
   "execution_count": 38,
   "metadata": {},
   "outputs": [
    {
     "data": {
      "text/plain": [
       "((4, 1), (5,))"
      ]
     },
     "execution_count": 38,
     "metadata": {},
     "output_type": "execute_result"
    },
    {
     "name": "stdout",
     "output_type": "stream",
     "text": [
      "[[1. 1. 1. 1. 1.]\n",
      " [2. 2. 2. 2. 2.]\n",
      " [3. 3. 3. 3. 3.]\n",
      " [4. 4. 4. 4. 4.]]\n"
     ]
    },
    {
     "data": {
      "text/plain": [
       "(4, 5)"
      ]
     },
     "execution_count": 38,
     "metadata": {},
     "output_type": "execute_result"
    }
   ],
   "source": [
    "xx.shape, y.shape\n",
    "print(xx +y)\n",
    "(xx + y).shape"
   ]
  },
  {
   "cell_type": "code",
   "execution_count": 39,
   "metadata": {},
   "outputs": [
    {
     "data": {
      "text/plain": [
       "array([[1., 1., 1., 1.],\n",
       "       [1., 1., 1., 1.],\n",
       "       [1., 1., 1., 1.]])"
      ]
     },
     "execution_count": 39,
     "metadata": {},
     "output_type": "execute_result"
    }
   ],
   "source": [
    "z = np.ones((3,4))\n",
    "z"
   ]
  },
  {
   "cell_type": "code",
   "execution_count": 40,
   "metadata": {},
   "outputs": [
    {
     "data": {
      "text/plain": [
       "(array([0, 1, 2, 3]),\n",
       " (4,),\n",
       " array([[1., 1., 1., 1.],\n",
       "        [1., 1., 1., 1.],\n",
       "        [1., 1., 1., 1.]]),\n",
       " (3, 4))"
      ]
     },
     "execution_count": 40,
     "metadata": {},
     "output_type": "execute_result"
    },
    {
     "data": {
      "text/plain": [
       "(3, 4)"
      ]
     },
     "execution_count": 40,
     "metadata": {},
     "output_type": "execute_result"
    },
    {
     "data": {
      "text/plain": [
       "array([[1., 2., 3., 4.],\n",
       "       [1., 2., 3., 4.],\n",
       "       [1., 2., 3., 4.]])"
      ]
     },
     "execution_count": 40,
     "metadata": {},
     "output_type": "execute_result"
    }
   ],
   "source": [
    "x, x.shape, z, z.shape\n",
    "(x + z).shape\n",
    "x + z"
   ]
  },
  {
   "cell_type": "markdown",
   "metadata": {},
   "source": [
    "### 14.2 Aplanado con ravel()\n",
    "\n",
    "numpy.ravel(a, orden='C')\n",
    "\n",
    "Devuelve un arreglo aplanado contiguo.\n",
    "\n",
    "Se devuelve un arreglo 1-D que contiene los elementos de la entrada. Se hace una copia sólo si es necesario."
   ]
  },
  {
   "cell_type": "code",
   "execution_count": 41,
   "metadata": {},
   "outputs": [
    {
     "data": {
      "text/plain": [
       "(array([ 1,  3,  5, 11, 35, 56]), (2, 3), (6,))"
      ]
     },
     "execution_count": 41,
     "metadata": {},
     "output_type": "execute_result"
    }
   ],
   "source": [
    "x1 = np.array([[1, 3, 5], [11, 35, 56]])  \n",
    "y1 = np.ravel(x1) \n",
    "y1, x1.shape,y1.shape"
   ]
  },
  {
   "cell_type": "code",
   "execution_count": 42,
   "metadata": {},
   "outputs": [
    {
     "data": {
      "text/plain": [
       "(array([[ 1, 33,  5],\n",
       "        [11, 35, 56]]),\n",
       " array([ 1, 33,  5, 11, 35, 56]))"
      ]
     },
     "execution_count": 42,
     "metadata": {},
     "output_type": "execute_result"
    }
   ],
   "source": [
    "x1[0,1] =33\n",
    "x1, y1"
   ]
  },
  {
   "cell_type": "markdown",
   "metadata": {},
   "source": [
    "### 14.3 Aplanado con flatten() y atributo flat\n",
    "\n",
    "+ flat es un atributo. \n",
    "+ ndarray.flat es un iterador 1-D sobre el arreglo\n",
    "\n",
    "+ flatten() es un método\n",
    "+ ndarray.flatten(order='C') retorna una copia del arrelo en una dimensión."
   ]
  },
  {
   "cell_type": "code",
   "execution_count": 43,
   "metadata": {},
   "outputs": [
    {
     "data": {
      "text/plain": [
       "(array([1, 2, 3, 4]), (4,))"
      ]
     },
     "execution_count": 43,
     "metadata": {},
     "output_type": "execute_result"
    },
    {
     "data": {
      "text/plain": [
       "(array([1, 3, 2, 4]), (4,))"
      ]
     },
     "execution_count": 43,
     "metadata": {},
     "output_type": "execute_result"
    }
   ],
   "source": [
    "a = np.array([[1,2], [3,4]])\n",
    "a.flatten(), a.flatten().shape\n",
    "\n",
    "a.flatten('F'), a.flatten().shape"
   ]
  },
  {
   "cell_type": "code",
   "execution_count": 44,
   "metadata": {},
   "outputs": [
    {
     "data": {
      "text/plain": [
       "<numpy.flatiter at 0x1f3498f4830>"
      ]
     },
     "execution_count": 44,
     "metadata": {},
     "output_type": "execute_result"
    }
   ],
   "source": [
    "a.flat"
   ]
  },
  {
   "cell_type": "code",
   "execution_count": 45,
   "metadata": {},
   "outputs": [
    {
     "name": "stdout",
     "output_type": "stream",
     "text": [
      "1\n",
      "2\n",
      "3\n",
      "4\n"
     ]
    }
   ],
   "source": [
    "for i in a.flat:\n",
    "    print(i) "
   ]
  },
  {
   "cell_type": "code",
   "execution_count": 46,
   "metadata": {},
   "outputs": [
    {
     "data": {
      "text/plain": [
       "(array([ 1,  2,  3,  4,  5,  6,  7,  8,  9, 10, 11, 12]), (12,))"
      ]
     },
     "execution_count": 46,
     "metadata": {},
     "output_type": "execute_result"
    },
    {
     "data": {
      "text/plain": [
       "(array([ 1,  7,  4, 10,  2,  8,  5, 11,  3,  9,  6, 12]), (12,))"
      ]
     },
     "execution_count": 46,
     "metadata": {},
     "output_type": "execute_result"
    }
   ],
   "source": [
    "arreglo2 = np.array([[[1, 2, 3], [4, 5, 6]], [[7, 8, 9], [10, 11, 12]]])\n",
    "\n",
    "arreglo2.flatten(), arreglo2.flatten().shape\n",
    "\n",
    "arreglo2.flatten('F'), arreglo2.flatten().shape"
   ]
  },
  {
   "cell_type": "markdown",
   "metadata": {},
   "source": [
    "### Diferencia entre flatten() y ravel()\n",
    "\n",
    "+ La diferencia entre ravel() y flatten() es que el nuevo arreglo creado con ravel() es en realidad una referencia al arreglo original. Por lo tanto, cualquier cambio en el nuevo arreglo también afectará al original.\n",
    "+ ravel() es eficiente en memoria, ya que no crea una copia."
   ]
  },
  {
   "cell_type": "markdown",
   "metadata": {},
   "source": [
    "## 15. Valores faltantes y valores infinitos en arreglos de numpy\n",
    "\n",
    "np.nan se usa para valores faltante y np. inf para los infinitos (un ejemplo es el resultado de una división por 0)\n",
    "\n",
    "#### Ejemplo con nan\n",
    "\n",
    "Suponga que termina el semestre y tengo en un arreglo las evaluaciones de mis 3 alumnos de maestría, donde las filas representan a los alumnos y las columnas las evaluaciones. Algunos alumnos no presentaron exámenes o tareas. Los arreglos de numpy permiten colocar los valores perdidos o faltantes con np.nan \n",
    "\n",
    "La matriz pudiera ser la siguiente:"
   ]
  },
  {
   "cell_type": "code",
   "execution_count": 47,
   "metadata": {
    "scrolled": true
   },
   "outputs": [
    {
     "data": {
      "text/plain": [
       "array([[100.,  nan,  90., 100.],\n",
       "       [ 94.,  95.,  90., 100.],\n",
       "       [ nan,  nan,  70.,  80.]])"
      ]
     },
     "execution_count": 47,
     "metadata": {},
     "output_type": "execute_result"
    }
   ],
   "source": [
    "eval_msc=np.array([[100,np.nan,90,100], [94,95,90,100],[np.nan,np.nan,70,80]])\n",
    "eval_msc"
   ]
  },
  {
   "cell_type": "markdown",
   "metadata": {},
   "source": [
    "Para colocar todas las calificaciones en un vector unidimensional puedo usar flatten()"
   ]
  },
  {
   "cell_type": "code",
   "execution_count": null,
   "metadata": {
    "scrolled": true
   },
   "outputs": [],
   "source": [
    "eval_msc.flatten() #lo convierte a una sola dimensión"
   ]
  },
  {
   "cell_type": "code",
   "execution_count": 1,
   "metadata": {},
   "outputs": [
    {
     "ename": "NameError",
     "evalue": "name 'np' is not defined",
     "output_type": "error",
     "traceback": [
      "\u001b[1;31m---------------------------------------------------------------------------\u001b[0m",
      "\u001b[1;31mNameError\u001b[0m                                 Traceback (most recent call last)",
      "\u001b[1;32m~\\AppData\\Local\\Temp/ipykernel_21068/3926405845.py\u001b[0m in \u001b[0;36m<module>\u001b[1;34m\u001b[0m\n\u001b[0;32m      1\u001b[0m \u001b[1;31m# Generar arreglos\u001b[0m\u001b[1;33m\u001b[0m\u001b[1;33m\u001b[0m\u001b[1;33m\u001b[0m\u001b[0m\n\u001b[1;32m----> 2\u001b[1;33m \u001b[0mnp\u001b[0m\u001b[1;33m.\u001b[0m\u001b[0mrandom\u001b[0m\u001b[1;33m.\u001b[0m\u001b[0mseed\u001b[0m\u001b[1;33m(\u001b[0m\u001b[1;36m33\u001b[0m\u001b[1;33m)\u001b[0m\u001b[1;33m\u001b[0m\u001b[1;33m\u001b[0m\u001b[0m\n\u001b[0m\u001b[0;32m      3\u001b[0m \u001b[0ma1\u001b[0m \u001b[1;33m=\u001b[0m \u001b[0mnp\u001b[0m\u001b[1;33m.\u001b[0m\u001b[0mrandom\u001b[0m\u001b[1;33m.\u001b[0m\u001b[0mrand\u001b[0m\u001b[1;33m(\u001b[0m\u001b[1;36m2\u001b[0m\u001b[1;33m,\u001b[0m\u001b[1;36m2\u001b[0m\u001b[1;33m)\u001b[0m\u001b[1;33m\u001b[0m\u001b[1;33m\u001b[0m\u001b[0m\n\u001b[0;32m      4\u001b[0m \u001b[0ma2\u001b[0m \u001b[1;33m=\u001b[0m \u001b[0mnp\u001b[0m\u001b[1;33m.\u001b[0m\u001b[0mrandom\u001b[0m\u001b[1;33m.\u001b[0m\u001b[0mrand\u001b[0m\u001b[1;33m(\u001b[0m\u001b[1;36m2\u001b[0m\u001b[1;33m,\u001b[0m\u001b[1;36m2\u001b[0m\u001b[1;33m)\u001b[0m\u001b[1;33m\u001b[0m\u001b[1;33m\u001b[0m\u001b[0m\n\u001b[0;32m      5\u001b[0m \u001b[0ma1\u001b[0m\u001b[1;33m,\u001b[0m\u001b[0ma2\u001b[0m\u001b[1;33m\u001b[0m\u001b[1;33m\u001b[0m\u001b[0m\n",
      "\u001b[1;31mNameError\u001b[0m: name 'np' is not defined"
     ]
    }
   ],
   "source": [
    "# Generar arreglos\n",
    "np.random.seed(33)\n",
    "a1 = np.random.rand(2,2)\n",
    "a2 = np.random.rand(2,2)\n",
    "a1,a2"
   ]
  },
  {
   "cell_type": "code",
   "execution_count": 54,
   "metadata": {},
   "outputs": [
    {
     "data": {
      "text/plain": [
       "array([], dtype=float64)"
      ]
     },
     "execution_count": 54,
     "metadata": {},
     "output_type": "execute_result"
    }
   ],
   "source": [
    "#Mostrar los elementos comunes a dos arreglos bidimensionales.\n",
    "np.intersect1d(np.ravel(a1),np.ravel(a2))"
   ]
  },
  {
   "cell_type": "markdown",
   "metadata": {},
   "source": [
    "#### Ejemplo con valores infinitos"
   ]
  },
  {
   "cell_type": "code",
   "execution_count": 55,
   "metadata": {},
   "outputs": [
    {
     "name": "stdout",
     "output_type": "stream",
     "text": [
      "Arreglo original\n",
      "[ 1.  0. nan inf]\n",
      "prueba elemento por elemento si es o no infinito:\n",
      "[False False False  True]\n"
     ]
    }
   ],
   "source": [
    "arr_inf = np.array([1, 0, np.nan, np.inf])\n",
    "print(\"Arreglo original\")\n",
    "print(arr_inf)\n",
    "print(\"prueba elemento por elemento si es o no infinito:\")\n",
    "print(np.isinf(arr_inf))"
   ]
  },
  {
   "cell_type": "markdown",
   "metadata": {},
   "source": [
    "## 16. Generación de números aleatorios en numpy\n",
    "\n",
    "rand(d0, d1, ..., dn) genera números aleatorios de una forma dada d0, d1, ..., dn\n",
    "\n",
    "https://www.machinelearningplus.com/python/numpy-tutorial-part1-array-python-examples/"
   ]
  },
  {
   "cell_type": "code",
   "execution_count": 58,
   "metadata": {},
   "outputs": [],
   "source": [
    "np.random.rand?"
   ]
  },
  {
   "cell_type": "markdown",
   "metadata": {},
   "source": [
    "### 16.1 Generación de números aleatorios flotantes con rand() y random()\n",
    "\n",
    "__rand(d0, d1, ..., dn)__\n",
    "\n",
    "Create an array of the given shape and populate it with\n",
    "random samples from a uniform distribution\n",
    "over ``[0, 1)``.\n",
    "+ En teoría de probabilidad y estadística, la distribución uniforme continua es una familia de distribuciones de probabilidad para variables aleatorias continuas, tales que para cada miembro de la familia, todos los intervalos de igual longitud en la distribución en su rango son igualmente probables. El dominio está definido por dos parámetros, a y b, que son sus valores mínimo y máximo respectivamente.\n",
    "+ En teoría de probabilidad y estadística, la distribución uniforme discreta es una distribución de probabilidad discreta simétrica que surge en espacios de probabilidad equiprobables, es decir, en situaciones donde de n resultados diferentes, todos tienen la misma probabilidad de ocurrir.\n",
    "\n",
    "__random(size=None)__\n",
    "\n",
    "Devuelve flotantes aleatorios en el intervalo semi abierto [0.0, 1.0)"
   ]
  },
  {
   "cell_type": "code",
   "execution_count": 59,
   "metadata": {
    "scrolled": true
   },
   "outputs": [
    {
     "name": "stdout",
     "output_type": "stream",
     "text": [
      "[[0.6804508  0.48658813]\n",
      " [0.96502682 0.39339874]]\n"
     ]
    }
   ],
   "source": [
    "# Números aleatorios entre [0,1) de la forma 2,2\n",
    "\n",
    "print(np.random.rand(2,2))"
   ]
  },
  {
   "cell_type": "code",
   "execution_count": 60,
   "metadata": {
    "scrolled": true
   },
   "outputs": [
    {
     "name": "stdout",
     "output_type": "stream",
     "text": [
      "0.07955757128689422\n"
     ]
    }
   ],
   "source": [
    "# Devuelve un solo número aleatorio entre [0,1)\n",
    "print(np.random.random())"
   ]
  },
  {
   "cell_type": "code",
   "execution_count": 61,
   "metadata": {
    "scrolled": true
   },
   "outputs": [
    {
     "name": "stdout",
     "output_type": "stream",
     "text": [
      "[[0.35140742 0.16363516]\n",
      " [0.98316682 0.88062818]]\n"
     ]
    }
   ],
   "source": [
    "# Números aleatorios entre [0,1) - no incluye al 0, pero sí al 1 de la forma 2,2\n",
    "print(np.random.random(size=[2,2]))"
   ]
  },
  {
   "cell_type": "markdown",
   "metadata": {},
   "source": [
    "### 16.2 Generación de números aleatorios enteros\n",
    "\n",
    "__randint(d0, d1, ..., dn)__\n",
    "\n",
    "Genera enteros de la forma d0,d1,...,dn"
   ]
  },
  {
   "cell_type": "code",
   "execution_count": 63,
   "metadata": {
    "scrolled": true
   },
   "outputs": [
    {
     "name": "stdout",
     "output_type": "stream",
     "text": [
      "[[3 7]\n",
      " [3 7]]\n"
     ]
    }
   ],
   "source": [
    "# enteros aleatorios entre [0, 10) de la forma 2,2\n",
    "print(np.random.randint(0, 10, size=[2,2]))"
   ]
  },
  {
   "cell_type": "markdown",
   "metadata": {},
   "source": [
    "### 16.3 Distribución Normal con media 0  (mean=0) y varianza 1 (variance=1)\n",
    "\n",
    "__randn(d0, d1, ..., dn)__\n",
    "\n",
    "Devuelve una muestra (o muestras) de la distribución \"normal estándar\"."
   ]
  },
  {
   "cell_type": "code",
   "execution_count": 64,
   "metadata": {
    "scrolled": true
   },
   "outputs": [
    {
     "name": "stdout",
     "output_type": "stream",
     "text": [
      "[[-0.66825229 -0.79973546]\n",
      " [ 1.56199086 -2.00813785]]\n"
     ]
    }
   ],
   "source": [
    "# Distribución Normal con media 0  (mean=0) y varianza 1 (variance=1) de la forma 2,2\n",
    "print(np.random.randn(2,2))"
   ]
  },
  {
   "cell_type": "code",
   "execution_count": 71,
   "metadata": {},
   "outputs": [
    {
     "data": {
      "text/plain": [
       "(array([ 1.,  2.,  2.,  1.,  2.,  4.,  0.,  1.,  6.,  6., 10.,  6.,  5.,\n",
       "        10., 10., 12., 18., 13., 19., 13., 14., 26., 13., 24., 17., 11.,\n",
       "        13., 20., 11., 14., 13., 16., 20.,  6.,  9.,  5.,  5.,  3.,  2.,\n",
       "         2.,  4.,  2.,  4.,  0.,  0.,  2.,  1.,  1.,  0.,  1.]),\n",
       " array([-2.63673248, -2.52163377, -2.40653506, -2.29143635, -2.17633763,\n",
       "        -2.06123892, -1.94614021, -1.8310415 , -1.71594279, -1.60084408,\n",
       "        -1.48574537, -1.37064666, -1.25554795, -1.14044924, -1.02535052,\n",
       "        -0.91025181, -0.7951531 , -0.68005439, -0.56495568, -0.44985697,\n",
       "        -0.33475826, -0.21965955, -0.10456084,  0.01053788,  0.12563659,\n",
       "         0.2407353 ,  0.35583401,  0.47093272,  0.58603143,  0.70113014,\n",
       "         0.81622885,  0.93132756,  1.04642628,  1.16152499,  1.2766237 ,\n",
       "         1.39172241,  1.50682112,  1.62191983,  1.73701854,  1.85211725,\n",
       "         1.96721596,  2.08231468,  2.19741339,  2.3125121 ,  2.42761081,\n",
       "         2.54270952,  2.65780823,  2.77290694,  2.88800565,  3.00310436,\n",
       "         3.11820307]),\n",
       " <BarContainer object of 50 artists>)"
      ]
     },
     "execution_count": 71,
     "metadata": {},
     "output_type": "execute_result"
    },
    {
     "data": {
      "image/png": "[encoded data removed]",
      "text/plain": [
       "<Figure size 640x480 with 1 Axes>"
      ]
     },
     "metadata": {},
     "output_type": "display_data"
    }
   ],
   "source": [
    "nsample = np.random.randn(400,)\n",
    "import matplotlib.pyplot as plt\n",
    "plt.hist(nsample,bins=50)"
   ]
  },
  {
   "cell_type": "markdown",
   "metadata": {},
   "source": [
    "### 16.4 Toma de una muestra de datos con choice() \n",
    "\n"
   ]
  },
  {
   "cell_type": "code",
   "execution_count": 73,
   "metadata": {},
   "outputs": [],
   "source": [
    "np.random.choice?"
   ]
  },
  {
   "cell_type": "code",
   "execution_count": 72,
   "metadata": {
    "scrolled": true
   },
   "outputs": [
    {
     "name": "stdout",
     "output_type": "stream",
     "text": [
      "['i' 'u' 'o' 'a' 'a' 'o' 'a' 'o' 'a' 'a']\n"
     ]
    }
   ],
   "source": [
    "# Selecciona 10 elementos de una lista, con igual probabilidad, o sea, hay reemplazo\n",
    "print(np.random.choice(['a', 'e', 'i', 'o', 'u'], size=10))  "
   ]
  },
  {
   "cell_type": "code",
   "execution_count": 74,
   "metadata": {
    "scrolled": true
   },
   "outputs": [
    {
     "name": "stdout",
     "output_type": "stream",
     "text": [
      "['o' 'i' 'a' 'a' 'i' 'a' 'e' 'a' 'i' 'e']\n"
     ]
    }
   ],
   "source": [
    "# Selecciona 10 elementos de una lista con una probabilidad predefinida 'p'\n",
    "print(np.random.choice(['a', 'e', 'i', 'o', 'u'], size=10, p=[0.3, .1, 0.1, 0.4, 0.1]))  # habrá más oes?"
   ]
  },
  {
   "cell_type": "markdown",
   "metadata": {},
   "source": [
    "### 16.5 Uso de seed()\n",
    "\n",
    "Si desea **repetir el mismo conjunto de números aleatorios cada vez**, debe establecer la **semilla** (*seed*) o el estado aleatorio. La semilla puede ser cualquier valor. El único requisito es que debe establecer la semilla en el mismo valor cada vez que desee generar el mismo conjunto de números aleatorios."
   ]
  },
  {
   "cell_type": "code",
   "execution_count": 75,
   "metadata": {
    "scrolled": true
   },
   "outputs": [
    {
     "name": "stdout",
     "output_type": "stream",
     "text": [
      "[[0.54340494 0.27836939]\n",
      " [0.42451759 0.84477613]]\n"
     ]
    }
   ],
   "source": [
    "# Crear el random state\n",
    "rn = np.random.RandomState(100)\n",
    "\n",
    "# Crear números aleatorios entre [0,1) de la forma 2,2\n",
    "print(rn.rand(2,2))"
   ]
  },
  {
   "cell_type": "code",
   "execution_count": 76,
   "metadata": {
    "scrolled": true
   },
   "outputs": [
    {
     "name": "stdout",
     "output_type": "stream",
     "text": [
      "[[0.54340494 0.27836939]\n",
      " [0.42451759 0.84477613]]\n"
     ]
    }
   ],
   "source": [
    "# Fiajt la semilla aleatoria\n",
    "np.random.seed(100)\n",
    "\n",
    "# Crear números aleatorios entre [0,1) con la forma 2,2\n",
    "print(np.random.rand(2,2))"
   ]
  },
  {
   "cell_type": "markdown",
   "metadata": {},
   "source": [
    "Observe que se generan los mismos números"
   ]
  },
  {
   "cell_type": "code",
   "execution_count": 77,
   "metadata": {
    "scrolled": true
   },
   "outputs": [
    {
     "name": "stdout",
     "output_type": "stream",
     "text": [
      "[8 8 3 7 7 0 4 2 5 2]\n"
     ]
    }
   ],
   "source": [
    "# Crear arreglo de enteros aleatorios de tamaño 10 entre [0,10)  - el 10 está excluido\n",
    "np.random.seed(100)\n",
    "arr_rand = np.random.randint(0, 10, size=10)\n",
    "print(arr_rand)"
   ]
  },
  {
   "cell_type": "markdown",
   "metadata": {},
   "source": [
    "### Valores únicos"
   ]
  },
  {
   "cell_type": "code",
   "execution_count": 78,
   "metadata": {
    "scrolled": true
   },
   "outputs": [
    {
     "name": "stdout",
     "output_type": "stream",
     "text": [
      "Unique items :  [0 2 3 4 5 7 8]\n",
      "Counts       :  [1 2 1 1 1 2 2]\n"
     ]
    }
   ],
   "source": [
    "# Obtener los números únicos y contarlos\n",
    "uniqs, counts = np.unique(arr_rand, return_counts=True)\n",
    "print(\"Unique items : \", uniqs)\n",
    "print(\"Counts       : \", counts)"
   ]
  },
  {
   "cell_type": "code",
   "execution_count": null,
   "metadata": {},
   "outputs": [],
   "source": []
  },
  {
   "cell_type": "markdown",
   "metadata": {},
   "source": [
    "## Ejercicios"
   ]
  },
  {
   "cell_type": "markdown",
   "metadata": {},
   "source": [
    "### E1\n",
    "Grafica y=x^2+3x\n",
    "\n",
    "1. ¿Qué pasa si las x se generan aleatoriamente?\n",
    "2. ¿Qué pasa si las x se generan con igual espaciamiento?"
   ]
  },
  {
   "cell_type": "code",
   "execution_count": 3,
   "metadata": {},
   "outputs": [],
   "source": [
    "import matplotlib.pyplot as plt\n",
    "import numpy as np"
   ]
  },
  {
   "cell_type": "markdown",
   "metadata": {},
   "source": [
    "1. Solución: Para solucionarlo se usa un np.linspace, que genera valores de "
   ]
  },
  {
   "cell_type": "code",
   "execution_count": 50,
   "metadata": {},
   "outputs": [
    {
     "data": {
      "image/png": "[encoded data removed]",
      "text/plain": [
       "<Figure size 432x288 with 1 Axes>"
      ]
     },
     "metadata": {
      "needs_background": "light"
     },
     "output_type": "display_data"
    }
   ],
   "source": [
    "x = np.linspace(-100,100)\n",
    "plt.plot(x, x**2+3*x);"
   ]
  },
  {
   "cell_type": "markdown",
   "metadata": {},
   "source": [
    "2. Solución: Se usa un random. Se puede ver que los datos están muy distribuidos, se tiene que ordenarlos."
   ]
  },
  {
   "cell_type": "code",
   "execution_count": 53,
   "metadata": {},
   "outputs": [
    {
     "data": {
      "image/png": "[encoded data removed]",
      "text/plain": [
       "<Figure size 432x288 with 1 Axes>"
      ]
     },
     "metadata": {
      "needs_background": "light"
     },
     "output_type": "display_data"
    }
   ],
   "source": [
    "x = np.random.rand(100)\n",
    "y = x**2+3*x\n",
    "plt.plot(x,y);"
   ]
  },
  {
   "cell_type": "code",
   "execution_count": 55,
   "metadata": {},
   "outputs": [
    {
     "data": {
      "image/png": "[encoded data removed]",
      "text/plain": [
       "<Figure size 432x288 with 1 Axes>"
      ]
     },
     "metadata": {
      "needs_background": "light"
     },
     "output_type": "display_data"
    }
   ],
   "source": [
    "x = [np.random.random() for i in range(100)]\n",
    "x = np.array(x)\n",
    "plt.scatter(x,x**2+3*x);"
   ]
  },
  {
   "cell_type": "code",
   "execution_count": null,
   "metadata": {},
   "outputs": [],
   "source": []
  }
 ],
 "metadata": {
  "kernelspec": {
   "display_name": "Python 3 (ipykernel)",
   "language": "python",
   "name": "python3"
  },
  "language_info": {
   "codemirror_mode": {
    "name": "ipython",
    "version": 3
   },
   "file_extension": ".py",
   "mimetype": "text/x-python",
   "name": "python",
   "nbconvert_exporter": "python",
   "pygments_lexer": "ipython3",
   "version": "3.8.12"
  }
 },
 "nbformat": 4,
 "nbformat_minor": 2
}
