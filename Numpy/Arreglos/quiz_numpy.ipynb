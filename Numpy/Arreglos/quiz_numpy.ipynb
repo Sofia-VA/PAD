{
 "cells": [
  {
   "cell_type": "code",
   "execution_count": 1,
   "metadata": {},
   "outputs": [],
   "source": [
    "import numpy as np"
   ]
  },
  {
   "cell_type": "markdown",
   "metadata": {},
   "source": [
    "#### E1"
   ]
  },
  {
   "cell_type": "code",
   "execution_count": 23,
   "metadata": {},
   "outputs": [
    {
     "name": "stdout",
     "output_type": "stream",
     "text": [
      "Arreglo original:\n",
      "[12 13 14 15 16 17 18 19 20 21 22 23 24 25 26 27 28 29 30 31 32 33 34 35\n",
      " 36 37]\n",
      "Arreglo invertido:\n",
      "[37 36 35 34 33 32 31 30 29 28 27 26 25 24 23 22 21 20 19 18 17 16 15 14\n",
      " 13 12]\n"
     ]
    }
   ],
   "source": [
    "arr_og = np.arange(12,38,1)\n",
    "arr_inv = arr_og[::-1].copy()\n",
    "print('Arreglo original:')\n",
    "print(arr_og)\n",
    "print('Arreglo invertido:')\n",
    "print(arr_inv)"
   ]
  },
  {
   "cell_type": "markdown",
   "metadata": {},
   "source": [
    "#### E2"
   ]
  },
  {
   "cell_type": "code",
   "execution_count": 25,
   "metadata": {},
   "outputs": [
    {
     "name": "stdout",
     "output_type": "stream",
     "text": [
      "Arreglo original: [1 2 3 4]\n",
      "Arreglo convertido a flotante: [1. 2. 3. 4.]\n"
     ]
    }
   ],
   "source": [
    "arr_og = np.arange(1,5,1)\n",
    "arr_conv = np.array(arr_og,dtype=float)\n",
    "\n",
    "print('Arreglo original:',arr_og)\n",
    "print('Arreglo convertido a flotante:',arr_conv)"
   ]
  },
  {
   "cell_type": "markdown",
   "metadata": {},
   "source": [
    "#### E3"
   ]
  },
  {
   "cell_type": "code",
   "execution_count": 21,
   "metadata": {},
   "outputs": [
    {
     "name": "stdout",
     "output_type": "stream",
     "text": [
      "De lista a arreglo:\n",
      "[list([1, 2, 3]) list([4, 5, 6, 7, 8])]\n",
      "De tupla a arreglo:\n",
      "[list([8, 4]) list([1, 2, 3])]\n"
     ]
    }
   ],
   "source": [
    "lista = [[1, 2, 3], [4, 5, 6, 7, 8]]\n",
    "tupla = ([8, 4], [1, 2, 3])\n",
    "arr_lista = np.array(lista,dtype=object)\n",
    "arr_tupla = np.array(tupla,dtype=object)\n",
    "print('De lista a arreglo:') \n",
    "print(arr_lista)\n",
    "print('De tupla a arreglo:') \n",
    "print(arr_tupla)"
   ]
  },
  {
   "cell_type": "markdown",
   "metadata": {},
   "source": [
    "#### E4"
   ]
  },
  {
   "cell_type": "code",
   "execution_count": 27,
   "metadata": {},
   "outputs": [
    {
     "name": "stdout",
     "output_type": "stream",
     "text": [
      "Arreglo original: [1 2 3 4]\n",
      "Arreglo tras añadir valores: [10 20 30 40 50 60 70 80 90]\n"
     ]
    }
   ],
   "source": [
    "arr = np.arange(10,40,10)\n",
    "print('Arreglo original:',arr_og)\n",
    "arr = np.append(arr,np.arange(40,100,10)) \n",
    "print('Arreglo tras añadir valores:',arr) "
   ]
  },
  {
   "cell_type": "markdown",
   "metadata": {},
   "source": [
    "#### E5"
   ]
  },
  {
   "cell_type": "code",
   "execution_count": 29,
   "metadata": {},
   "outputs": [
    {
     "name": "stdout",
     "output_type": "stream",
     "text": [
      "array1:  [0, 10, 20, 40, 60, 80]\n",
      "array2:  [10, 30, 40, 50, 70]\n",
      "Valores únicos en ambos arreglos de manera ordenada:\n",
      "[ 0 10 20 30 40 50 60 70 80]\n"
     ]
    }
   ],
   "source": [
    "arr1 = [0, 10, 20, 40, 60, 80]\n",
    "arr2 = [10, 30, 40, 50, 70]\n",
    "val_uni = np.union1d(arr1, arr2)\n",
    "print('array1: ', arr1)\n",
    "print('array2: ', arr2)\n",
    "print('Valores únicos en ambos arreglos de manera ordenada:')\n",
    "print(val_uni)"
   ]
  },
  {
   "cell_type": "code",
   "execution_count": 30,
   "metadata": {},
   "outputs": [
    {
     "name": "stdout",
     "output_type": "stream",
     "text": [
      "[12 13 14 15 16 17 18 19 20 21 22 23 24 25 26 27 28 29 30 31 32 33 34 35\n",
      " 36 37]\n"
     ]
    }
   ],
   "source": [
    "arr = np.arange(12,38,1)\n",
    "print(arr)"
   ]
  },
  {
   "cell_type": "markdown",
   "metadata": {},
   "source": [
    "#### E7"
   ]
  },
  {
   "cell_type": "code",
   "execution_count": 33,
   "metadata": {},
   "outputs": [
    {
     "name": "stdout",
     "output_type": "stream",
     "text": [
      "Array1:  [ 0 10 20 40 60]\n",
      "Array2:  [0, 40]\n",
      "Compara cada elemento del array 1 y array 2\n",
      "[ True False False  True False]\n"
     ]
    }
   ],
   "source": [
    "array1 = np.array([0, 10, 20, 40, 60]) \n",
    "print(\"Array1: \",array1) \n",
    "array2 = [0, 40] \n",
    "print(\"Array2: \",array2) \n",
    "print(\"Compara cada elemento del array 1 y array 2\") \n",
    "print(np.isin(array1, array2))"
   ]
  },
  {
   "cell_type": "code",
   "execution_count": null,
   "metadata": {},
   "outputs": [],
   "source": []
  },
  {
   "cell_type": "code",
   "execution_count": null,
   "metadata": {},
   "outputs": [],
   "source": [
    "arr1 = [0, 10, 20, 40, 60, 80]\n",
    "arr2 = [10, 30, 40, 50, 70]\n",
    "val_uni = np.union1d(arr1, arr2)\n",
    "print('array1: ', arr1)\n",
    "print('array2: ', arr2)\n",
    "print('Valores únicos en ambos arreglos de manera ordenada:')\n",
    "print(val_uni)"
   ]
  }
 ],
 "metadata": {
  "kernelspec": {
   "display_name": "DeepEnv",
   "language": "python",
   "name": "python3"
  },
  "language_info": {
   "codemirror_mode": {
    "name": "ipython",
    "version": 3
   },
   "file_extension": ".py",
   "mimetype": "text/x-python",
   "name": "python",
   "nbconvert_exporter": "python",
   "pygments_lexer": "ipython3",
   "version": "3.8.12"
  },
  "orig_nbformat": 4
 },
 "nbformat": 4,
 "nbformat_minor": 2
}
