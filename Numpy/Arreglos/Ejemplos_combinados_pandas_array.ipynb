{
 "cells": [
  {
   "cell_type": "markdown",
   "id": "religious-recommendation",
   "metadata": {},
   "source": [
    "## Ejemplos de transmisión\n",
    "\n",
    "Si a.shape es (5,1), b.shape es (1,6), c.shape es (6,) y d.shape es () de modo que d es un escalar,\n",
    "\n",
    "+ Entonces a, b, c, y d son todos ampliables a la dimensión (5,6); y\n",
    "\n",
    "+ a actúa como un arreglo (5,6) donde un [:, 0] se transmite a las otras columnas,\n",
    "\n",
    "+ b actúa como un arreglo (5,6) donde b [0 ,:] se transmite a las otras filas,\n",
    "\n",
    "+ c actúa como un arreglo (1,6) y, por lo tanto, como un arreglo (5,6) donde c [:] se transmite a cada fila, y finalmente,\n",
    "\n",
    "+ d actúa como un arreglo (5,6) donde se repite el valor único."
   ]
  },
  {
   "cell_type": "code",
   "execution_count": 2,
   "id": "greater-world",
   "metadata": {},
   "outputs": [
    {
     "data": {
      "text/plain": [
       "(array([[0.],\n",
       "        [0.],\n",
       "        [0.],\n",
       "        [0.],\n",
       "        [0.]]),\n",
       " (5, 1))"
      ]
     },
     "execution_count": 2,
     "metadata": {},
     "output_type": "execute_result"
    }
   ],
   "source": [
    "import numpy as np\n",
    "# a es un arreglo de ceros de la forma (5,1)\n",
    "a = np.zeros([5, 1])\n",
    "a, a.shape"
   ]
  },
  {
   "cell_type": "code",
   "execution_count": 15,
   "id": "instrumental-hudson",
   "metadata": {},
   "outputs": [
    {
     "data": {
      "text/plain": [
       "array([[-0.28567953],\n",
       "       [-0.46383043],\n",
       "       [ 0.74527098],\n",
       "       [ 0.6349167 ],\n",
       "       [-1.32080638]])"
      ]
     },
     "execution_count": 15,
     "metadata": {},
     "output_type": "execute_result"
    }
   ],
   "source": [
    "# a sigue teniendo la forma (5,1) y se han asignado valores aleatorios\n",
    "a = np.random.randn(*a.shape)\n",
    "a"
   ]
  },
  {
   "cell_type": "code",
   "execution_count": 16,
   "id": "crazy-spare",
   "metadata": {},
   "outputs": [
    {
     "data": {
      "text/plain": [
       "(5, 1)"
      ]
     },
     "execution_count": 16,
     "metadata": {},
     "output_type": "execute_result"
    }
   ],
   "source": [
    "# a.shape es (5,1)\n",
    "a.shape"
   ]
  },
  {
   "cell_type": "code",
   "execution_count": 17,
   "id": "objective-gospel",
   "metadata": {},
   "outputs": [
    {
     "data": {
      "text/plain": [
       "array([[1., 1., 1., 1., 1., 1.]])"
      ]
     },
     "execution_count": 17,
     "metadata": {},
     "output_type": "execute_result"
    }
   ],
   "source": [
    "# b.shape es (1,6)\n",
    "b = np.ones([1,6])\n",
    "b"
   ]
  },
  {
   "cell_type": "code",
   "execution_count": 18,
   "id": "early-daniel",
   "metadata": {},
   "outputs": [
    {
     "data": {
      "text/plain": [
       "array([1., 1., 1., 1., 1., 1.])"
      ]
     },
     "execution_count": 18,
     "metadata": {},
     "output_type": "execute_result"
    }
   ],
   "source": [
    "# c.shape es (6,)\n",
    "c = np.empty([6,])\n",
    "c"
   ]
  },
  {
   "cell_type": "code",
   "execution_count": 21,
   "id": "traditional-channels",
   "metadata": {},
   "outputs": [
    {
     "data": {
      "text/plain": [
       "(array(5.1e-322), ())"
      ]
     },
     "execution_count": 21,
     "metadata": {},
     "output_type": "execute_result"
    }
   ],
   "source": [
    "# d.shape es (); d es un escalar\n",
    "d = np.empty([])\n",
    "d, d.shape"
   ]
  },
  {
   "cell_type": "code",
   "execution_count": 24,
   "id": "alleged-choice",
   "metadata": {},
   "outputs": [
    {
     "name": "stdout",
     "output_type": "stream",
     "text": [
      "(5, 6) [[ 0.71432047  0.71432047  0.71432047  0.71432047  0.71432047  0.71432047]\n",
      " [ 0.53616957  0.53616957  0.53616957  0.53616957  0.53616957  0.53616957]\n",
      " [ 1.74527098  1.74527098  1.74527098  1.74527098  1.74527098  1.74527098]\n",
      " [ 1.6349167   1.6349167   1.6349167   1.6349167   1.6349167   1.6349167 ]\n",
      " [-0.32080638 -0.32080638 -0.32080638 -0.32080638 -0.32080638 -0.32080638]]\n"
     ]
    }
   ],
   "source": [
    "# suma de a + b\n",
    "a_mas_b =a + b\n",
    "print(a_mas_b.shape, a_mas_b)"
   ]
  },
  {
   "cell_type": "code",
   "execution_count": 25,
   "id": "nasty-billion",
   "metadata": {},
   "outputs": [
    {
     "name": "stdout",
     "output_type": "stream",
     "text": [
      "(5, 1) [[-1.43e-322]\n",
      " [-2.37e-322]\n",
      " [ 3.80e-322]\n",
      " [ 3.21e-322]\n",
      " [-6.72e-322]]\n"
     ]
    }
   ],
   "source": [
    "# multiplicar a * d\n",
    "a_por_d = a * d\n",
    "print(a_por_d.shape, a_por_d)"
   ]
  },
  {
   "cell_type": "code",
   "execution_count": 26,
   "id": "least-importance",
   "metadata": {},
   "outputs": [
    {
     "name": "stdout",
     "output_type": "stream",
     "text": [
      "(5, 6) [[-0.28567953 -0.28567953 -0.28567953 -0.28567953 -0.28567953 -0.28567953]\n",
      " [-0.46383043 -0.46383043 -0.46383043 -0.46383043 -0.46383043 -0.46383043]\n",
      " [ 0.74527098  0.74527098  0.74527098  0.74527098  0.74527098  0.74527098]\n",
      " [ 0.6349167   0.6349167   0.6349167   0.6349167   0.6349167   0.6349167 ]\n",
      " [-1.32080638 -1.32080638 -1.32080638 -1.32080638 -1.32080638 -1.32080638]]\n"
     ]
    }
   ],
   "source": [
    "# multiplicar a * c\n",
    "a_por_c = a * c\n",
    "print(a_por_c.shape, a_por_c)"
   ]
  },
  {
   "cell_type": "markdown",
   "id": "general-childhood",
   "metadata": {},
   "source": [
    "## Usando funciones universales\n",
    "\n",
    "Ver https://numpy.org/doc/stable/reference/ufuncs.html"
   ]
  },
  {
   "cell_type": "code",
   "execution_count": 28,
   "id": "exclusive-durham",
   "metadata": {},
   "outputs": [
    {
     "name": "stdout",
     "output_type": "stream",
     "text": [
      "X ? b h i l q p B H I L Q P e f d g F D G S U V O M m\n",
      "\n",
      "? Y Y Y Y Y Y Y Y Y Y Y Y Y Y Y Y Y Y Y Y Y Y Y Y - Y\n",
      "b - Y Y Y Y Y Y - - - - - - Y Y Y Y Y Y Y Y Y Y Y - Y\n",
      "h - - Y Y Y Y Y - - - - - - - Y Y Y Y Y Y Y Y Y Y - Y\n",
      "i - - - Y Y Y Y - - - - - - - - Y Y - Y Y Y Y Y Y - Y\n",
      "l - - - Y Y Y Y - - - - - - - - Y Y - Y Y Y Y Y Y - Y\n",
      "q - - - - - Y Y - - - - - - - - Y Y - Y Y Y Y Y Y - Y\n",
      "p - - - - - Y Y - - - - - - - - Y Y - Y Y Y Y Y Y - Y\n",
      "B - - Y Y Y Y Y Y Y Y Y Y Y Y Y Y Y Y Y Y Y Y Y Y - Y\n",
      "H - - - Y Y Y Y - Y Y Y Y Y - Y Y Y Y Y Y Y Y Y Y - Y\n",
      "I - - - - - Y Y - - Y Y Y Y - - Y Y - Y Y Y Y Y Y - Y\n",
      "L - - - - - Y Y - - Y Y Y Y - - Y Y - Y Y Y Y Y Y - Y\n",
      "Q - - - - - - - - - - - Y Y - - Y Y - Y Y Y Y Y Y - -\n",
      "P - - - - - - - - - - - Y Y - - Y Y - Y Y Y Y Y Y - -\n",
      "e - - - - - - - - - - - - - Y Y Y Y Y Y Y Y Y Y Y - -\n",
      "f - - - - - - - - - - - - - - Y Y Y Y Y Y Y Y Y Y - -\n",
      "d - - - - - - - - - - - - - - - Y Y - Y Y Y Y Y Y - -\n",
      "g - - - - - - - - - - - - - - - Y Y - Y Y Y Y Y Y - -\n",
      "F - - - - - - - - - - - - - - - - - Y Y Y Y Y Y Y - -\n",
      "D - - - - - - - - - - - - - - - - - - Y Y Y Y Y Y - -\n",
      "G - - - - - - - - - - - - - - - - - - Y Y Y Y Y Y - -\n",
      "S - - - - - - - - - - - - - - - - - - - - Y Y Y Y - -\n",
      "U - - - - - - - - - - - - - - - - - - - - - Y Y Y - -\n",
      "V - - - - - - - - - - - - - - - - - - - - - - Y Y - -\n",
      "O - - - - - - - - - - - - - - - - - - - - - - Y Y - -\n",
      "M - - - - - - - - - - - - - - - - - - - - - - Y Y Y -\n",
      "m - - - - - - - - - - - - - - - - - - - - - - Y Y - Y\n"
     ]
    }
   ],
   "source": [
    "mark = {False: ' -', True: ' Y'}\n",
    "def print_table(ntypes):\n",
    "    print('X ' + ' '.join(ntypes))\n",
    "    print()\n",
    "    for row in ntypes:\n",
    "        print(row, end='')\n",
    "        for col in ntypes:\n",
    "            print(mark[np.can_cast(row, col)], end='')\n",
    "        print()\n",
    "\n",
    "print_table(np.typecodes['All'])"
   ]
  },
  {
   "cell_type": "code",
   "execution_count": 29,
   "id": "serious-coaching",
   "metadata": {},
   "outputs": [],
   "source": [
    "np.typecodes?"
   ]
  },
  {
   "cell_type": "code",
   "execution_count": 30,
   "id": "passive-hydrogen",
   "metadata": {},
   "outputs": [],
   "source": [
    "np.can_cast?"
   ]
  },
  {
   "cell_type": "markdown",
   "id": "vietnamese-vegetable",
   "metadata": {},
   "source": [
    "## Asignar contenido de una lista, Serie o array a una nueva columna\n",
    "\n",
    "mylist = [...]\n",
    "\n",
    "Solo se asigna directamente:\n",
    "\n",
    "df['new_col'] = mylist\n",
    "\n",
    "#### Convertida a Serie\n",
    "se = pd.Series(mylist)\n",
    "df['new_col'] = se.values\n",
    "\n",
    "#### Convertida a array\n",
    "df['new_col'] = np.array(mylist)\n",
    "\n"
   ]
  },
  {
   "cell_type": "markdown",
   "id": "reported-craps",
   "metadata": {},
   "source": [
    "## Adicionar una columna con insert()\n",
    "\n",
    "df.insert(loc=0, column='new_column', value=column_values)"
   ]
  },
  {
   "cell_type": "code",
   "execution_count": null,
   "id": "close-struggle",
   "metadata": {},
   "outputs": [],
   "source": []
  },
  {
   "cell_type": "code",
   "execution_count": null,
   "id": "warming-marker",
   "metadata": {},
   "outputs": [],
   "source": []
  },
  {
   "cell_type": "code",
   "execution_count": null,
   "id": "answering-bailey",
   "metadata": {},
   "outputs": [],
   "source": []
  },
  {
   "cell_type": "code",
   "execution_count": null,
   "id": "authorized-cleanup",
   "metadata": {},
   "outputs": [],
   "source": []
  }
 ],
 "metadata": {
  "kernelspec": {
   "display_name": "Python 3",
   "language": "python",
   "name": "python3"
  },
  "language_info": {
   "codemirror_mode": {
    "name": "ipython",
    "version": 3
   },
   "file_extension": ".py",
   "mimetype": "text/x-python",
   "name": "python",
   "nbconvert_exporter": "python",
   "pygments_lexer": "ipython3",
   "version": "3.7.6"
  }
 },
 "nbformat": 4,
 "nbformat_minor": 5
}
